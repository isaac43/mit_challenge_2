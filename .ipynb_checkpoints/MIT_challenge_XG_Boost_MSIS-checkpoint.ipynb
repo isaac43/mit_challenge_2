{
 "cells": [
  {
   "cell_type": "code",
   "execution_count": 1,
   "id": "c2528786-0bc7-41ac-bbe5-f539fb641d74",
   "metadata": {
    "tags": []
   },
   "outputs": [],
   "source": [
    "import pandas as pd\n",
    "import numpy as np\n",
    "from datetime import datetime, timedelta\n",
    "import os\n",
    "from tqdm import tqdm\n",
    "import pickle\n",
    "tqdm.pandas()\n",
    "import warnings\n",
    "import catboost as cb\n",
    "# from sklearn.metrics import mean_squared_error\n",
    "# from sklearn.metrics import r2_score\n",
    "from submission_xgboost.utils import *\n",
    "from sklearn.metrics import r2_score"
   ]
  },
  {
   "cell_type": "code",
   "execution_count": 2,
   "id": "53692fdc-5be1-4936-bfe9-4a4073b32348",
   "metadata": {},
   "outputs": [
    {
     "name": "stdout",
     "output_type": "stream",
     "text": [
      "The autoreload extension is already loaded. To reload it, use:\n",
      "  %reload_ext autoreload\n"
     ]
    }
   ],
   "source": [
    "%load_ext autoreload\n",
    "%autoreload 2"
   ]
  },
  {
   "cell_type": "markdown",
   "id": "21424dc9-41a2-4aca-bf00-5259b20c39ec",
   "metadata": {
    "tags": []
   },
   "source": [
    "### Load Initial position and dict of Omni"
   ]
  },
  {
   "cell_type": "code",
   "execution_count": 3,
   "id": "ade28363-55c9-45c8-8a53-4d8ab043341d",
   "metadata": {
    "tags": []
   },
   "outputs": [
    {
     "name": "stdout",
     "output_type": "stream",
     "text": [
      "(8119, 10)\n",
      "(8095, 10)\n"
     ]
    }
   ],
   "source": [
    "initial_states = pd.read_csv('C:/Users/isaac/Documents/Challenge_MIT_2/mit_challenge_2/data/phase_1/00000_to_02284-initial_states.csv')\n",
    "initial_states = pd.concat([initial_states,pd.read_csv('C:/Users/isaac/Documents/Challenge_MIT_2/mit_challenge_2/data/phase_1/02285_to_02357-initial_states.csv')])\n",
    "initial_states = pd.concat([initial_states,pd.read_csv('C:/Users/isaac/Documents/Challenge_MIT_2/mit_challenge_2/data/phase_1/02358_to_04264-initial_states.csv')])\n",
    "initial_states = pd.concat([initial_states,pd.read_csv('C:/Users/isaac/Documents/Challenge_MIT_2/mit_challenge_2/data/phase_1/04265_to_05570-initial_states.csv')])\n",
    "initial_states = pd.concat([initial_states,pd.read_csv('C:/Users/isaac/Documents/Challenge_MIT_2/mit_challenge_2/data/phase_1/05571_to_05614-initial_states.csv')])\n",
    "initial_states = pd.concat([initial_states,pd.read_csv('C:/Users/isaac/Documents/Challenge_MIT_2/mit_challenge_2/data/phase_1/05615_to_06671-initial_states.csv')])\n",
    "initial_states = pd.concat([initial_states,pd.read_csv('C:/Users/isaac/Documents/Challenge_MIT_2/mit_challenge_2/data/phase_1/06672_to_08118-initial_states.csv')])\n",
    "initial_states['Timestamp'] = pd.to_datetime(initial_states['Timestamp'])\n",
    "\n",
    "# add last data\n",
    "#df_temp = pd.read_csv('C:/Users/isaac/Documents/Challenge_MIT_2/mit_challenge_2/data/phase_1/06672_to_08118-initial_states.csv')\n",
    "# df_temp['Timestamp'] = pd.to_datetime(df_temp['Timestamp'])\n",
    "# initial_states = pd.concat([initial_states,df_temp])\n",
    "initial_states = initial_states.set_index('File ID')\n",
    "print(initial_states.shape)\n",
    "initial_states =  initial_states.mask((initial_states==9.99e+29)|(initial_states==9.99e+32))\n",
    "initial_states = initial_states.loc[initial_states.count(1)==10]\n",
    "print(initial_states.shape)"
   ]
  },
  {
   "cell_type": "markdown",
   "id": "080c79d6-fa6d-4418-8414-776a5fc5be90",
   "metadata": {
    "jp-MarkdownHeadingCollapsed": true
   },
   "source": [
    "### Estimates lat, long, alt"
   ]
  },
  {
   "cell_type": "code",
   "execution_count": 12,
   "id": "3a35e617-5747-4a68-a34e-a3b2100b4865",
   "metadata": {
    "scrolled": true
   },
   "outputs": [
    {
     "name": "stdout",
     "output_type": "stream",
     "text": [
      "Learning rate set to 0.370406\n",
      "0:\tlearn: 34.0849117\ttotal: 2.48ms\tremaining: 246ms\n",
      "1:\tlearn: 23.4140598\ttotal: 4.56ms\tremaining: 223ms\n",
      "2:\tlearn: 17.1407188\ttotal: 7.33ms\tremaining: 237ms\n",
      "3:\tlearn: 13.3577659\ttotal: 10.5ms\tremaining: 252ms\n",
      "4:\tlearn: 11.0353106\ttotal: 13.2ms\tremaining: 250ms\n",
      "5:\tlearn: 9.4853877\ttotal: 15.7ms\tremaining: 246ms\n",
      "6:\tlearn: 8.4717434\ttotal: 18.2ms\tremaining: 242ms\n",
      "7:\tlearn: 7.8482870\ttotal: 20.3ms\tremaining: 233ms\n",
      "8:\tlearn: 7.3961932\ttotal: 22.3ms\tremaining: 225ms\n",
      "9:\tlearn: 6.9942745\ttotal: 24.4ms\tremaining: 220ms\n",
      "10:\tlearn: 6.7818579\ttotal: 26.4ms\tremaining: 213ms\n",
      "11:\tlearn: 6.3432045\ttotal: 28.4ms\tremaining: 208ms\n",
      "12:\tlearn: 6.1187997\ttotal: 30.4ms\tremaining: 204ms\n",
      "13:\tlearn: 5.9106440\ttotal: 32.5ms\tremaining: 200ms\n",
      "14:\tlearn: 5.6089736\ttotal: 34.5ms\tremaining: 196ms\n",
      "15:\tlearn: 5.4483026\ttotal: 36.6ms\tremaining: 192ms\n",
      "16:\tlearn: 5.1319984\ttotal: 38.7ms\tremaining: 189ms\n",
      "17:\tlearn: 5.0640790\ttotal: 40.7ms\tremaining: 185ms\n",
      "18:\tlearn: 5.0082886\ttotal: 42.6ms\tremaining: 182ms\n",
      "19:\tlearn: 4.8600432\ttotal: 44.7ms\tremaining: 179ms\n",
      "20:\tlearn: 4.7166704\ttotal: 46.7ms\tremaining: 176ms\n",
      "21:\tlearn: 4.5785558\ttotal: 48.8ms\tremaining: 173ms\n",
      "22:\tlearn: 4.4672899\ttotal: 51ms\tremaining: 171ms\n",
      "23:\tlearn: 4.3555754\ttotal: 53.2ms\tremaining: 168ms\n",
      "24:\tlearn: 4.2756487\ttotal: 55.2ms\tremaining: 166ms\n",
      "25:\tlearn: 4.2070869\ttotal: 57.3ms\tremaining: 163ms\n",
      "26:\tlearn: 4.1569730\ttotal: 59.2ms\tremaining: 160ms\n",
      "27:\tlearn: 4.0366229\ttotal: 61.3ms\tremaining: 158ms\n",
      "28:\tlearn: 3.9326435\ttotal: 63.2ms\tremaining: 155ms\n",
      "29:\tlearn: 3.8422054\ttotal: 65.2ms\tremaining: 152ms\n",
      "30:\tlearn: 3.7826896\ttotal: 67.3ms\tremaining: 150ms\n",
      "31:\tlearn: 3.7271913\ttotal: 69.3ms\tremaining: 147ms\n",
      "32:\tlearn: 3.6414544\ttotal: 71.2ms\tremaining: 145ms\n",
      "33:\tlearn: 3.5715331\ttotal: 73.3ms\tremaining: 142ms\n",
      "34:\tlearn: 3.4799110\ttotal: 75.3ms\tremaining: 140ms\n",
      "35:\tlearn: 3.4383984\ttotal: 77.2ms\tremaining: 137ms\n",
      "36:\tlearn: 3.3732064\ttotal: 79.2ms\tremaining: 135ms\n",
      "37:\tlearn: 3.2880970\ttotal: 81.5ms\tremaining: 133ms\n",
      "38:\tlearn: 3.2218817\ttotal: 83.9ms\tremaining: 131ms\n",
      "39:\tlearn: 3.1868141\ttotal: 86ms\tremaining: 129ms\n",
      "40:\tlearn: 3.1333254\ttotal: 88.7ms\tremaining: 128ms\n",
      "41:\tlearn: 3.0941398\ttotal: 90.7ms\tremaining: 125ms\n",
      "42:\tlearn: 3.0630021\ttotal: 93ms\tremaining: 123ms\n",
      "43:\tlearn: 3.0304222\ttotal: 95.5ms\tremaining: 122ms\n",
      "44:\tlearn: 3.0010977\ttotal: 97.8ms\tremaining: 119ms\n",
      "45:\tlearn: 2.9381387\ttotal: 101ms\tremaining: 118ms\n",
      "46:\tlearn: 2.9067959\ttotal: 103ms\tremaining: 116ms\n",
      "47:\tlearn: 2.8789398\ttotal: 106ms\tremaining: 114ms\n",
      "48:\tlearn: 2.8400167\ttotal: 108ms\tremaining: 112ms\n",
      "49:\tlearn: 2.8114525\ttotal: 110ms\tremaining: 110ms\n",
      "50:\tlearn: 2.7783424\ttotal: 112ms\tremaining: 108ms\n",
      "51:\tlearn: 2.7579583\ttotal: 114ms\tremaining: 106ms\n",
      "52:\tlearn: 2.7131966\ttotal: 117ms\tremaining: 104ms\n",
      "53:\tlearn: 2.6635301\ttotal: 119ms\tremaining: 101ms\n",
      "54:\tlearn: 2.6311896\ttotal: 121ms\tremaining: 99.3ms\n",
      "55:\tlearn: 2.6102820\ttotal: 123ms\tremaining: 96.9ms\n",
      "56:\tlearn: 2.5835093\ttotal: 126ms\tremaining: 94.8ms\n",
      "57:\tlearn: 2.5686391\ttotal: 128ms\tremaining: 92.4ms\n",
      "58:\tlearn: 2.5527306\ttotal: 130ms\tremaining: 90.1ms\n",
      "59:\tlearn: 2.5352061\ttotal: 132ms\tremaining: 87.7ms\n",
      "60:\tlearn: 2.4960344\ttotal: 134ms\tremaining: 85.4ms\n",
      "61:\tlearn: 2.4792835\ttotal: 135ms\tremaining: 83ms\n",
      "62:\tlearn: 2.4580771\ttotal: 137ms\tremaining: 80.7ms\n",
      "63:\tlearn: 2.4382376\ttotal: 139ms\tremaining: 78.4ms\n",
      "64:\tlearn: 2.4234441\ttotal: 141ms\tremaining: 76.1ms\n",
      "65:\tlearn: 2.4131124\ttotal: 143ms\tremaining: 73.8ms\n",
      "66:\tlearn: 2.3842711\ttotal: 145ms\tremaining: 71.6ms\n",
      "67:\tlearn: 2.3708270\ttotal: 147ms\tremaining: 69.3ms\n",
      "68:\tlearn: 2.3443723\ttotal: 149ms\tremaining: 67.1ms\n",
      "69:\tlearn: 2.3168782\ttotal: 152ms\tremaining: 64.9ms\n",
      "70:\tlearn: 2.2910634\ttotal: 154ms\tremaining: 62.7ms\n",
      "71:\tlearn: 2.2824348\ttotal: 156ms\tremaining: 60.5ms\n",
      "72:\tlearn: 2.2596836\ttotal: 158ms\tremaining: 58.3ms\n",
      "73:\tlearn: 2.2365944\ttotal: 160ms\tremaining: 56.1ms\n",
      "74:\tlearn: 2.2197805\ttotal: 162ms\tremaining: 53.9ms\n",
      "75:\tlearn: 2.2052929\ttotal: 164ms\tremaining: 51.8ms\n",
      "76:\tlearn: 2.1771182\ttotal: 166ms\tremaining: 49.6ms\n",
      "77:\tlearn: 2.1673465\ttotal: 168ms\tremaining: 47.4ms\n",
      "78:\tlearn: 2.1484326\ttotal: 170ms\tremaining: 45.2ms\n",
      "79:\tlearn: 2.1319619\ttotal: 172ms\tremaining: 43ms\n",
      "80:\tlearn: 2.1167601\ttotal: 174ms\tremaining: 40.8ms\n",
      "81:\tlearn: 2.0967489\ttotal: 176ms\tremaining: 38.6ms\n",
      "82:\tlearn: 2.0818939\ttotal: 178ms\tremaining: 36.5ms\n",
      "83:\tlearn: 2.0571464\ttotal: 180ms\tremaining: 34.3ms\n",
      "84:\tlearn: 2.0416472\ttotal: 182ms\tremaining: 32.1ms\n",
      "85:\tlearn: 2.0251922\ttotal: 184ms\tremaining: 30ms\n",
      "86:\tlearn: 2.0084604\ttotal: 186ms\tremaining: 27.8ms\n",
      "87:\tlearn: 2.0005849\ttotal: 188ms\tremaining: 25.6ms\n",
      "88:\tlearn: 1.9881243\ttotal: 190ms\tremaining: 23.5ms\n",
      "89:\tlearn: 1.9781081\ttotal: 192ms\tremaining: 21.4ms\n",
      "90:\tlearn: 1.9649187\ttotal: 194ms\tremaining: 19.2ms\n",
      "91:\tlearn: 1.9554411\ttotal: 196ms\tremaining: 17.1ms\n",
      "92:\tlearn: 1.9461751\ttotal: 199ms\tremaining: 15ms\n",
      "93:\tlearn: 1.9360722\ttotal: 201ms\tremaining: 12.9ms\n",
      "94:\tlearn: 1.9302557\ttotal: 204ms\tremaining: 10.7ms\n",
      "95:\tlearn: 1.9216196\ttotal: 206ms\tremaining: 8.57ms\n",
      "96:\tlearn: 1.9088967\ttotal: 208ms\tremaining: 6.42ms\n",
      "97:\tlearn: 1.8981137\ttotal: 210ms\tremaining: 4.28ms\n",
      "98:\tlearn: 1.8864822\ttotal: 212ms\tremaining: 2.14ms\n",
      "99:\tlearn: 1.8694713\ttotal: 214ms\tremaining: 0us\n"
     ]
    },
    {
     "data": {
      "text/plain": [
       "<catboost.core.CatBoostRegressor at 0x1d493a052a0>"
      ]
     },
     "execution_count": 12,
     "metadata": {},
     "output_type": "execute_result"
    }
   ],
   "source": [
    "model_alt = cb.CatBoostRegressor(loss_function='RMSE',iterations=100,subsample=0.7)\n",
    "model_alt.fit(X=initial_states.dropna()[['Semi-major Axis (km)',\t'Eccentricity',\t'Inclination (deg)',\t'RAAN (deg)',\t'Argument of Perigee (deg)',\t'True Anomaly (deg)']],\n",
    "              y= initial_states.dropna()['Altitude (km)'])"
   ]
  },
  {
   "cell_type": "code",
   "execution_count": 13,
   "id": "d460450c-36cb-4936-bb5e-9035499dba45",
   "metadata": {},
   "outputs": [],
   "source": [
    "model_alt.save_model('data/trained_model/Altitude_Model.cbm')"
   ]
  },
  {
   "cell_type": "code",
   "execution_count": null,
   "id": "e5dd331b-713f-4a5d-8736-70b935cd2e90",
   "metadata": {},
   "outputs": [],
   "source": [
    "initial_states['Altitude (km) estimated'] = model_alt.predict(initial_states[['Semi-major Axis (km)',\t'Eccentricity',\t'Inclination (deg)',\t'RAAN (deg)',\t'Argument of Perigee (deg)',\t'True Anomaly (deg)']])"
   ]
  },
  {
   "cell_type": "code",
   "execution_count": 14,
   "id": "e2b05a55-b90a-4c93-a68e-c27f193ed943",
   "metadata": {
    "scrolled": true
   },
   "outputs": [
    {
     "name": "stdout",
     "output_type": "stream",
     "text": [
      "Learning rate set to 0.370406\n",
      "0:\tlearn: 44.7670028\ttotal: 1.14ms\tremaining: 113ms\n",
      "1:\tlearn: 35.0037790\ttotal: 2.09ms\tremaining: 102ms\n",
      "2:\tlearn: 29.4919488\ttotal: 2.99ms\tremaining: 96.6ms\n",
      "3:\tlearn: 25.8692887\ttotal: 3.85ms\tremaining: 92.4ms\n",
      "4:\tlearn: 23.7983182\ttotal: 4.79ms\tremaining: 91ms\n",
      "5:\tlearn: 22.4248059\ttotal: 5.63ms\tremaining: 88.2ms\n",
      "6:\tlearn: 21.5780864\ttotal: 6.56ms\tremaining: 87.1ms\n",
      "7:\tlearn: 20.8012418\ttotal: 7.51ms\tremaining: 86.4ms\n",
      "8:\tlearn: 20.3711579\ttotal: 8.4ms\tremaining: 84.9ms\n",
      "9:\tlearn: 19.7914652\ttotal: 9.25ms\tremaining: 83.2ms\n",
      "10:\tlearn: 19.4877490\ttotal: 10.2ms\tremaining: 82.2ms\n",
      "11:\tlearn: 19.1957809\ttotal: 11.1ms\tremaining: 81.1ms\n",
      "12:\tlearn: 18.8799041\ttotal: 11.9ms\tremaining: 79.8ms\n",
      "13:\tlearn: 18.3275499\ttotal: 12.8ms\tremaining: 78.8ms\n",
      "14:\tlearn: 18.0596135\ttotal: 13.7ms\tremaining: 77.5ms\n",
      "15:\tlearn: 17.7517795\ttotal: 14.6ms\tremaining: 76.4ms\n",
      "16:\tlearn: 17.4009918\ttotal: 15.4ms\tremaining: 75.3ms\n",
      "17:\tlearn: 17.2746924\ttotal: 16.3ms\tremaining: 74.3ms\n",
      "18:\tlearn: 17.0491348\ttotal: 17.2ms\tremaining: 73.1ms\n",
      "19:\tlearn: 16.9336565\ttotal: 18ms\tremaining: 72.1ms\n",
      "20:\tlearn: 16.7113031\ttotal: 18.9ms\tremaining: 71ms\n",
      "21:\tlearn: 16.5560121\ttotal: 19.7ms\tremaining: 69.9ms\n",
      "22:\tlearn: 16.4766243\ttotal: 20.5ms\tremaining: 68.7ms\n",
      "23:\tlearn: 16.2528955\ttotal: 21.5ms\tremaining: 67.9ms\n",
      "24:\tlearn: 16.1436767\ttotal: 22.3ms\tremaining: 66.9ms\n",
      "25:\tlearn: 16.0994377\ttotal: 23.2ms\tremaining: 66ms\n",
      "26:\tlearn: 15.4238653\ttotal: 24ms\tremaining: 65ms\n",
      "27:\tlearn: 15.2108142\ttotal: 25ms\tremaining: 64.2ms\n",
      "28:\tlearn: 15.1309585\ttotal: 25.8ms\tremaining: 63.2ms\n",
      "29:\tlearn: 15.0645499\ttotal: 26.7ms\tremaining: 62.3ms\n",
      "30:\tlearn: 14.8168651\ttotal: 27.8ms\tremaining: 61.8ms\n",
      "31:\tlearn: 14.7751545\ttotal: 28.7ms\tremaining: 61.1ms\n",
      "32:\tlearn: 14.7358968\ttotal: 29.6ms\tremaining: 60.1ms\n",
      "33:\tlearn: 14.3780673\ttotal: 30.5ms\tremaining: 59.1ms\n",
      "34:\tlearn: 14.3248966\ttotal: 31.3ms\tremaining: 58.2ms\n",
      "35:\tlearn: 14.1776021\ttotal: 32.3ms\tremaining: 57.5ms\n",
      "36:\tlearn: 14.0400071\ttotal: 33.3ms\tremaining: 56.7ms\n",
      "37:\tlearn: 13.9799861\ttotal: 34.2ms\tremaining: 55.8ms\n",
      "38:\tlearn: 13.6684620\ttotal: 35.1ms\tremaining: 54.8ms\n",
      "39:\tlearn: 13.4942970\ttotal: 36ms\tremaining: 54.1ms\n",
      "40:\tlearn: 13.4465943\ttotal: 37ms\tremaining: 53.3ms\n",
      "41:\tlearn: 13.3428647\ttotal: 38ms\tremaining: 52.5ms\n",
      "42:\tlearn: 13.1878373\ttotal: 39ms\tremaining: 51.6ms\n",
      "43:\tlearn: 13.1548183\ttotal: 39.8ms\tremaining: 50.7ms\n",
      "44:\tlearn: 13.1145807\ttotal: 40.7ms\tremaining: 49.7ms\n",
      "45:\tlearn: 13.0889210\ttotal: 41.7ms\tremaining: 48.9ms\n",
      "46:\tlearn: 12.9619125\ttotal: 42.6ms\tremaining: 48ms\n",
      "47:\tlearn: 12.9064715\ttotal: 43.5ms\tremaining: 47.1ms\n",
      "48:\tlearn: 12.6976428\ttotal: 44.4ms\tremaining: 46.2ms\n",
      "49:\tlearn: 12.5053498\ttotal: 45.4ms\tremaining: 45.4ms\n",
      "50:\tlearn: 12.2600816\ttotal: 46.3ms\tremaining: 44.5ms\n",
      "51:\tlearn: 12.2128102\ttotal: 47.2ms\tremaining: 43.6ms\n",
      "52:\tlearn: 12.0758015\ttotal: 48.1ms\tremaining: 42.7ms\n",
      "53:\tlearn: 12.0147108\ttotal: 49ms\tremaining: 41.8ms\n",
      "54:\tlearn: 11.8707417\ttotal: 49.9ms\tremaining: 40.8ms\n",
      "55:\tlearn: 11.7852358\ttotal: 50.9ms\tremaining: 40ms\n",
      "56:\tlearn: 11.6988310\ttotal: 51.8ms\tremaining: 39.1ms\n",
      "57:\tlearn: 11.6389357\ttotal: 52.7ms\tremaining: 38.2ms\n",
      "58:\tlearn: 11.5306685\ttotal: 53.6ms\tremaining: 37.3ms\n",
      "59:\tlearn: 11.4758355\ttotal: 54.4ms\tremaining: 36.3ms\n",
      "60:\tlearn: 11.4160290\ttotal: 55.4ms\tremaining: 35.4ms\n",
      "61:\tlearn: 11.2716916\ttotal: 56.3ms\tremaining: 34.5ms\n",
      "62:\tlearn: 11.2270422\ttotal: 57.2ms\tremaining: 33.6ms\n",
      "63:\tlearn: 11.1878859\ttotal: 58.1ms\tremaining: 32.7ms\n",
      "64:\tlearn: 11.1604304\ttotal: 59.1ms\tremaining: 31.8ms\n",
      "65:\tlearn: 11.1196266\ttotal: 60ms\tremaining: 30.9ms\n",
      "66:\tlearn: 11.1000495\ttotal: 60.8ms\tremaining: 30ms\n",
      "67:\tlearn: 11.0129412\ttotal: 61.7ms\tremaining: 29ms\n",
      "68:\tlearn: 10.9467114\ttotal: 62.6ms\tremaining: 28.1ms\n",
      "69:\tlearn: 10.8541685\ttotal: 63.6ms\tremaining: 27.2ms\n",
      "70:\tlearn: 10.7668311\ttotal: 64.4ms\tremaining: 26.3ms\n",
      "71:\tlearn: 10.7267896\ttotal: 65.4ms\tremaining: 25.4ms\n",
      "72:\tlearn: 10.7070204\ttotal: 66.4ms\tremaining: 24.6ms\n",
      "73:\tlearn: 10.6114363\ttotal: 67.4ms\tremaining: 23.7ms\n",
      "74:\tlearn: 10.5193356\ttotal: 68.3ms\tremaining: 22.8ms\n",
      "75:\tlearn: 10.4675365\ttotal: 69.3ms\tremaining: 21.9ms\n",
      "76:\tlearn: 10.4521588\ttotal: 70.3ms\tremaining: 21ms\n",
      "77:\tlearn: 10.3974783\ttotal: 71.3ms\tremaining: 20.1ms\n",
      "78:\tlearn: 10.3577343\ttotal: 72.2ms\tremaining: 19.2ms\n",
      "79:\tlearn: 10.2682523\ttotal: 73.2ms\tremaining: 18.3ms\n",
      "80:\tlearn: 10.2234851\ttotal: 74.3ms\tremaining: 17.4ms\n",
      "81:\tlearn: 10.2058837\ttotal: 75.3ms\tremaining: 16.5ms\n",
      "82:\tlearn: 10.1803149\ttotal: 76.3ms\tremaining: 15.6ms\n",
      "83:\tlearn: 10.1401104\ttotal: 77.3ms\tremaining: 14.7ms\n",
      "84:\tlearn: 10.1297725\ttotal: 78.2ms\tremaining: 13.8ms\n",
      "85:\tlearn: 10.1218204\ttotal: 79ms\tremaining: 12.9ms\n",
      "86:\tlearn: 10.0829183\ttotal: 79.9ms\tremaining: 11.9ms\n",
      "87:\tlearn: 10.0134360\ttotal: 80.9ms\tremaining: 11ms\n",
      "88:\tlearn: 9.9795235\ttotal: 81.9ms\tremaining: 10.1ms\n",
      "89:\tlearn: 9.9552657\ttotal: 82.8ms\tremaining: 9.2ms\n",
      "90:\tlearn: 9.9266212\ttotal: 83.8ms\tremaining: 8.28ms\n",
      "91:\tlearn: 9.9194299\ttotal: 84.7ms\tremaining: 7.36ms\n",
      "92:\tlearn: 9.8593669\ttotal: 85.6ms\tremaining: 6.44ms\n",
      "93:\tlearn: 9.8488932\ttotal: 86.5ms\tremaining: 5.52ms\n",
      "94:\tlearn: 9.8178963\ttotal: 87.5ms\tremaining: 4.61ms\n",
      "95:\tlearn: 9.7861318\ttotal: 88.5ms\tremaining: 3.69ms\n",
      "96:\tlearn: 9.7151635\ttotal: 89.4ms\tremaining: 2.76ms\n",
      "97:\tlearn: 9.6557823\ttotal: 90.3ms\tremaining: 1.84ms\n",
      "98:\tlearn: 9.6474589\ttotal: 91.2ms\tremaining: 921us\n",
      "99:\tlearn: 9.5532183\ttotal: 92.1ms\tremaining: 0us\n"
     ]
    },
    {
     "data": {
      "text/plain": [
       "<catboost.core.CatBoostRegressor at 0x1d493a06470>"
      ]
     },
     "execution_count": 14,
     "metadata": {},
     "output_type": "execute_result"
    }
   ],
   "source": [
    "model_lat = cb.CatBoostRegressor(loss_function='RMSE',iterations=100,subsample=0.8,depth=2)\n",
    "model_lat.fit(X=initial_states.dropna()[['Semi-major Axis (km)',\t'Eccentricity',\t'Inclination (deg)',\t'RAAN (deg)',\t'Argument of Perigee (deg)',\t'True Anomaly (deg)']],\n",
    "              y= initial_states.dropna()['Latitude (deg)'])"
   ]
  },
  {
   "cell_type": "code",
   "execution_count": 15,
   "id": "1a535c70-3892-4b4b-9f06-039b582a5d6c",
   "metadata": {},
   "outputs": [],
   "source": [
    "model_lat.save_model('data/trained_model/Latitude_Model.cbm')"
   ]
  },
  {
   "cell_type": "code",
   "execution_count": 16,
   "id": "00b0c97e-a133-4e77-9c60-d5b17d5b4e25",
   "metadata": {
    "scrolled": true
   },
   "outputs": [
    {
     "name": "stdout",
     "output_type": "stream",
     "text": [
      "Learning rate set to 0.331364\n",
      "0:\tlearn: 103.3416891\ttotal: 793us\tremaining: 78.6ms\n",
      "1:\tlearn: 103.2427932\ttotal: 1.44ms\tremaining: 70.4ms\n",
      "2:\tlearn: 103.1151557\ttotal: 2.11ms\tremaining: 68.2ms\n",
      "3:\tlearn: 103.0547766\ttotal: 2.68ms\tremaining: 64.4ms\n",
      "4:\tlearn: 102.9420553\ttotal: 3.41ms\tremaining: 64.8ms\n",
      "5:\tlearn: 102.8739367\ttotal: 4.15ms\tremaining: 65ms\n",
      "6:\tlearn: 102.8535376\ttotal: 4.83ms\tremaining: 64.2ms\n",
      "7:\tlearn: 102.7878072\ttotal: 5.45ms\tremaining: 62.7ms\n",
      "8:\tlearn: 102.7336207\ttotal: 6.13ms\tremaining: 62ms\n",
      "9:\tlearn: 102.6531674\ttotal: 6.78ms\tremaining: 61ms\n",
      "10:\tlearn: 102.6208845\ttotal: 7.47ms\tremaining: 60.4ms\n",
      "11:\tlearn: 102.5961688\ttotal: 8.17ms\tremaining: 59.9ms\n",
      "12:\tlearn: 102.5621870\ttotal: 8.82ms\tremaining: 59ms\n",
      "13:\tlearn: 102.5514683\ttotal: 9.43ms\tremaining: 57.9ms\n",
      "14:\tlearn: 102.4856543\ttotal: 10.1ms\tremaining: 57.4ms\n",
      "15:\tlearn: 102.4712266\ttotal: 10.9ms\tremaining: 57ms\n",
      "16:\tlearn: 102.4651698\ttotal: 11.5ms\tremaining: 56.2ms\n",
      "17:\tlearn: 102.4390700\ttotal: 12.2ms\tremaining: 55.6ms\n",
      "18:\tlearn: 102.3847787\ttotal: 12.9ms\tremaining: 54.9ms\n",
      "19:\tlearn: 102.3505808\ttotal: 13.5ms\tremaining: 54ms\n",
      "20:\tlearn: 102.3296309\ttotal: 14.1ms\tremaining: 53ms\n",
      "21:\tlearn: 102.2768102\ttotal: 14.7ms\tremaining: 52.1ms\n",
      "22:\tlearn: 102.2295272\ttotal: 15.4ms\tremaining: 51.4ms\n",
      "23:\tlearn: 102.1623919\ttotal: 16.1ms\tremaining: 50.9ms\n",
      "24:\tlearn: 102.1158146\ttotal: 16.7ms\tremaining: 50.2ms\n",
      "25:\tlearn: 102.0741325\ttotal: 17.6ms\tremaining: 50ms\n",
      "26:\tlearn: 101.9785237\ttotal: 18.3ms\tremaining: 49.4ms\n",
      "27:\tlearn: 101.8159040\ttotal: 19ms\tremaining: 48.8ms\n",
      "28:\tlearn: 101.7671759\ttotal: 19.7ms\tremaining: 48.2ms\n",
      "29:\tlearn: 101.7375301\ttotal: 20.4ms\tremaining: 47.7ms\n",
      "30:\tlearn: 101.6862627\ttotal: 21ms\tremaining: 46.8ms\n",
      "31:\tlearn: 101.5913382\ttotal: 21.7ms\tremaining: 46.1ms\n",
      "32:\tlearn: 101.5585625\ttotal: 22.4ms\tremaining: 45.5ms\n",
      "33:\tlearn: 101.5132311\ttotal: 23.1ms\tremaining: 44.9ms\n",
      "34:\tlearn: 101.4360320\ttotal: 23.7ms\tremaining: 44.1ms\n",
      "35:\tlearn: 101.4116504\ttotal: 24.4ms\tremaining: 43.3ms\n",
      "36:\tlearn: 101.3447936\ttotal: 25ms\tremaining: 42.6ms\n",
      "37:\tlearn: 101.3161340\ttotal: 25.7ms\tremaining: 41.9ms\n",
      "38:\tlearn: 101.1995102\ttotal: 26.4ms\tremaining: 41.3ms\n",
      "39:\tlearn: 101.1597343\ttotal: 27ms\tremaining: 40.6ms\n",
      "40:\tlearn: 101.1330161\ttotal: 27.8ms\tremaining: 39.9ms\n",
      "41:\tlearn: 101.0291773\ttotal: 28.4ms\tremaining: 39.3ms\n",
      "42:\tlearn: 100.9734138\ttotal: 29.1ms\tremaining: 38.6ms\n",
      "43:\tlearn: 100.9346971\ttotal: 29.8ms\tremaining: 38ms\n",
      "44:\tlearn: 100.8674376\ttotal: 30.5ms\tremaining: 37.3ms\n",
      "45:\tlearn: 100.8000174\ttotal: 31.1ms\tremaining: 36.6ms\n",
      "46:\tlearn: 100.7603095\ttotal: 31.9ms\tremaining: 35.9ms\n",
      "47:\tlearn: 100.7037972\ttotal: 32.5ms\tremaining: 35.2ms\n",
      "48:\tlearn: 100.6718228\ttotal: 33.2ms\tremaining: 34.6ms\n",
      "49:\tlearn: 100.5879032\ttotal: 34ms\tremaining: 34ms\n",
      "50:\tlearn: 100.5493058\ttotal: 34.6ms\tremaining: 33.3ms\n",
      "51:\tlearn: 100.5147367\ttotal: 35.2ms\tremaining: 32.5ms\n",
      "52:\tlearn: 100.4693071\ttotal: 35.8ms\tremaining: 31.8ms\n",
      "53:\tlearn: 100.4399880\ttotal: 36.5ms\tremaining: 31.1ms\n",
      "54:\tlearn: 100.3822436\ttotal: 37.2ms\tremaining: 30.4ms\n",
      "55:\tlearn: 100.3457497\ttotal: 37.8ms\tremaining: 29.7ms\n",
      "56:\tlearn: 100.2784616\ttotal: 38.5ms\tremaining: 29.1ms\n",
      "57:\tlearn: 100.2332310\ttotal: 39.1ms\tremaining: 28.3ms\n",
      "58:\tlearn: 100.2096730\ttotal: 39.7ms\tremaining: 27.6ms\n",
      "59:\tlearn: 100.1728728\ttotal: 40.4ms\tremaining: 26.9ms\n",
      "60:\tlearn: 100.1031766\ttotal: 41ms\tremaining: 26.2ms\n",
      "61:\tlearn: 100.0877739\ttotal: 41.7ms\tremaining: 25.5ms\n",
      "62:\tlearn: 100.0549061\ttotal: 42.3ms\tremaining: 24.8ms\n",
      "63:\tlearn: 100.0321920\ttotal: 42.9ms\tremaining: 24.2ms\n",
      "64:\tlearn: 99.9713095\ttotal: 43.7ms\tremaining: 23.5ms\n",
      "65:\tlearn: 99.9003448\ttotal: 44.4ms\tremaining: 22.9ms\n",
      "66:\tlearn: 99.8747149\ttotal: 45.1ms\tremaining: 22.2ms\n",
      "67:\tlearn: 99.8353706\ttotal: 45.7ms\tremaining: 21.5ms\n",
      "68:\tlearn: 99.8172154\ttotal: 46.4ms\tremaining: 20.8ms\n",
      "69:\tlearn: 99.7575090\ttotal: 47.1ms\tremaining: 20.2ms\n",
      "70:\tlearn: 99.7430074\ttotal: 47.7ms\tremaining: 19.5ms\n",
      "71:\tlearn: 99.7217502\ttotal: 48.3ms\tremaining: 18.8ms\n",
      "72:\tlearn: 99.6794983\ttotal: 49ms\tremaining: 18.1ms\n",
      "73:\tlearn: 99.6508579\ttotal: 49.7ms\tremaining: 17.5ms\n",
      "74:\tlearn: 99.6349122\ttotal: 50.3ms\tremaining: 16.8ms\n",
      "75:\tlearn: 99.6069865\ttotal: 51ms\tremaining: 16.1ms\n",
      "76:\tlearn: 99.5843327\ttotal: 51.6ms\tremaining: 15.4ms\n",
      "77:\tlearn: 99.5707831\ttotal: 52.3ms\tremaining: 14.8ms\n",
      "78:\tlearn: 99.5480430\ttotal: 52.9ms\tremaining: 14.1ms\n",
      "79:\tlearn: 99.4959556\ttotal: 53.6ms\tremaining: 13.4ms\n",
      "80:\tlearn: 99.4726474\ttotal: 54.3ms\tremaining: 12.7ms\n",
      "81:\tlearn: 99.4506123\ttotal: 55ms\tremaining: 12.1ms\n",
      "82:\tlearn: 99.4118536\ttotal: 55.8ms\tremaining: 11.4ms\n",
      "83:\tlearn: 99.3969806\ttotal: 56.5ms\tremaining: 10.8ms\n",
      "84:\tlearn: 99.3250594\ttotal: 57.3ms\tremaining: 10.1ms\n",
      "85:\tlearn: 99.2810084\ttotal: 57.9ms\tremaining: 9.42ms\n",
      "86:\tlearn: 99.2382279\ttotal: 58.5ms\tremaining: 8.74ms\n",
      "87:\tlearn: 99.2260564\ttotal: 59.2ms\tremaining: 8.07ms\n",
      "88:\tlearn: 99.1917662\ttotal: 59.8ms\tremaining: 7.4ms\n",
      "89:\tlearn: 99.1717760\ttotal: 60.5ms\tremaining: 6.72ms\n",
      "90:\tlearn: 99.1169219\ttotal: 61.3ms\tremaining: 6.06ms\n",
      "91:\tlearn: 99.0690268\ttotal: 62ms\tremaining: 5.39ms\n",
      "92:\tlearn: 99.0447256\ttotal: 62.7ms\tremaining: 4.72ms\n",
      "93:\tlearn: 99.0103292\ttotal: 63.4ms\tremaining: 4.05ms\n",
      "94:\tlearn: 98.9852294\ttotal: 64.1ms\tremaining: 3.37ms\n",
      "95:\tlearn: 98.9569025\ttotal: 64.8ms\tremaining: 2.7ms\n",
      "96:\tlearn: 98.8975904\ttotal: 65.6ms\tremaining: 2.03ms\n",
      "97:\tlearn: 98.8637653\ttotal: 66.3ms\tremaining: 1.35ms\n",
      "98:\tlearn: 98.8145902\ttotal: 67ms\tremaining: 676us\n",
      "99:\tlearn: 98.7905510\ttotal: 67.6ms\tremaining: 0us\n",
      "0.09067950778837475\n",
      "-0.048491153604349524\n"
     ]
    }
   ],
   "source": [
    "model_long = cb.CatBoostRegressor(loss_function='RMSE',iterations=100,depth=2)\n",
    "model_long.fit(X=initial_states.dropna()[['Semi-major Axis (km)',\t'Eccentricity',\t'Inclination (deg)',\t'RAAN (deg)',\t'Argument of Perigee (deg)',\t'True Anomaly (deg)']].iloc[:4000],\n",
    "              y= initial_states.dropna()['Longitude (deg)'].iloc[:4000])\n",
    "\n",
    "print(model_long.score(X=initial_states.dropna()[['Semi-major Axis (km)',\t'Eccentricity',\t'Inclination (deg)',\t'RAAN (deg)',\t'Argument of Perigee (deg)',\t'True Anomaly (deg)']].iloc[:4000],\n",
    "              y= initial_states.dropna()['Longitude (deg)'].iloc[:4000]))\n",
    "\n",
    "print(model_long.score(X=initial_states.dropna()[['Semi-major Axis (km)',\t'Eccentricity',\t'Inclination (deg)',\t'RAAN (deg)',\t'Argument of Perigee (deg)',\t'True Anomaly (deg)']].iloc[4000:],\n",
    "              y= initial_states.dropna()['Longitude (deg)'].iloc[4000:]))"
   ]
  },
  {
   "cell_type": "code",
   "execution_count": 17,
   "id": "892a5006-2835-4e82-a35f-7b6a53bf8c06",
   "metadata": {},
   "outputs": [],
   "source": [
    "model_long.save_model('data/trained_model/Longitude_Model.cbm')"
   ]
  },
  {
   "cell_type": "markdown",
   "id": "104f91ea-ad58-4e3b-8d1e-bf2f65d288e7",
   "metadata": {},
   "source": [
    "### Read data"
   ]
  },
  {
   "cell_type": "code",
   "execution_count": null,
   "id": "72e1ae2f-a26f-47ee-9bff-18f09266f7d2",
   "metadata": {
    "tags": []
   },
   "outputs": [],
   "source": [
    "# all_files_omni = os.listdir(\"phase_1/omni2/\")\n",
    "# all_files_dens = os.listdir(\"phase_1/sat_density/\")\n",
    "# omni = {}\n",
    "# for i in tqdm(all_files_omni):\n",
    "#     omni[int(i.split('-')[1])] = pd.read_csv('phase_1/omni2/'+i)\n",
    "# sat = {}\n",
    "# for i in tqdm(all_files_dens):\n",
    "#     sat[int(i.replace('gr-of','grof').split('-')[1])] = pd.read_csv('phase_1/sat_density/'+i)\n",
    "# with open('omni.pickle', 'wb') as handle:\n",
    "#     pickle.dump(omni, handle, protocol=pickle.HIGHEST_PROTOCOL)\n",
    "# with open('sat.pickle', 'wb') as handle:\n",
    "#     pickle.dump(sat, handle, protocol=pickle.HIGHEST_PROTOCOL)"
   ]
  },
  {
   "cell_type": "code",
   "execution_count": 4,
   "id": "1c5bf58b-f76a-4fcc-a7d8-ae7fa196fad5",
   "metadata": {
    "tags": []
   },
   "outputs": [],
   "source": [
    "with open('data/data_isaac/omni.pickle', 'rb') as f:\n",
    "    omni = pickle.load(f)\n",
    "with open('data/data_isaac/sat.pickle', 'rb') as f:\n",
    "    sat = pickle.load(f)\n",
    "\n",
    "for i in sat.keys():\n",
    "    sat[i]['Orbit Mean Density (kg/m^3)'] = sat[i]['Orbit Mean Density (kg/m^3)'].mask(sat[i]['Orbit Mean Density (kg/m^3)']>1_000_000)\n",
    "    #sat[i]['Orbit Mean Density (kg/m^3)'] = sat[i]['Orbit Mean Density (kg/m^3)'].ffill().bfill() # add forward and backward fill"
   ]
  },
  {
   "cell_type": "markdown",
   "id": "fbdfbf10-daad-45f9-9660-99e120791627",
   "metadata": {
    "jp-MarkdownHeadingCollapsed": true
   },
   "source": [
    "### Compute R2 with mean and median"
   ]
  },
  {
   "cell_type": "code",
   "execution_count": null,
   "id": "2b85fdbf-b487-4301-9272-4842dc0d6838",
   "metadata": {},
   "outputs": [],
   "source": [
    "all_sat = pd.concat(sat,keys=sat.keys())\n",
    "all_sat = all_sat.reset_index().drop(['level_1'],axis=1).rename({'level_0':'File Id'},axis=1)\n",
    "df_mean = all_sat.groupby('File Id')['Orbit Mean Density (kg/m^3)'].mean()\n",
    "df_median = all_sat.groupby('File Id')['Orbit Mean Density (kg/m^3)'].median()\n",
    "all_sat = pd.merge_ordered(all_sat,df_mean,on='File Id',suffixes=['','_mean'])\n",
    "all_sat = pd.merge_ordered(all_sat,df_median,on='File Id',suffixes=['','_median'])"
   ]
  },
  {
   "cell_type": "code",
   "execution_count": null,
   "id": "0954898e-d119-4897-b3ac-f81ec4aacb66",
   "metadata": {},
   "outputs": [],
   "source": [
    "r2_score(all_sat.dropna()['Orbit Mean Density (kg/m^3)'], all_sat.dropna()['Orbit Mean Density (kg/m^3)_mean'])"
   ]
  },
  {
   "cell_type": "code",
   "execution_count": null,
   "id": "78e08862-0d3c-4ca5-b667-513599767dbe",
   "metadata": {},
   "outputs": [],
   "source": [
    "r2_score(all_sat.dropna()['Orbit Mean Density (kg/m^3)'], all_sat.dropna()['Orbit Mean Density (kg/m^3)_median'])"
   ]
  },
  {
   "cell_type": "code",
   "execution_count": null,
   "id": "f4a01b9c-7e8e-421d-80ba-01cc23c54ab5",
   "metadata": {},
   "outputs": [],
   "source": [
    "id = 100\n",
    "all_sat['Orbit Mean Density (kg/m^3)'].loc[all_sat['File Id']==id].plot()\n",
    "all_sat['Orbit Mean Density (kg/m^3)_mean'].loc[all_sat['File Id']==id].plot()\n",
    "all_sat['Orbit Mean Density (kg/m^3)_median'].loc[all_sat['File Id']==id].plot()"
   ]
  },
  {
   "cell_type": "markdown",
   "id": "8981d94f-b005-405f-b235-b8ea96738981",
   "metadata": {
    "jp-MarkdownHeadingCollapsed": true
   },
   "source": [
    "### See features"
   ]
  },
  {
   "cell_type": "code",
   "execution_count": null,
   "id": "a93280d6-ad8a-4bc3-98a1-6adcf4f0ebd0",
   "metadata": {},
   "outputs": [],
   "source": [
    "plt.scatter(df_data['Target'],df_data['Altitude (km)'])"
   ]
  },
  {
   "cell_type": "code",
   "execution_count": null,
   "id": "9d0ff575-64c9-4e8b-afbc-474c9c551911",
   "metadata": {},
   "outputs": [],
   "source": [
    "df_data['Inclination (deg)'].hist(bins=500)"
   ]
  },
  {
   "cell_type": "code",
   "execution_count": null,
   "id": "e403a2a6-ed3e-481a-abc6-cd1e3f486676",
   "metadata": {},
   "outputs": [],
   "source": [
    "plt.scatter(df_data['Target'],df_data['mean_f10.7_index'])"
   ]
  },
  {
   "cell_type": "code",
   "execution_count": null,
   "id": "eaf511d7-9e76-40ec-a56f-a5d94fee856d",
   "metadata": {},
   "outputs": [],
   "source": [
    "plt.scatter(df_data['Target'],np.exp(df_data['min_f10.7_index']))"
   ]
  },
  {
   "cell_type": "code",
   "execution_count": null,
   "id": "12bf9506-ddce-4ff5-9b88-aa5b4617cebc",
   "metadata": {},
   "outputs": [],
   "source": [
    "df_data.corr()['Target'].abs().sort_values(ascending=False).head(50)"
   ]
  },
  {
   "cell_type": "markdown",
   "id": "daea5e2e-388d-4cfb-9970-539cbb8511d4",
   "metadata": {
    "jp-MarkdownHeadingCollapsed": true
   },
   "source": [
    "### Prepare by timestamps"
   ]
  },
  {
   "cell_type": "code",
   "execution_count": null,
   "id": "14d895f2-21ab-4ce5-badc-a095b73f3998",
   "metadata": {
    "scrolled": true,
    "tags": []
   },
   "outputs": [],
   "source": [
    "# res = initial_states.reset_index()['File ID'].progress_apply(lambda win:create_features_and_target(win,initial_states,omni,sat,predict_mean=False,training_mode=True))\n",
    "# with open('data/data_isaac/res_6000.pickle', 'wb') as handle:\n",
    "#      pickle.dump(res, handle, protocol=pickle.HIGHEST_PROTOCOL)"
   ]
  },
  {
   "cell_type": "code",
   "execution_count": null,
   "id": "717e3c34-6ee5-45db-94c5-3f738997cd9f",
   "metadata": {},
   "outputs": [],
   "source": [
    "with open('data/data_isaac/res_6000.pickle', 'rb') as f:\n",
    "    res = pickle.load(f)"
   ]
  },
  {
   "cell_type": "markdown",
   "id": "85128316-64ba-4864-8217-182ae3f09875",
   "metadata": {},
   "source": [
    "### Prepare by mean"
   ]
  },
  {
   "cell_type": "code",
   "execution_count": 6,
   "id": "1a84cd9e-89f5-4c60-b242-2d08a2745f38",
   "metadata": {
    "scrolled": true
   },
   "outputs": [
    {
     "name": "stderr",
     "output_type": "stream",
     "text": [
      "100%|██████████████████████████████████████████████████████████████████████████████| 8095/8095 [06:28<00:00, 20.85it/s]\n"
     ]
    }
   ],
   "source": [
    "res = {}\n",
    "for i in tqdm(initial_states.index):\n",
    "    #omni_expanded = extract_space_weather_features_2(omni[i])\n",
    "    res[i] = create_features_and_target(i,initial_states,omni = omni_expanded,sat = sat[i],predict_mean=True,training_mode=True)\n",
    "with open('data/data_isaac/res_by_mean_extented_8000.pickle', 'wb') as handle:\n",
    "     pickle.dump(res, handle, protocol=pickle.HIGHEST_PROTOCOL)"
   ]
  },
  {
   "cell_type": "code",
   "execution_count": 7,
   "id": "160bc877-0a0f-41d0-b483-f9a4adb2088c",
   "metadata": {},
   "outputs": [],
   "source": [
    "with open('data/data_isaac/res_by_mean_extented_8000.pickle', 'rb') as f:\n",
    "    res = pickle.load(f)"
   ]
  },
  {
   "cell_type": "markdown",
   "id": "6cb95db1-d754-4987-b02f-ca7e3e72a477",
   "metadata": {},
   "source": [
    "## XGBOOST"
   ]
  },
  {
   "cell_type": "markdown",
   "id": "bfa48497-54bb-463a-a627-1773f629d7bc",
   "metadata": {
    "tags": []
   },
   "source": [
    "### Prediction by mean"
   ]
  },
  {
   "cell_type": "code",
   "execution_count": 8,
   "id": "74b7b976-2bfa-40b8-a420-60b3f9243fdc",
   "metadata": {},
   "outputs": [],
   "source": [
    "df_data = pd.concat(res)"
   ]
  },
  {
   "cell_type": "code",
   "execution_count": 9,
   "id": "4f36aa1a-a801-4954-9a8f-f95896c5305c",
   "metadata": {},
   "outputs": [],
   "source": [
    "index = list(res.keys())\n",
    "np.random.seed(24)\n",
    "np.random.shuffle(index)"
   ]
  },
  {
   "cell_type": "code",
   "execution_count": 10,
   "id": "7b4eadf2-49b3-4957-bf78-a6c537c8a1b3",
   "metadata": {},
   "outputs": [
    {
     "name": "stdout",
     "output_type": "stream",
     "text": [
      "2\n"
     ]
    }
   ],
   "source": [
    "train_index,valid_index,test_index = index[4000:4600],index[4600:5900],index[5900:]\n",
    "col_to_remove = ['File Id','Timestamp_initial']\n",
    "print(len(col_to_remove))"
   ]
  },
  {
   "cell_type": "markdown",
   "id": "0f5c7390-1960-4c39-866e-1ce2ca302c0b",
   "metadata": {
    "jp-MarkdownHeadingCollapsed": true
   },
   "source": [
    "#### All train"
   ]
  },
  {
   "cell_type": "code",
   "execution_count": 43,
   "id": "f616ede4-1337-4cb3-9f55-c5e7c1537637",
   "metadata": {},
   "outputs": [],
   "source": [
    "df_training_set_all = df_data.set_index('File Id').loc[list( set(initial_states.index))].reset_index()\n",
    "df_training_set_all = df_training_set_all.drop(col_to_remove,axis=1)\n",
    "df_training_set_all['Altitude (km)'] = df_training_set_all['Altitude (km)']#*1000\n",
    "df_training_set_all = df_training_set_all.dropna(subset='Target')\n",
    "train_dataset_all = cb.Pool(df_training_set_all.drop('Target',axis=1), df_training_set_all['Target']* 10**12) "
   ]
  },
  {
   "cell_type": "code",
   "execution_count": 49,
   "id": "87398bf7-9ecc-4840-8236-0d9624ce4a4e",
   "metadata": {},
   "outputs": [
    {
     "data": {
      "text/plain": [
       "mean_Kp_index                       0.182492\n",
       "mean_sep_event_flag                 0.185307\n",
       "last_Scalar_B_nT                    0.185818\n",
       "max_flux_ratio_2_Mev_4_Mev          0.186986\n",
       "max_Kp_index                        0.187797\n",
       "mean_ap_index_nT                    0.188367\n",
       "mean_ae_auroral_power               0.189009\n",
       "max_ap_index_nT                     0.189217\n",
       "True Anomaly (deg)                  0.190825\n",
       "mean_ssc_detection                  0.192739\n",
       "min_ae_auroral_power                0.193111\n",
       "last_ae_auroral_power               0.194092\n",
       "mean_reconnection_rate              0.194788\n",
       "min_ID_for_IMF_spacecraft           0.195268\n",
       "min_Vector_B_Magnitude_nT           0.204029\n",
       "mean_Lat_Angle_of_B_GSE             0.221117\n",
       "max_rb_enhancement                  0.233435\n",
       "mean_flux_ratio_2_Mev_4_Mev         0.236553\n",
       "mean_epsilon_parameter              0.250476\n",
       "min_Quasy_Invariant                 0.270856\n",
       "min_Scalar_B_nT                     0.284100\n",
       "mean_Bz_south_duration              0.292146\n",
       "mean_Scalar_B_nT                    0.299829\n",
       "last_f10.7_index                    0.300599\n",
       "mean_Vector_B_Magnitude_nT          0.307336\n",
       "last_ID_for_IMF_spacecraft          0.315337\n",
       "last_ID_for_SW_Plasma_spacecraft    0.315562\n",
       "mean_substorm_prob                  0.322737\n",
       "mean_ID_for_SW_Plasma_spacecraft    0.344510\n",
       "mean_ID_for_IMF_spacecraft          0.347274\n",
       "max_R_Sunspot_No                    0.352268\n",
       "max_Lyman_alpha                     0.376224\n",
       "mean_Magnetosonic_Mach_number       0.376298\n",
       "last_R_Sunspot_No                   0.379896\n",
       "mean_R_Sunspot_No                   0.381087\n",
       "mean_sigma_T_K                      0.384065\n",
       "mean_Lyman_alpha                    0.386341\n",
       "mean_SW_Plasma_Temperature_K        0.386565\n",
       "mean_Alfen_mach_number              0.388165\n",
       "mean_Plasma_Beta                    0.391018\n",
       "min_R_Sunspot_No                    0.392049\n",
       "mean_SW_Proton_Density_N_cm3        0.395784\n",
       "min_Lyman_alpha                     0.396656\n",
       "mean_sigma_n_N_cm3                  0.396971\n",
       "mean_f10.7_index                    0.397837\n",
       "mean_Quasy_Invariant                0.399840\n",
       "mean_Flow_pressure                  0.401218\n",
       "last_Lyman_alpha                    0.406989\n",
       "min_f10.7_index                     0.423227\n",
       "Target                              1.000000\n",
       "Name: Target, dtype: float64"
      ]
     },
     "execution_count": 49,
     "metadata": {},
     "output_type": "execute_result"
    }
   ],
   "source": [
    "df_training_set_all.corr()['Target'].sort_values().dropna().tail(50)"
   ]
  },
  {
   "cell_type": "code",
   "execution_count": null,
   "id": "a23a628b-bee1-4979-b645-559f4274ec75",
   "metadata": {
    "scrolled": true
   },
   "outputs": [],
   "source": [
    "model_mean = cb.CatBoostRegressor(loss_function='RMSE',iterations=7000)\n",
    "model_mean.fit(train_dataset_all)"
   ]
  },
  {
   "cell_type": "code",
   "execution_count": 32,
   "id": "cf83c656-1ec7-48e1-8ede-89b0f50c1198",
   "metadata": {},
   "outputs": [
    {
     "data": {
      "text/plain": [
       "<catboost.core.CatBoostRegressor at 0x1d498c1bb20>"
      ]
     },
     "execution_count": 32,
     "metadata": {},
     "output_type": "execute_result"
    }
   ],
   "source": [
    "model_mean = cb.CatBoostRegressor(loss_function='RMSE',iterations=7000)\n",
    "model_mean.load_model('data/trained_model/model_by_mean_expanded_xgboost.cbm')"
   ]
  },
  {
   "cell_type": "code",
   "execution_count": 41,
   "id": "3a54297a-0926-4cc2-be9b-b10284a3a65c",
   "metadata": {},
   "outputs": [
    {
     "data": {
      "text/plain": [
       "(array([3.603e+03, 8.280e+02, 4.980e+02, 3.830e+02, 4.170e+02, 5.710e+02,\n",
       "        4.770e+02, 3.620e+02, 2.040e+02, 1.440e+02, 1.030e+02, 7.600e+01,\n",
       "        4.900e+01, 5.400e+01, 5.100e+01, 5.200e+01, 3.500e+01, 3.300e+01,\n",
       "        1.800e+01, 8.000e+00, 7.000e+00, 0.000e+00, 1.100e+01, 9.000e+00,\n",
       "        9.000e+00, 2.000e+00, 1.200e+01, 1.300e+01, 6.000e+00, 1.200e+01,\n",
       "        3.000e+00, 7.000e+00, 4.000e+00, 3.000e+00, 3.000e+00, 3.000e+00,\n",
       "        1.000e+00, 6.000e+00, 1.000e+00, 0.000e+00, 2.000e+00, 0.000e+00,\n",
       "        0.000e+00, 2.000e+00, 0.000e+00, 2.000e+00, 0.000e+00, 0.000e+00,\n",
       "        1.000e+00, 1.000e+00]),\n",
       " array([ 0.01619126,  0.32848012,  0.64076898,  0.95305784,  1.2653467 ,\n",
       "         1.57763556,  1.88992442,  2.20221328,  2.51450214,  2.82679101,\n",
       "         3.13907987,  3.45136873,  3.76365759,  4.07594645,  4.38823531,\n",
       "         4.70052417,  5.01281303,  5.32510189,  5.63739075,  5.94967962,\n",
       "         6.26196848,  6.57425734,  6.8865462 ,  7.19883506,  7.51112392,\n",
       "         7.82341278,  8.13570164,  8.4479905 ,  8.76027936,  9.07256823,\n",
       "         9.38485709,  9.69714595, 10.00943481, 10.32172367, 10.63401253,\n",
       "        10.94630139, 11.25859025, 11.57087911, 11.88316797, 12.19545683,\n",
       "        12.5077457 , 12.82003456, 13.13232342, 13.44461228, 13.75690114,\n",
       "        14.06919   , 14.38147886, 14.69376772, 15.00605658, 15.31834544,\n",
       "        15.63063431]),\n",
       " <BarContainer object of 50 artists>)"
      ]
     },
     "execution_count": 41,
     "metadata": {},
     "output_type": "execute_result"
    },
    {
     "data": {
      "image/png": "[encoded data removed]",
      "text/plain": [
       "<Figure size 640x480 with 1 Axes>"
      ]
     },
     "metadata": {},
     "output_type": "display_data"
    }
   ],
   "source": [
    "plt.hist(model_mean.predict(train_dataset_all),bins=50)"
   ]
  },
  {
   "cell_type": "code",
   "execution_count": 34,
   "id": "d2458cb1-e809-41d1-bc73-ed3ca1d76663",
   "metadata": {},
   "outputs": [
    {
     "data": {
      "text/html": [
       "<div>\n",
       "<style scoped>\n",
       "    .dataframe tbody tr th:only-of-type {\n",
       "        vertical-align: middle;\n",
       "    }\n",
       "\n",
       "    .dataframe tbody tr th {\n",
       "        vertical-align: top;\n",
       "    }\n",
       "\n",
       "    .dataframe thead th {\n",
       "        text-align: right;\n",
       "    }\n",
       "</style>\n",
       "<table border=\"1\" class=\"dataframe\">\n",
       "  <thead>\n",
       "    <tr style=\"text-align: right;\">\n",
       "      <th></th>\n",
       "      <th>feature_importance</th>\n",
       "      <th>feature_names</th>\n",
       "    </tr>\n",
       "  </thead>\n",
       "  <tbody>\n",
       "    <tr>\n",
       "      <th>312</th>\n",
       "      <td>35.509587</td>\n",
       "      <td>Altitude (km)</td>\n",
       "    </tr>\n",
       "    <tr>\n",
       "      <th>304</th>\n",
       "      <td>15.184605</td>\n",
       "      <td>Semi-major Axis (km)</td>\n",
       "    </tr>\n",
       "    <tr>\n",
       "      <th>306</th>\n",
       "      <td>13.727324</td>\n",
       "      <td>Inclination (deg)</td>\n",
       "    </tr>\n",
       "    <tr>\n",
       "      <th>274</th>\n",
       "      <td>3.862159</td>\n",
       "      <td>last_Lyman_alpha</td>\n",
       "    </tr>\n",
       "    <tr>\n",
       "      <th>269</th>\n",
       "      <td>2.494924</td>\n",
       "      <td>last_f10.7_index</td>\n",
       "    </tr>\n",
       "    <tr>\n",
       "      <th>0</th>\n",
       "      <td>1.834749</td>\n",
       "      <td>mean_Bartels_rotation_number</td>\n",
       "    </tr>\n",
       "    <tr>\n",
       "      <th>228</th>\n",
       "      <td>1.721666</td>\n",
       "      <td>last_Bartels_rotation_number</td>\n",
       "    </tr>\n",
       "    <tr>\n",
       "      <th>310</th>\n",
       "      <td>1.588601</td>\n",
       "      <td>Latitude (deg)</td>\n",
       "    </tr>\n",
       "    <tr>\n",
       "      <th>305</th>\n",
       "      <td>1.305099</td>\n",
       "      <td>Eccentricity</td>\n",
       "    </tr>\n",
       "    <tr>\n",
       "      <th>152</th>\n",
       "      <td>1.148440</td>\n",
       "      <td>min_Bartels_rotation_number</td>\n",
       "    </tr>\n",
       "    <tr>\n",
       "      <th>46</th>\n",
       "      <td>1.130203</td>\n",
       "      <td>mean_Lyman_alpha</td>\n",
       "    </tr>\n",
       "    <tr>\n",
       "      <th>76</th>\n",
       "      <td>0.964460</td>\n",
       "      <td>max_Bartels_rotation_number</td>\n",
       "    </tr>\n",
       "    <tr>\n",
       "      <th>266</th>\n",
       "      <td>0.847759</td>\n",
       "      <td>last_R_Sunspot_No</td>\n",
       "    </tr>\n",
       "    <tr>\n",
       "      <th>122</th>\n",
       "      <td>0.784607</td>\n",
       "      <td>max_Lyman_alpha</td>\n",
       "    </tr>\n",
       "    <tr>\n",
       "      <th>190</th>\n",
       "      <td>0.716579</td>\n",
       "      <td>min_R_Sunspot_No</td>\n",
       "    </tr>\n",
       "  </tbody>\n",
       "</table>\n",
       "</div>"
      ],
      "text/plain": [
       "     feature_importance                 feature_names\n",
       "312           35.509587                 Altitude (km)\n",
       "304           15.184605          Semi-major Axis (km)\n",
       "306           13.727324             Inclination (deg)\n",
       "274            3.862159              last_Lyman_alpha\n",
       "269            2.494924              last_f10.7_index\n",
       "0              1.834749  mean_Bartels_rotation_number\n",
       "228            1.721666  last_Bartels_rotation_number\n",
       "310            1.588601                Latitude (deg)\n",
       "305            1.305099                  Eccentricity\n",
       "152            1.148440   min_Bartels_rotation_number\n",
       "46             1.130203              mean_Lyman_alpha\n",
       "76             0.964460   max_Bartels_rotation_number\n",
       "266            0.847759             last_R_Sunspot_No\n",
       "122            0.784607               max_Lyman_alpha\n",
       "190            0.716579              min_R_Sunspot_No"
      ]
     },
     "execution_count": 34,
     "metadata": {},
     "output_type": "execute_result"
    }
   ],
   "source": [
    "get_model_feat_import(model_mean)"
   ]
  },
  {
   "cell_type": "code",
   "execution_count": null,
   "id": "0f3f34ea-6013-4272-ac19-a551b62807f3",
   "metadata": {},
   "outputs": [],
   "source": [
    "model_mean.save_model('data/trained_model/model_by_mean_expanded_xgboost.cbm')"
   ]
  },
  {
   "cell_type": "markdown",
   "id": "3058c2b6-de5e-4416-b3e1-978b6ef18bfb",
   "metadata": {},
   "source": [
    "#### Train/Valid/Test"
   ]
  },
  {
   "cell_type": "code",
   "execution_count": 11,
   "id": "97144b90-2f48-4d76-a886-7dece161ff15",
   "metadata": {},
   "outputs": [
    {
     "ename": "CatBoostError",
     "evalue": "C:/Go_Agent/pipelines/BuildMaster/catboost.git/catboost/libs/data/features_layout.cpp:120: All feature names should be different, but 'mean_epsilon_parameter' used more than once.",
     "output_type": "error",
     "traceback": [
      "\u001b[1;31m---------------------------------------------------------------------------\u001b[0m",
      "\u001b[1;31mCatBoostError\u001b[0m                             Traceback (most recent call last)",
      "Cell \u001b[1;32mIn[11], line 14\u001b[0m\n\u001b[0;32m     10\u001b[0m df_test_set \u001b[38;5;241m=\u001b[39m df_test_set\u001b[38;5;241m.\u001b[39mdrop(col_to_remove,axis\u001b[38;5;241m=\u001b[39m\u001b[38;5;241m1\u001b[39m)\n\u001b[0;32m     11\u001b[0m df_test_set \u001b[38;5;241m=\u001b[39m df_test_set\u001b[38;5;241m.\u001b[39mdropna(subset\u001b[38;5;241m=\u001b[39m\u001b[38;5;124m'\u001b[39m\u001b[38;5;124mTarget\u001b[39m\u001b[38;5;124m'\u001b[39m)\n\u001b[1;32m---> 14\u001b[0m train_dataset \u001b[38;5;241m=\u001b[39m \u001b[43mcb\u001b[49m\u001b[38;5;241;43m.\u001b[39;49m\u001b[43mPool\u001b[49m\u001b[43m(\u001b[49m\u001b[43mdf_training_set\u001b[49m\u001b[38;5;241;43m.\u001b[39;49m\u001b[43mdrop\u001b[49m\u001b[43m(\u001b[49m\u001b[38;5;124;43m'\u001b[39;49m\u001b[38;5;124;43mTarget\u001b[39;49m\u001b[38;5;124;43m'\u001b[39;49m\u001b[43m,\u001b[49m\u001b[43maxis\u001b[49m\u001b[38;5;241;43m=\u001b[39;49m\u001b[38;5;241;43m1\u001b[39;49m\u001b[43m)\u001b[49m\u001b[43m,\u001b[49m\u001b[43m \u001b[49m\u001b[43mdf_training_set\u001b[49m\u001b[43m[\u001b[49m\u001b[38;5;124;43m'\u001b[39;49m\u001b[38;5;124;43mTarget\u001b[39;49m\u001b[38;5;124;43m'\u001b[39;49m\u001b[43m]\u001b[49m\u001b[38;5;241;43m*\u001b[39;49m\u001b[43m \u001b[49m\u001b[38;5;241;43m10\u001b[39;49m\u001b[38;5;241;43m*\u001b[39;49m\u001b[38;5;241;43m*\u001b[39;49m\u001b[38;5;241;43m12\u001b[39;49m\u001b[43m)\u001b[49m\u001b[38;5;66;03m#,cat_features=['last_DOY','last_YEAR','last_Hour']) \u001b[39;00m\n\u001b[0;32m     15\u001b[0m valid_dataset \u001b[38;5;241m=\u001b[39m cb\u001b[38;5;241m.\u001b[39mPool(df_valid_set\u001b[38;5;241m.\u001b[39mdrop(\u001b[38;5;124m'\u001b[39m\u001b[38;5;124mTarget\u001b[39m\u001b[38;5;124m'\u001b[39m,axis\u001b[38;5;241m=\u001b[39m\u001b[38;5;241m1\u001b[39m), df_valid_set[\u001b[38;5;124m'\u001b[39m\u001b[38;5;124mTarget\u001b[39m\u001b[38;5;124m'\u001b[39m]\u001b[38;5;241m*\u001b[39m \u001b[38;5;241m10\u001b[39m\u001b[38;5;241m*\u001b[39m\u001b[38;5;241m*\u001b[39m\u001b[38;5;241m12\u001b[39m)\u001b[38;5;66;03m#,cat_features=['last_DOY','last_YEAR','last_Hour']) \u001b[39;00m\n\u001b[0;32m     16\u001b[0m test_dataset \u001b[38;5;241m=\u001b[39m cb\u001b[38;5;241m.\u001b[39mPool(df_test_set\u001b[38;5;241m.\u001b[39mdrop(\u001b[38;5;124m'\u001b[39m\u001b[38;5;124mTarget\u001b[39m\u001b[38;5;124m'\u001b[39m,axis\u001b[38;5;241m=\u001b[39m\u001b[38;5;241m1\u001b[39m), df_test_set[\u001b[38;5;124m'\u001b[39m\u001b[38;5;124mTarget\u001b[39m\u001b[38;5;124m'\u001b[39m]\u001b[38;5;241m*\u001b[39m \u001b[38;5;241m10\u001b[39m\u001b[38;5;241m*\u001b[39m\u001b[38;5;241m*\u001b[39m\u001b[38;5;241m12\u001b[39m)\u001b[38;5;66;03m#,cat_features=['last_DOY','last_YEAR','last_Hour']) \u001b[39;00m\n",
      "File \u001b[1;32m~\\miniconda3\\envs\\small_env_2\\lib\\site-packages\\catboost\\core.py:844\u001b[0m, in \u001b[0;36mPool.__init__\u001b[1;34m(self, data, label, cat_features, text_features, embedding_features, embedding_features_data, column_description, pairs, delimiter, has_header, ignore_csv_quoting, weight, group_id, group_weight, subgroup_id, pairs_weight, baseline, timestamp, feature_names, feature_tags, thread_count, log_cout, log_cerr, data_can_be_none)\u001b[0m\n\u001b[0;32m    838\u001b[0m         \u001b[38;5;28;01mif\u001b[39;00m \u001b[38;5;28misinstance\u001b[39m(feature_names, PATH_TYPES):\n\u001b[0;32m    839\u001b[0m             \u001b[38;5;28;01mraise\u001b[39;00m CatBoostError(\n\u001b[0;32m    840\u001b[0m                 \u001b[38;5;124m\"\u001b[39m\u001b[38;5;124mfeature_names must be None or have non-string type when the pool is created from \u001b[39m\u001b[38;5;124m\"\u001b[39m\n\u001b[0;32m    841\u001b[0m                 \u001b[38;5;124m\"\u001b[39m\u001b[38;5;124mpython objects.\u001b[39m\u001b[38;5;124m\"\u001b[39m\n\u001b[0;32m    842\u001b[0m             )\n\u001b[1;32m--> 844\u001b[0m         \u001b[38;5;28;43mself\u001b[39;49m\u001b[38;5;241;43m.\u001b[39;49m\u001b[43m_init\u001b[49m\u001b[43m(\u001b[49m\u001b[43mdata\u001b[49m\u001b[43m,\u001b[49m\u001b[43m \u001b[49m\u001b[43mlabel\u001b[49m\u001b[43m,\u001b[49m\u001b[43m \u001b[49m\u001b[43mcat_features\u001b[49m\u001b[43m,\u001b[49m\u001b[43m \u001b[49m\u001b[43mtext_features\u001b[49m\u001b[43m,\u001b[49m\u001b[43m \u001b[49m\u001b[43membedding_features\u001b[49m\u001b[43m,\u001b[49m\u001b[43m \u001b[49m\u001b[43membedding_features_data\u001b[49m\u001b[43m,\u001b[49m\u001b[43m \u001b[49m\u001b[43mpairs\u001b[49m\u001b[43m,\u001b[49m\u001b[43m \u001b[49m\u001b[43mweight\u001b[49m\u001b[43m,\u001b[49m\n\u001b[0;32m    845\u001b[0m \u001b[43m                   \u001b[49m\u001b[43mgroup_id\u001b[49m\u001b[43m,\u001b[49m\u001b[43m \u001b[49m\u001b[43mgroup_weight\u001b[49m\u001b[43m,\u001b[49m\u001b[43m \u001b[49m\u001b[43msubgroup_id\u001b[49m\u001b[43m,\u001b[49m\u001b[43m \u001b[49m\u001b[43mpairs_weight\u001b[49m\u001b[43m,\u001b[49m\u001b[43m \u001b[49m\u001b[43mbaseline\u001b[49m\u001b[43m,\u001b[49m\u001b[43m \u001b[49m\u001b[43mtimestamp\u001b[49m\u001b[43m,\u001b[49m\u001b[43m \u001b[49m\u001b[43mfeature_names\u001b[49m\u001b[43m,\u001b[49m\u001b[43m \u001b[49m\u001b[43mfeature_tags\u001b[49m\u001b[43m,\u001b[49m\u001b[43m \u001b[49m\u001b[43mthread_count\u001b[49m\u001b[43m)\u001b[49m\n\u001b[0;32m    846\u001b[0m \u001b[38;5;28;01melif\u001b[39;00m \u001b[38;5;129;01mnot\u001b[39;00m data_can_be_none:\n\u001b[0;32m    847\u001b[0m     \u001b[38;5;28;01mraise\u001b[39;00m CatBoostError(\u001b[38;5;124m\"\u001b[39m\u001b[38;5;124m'\u001b[39m\u001b[38;5;124mdata\u001b[39m\u001b[38;5;124m'\u001b[39m\u001b[38;5;124m parameter can\u001b[39m\u001b[38;5;124m'\u001b[39m\u001b[38;5;124mt be None\u001b[39m\u001b[38;5;124m\"\u001b[39m)\n",
      "File \u001b[1;32m~\\miniconda3\\envs\\small_env_2\\lib\\site-packages\\catboost\\core.py:1477\u001b[0m, in \u001b[0;36mPool._init\u001b[1;34m(self, data, label, cat_features, text_features, embedding_features, embedding_features_data, pairs, weight, group_id, group_weight, subgroup_id, pairs_weight, baseline, timestamp, feature_names, feature_tags, thread_count)\u001b[0m\n\u001b[0;32m   1475\u001b[0m \u001b[38;5;28;01mif\u001b[39;00m feature_tags \u001b[38;5;129;01mis\u001b[39;00m \u001b[38;5;129;01mnot\u001b[39;00m \u001b[38;5;28;01mNone\u001b[39;00m:\n\u001b[0;32m   1476\u001b[0m     feature_tags \u001b[38;5;241m=\u001b[39m \u001b[38;5;28mself\u001b[39m\u001b[38;5;241m.\u001b[39m_check_transform_tags(feature_tags, feature_names)\n\u001b[1;32m-> 1477\u001b[0m \u001b[38;5;28;43mself\u001b[39;49m\u001b[38;5;241;43m.\u001b[39;49m\u001b[43m_init_pool\u001b[49m\u001b[43m(\u001b[49m\u001b[43mdata\u001b[49m\u001b[43m,\u001b[49m\u001b[43m \u001b[49m\u001b[43mlabel\u001b[49m\u001b[43m,\u001b[49m\u001b[43m \u001b[49m\u001b[43mcat_features\u001b[49m\u001b[43m,\u001b[49m\u001b[43m \u001b[49m\u001b[43mtext_features\u001b[49m\u001b[43m,\u001b[49m\u001b[43m \u001b[49m\u001b[43membedding_features\u001b[49m\u001b[43m,\u001b[49m\u001b[43m \u001b[49m\u001b[43membedding_features_data\u001b[49m\u001b[43m,\u001b[49m\u001b[43m \u001b[49m\u001b[43mpairs\u001b[49m\u001b[43m,\u001b[49m\u001b[43m \u001b[49m\u001b[43mweight\u001b[49m\u001b[43m,\u001b[49m\n\u001b[0;32m   1478\u001b[0m \u001b[43m                \u001b[49m\u001b[43mgroup_id\u001b[49m\u001b[43m,\u001b[49m\u001b[43m \u001b[49m\u001b[43mgroup_weight\u001b[49m\u001b[43m,\u001b[49m\u001b[43m \u001b[49m\u001b[43msubgroup_id\u001b[49m\u001b[43m,\u001b[49m\u001b[43m \u001b[49m\u001b[43mpairs_weight\u001b[49m\u001b[43m,\u001b[49m\u001b[43m \u001b[49m\u001b[43mbaseline\u001b[49m\u001b[43m,\u001b[49m\u001b[43m \u001b[49m\u001b[43mtimestamp\u001b[49m\u001b[43m,\u001b[49m\u001b[43m \u001b[49m\u001b[43mfeature_names\u001b[49m\u001b[43m,\u001b[49m\u001b[43m \u001b[49m\u001b[43mfeature_tags\u001b[49m\u001b[43m,\u001b[49m\u001b[43m \u001b[49m\u001b[43mthread_count\u001b[49m\u001b[43m)\u001b[49m\n",
      "File \u001b[1;32m_catboost.pyx:4159\u001b[0m, in \u001b[0;36m_catboost._PoolBase._init_pool\u001b[1;34m()\u001b[0m\n",
      "File \u001b[1;32m_catboost.pyx:4181\u001b[0m, in \u001b[0;36m_catboost._PoolBase._init_pool\u001b[1;34m()\u001b[0m\n",
      "File \u001b[1;32m_catboost.pyx:2160\u001b[0m, in \u001b[0;36m_catboost._init_features_layout\u001b[1;34m()\u001b[0m\n",
      "\u001b[1;31mCatBoostError\u001b[0m: C:/Go_Agent/pipelines/BuildMaster/catboost.git/catboost/libs/data/features_layout.cpp:120: All feature names should be different, but 'mean_epsilon_parameter' used more than once."
     ]
    }
   ],
   "source": [
    "df_training_set = df_data.set_index('File Id').loc[list(set(train_index) & set(initial_states.index))].reset_index()\n",
    "df_training_set = df_training_set.drop(col_to_remove,axis=1)\n",
    "df_training_set = df_training_set.dropna(subset='Target')\n",
    "\n",
    "df_valid_set = df_data.set_index('File Id').loc[list(set(valid_index) & set(initial_states.index))].reset_index()\n",
    "df_valid_set = df_valid_set.drop(col_to_remove,axis=1)\n",
    "df_valid_set = df_valid_set.dropna(subset='Target')\n",
    "\n",
    "df_test_set = df_data.set_index('File Id').loc[list(set(test_index) & set(initial_states.index))].reset_index()\n",
    "df_test_set = df_test_set.drop(col_to_remove,axis=1)\n",
    "df_test_set = df_test_set.dropna(subset='Target')\n",
    "\n",
    "train_dataset = cb.Pool(df_training_set.drop('Target',axis=1), df_training_set['Target']* 10**12,cat_features=['last_DOY','last_YEAR','last_Hour']) \n",
    "valid_dataset = cb.Pool(df_valid_set.drop('Target',axis=1), df_valid_set['Target']* 10**12,cat_features=['last_DOY','last_YEAR','last_Hour']) \n",
    "test_dataset = cb.Pool(df_test_set.drop('Target',axis=1), df_test_set['Target']* 10**12,cat_features=['last_DOY','last_YEAR','last_Hour']) "
   ]
  },
  {
   "cell_type": "code",
   "execution_count": null,
   "id": "3cf0fe55-eff0-4257-b6a7-c7df91e34fa9",
   "metadata": {
    "scrolled": true,
    "tags": []
   },
   "outputs": [],
   "source": [
    "model_mean = cb.CatBoostRegressor(loss_function='RMSE',iterations=1000)\n",
    "model_mean.fit(train_dataset,eval_set=valid_dataset)"
   ]
  },
  {
   "cell_type": "code",
   "execution_count": 69,
   "id": "b5a3710b-5b94-4d9b-bf2c-c364ad8b1eee",
   "metadata": {
    "tags": []
   },
   "outputs": [
    {
     "name": "stdout",
     "output_type": "stream",
     "text": [
      "0.999942714166922\n",
      "0.9477853423952374\n",
      "0.9476553389998067\n"
     ]
    }
   ],
   "source": [
    "print(model_mean.score(train_dataset))\n",
    "print(model_mean.score(valid_dataset))\n",
    "print(model_mean.score(test_dataset))"
   ]
  },
  {
   "cell_type": "code",
   "execution_count": null,
   "id": "aa70d6d9-72b8-43ee-9855-e30e7c0ba335",
   "metadata": {},
   "outputs": [],
   "source": [
    "data = pd.DataFrame({'feature_importance':model_mean.get_feature_importance(), \n",
    "              'feature_names': model_mean.feature_names_}).sort_values(by=['feature_importance'], \n",
    "                                                       ascending=False)\n",
    "data.head(30)"
   ]
  },
  {
   "cell_type": "code",
   "execution_count": null,
   "id": "cdc662c2-b879-459c-85b1-bcdc1da09541",
   "metadata": {},
   "outputs": [],
   "source": [
    "grid_search_result['params']"
   ]
  },
  {
   "cell_type": "code",
   "execution_count": null,
   "id": "3a197cb0-f575-4b32-9e8c-2af9c12beb12",
   "metadata": {
    "scrolled": true
   },
   "outputs": [],
   "source": [
    "model_mean = cb.CatBoostRegressor(iterations=100)\n",
    "grid = {'subsample': [ 0.8,0.9],\n",
    "        'depth': [2,4,6,10],\n",
    "        'l2_leaf_reg': [1],\n",
    "       }\n",
    "grid_search_result  = model_mean.grid_search(grid, X = train_dataset,plot=False)"
   ]
  },
  {
   "cell_type": "code",
   "execution_count": null,
   "id": "5fca9562-a6b1-43fd-aa31-dff2232c4048",
   "metadata": {},
   "outputs": [],
   "source": [
    "pd.DataFrame(grid_search_result['cv_results'])"
   ]
  },
  {
   "cell_type": "code",
   "execution_count": null,
   "id": "5af02259-66e0-450f-995d-b7d9a42b6db7",
   "metadata": {},
   "outputs": [],
   "source": [
    "model_mean.save_model('data/trained_model/model_by_mean_xgboost.cbm')"
   ]
  },
  {
   "cell_type": "markdown",
   "id": "d6df640a-7080-497d-875f-2af6989ec2b8",
   "metadata": {
    "jp-MarkdownHeadingCollapsed": true,
    "tags": []
   },
   "source": [
    "### Prediction by timestamp to predict"
   ]
  },
  {
   "cell_type": "markdown",
   "id": "7871ae3a-d189-4ba9-9169-51d7c5d0ccd2",
   "metadata": {},
   "source": [
    "#### Test train validate"
   ]
  },
  {
   "cell_type": "code",
   "execution_count": null,
   "id": "832896ed-1c15-454f-81b1-834fdc873a5d",
   "metadata": {},
   "outputs": [],
   "source": [
    "index = list(res.keys())\n",
    "np.random.seed(24)\n",
    "np.random.shuffle(index)"
   ]
  },
  {
   "cell_type": "code",
   "execution_count": null,
   "id": "6e975b7c-11b7-48b9-abec-b003c4a90447",
   "metadata": {
    "scrolled": true
   },
   "outputs": [],
   "source": [
    "#train_index,valid_index,test_index = index[:5600],index[5600:6900],index[6900:]"
   ]
  },
  {
   "cell_type": "code",
   "execution_count": null,
   "id": "a67e9225-6c8b-49bb-b3f7-29cbde68ad6c",
   "metadata": {},
   "outputs": [],
   "source": [
    "train_index,valid_index,test_index = index[4000:4600],index[4600:5900],index[5900:]\n",
    "col_to_remove = ['FileId','Timestamp','Timestamp_initial'] +\\\n",
    "                [i for i in res[0].columns if i.find('YEAR')!=-1]+\\\n",
    "                [i for i in res[0].columns if i.find('DOY')!=-1]+\\\n",
    "                [i for i in res[0].columns if i.find('Hour')!=-1]+\\\n",
    "                [i for i in res[0].columns if i.find('std_')!=-1]+\\\n",
    "                [i for i in res[0].columns if i.find('median_')!=-1]\n",
    "                #[i for i in res[0].columns if i.find('mean_')!=-1]+\\\n",
    "                #[i for i in res[0].columns if i.find('max_')!=-1]+\\\n",
    "                #[i for i in res[0].columns if i.find('min_')!=-1]+\\\n",
    "print(len(col_to_remove))"
   ]
  },
  {
   "cell_type": "code",
   "execution_count": null,
   "id": "91105ea5-e342-4a37-95e8-9379a94e4234",
   "metadata": {
    "tags": []
   },
   "outputs": [],
   "source": [
    "df_training_set = pd.concat( dict((k,res[k]) for k in train_index if k in initial_states.index)).reset_index().rename({'level_0':'FileId'},axis=1)\n",
    "df_training_set = df_training_set.drop(col_to_remove,axis=1)\n",
    "df_training_set = df_training_set.dropna(subset=['Orbit Mean Density (kg/m^3)'],axis=0)\n",
    "\n",
    "df_valid_set =  pd.concat( dict((k,res[k]) for k in valid_index if k in initial_states.index)).reset_index().rename({'level_0':'FileId'},axis=1)\n",
    "df_valid_set = df_valid_set.drop(col_to_remove,axis=1)\n",
    "df_valid_set = df_valid_set.dropna(subset=['Orbit Mean Density (kg/m^3)'],axis=0)\n",
    "\n",
    "df_test_set =  pd.concat( dict((k,res[k]) for k in test_index if k in initial_states.index)).reset_index().rename({'level_0':'FileId'},axis=1)\n",
    "df_test_set = df_test_set.drop(col_to_remove,axis=1)\n",
    "df_test_set = df_test_set.dropna(subset=['Orbit Mean Density (kg/m^3)'],axis=0)\n",
    "\n",
    "train_dataset = cb.Pool(df_training_set.drop('Orbit Mean Density (kg/m^3)',axis=1), df_training_set['Orbit Mean Density (kg/m^3)']* 10**12) \n",
    "valid_dataset = cb.Pool(df_valid_set.drop('Orbit Mean Density (kg/m^3)',axis=1), df_valid_set['Orbit Mean Density (kg/m^3)']* 10**12) \n",
    "test_dataset = cb.Pool(df_test_set.drop('Orbit Mean Density (kg/m^3)',axis=1), df_test_set['Orbit Mean Density (kg/m^3)']* 10**12) "
   ]
  },
  {
   "cell_type": "code",
   "execution_count": null,
   "id": "35d0a955-02a8-431d-935b-7d85a6e1a3cc",
   "metadata": {},
   "outputs": [],
   "source": [
    "print(df_training_set.shape)\n",
    "print(df_valid_set.shape)\n",
    "print(df_test_set.shape)"
   ]
  },
  {
   "cell_type": "markdown",
   "id": "65ed30b9-faa6-43e3-b8f1-887c7d7d3b07",
   "metadata": {},
   "source": [
    "#### All "
   ]
  },
  {
   "cell_type": "code",
   "execution_count": null,
   "id": "f101c0bb-411d-4566-8f6a-8c64ae32f3f0",
   "metadata": {},
   "outputs": [],
   "source": [
    "df_training_set = pd.concat(res.values).reset_index()\n",
    "\n",
    "df_training_set = df_training_set.reset_index().rename({'index':'FileId'},axis=1)\n",
    "df_training_set = df_training_set.drop(col_to_remove,axis=1)\n",
    "df_training_set = df_training_set.dropna(subset=['Orbit Mean Density (kg/m^3)'],axis=0)\n",
    "\n",
    "train_dataset = cb.Pool(df_training_set.drop('Orbit Mean Density (kg/m^3)',axis=1), df_training_set['Orbit Mean Density (kg/m^3)']* 10**12) "
   ]
  },
  {
   "cell_type": "code",
   "execution_count": null,
   "id": "9a85f70a-4ba3-48cf-86e4-339029a59288",
   "metadata": {
    "scrolled": true
   },
   "outputs": [],
   "source": [
    "model = cb.CatBoostRegressor(loss_function='RMSE',iterations=360,depth=6,eta=0.2,subsample=0.9,l2_leaf_reg=1)\n",
    "model.fit(train_dataset)"
   ]
  },
  {
   "cell_type": "code",
   "execution_count": null,
   "id": "d19d1363-1e48-47e9-8d5b-ab35fde9d1b2",
   "metadata": {},
   "outputs": [],
   "source": [
    "data = pd.DataFrame({'feature_importance':model.get_feature_importance(), \n",
    "              'feature_names': model.feature_names_}).sort_values(by=['feature_importance'], \n",
    "                                                       ascending=False)\n",
    "data.head(15)"
   ]
  },
  {
   "cell_type": "code",
   "execution_count": null,
   "id": "f980d3fe-f636-40d5-a764-0a2346ca7fee",
   "metadata": {},
   "outputs": [],
   "source": [
    "print(model.score(train_dataset))"
   ]
  },
  {
   "cell_type": "code",
   "execution_count": null,
   "id": "45a01dcf-743d-4b73-96ac-257b5fe09cbc",
   "metadata": {},
   "outputs": [],
   "source": [
    "model.save_model('data/trained_model/model_by_timestamp_xgboost_optimized_parameters_2.cbm')"
   ]
  },
  {
   "cell_type": "markdown",
   "id": "b53e236d-2933-49a1-9c0d-7623546c3dd0",
   "metadata": {
    "jp-MarkdownHeadingCollapsed": true
   },
   "source": [
    "#### Train model"
   ]
  },
  {
   "cell_type": "code",
   "execution_count": null,
   "id": "56de7719-75e2-4ccd-9ecf-63d3dcd9ddbc",
   "metadata": {},
   "outputs": [],
   "source": [
    "model = cb.CatBoostRegressor(iterations=100)\n",
    "grid = {'subsample': [ 0.8, 0.9],\n",
    "        'depth': [2,4, 6, 10],\n",
    "        'l2_leaf_reg': [1, 3, 5, 7, 9],\n",
    "       }\n",
    "grid_search_result  = model.grid_search(grid, X = train_dataset)"
   ]
  },
  {
   "cell_type": "code",
   "execution_count": null,
   "id": "31c235ae-58bc-489e-b558-72836b4e7505",
   "metadata": {
    "scrolled": true
   },
   "outputs": [],
   "source": [
    "model = cb.CatBoostRegressor(loss_function='RMSE',iterations=260,depth=2,eta=0.2,subsample=0.9,l2_leaf_reg=1)\n",
    "model.fit(train_dataset,eval_set=valid_dataset)"
   ]
  },
  {
   "cell_type": "code",
   "execution_count": null,
   "id": "00ee950f-472c-42e6-9292-ba5e215a7f0d",
   "metadata": {},
   "outputs": [],
   "source": [
    "print(model.score(train_dataset))\n",
    "print(model.score(valid_dataset))\n",
    "print(model.score(test_dataset))"
   ]
  },
  {
   "cell_type": "code",
   "execution_count": null,
   "id": "3c6db4c6-d89a-4423-8bd1-f706a8af8039",
   "metadata": {
    "scrolled": true
   },
   "outputs": [],
   "source": [
    "plt.hist(model.predict(train_dataset)/10**12,bins=200)\n",
    "df_training_set['Orbit Mean Density (kg/m^3)'].hist(bins=200,alpha=0.5)"
   ]
  },
  {
   "cell_type": "code",
   "execution_count": null,
   "id": "79b65255-9887-41c4-a01d-a0ff1d4b9442",
   "metadata": {},
   "outputs": [],
   "source": [
    "pd.DataFrame(train_dataset.get_label()).iloc[:10000:,0].plot(label='Train label')\n",
    "pd.DataFrame(model.predict(train_dataset)).iloc[:10000,0].plot(label='Model prediction')\n",
    "plt.legend()"
   ]
  },
  {
   "cell_type": "code",
   "execution_count": null,
   "id": "4172720e-91b2-4968-95a1-0e66abaac7ab",
   "metadata": {},
   "outputs": [],
   "source": [
    "data = pd.DataFrame({'feature_importance':model.get_feature_importance(), \n",
    "                     'feature_names': model.feature_names_}).sort_values(by=['feature_importance'], \n",
    "                                                       ascending=False) \n",
    "data.head(20)"
   ]
  },
  {
   "cell_type": "code",
   "execution_count": null,
   "id": "e3c68460-7b48-4659-bcd9-7cc585b1ba40",
   "metadata": {
    "tags": []
   },
   "outputs": [],
   "source": [
    "model.save_model('data/trained_model/model_by_timestamp_xgboost_second.cbm')"
   ]
  },
  {
   "cell_type": "code",
   "execution_count": null,
   "id": "a5b0e379-257d-4e0a-863e-5c26d4585d24",
   "metadata": {
    "tags": []
   },
   "outputs": [],
   "source": [
    "id = 101\n",
    "res[id].reset_index()['Orbit Mean Density (kg/m^3)'].plot()\n",
    "plt.plot(model.predict(res[id])/10**12,color='red')"
   ]
  },
  {
   "cell_type": "markdown",
   "id": "22be0d82-af87-4fc7-8514-1fec9e554410",
   "metadata": {
    "tags": []
   },
   "source": [
    "\n",
    "\n",
    "\n",
    "\n",
    "###  Compare pred"
   ]
  },
  {
   "cell_type": "code",
   "execution_count": null,
   "id": "fddc9be3-2247-4a7a-9735-dd674c72c21a",
   "metadata": {},
   "outputs": [],
   "source": [
    "model = cb.CatBoostRegressor()\n",
    "model.load_model('data/trained_model/model_by_timestamp_xgboost_test.cbm')\n",
    "data = pd.DataFrame({'feature_importance':model.get_feature_importance(), \n",
    "              'feature_names': model.feature_names_}).sort_values(by=['feature_importance'], \n",
    "                                                       ascending=False)\n",
    "data.head(15)"
   ]
  },
  {
   "cell_type": "code",
   "execution_count": null,
   "id": "f7a2fe5b-51fc-430d-9dfa-585d23f994ba",
   "metadata": {},
   "outputs": [],
   "source": [
    "model = cb.CatBoostRegressor()\n",
    "model.load_model('data/trained_model/model_by_timestamp_xgboost_26_02_2025.cbm')\n",
    "data = pd.DataFrame({'feature_importance':model.get_feature_importance(), \n",
    "              'feature_names': model.feature_names_}).sort_values(by=['feature_importance'], \n",
    "                                                       ascending=False)\n",
    "data.head(15)"
   ]
  },
  {
   "cell_type": "code",
   "execution_count": null,
   "id": "d6e70a62-f656-402c-9ebd-e89a3cd9401d",
   "metadata": {
    "tags": []
   },
   "outputs": [],
   "source": [
    "model = cb.CatBoostRegressor()\n",
    "model.load_model('data/trained_model/model_by_timestamp.cbm')\n",
    "data = pd.DataFrame({'feature_importance':model.get_feature_importance(), \n",
    "              'feature_names': model.feature_names_}).sort_values(by=['feature_importance'], \n",
    "                                                       ascending=False)\n",
    "data.head(15)"
   ]
  },
  {
   "cell_type": "code",
   "execution_count": null,
   "id": "048588bb-83af-4d02-8c1d-e8ef1a58aaea",
   "metadata": {
    "tags": []
   },
   "outputs": [],
   "source": [
    "# df_pred_by_mean = pd.DataFrame(create_pred_timestamps(df_train['Timestamp'].loc[id]),columns=['Timestamp'])\n",
    "# df_pred_by_mean['Orbit Mean Density (kg/m^3)'] = model_mean.predict(create_features_and_target_by_dict(id,df_train,omni,sat).drop(['Timestamp', 'mean_Timestamp', 'last_Timestamp','Target']))"
   ]
  },
  {
   "cell_type": "code",
   "execution_count": null,
   "id": "3c65b97d-018c-4aee-8fc2-01c853fc3d29",
   "metadata": {},
   "outputs": [],
   "source": [
    "id = 10\n"
   ]
  },
  {
   "cell_type": "code",
   "execution_count": null,
   "id": "e9f06660-7f76-4ba0-99ef-c27aa56330b3",
   "metadata": {
    "tags": []
   },
   "outputs": [],
   "source": [
    "pred_feature = create_features_and_target(id,initial_states,omni,sat,predict_mean=False)\n",
    "df_pred = pd.DataFrame(model.predict(pred_feature.reset_index().drop(['Timestamp'],axis=1)),\n",
    "             index=pred_feature.index,columns=['Orbit Mean Density (kg/m^3)']).reset_index()"
   ]
  },
  {
   "cell_type": "code",
   "execution_count": null,
   "id": "bceec23c-8f68-4e7d-a758-d83a124d9ca1",
   "metadata": {},
   "outputs": [],
   "source": [
    "df_pred"
   ]
  },
  {
   "cell_type": "code",
   "execution_count": null,
   "id": "117efec7-b23b-40a7-8ac8-b0e2ea6b6044",
   "metadata": {
    "tags": []
   },
   "outputs": [],
   "source": [
    "df_pred_msis = pd.read_csv('data/data_isaac/sat_density_pred/density_pred'+str(id)+ '.csv',index_col=0)\n",
    "df_pred_msis['Timestamp'] = pd.to_datetime(df_pred_msis['Timestamp'])"
   ]
  },
  {
   "cell_type": "code",
   "execution_count": null,
   "id": "997c5892-8700-4c99-90c4-e3d7a08a1e93",
   "metadata": {
    "tags": []
   },
   "outputs": [],
   "source": [
    "df_pred_msis.shape"
   ]
  },
  {
   "cell_type": "code",
   "execution_count": null,
   "id": "ef5b8fdd-6900-4e72-ae80-f80e91ee15bf",
   "metadata": {
    "tags": []
   },
   "outputs": [],
   "source": [
    "df_true = sat[id]"
   ]
  },
  {
   "cell_type": "code",
   "execution_count": null,
   "id": "d7d3d469-a970-410e-9783-0547c03d1078",
   "metadata": {
    "tags": []
   },
   "outputs": [],
   "source": [
    "plt.figure()\n",
    "df_true.set_index('Timestamp')['Orbit Mean Density (kg/m^3)'].plot()\n",
    "df_pred.set_index('Timestamp')['Orbit Mean Density (kg/m^3)'].plot()\n",
    "#df_pred_by_mean.set_index('Timestamp')['Orbit Mean Density (kg/m^3)'].plot()\n",
    "df_pred_msis.set_index('Timestamp')['Density (kg/m3)'].plot()"
   ]
  },
  {
   "cell_type": "code",
   "execution_count": null,
   "id": "e1d151c7-92fa-4e18-b6f6-94036efdc8f2",
   "metadata": {},
   "outputs": [],
   "source": [
    "df_true"
   ]
  },
  {
   "cell_type": "code",
   "execution_count": null,
   "id": "c64ca2f0-da36-4514-b621-b93f29b02ea3",
   "metadata": {},
   "outputs": [],
   "source": [
    "df_true['Orbit Mean Density (kg/m^3)'].plot()"
   ]
  },
  {
   "cell_type": "code",
   "execution_count": null,
   "id": "6430bd4e-a359-4a67-918b-747ae402b1df",
   "metadata": {},
   "outputs": [],
   "source": [
    "df_pred"
   ]
  },
  {
   "cell_type": "code",
   "execution_count": null,
   "id": "dc266715-07de-4b90-8104-a3c48f4d9ea8",
   "metadata": {
    "tags": []
   },
   "outputs": [],
   "source": [
    "df_pred_msis.set_index('Timestamp')['Density (kg/m3)'].plot()"
   ]
  },
  {
   "cell_type": "markdown",
   "id": "f89bbd2e-3912-47db-aa08-b1f7ef1e632b",
   "metadata": {
    "jp-MarkdownHeadingCollapsed": true,
    "tags": []
   },
   "source": [
    "\n",
    "###  Model by MSIS"
   ]
  },
  {
   "cell_type": "code",
   "execution_count": null,
   "id": "b3a535d4-a061-40c8-aea0-9c2e85dd2d99",
   "metadata": {
    "tags": []
   },
   "outputs": [],
   "source": [
    "from atm_me import PersistenceMSIS, MSISPersistenceAtmosphere, PersistenceModel"
   ]
  },
  {
   "cell_type": "code",
   "execution_count": null,
   "id": "75f7bbff-c5c8-467d-b4d5-52825efbf250",
   "metadata": {
    "tags": []
   },
   "outputs": [],
   "source": [
    "bad_id = []"
   ]
  },
  {
   "cell_type": "code",
   "execution_count": null,
   "id": "d1c389e0-700d-4fcf-aa7f-51a8d7e2f38b",
   "metadata": {
    "scrolled": true,
    "tags": []
   },
   "outputs": [],
   "source": [
    "model = PersistenceModel(plot_trajectory=False)\n",
    "for id in df_train.index:\n",
    "    if os.path.exists('data_isaac/sat_density_pred_no_drag/density_pred'+ str(id) + '.csv'):\n",
    "        continue\n",
    "    else:\n",
    "        bad_id.append(id)\n",
    "        continue\n",
    "    omni_data = omni[id].loc[:,['Timestamp', 'f10.7_index', 'ap_index_nT']]\n",
    "    omni_data['Timestamp'] = pd.to_datetime(omni_data['Timestamp'])\n",
    "    omni_data = omni_data.ffill()\n",
    "    try:\n",
    "        states, densities = model(omni_data,df_train.loc[id].to_dict())\n",
    "        predictions = model._convert_to_df(states, densities)\n",
    "        predictions.to_csv('data_isaac/sat_density_pred_no_drag/density_pred'+ str(id) + '.csv')\n",
    "    except:\n",
    "        print(id)"
   ]
  },
  {
   "cell_type": "code",
   "execution_count": null,
   "id": "83e37dd5-247f-4308-833e-a3144399bbd0",
   "metadata": {
    "tags": []
   },
   "outputs": [],
   "source": [
    "from poliastro.core.elements import coe2rv"
   ]
  },
  {
   "cell_type": "code",
   "execution_count": null,
   "id": "40de9194-baef-4df8-941d-3fa31c35d779",
   "metadata": {
    "tags": []
   },
   "outputs": [],
   "source": [
    "from poliastro.constants.general import GM_earth"
   ]
  },
  {
   "cell_type": "code",
   "execution_count": null,
   "id": "2d081cf2-8181-4543-be48-6d140149c7b5",
   "metadata": {
    "tags": []
   },
   "outputs": [],
   "source": [
    "coe2rv(GM_earth,6826.387247,0.003882,87.275306,144.135111,257.314389,102.383270)"
   ]
  },
  {
   "cell_type": "code",
   "execution_count": null,
   "id": "217bba2c-ac22-4466-a696-d6dfc0aade4c",
   "metadata": {
    "tags": []
   },
   "outputs": [],
   "source": [
    "coe2rv(GM_earth,6824.556715,0.004397,87.269194,127.738000,86.817000,273.818611)"
   ]
  },
  {
   "cell_type": "code",
   "execution_count": null,
   "id": "4303b567-473e-4f82-ab15-f925853c00ba",
   "metadata": {
    "tags": []
   },
   "outputs": [],
   "source": [
    "df_train.loc[df_train['Latitude (deg)']<100]"
   ]
  },
  {
   "cell_type": "code",
   "execution_count": null,
   "id": "c0963300-c82a-4e6e-ae25-4c6a69ab4a2b",
   "metadata": {
    "tags": []
   },
   "outputs": [],
   "source": [
    "df_train.loc[bad_id]"
   ]
  },
  {
   "cell_type": "code",
   "execution_count": null,
   "id": "b1fa5ae8-60f6-4be1-9b96-b0e95cf5e9eb",
   "metadata": {
    "tags": []
   },
   "outputs": [],
   "source": [
    "df_train.loc[df_train.index.isin(bad_id)==False]"
   ]
  },
  {
   "cell_type": "code",
   "execution_count": null,
   "id": "33f717df-ddfd-40f5-9d16-fa5ff2353d01",
   "metadata": {
    "tags": []
   },
   "outputs": [],
   "source": [
    "len(bad_id)\n"
   ]
  },
  {
   "cell_type": "code",
   "execution_count": null,
   "id": "ff0c33e7-cb73-4621-b7e1-337c50f2009b",
   "metadata": {
    "tags": []
   },
   "outputs": [],
   "source": [
    "from evaluation_me import DensityModelEvaluator\n",
    "\n"
   ]
  }
 ],
 "metadata": {
  "kernelspec": {
   "display_name": "small_env_2",
   "language": "python",
   "name": "small_env_2"
  },
  "language_info": {
   "codemirror_mode": {
    "name": "ipython",
    "version": 3
   },
   "file_extension": ".py",
   "mimetype": "text/x-python",
   "name": "python",
   "nbconvert_exporter": "python",
   "pygments_lexer": "ipython3",
   "version": "3.10.16"
  }
 },
 "nbformat": 4,
 "nbformat_minor": 5
}
