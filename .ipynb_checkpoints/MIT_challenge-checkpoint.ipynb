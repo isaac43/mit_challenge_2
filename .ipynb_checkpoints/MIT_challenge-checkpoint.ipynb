{
 "cells": [
  {
   "cell_type": "code",
   "execution_count": 2,
   "id": "c2528786-0bc7-41ac-bbe5-f539fb641d74",
   "metadata": {
    "tags": []
   },
   "outputs": [],
   "source": [
    "import pandas as pd\n",
    "from datetime import datetime, timedelta"
   ]
  },
  {
   "cell_type": "code",
   "execution_count": 11,
   "id": "ade28363-55c9-45c8-8a53-4d8ab043341d",
   "metadata": {
    "tags": []
   },
   "outputs": [],
   "source": [
    "data_sat = pd.read_csv('C:/Users/isaac/Documents/Challenge_MIT_2/mit_challenge_2/phase_1/04265_to_05570-initial_states.csv')"
   ]
  },
  {
   "cell_type": "code",
   "execution_count": 14,
   "id": "4fa2440b-9fd4-47ff-a50c-adb9607016fc",
   "metadata": {
    "tags": []
   },
   "outputs": [],
   "source": [
    "data_pred = pd.read_csv('C:/Users/isaac/Documents/Challenge_MIT_2/mit_challenge_2/phase_1/sat_density/gr-of1-04265-20180601_to_20180604.csv')"
   ]
  },
  {
   "cell_type": "code",
   "execution_count": 15,
   "id": "0edc07fc-9320-4968-bf31-4d2f34f11ff2",
   "metadata": {
    "tags": []
   },
   "outputs": [
    {
     "data": {
      "text/html": [
       "<div>\n",
       "<style scoped>\n",
       "    .dataframe tbody tr th:only-of-type {\n",
       "        vertical-align: middle;\n",
       "    }\n",
       "\n",
       "    .dataframe tbody tr th {\n",
       "        vertical-align: top;\n",
       "    }\n",
       "\n",
       "    .dataframe thead th {\n",
       "        text-align: right;\n",
       "    }\n",
       "</style>\n",
       "<table border=\"1\" class=\"dataframe\">\n",
       "  <thead>\n",
       "    <tr style=\"text-align: right;\">\n",
       "      <th></th>\n",
       "      <th>Timestamp</th>\n",
       "      <th>Orbit Mean Density (kg/m^3)</th>\n",
       "    </tr>\n",
       "  </thead>\n",
       "  <tbody>\n",
       "    <tr>\n",
       "      <th>0</th>\n",
       "      <td>2018-06-01 09:44:50</td>\n",
       "      <td>8.599513e-14</td>\n",
       "    </tr>\n",
       "    <tr>\n",
       "      <th>1</th>\n",
       "      <td>2018-06-01 09:54:50</td>\n",
       "      <td>8.743586e-14</td>\n",
       "    </tr>\n",
       "    <tr>\n",
       "      <th>2</th>\n",
       "      <td>2018-06-01 10:04:50</td>\n",
       "      <td>8.813977e-14</td>\n",
       "    </tr>\n",
       "    <tr>\n",
       "      <th>3</th>\n",
       "      <td>2018-06-01 10:14:50</td>\n",
       "      <td>8.721666e-14</td>\n",
       "    </tr>\n",
       "    <tr>\n",
       "      <th>4</th>\n",
       "      <td>2018-06-01 10:24:50</td>\n",
       "      <td>8.591679e-14</td>\n",
       "    </tr>\n",
       "    <tr>\n",
       "      <th>...</th>\n",
       "      <td>...</td>\n",
       "      <td>...</td>\n",
       "    </tr>\n",
       "    <tr>\n",
       "      <th>427</th>\n",
       "      <td>2018-06-04 08:54:50</td>\n",
       "      <td>5.234490e-14</td>\n",
       "    </tr>\n",
       "    <tr>\n",
       "      <th>428</th>\n",
       "      <td>2018-06-04 09:04:50</td>\n",
       "      <td>5.238471e-14</td>\n",
       "    </tr>\n",
       "    <tr>\n",
       "      <th>429</th>\n",
       "      <td>2018-06-04 09:14:50</td>\n",
       "      <td>5.201108e-14</td>\n",
       "    </tr>\n",
       "    <tr>\n",
       "      <th>430</th>\n",
       "      <td>2018-06-04 09:24:50</td>\n",
       "      <td>5.110281e-14</td>\n",
       "    </tr>\n",
       "    <tr>\n",
       "      <th>431</th>\n",
       "      <td>2018-06-04 09:34:50</td>\n",
       "      <td>5.022855e-14</td>\n",
       "    </tr>\n",
       "  </tbody>\n",
       "</table>\n",
       "<p>432 rows × 2 columns</p>\n",
       "</div>"
      ],
      "text/plain": [
       "               Timestamp  Orbit Mean Density (kg/m^3)\n",
       "0    2018-06-01 09:44:50                 8.599513e-14\n",
       "1    2018-06-01 09:54:50                 8.743586e-14\n",
       "2    2018-06-01 10:04:50                 8.813977e-14\n",
       "3    2018-06-01 10:14:50                 8.721666e-14\n",
       "4    2018-06-01 10:24:50                 8.591679e-14\n",
       "..                   ...                          ...\n",
       "427  2018-06-04 08:54:50                 5.234490e-14\n",
       "428  2018-06-04 09:04:50                 5.238471e-14\n",
       "429  2018-06-04 09:14:50                 5.201108e-14\n",
       "430  2018-06-04 09:24:50                 5.110281e-14\n",
       "431  2018-06-04 09:34:50                 5.022855e-14\n",
       "\n",
       "[432 rows x 2 columns]"
      ]
     },
     "execution_count": 15,
     "metadata": {},
     "output_type": "execute_result"
    }
   ],
   "source": [
    "data_pred"
   ]
  },
  {
   "cell_type": "code",
   "execution_count": 12,
   "id": "75834807-a95f-4758-b5a7-6f8822df406f",
   "metadata": {
    "tags": []
   },
   "outputs": [
    {
     "data": {
      "text/plain": [
       "File ID                                     4265\n",
       "Timestamp                    2018-06-01 09:44:41\n",
       "Semi-major Axis (km)                 6872.709635\n",
       "Eccentricity                            0.001496\n",
       "Inclination (deg)                      88.994611\n",
       "RAAN (deg)                               237.961\n",
       "Argument of Perigee (deg)             242.048806\n",
       "True Anomaly (deg)                    117.927141\n",
       "Latitude (deg)                         81.220743\n",
       "Longitude (deg)                      -151.683059\n",
       "Altitude (km)                      517641.655466\n",
       "Name: 0, dtype: object"
      ]
     },
     "execution_count": 12,
     "metadata": {},
     "output_type": "execute_result"
    }
   ],
   "source": [
    "data_sat.iloc[0]"
   ]
  },
  {
   "cell_type": "code",
   "execution_count": 8,
   "id": "f55b3e75-8ccd-4dda-b8b0-b7ce0478f3c8",
   "metadata": {
    "tags": []
   },
   "outputs": [],
   "source": [
    "data_omni = pd.read_csv('C:/Users/isaac/Documents/Challenge_MIT_2/mit_challenge_2/phase_1/omni2/omni2-04265-20180402_to_20180601.csv')"
   ]
  },
  {
   "cell_type": "code",
   "execution_count": 10,
   "id": "a75096d3-c05a-4435-a9e1-18f4508d9347",
   "metadata": {
    "tags": []
   },
   "outputs": [
    {
     "data": {
      "text/plain": [
       "0      2018-04-02 10:00:00\n",
       "1      2018-04-02 11:00:00\n",
       "2      2018-04-02 12:00:00\n",
       "3      2018-04-02 13:00:00\n",
       "4      2018-04-02 14:00:00\n",
       "               ...        \n",
       "1435   2018-06-01 05:00:00\n",
       "1436   2018-06-01 06:00:00\n",
       "1437   2018-06-01 07:00:00\n",
       "1438   2018-06-01 08:00:00\n",
       "1439   2018-06-01 09:00:00\n",
       "Name: Timestamp, Length: 1440, dtype: datetime64[ns]"
      ]
     },
     "execution_count": 10,
     "metadata": {},
     "output_type": "execute_result"
    }
   ],
   "source": [
    "pd.to_datetime(data_omni['Timestamp'])"
   ]
  },
  {
   "cell_type": "code",
   "execution_count": 2,
   "id": "0adeab60-845c-4e58-a2b2-26623fff8944",
   "metadata": {
    "tags": []
   },
   "outputs": [],
   "source": [
    "df_space_weather = pd.read_csv('STORM-AI/warmup/OMNI2-112613-012420.csv')\n",
    "df_orbit_average = pd.read_csv('STORM-AI/warmup/SWARMA_DNS_POD_012414-012720.csv')\n",
    "df_orbit_elements = pd.read_csv('STORM-AI/warmup/SWARMA_POD_RD_01282014-01272020.csv')\n",
    "df_xray_2013 = pd.read_csv('STORM-AI/warmup/GOES-East_G13_112613-121417.csv')\n",
    "df_xray_2017 = pd.read_csv('STORM-AI/warmup/GOES-East_G13_121417-012420.csv')"
   ]
  },
  {
   "cell_type": "code",
   "execution_count": 7,
   "id": "d1dd4415-03b5-4082-889a-b67de72f6dd4",
   "metadata": {
    "tags": []
   },
   "outputs": [],
   "source": [
    "df_space_weather['Date'] = df_space_weather.apply(lambda win:datetime(win['YEAR'], 1, 1,hour=win['Hour']) +timedelta(win['DOY'] - 1),axis=1)\n",
    "df_orbit_average['Date'] = pd.to_datetime(df_orbit_average['time'])\n",
    "df_orbit_elements['Date'] = pd.to_datetime(df_orbit_elements['Timestamp'])\n",
    "df_xray_2013['Date'] = pd.to_datetime(df_xray_2013.time)\n",
    "df_xray_2017['Date'] = pd.to_datetime(df_xray_2017.time)"
   ]
  },
  {
   "cell_type": "code",
   "execution_count": 8,
   "id": "11e0d6a2-6161-4fc0-882a-1e38a79cd459",
   "metadata": {
    "tags": []
   },
   "outputs": [
    {
     "data": {
      "text/html": [
       "<div>\n",
       "<style scoped>\n",
       "    .dataframe tbody tr th:only-of-type {\n",
       "        vertical-align: middle;\n",
       "    }\n",
       "\n",
       "    .dataframe tbody tr th {\n",
       "        vertical-align: top;\n",
       "    }\n",
       "\n",
       "    .dataframe thead th {\n",
       "        text-align: right;\n",
       "    }\n",
       "</style>\n",
       "<table border=\"1\" class=\"dataframe\">\n",
       "  <thead>\n",
       "    <tr style=\"text-align: right;\">\n",
       "      <th></th>\n",
       "      <th>time</th>\n",
       "      <th>density</th>\n",
       "      <th>density_orbitmean</th>\n",
       "      <th>validity_flag</th>\n",
       "      <th>altitude</th>\n",
       "      <th>latitude</th>\n",
       "      <th>longitude</th>\n",
       "      <th>local_solar_time</th>\n",
       "      <th>Date</th>\n",
       "    </tr>\n",
       "  </thead>\n",
       "  <tbody>\n",
       "    <tr>\n",
       "      <th>0</th>\n",
       "      <td>2014-01-24 00:00:00</td>\n",
       "      <td>5.118982e-13</td>\n",
       "      <td>4.271930e-13</td>\n",
       "      <td>0.0</td>\n",
       "      <td>521141.731114</td>\n",
       "      <td>-78.874658</td>\n",
       "      <td>-31.846462</td>\n",
       "      <td>21.677571</td>\n",
       "      <td>2014-01-24 00:00:00</td>\n",
       "    </tr>\n",
       "    <tr>\n",
       "      <th>1</th>\n",
       "      <td>2014-01-24 00:05:00</td>\n",
       "      <td>5.042574e-13</td>\n",
       "      <td>4.294585e-13</td>\n",
       "      <td>0.0</td>\n",
       "      <td>522361.802859</td>\n",
       "      <td>-81.620056</td>\n",
       "      <td>117.581428</td>\n",
       "      <td>7.722750</td>\n",
       "      <td>2014-01-24 00:05:00</td>\n",
       "    </tr>\n",
       "    <tr>\n",
       "      <th>2</th>\n",
       "      <td>2014-01-24 00:10:00</td>\n",
       "      <td>5.130820e-13</td>\n",
       "      <td>4.310895e-13</td>\n",
       "      <td>0.0</td>\n",
       "      <td>519074.216847</td>\n",
       "      <td>-62.982333</td>\n",
       "      <td>128.342488</td>\n",
       "      <td>8.523473</td>\n",
       "      <td>2014-01-24 00:10:00</td>\n",
       "    </tr>\n",
       "    <tr>\n",
       "      <th>3</th>\n",
       "      <td>2014-01-24 00:15:00</td>\n",
       "      <td>5.022588e-13</td>\n",
       "      <td>4.317137e-13</td>\n",
       "      <td>0.0</td>\n",
       "      <td>512687.727883</td>\n",
       "      <td>-44.073522</td>\n",
       "      <td>129.516069</td>\n",
       "      <td>8.685031</td>\n",
       "      <td>2014-01-24 00:15:00</td>\n",
       "    </tr>\n",
       "    <tr>\n",
       "      <th>4</th>\n",
       "      <td>2014-01-24 00:20:00</td>\n",
       "      <td>4.836708e-13</td>\n",
       "      <td>4.311947e-13</td>\n",
       "      <td>0.0</td>\n",
       "      <td>505665.493012</td>\n",
       "      <td>-25.054566</td>\n",
       "      <td>129.484082</td>\n",
       "      <td>8.766217</td>\n",
       "      <td>2014-01-24 00:20:00</td>\n",
       "    </tr>\n",
       "    <tr>\n",
       "      <th>...</th>\n",
       "      <td>...</td>\n",
       "      <td>...</td>\n",
       "      <td>...</td>\n",
       "      <td>...</td>\n",
       "      <td>...</td>\n",
       "      <td>...</td>\n",
       "      <td>...</td>\n",
       "      <td>...</td>\n",
       "      <td>...</td>\n",
       "    </tr>\n",
       "    <tr>\n",
       "      <th>624379</th>\n",
       "      <td>2019-12-31 23:35:00</td>\n",
       "      <td>7.563432e-14</td>\n",
       "      <td>1.428150e-13</td>\n",
       "      <td>0.0</td>\n",
       "      <td>441743.453992</td>\n",
       "      <td>-19.705142</td>\n",
       "      <td>97.129258</td>\n",
       "      <td>6.006874</td>\n",
       "      <td>2019-12-31 23:35:00</td>\n",
       "    </tr>\n",
       "    <tr>\n",
       "      <th>624380</th>\n",
       "      <td>2019-12-31 23:40:00</td>\n",
       "      <td>7.098832e-14</td>\n",
       "      <td>1.409124e-13</td>\n",
       "      <td>0.0</td>\n",
       "      <td>436636.178074</td>\n",
       "      <td>-0.328645</td>\n",
       "      <td>96.799569</td>\n",
       "      <td>6.068200</td>\n",
       "      <td>2019-12-31 23:40:00</td>\n",
       "    </tr>\n",
       "    <tr>\n",
       "      <th>624381</th>\n",
       "      <td>2019-12-31 23:45:00</td>\n",
       "      <td>9.167353e-14</td>\n",
       "      <td>1.397373e-13</td>\n",
       "      <td>0.0</td>\n",
       "      <td>435526.090679</td>\n",
       "      <td>19.066456</td>\n",
       "      <td>96.467309</td>\n",
       "      <td>6.129355</td>\n",
       "      <td>2019-12-31 23:45:00</td>\n",
       "    </tr>\n",
       "    <tr>\n",
       "      <th>624382</th>\n",
       "      <td>2019-12-31 23:50:00</td>\n",
       "      <td>1.247725e-13</td>\n",
       "      <td>1.397193e-13</td>\n",
       "      <td>0.0</td>\n",
       "      <td>437917.224852</td>\n",
       "      <td>38.421454</td>\n",
       "      <td>96.388178</td>\n",
       "      <td>6.207385</td>\n",
       "      <td>2019-12-31 23:50:00</td>\n",
       "    </tr>\n",
       "    <tr>\n",
       "      <th>624383</th>\n",
       "      <td>2019-12-31 23:55:00</td>\n",
       "      <td>1.515869e-13</td>\n",
       "      <td>1.410144e-13</td>\n",
       "      <td>0.0</td>\n",
       "      <td>441890.532326</td>\n",
       "      <td>57.689547</td>\n",
       "      <td>97.205731</td>\n",
       "      <td>6.345195</td>\n",
       "      <td>2019-12-31 23:55:00</td>\n",
       "    </tr>\n",
       "  </tbody>\n",
       "</table>\n",
       "<p>624384 rows × 9 columns</p>\n",
       "</div>"
      ],
      "text/plain": [
       "                       time       density  density_orbitmean  validity_flag  \\\n",
       "0       2014-01-24 00:00:00  5.118982e-13       4.271930e-13            0.0   \n",
       "1       2014-01-24 00:05:00  5.042574e-13       4.294585e-13            0.0   \n",
       "2       2014-01-24 00:10:00  5.130820e-13       4.310895e-13            0.0   \n",
       "3       2014-01-24 00:15:00  5.022588e-13       4.317137e-13            0.0   \n",
       "4       2014-01-24 00:20:00  4.836708e-13       4.311947e-13            0.0   \n",
       "...                     ...           ...                ...            ...   \n",
       "624379  2019-12-31 23:35:00  7.563432e-14       1.428150e-13            0.0   \n",
       "624380  2019-12-31 23:40:00  7.098832e-14       1.409124e-13            0.0   \n",
       "624381  2019-12-31 23:45:00  9.167353e-14       1.397373e-13            0.0   \n",
       "624382  2019-12-31 23:50:00  1.247725e-13       1.397193e-13            0.0   \n",
       "624383  2019-12-31 23:55:00  1.515869e-13       1.410144e-13            0.0   \n",
       "\n",
       "             altitude   latitude   longitude  local_solar_time  \\\n",
       "0       521141.731114 -78.874658  -31.846462         21.677571   \n",
       "1       522361.802859 -81.620056  117.581428          7.722750   \n",
       "2       519074.216847 -62.982333  128.342488          8.523473   \n",
       "3       512687.727883 -44.073522  129.516069          8.685031   \n",
       "4       505665.493012 -25.054566  129.484082          8.766217   \n",
       "...               ...        ...         ...               ...   \n",
       "624379  441743.453992 -19.705142   97.129258          6.006874   \n",
       "624380  436636.178074  -0.328645   96.799569          6.068200   \n",
       "624381  435526.090679  19.066456   96.467309          6.129355   \n",
       "624382  437917.224852  38.421454   96.388178          6.207385   \n",
       "624383  441890.532326  57.689547   97.205731          6.345195   \n",
       "\n",
       "                      Date  \n",
       "0      2014-01-24 00:00:00  \n",
       "1      2014-01-24 00:05:00  \n",
       "2      2014-01-24 00:10:00  \n",
       "3      2014-01-24 00:15:00  \n",
       "4      2014-01-24 00:20:00  \n",
       "...                    ...  \n",
       "624379 2019-12-31 23:35:00  \n",
       "624380 2019-12-31 23:40:00  \n",
       "624381 2019-12-31 23:45:00  \n",
       "624382 2019-12-31 23:50:00  \n",
       "624383 2019-12-31 23:55:00  \n",
       "\n",
       "[624384 rows x 9 columns]"
      ]
     },
     "execution_count": 8,
     "metadata": {},
     "output_type": "execute_result"
    }
   ],
   "source": [
    "df_orbit_average"
   ]
  },
  {
   "cell_type": "code",
   "execution_count": 10,
   "id": "9e76c045-88e7-4fbd-bd19-c7a81b37cd5e",
   "metadata": {
    "tags": []
   },
   "outputs": [],
   "source": []
  },
  {
   "cell_type": "code",
   "execution_count": 19,
   "id": "0b840f07-e0df-469f-9a33-850536a32552",
   "metadata": {
    "tags": []
   },
   "outputs": [
    {
     "data": {
      "text/plain": [
       "<Axes: xlabel='Date'>"
      ]
     },
     "execution_count": 19,
     "metadata": {},
     "output_type": "execute_result"
    },
    {
     "data": {
      "image/png": "[encoded data removed]",
      "text/plain": [
       "<Figure size 640x480 with 1 Axes>"
      ]
     },
     "metadata": {},
     "output_type": "display_data"
    }
   ],
   "source": [
    "df_space_weather.set_index('Date').RMS_field_vector_nT.plot()"
   ]
  },
  {
   "cell_type": "code",
   "execution_count": 16,
   "id": "ae9461ca-d37a-4b0b-ac82-a511033ab6c6",
   "metadata": {
    "tags": []
   },
   "outputs": [
    {
     "data": {
      "text/plain": [
       "Index(['YEAR', 'DOY', 'Hour', 'Bartels_rotation_number',\n",
       "       'ID_for_IMF_spacecraft', 'ID_for_SW_Plasma_spacecraft',\n",
       "       'num_points_IMF_averages', 'num_points_Plasma_averages', 'Scalar_B_nT',\n",
       "       'Vector_B_Magnitude_nT', 'Lat_Angle_of_B_GSE', 'Long_Angle_of_B_GSE',\n",
       "       'BX_nT_GSE_GSM', 'BY_nT_GSE', 'BZ_nT_GSE', 'BY_nT_GSM', 'BZ_nT_GSM',\n",
       "       'RMS_magnitude_nT', 'RMS_field_vector_nT', 'RMS_BX_GSE_nT',\n",
       "       'RMS_BY_GSE_nT', 'RMS_BZ_GSE_nT', 'SW_Plasma_Temperature_K',\n",
       "       'SW_Proton_Density_N_cm3', 'SW_Plasma_Speed_km_s',\n",
       "       'SW_Plasma_flow_long_angle', 'SW_Plasma_flow_lat_angle',\n",
       "       'Alpha_Prot_ratio', 'sigma_T_K', 'sigma_n_N_cm3', 'sigma_V_km_s',\n",
       "       'sigma_phi_V_degrees', 'sigma_theta_V_degrees', 'sigma_ratio',\n",
       "       'Flow_pressure', 'E_electric_field', 'Plasma_Beta', 'Alfen_mach_number',\n",
       "       'Magnetosonic_Mach_number', 'Quasy_Invariant', 'Kp_index',\n",
       "       'R_Sunspot_No', 'Dst_index_nT', 'ap_index_nT', 'f10.7_index',\n",
       "       'AE_index_nT', 'AL_index_nT', 'AU_index_nT', 'pc_index', 'Lyman_alpha',\n",
       "       'Proton_flux_>1_Mev', 'Proton_flux_>2_Mev', 'Proton_flux_>4_Mev',\n",
       "       'Proton_flux_>10_Mev', 'Proton_flux_>30_Mev', 'Proton_flux_>60_Mev',\n",
       "       'Flux_FLAG', 'Date'],\n",
       "      dtype='object')"
      ]
     },
     "execution_count": 16,
     "metadata": {},
     "output_type": "execute_result"
    }
   ],
   "source": [
    "df_space_weather.columns"
   ]
  }
 ],
 "metadata": {
  "kernelspec": {
   "display_name": "Python 3 (ipykernel)",
   "language": "python",
   "name": "python3"
  },
  "language_info": {
   "codemirror_mode": {
    "name": "ipython",
    "version": 3
   },
   "file_extension": ".py",
   "mimetype": "text/x-python",
   "name": "python",
   "nbconvert_exporter": "python",
   "pygments_lexer": "ipython3",
   "version": "3.10.10"
  }
 },
 "nbformat": 4,
 "nbformat_minor": 5
}
