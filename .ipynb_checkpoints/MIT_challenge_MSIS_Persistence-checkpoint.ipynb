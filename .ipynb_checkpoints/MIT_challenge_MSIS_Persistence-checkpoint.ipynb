{
 "cells": [
  {
   "cell_type": "code",
   "execution_count": 1,
   "id": "c2528786-0bc7-41ac-bbe5-f539fb641d74",
   "metadata": {
    "tags": []
   },
   "outputs": [
    {
     "name": "stderr",
     "output_type": "stream",
     "text": [
      "C:\\Users\\isaac\\miniconda3\\envs\\orekit_venv_v12\\lib\\site-packages\\scipy\\__init__.py:146: UserWarning: A NumPy version >=1.16.5 and <1.23.0 is required for this version of SciPy (detected version 1.24.3\n",
      "  warnings.warn(f\"A NumPy version >={np_minversion} and <{np_maxversion}\"\n"
     ]
    }
   ],
   "source": [
    "import pandas as pd\n",
    "from datetime import datetime, timedelta\n",
    "import os\n",
    "from tqdm import tqdm\n",
    "import pickle\n",
    "tqdm.pandas()\n",
    "import warnings\n",
    "import catboost as cb\n",
    "from sklearn.metrics import mean_squared_error\n",
    "from sklearn.metrics import r2_score\n",
    "from utils import create_features_and_target\n",
    "from utils import create_features_for_prediction\n",
    "warnings.filterwarnings(\"ignore\")"
   ]
  },
  {
   "cell_type": "markdown",
   "id": "21424dc9-41a2-4aca-bf00-5259b20c39ec",
   "metadata": {
    "tags": []
   },
   "source": [
    "### Load Initial position and dict of Omni"
   ]
  },
  {
   "cell_type": "code",
   "execution_count": 2,
   "id": "ade28363-55c9-45c8-8a53-4d8ab043341d",
   "metadata": {
    "tags": []
   },
   "outputs": [],
   "source": [
    "initial_states = pd.read_csv('C:/Users/isaac/Documents/Challenge_MIT_2/mit_challenge_2/data/phase_1/00000_to_02284-initial_states.csv')\n",
    "initial_states = pd.concat([initial_states,pd.read_csv('C:/Users/isaac/Documents/Challenge_MIT_2/mit_challenge_2/data/phase_1/02285_to_02357-initial_states.csv')])\n",
    "initial_states = pd.concat([initial_states,pd.read_csv('C:/Users/isaac/Documents/Challenge_MIT_2/mit_challenge_2/data/phase_1/02358_to_04264-initial_states.csv')])\n",
    "initial_states = pd.concat([initial_states,pd.read_csv('C:/Users/isaac/Documents/Challenge_MIT_2/mit_challenge_2/data/phase_1/04265_to_05570-initial_states.csv')])\n",
    "initial_states = pd.concat([initial_states,pd.read_csv('C:/Users/isaac/Documents/Challenge_MIT_2/mit_challenge_2/data/phase_1/05571_to_05614-initial_states.csv')])\n",
    "initial_states = pd.concat([initial_states,pd.read_csv('C:/Users/isaac/Documents/Challenge_MIT_2/mit_challenge_2/data/phase_1/05615_to_06671-initial_states.csv')])\n",
    "#initial_states = pd.concat([initial_states,pd.read_csv('C:/Users/isaac/Documents/Challenge_MIT_2/mit_challenge_2/data/phase_1/06672_to_08118-initial_states.csv')])\n",
    "\n",
    "initial_states['Timestamp'] = pd.to_datetime(initial_states['Timestamp'])\n",
    "initial_states = initial_states.set_index('File ID')"
   ]
  },
  {
   "cell_type": "code",
   "execution_count": 3,
   "id": "d239e403-86fd-4ed4-8bf9-3f65f3fa71f0",
   "metadata": {},
   "outputs": [
    {
     "data": {
      "text/plain": [
       "(6672, 10)"
      ]
     },
     "execution_count": 3,
     "metadata": {},
     "output_type": "execute_result"
    }
   ],
   "source": [
    "initial_states.shape"
   ]
  },
  {
   "cell_type": "code",
   "execution_count": 4,
   "id": "1c5bf58b-f76a-4fcc-a7d8-ae7fa196fad5",
   "metadata": {
    "tags": []
   },
   "outputs": [],
   "source": [
    "with open('data/data_isaac/omni.pickle', 'rb') as f:\n",
    "    omni = pickle.load(f)\n",
    "with open('data/data_isaac/sat.pickle', 'rb') as f:\n",
    "    sat = pickle.load(f)"
   ]
  },
  {
   "cell_type": "code",
   "execution_count": 5,
   "id": "72e1ae2f-a26f-47ee-9bff-18f09266f7d2",
   "metadata": {
    "tags": []
   },
   "outputs": [],
   "source": [
    "# all_files_omni = os.listdir(\"phase_1/omni2/\")\n",
    "# all_files_dens = os.listdir(\"phase_1/sat_density/\")\n",
    "# omni = {}\n",
    "# for i in tqdm(all_files_omni):\n",
    "#     omni[int(i.split('-')[1])] = pd.read_csv('phase_1/omni2/'+i)\n",
    "# sat = {}\n",
    "# for i in tqdm(all_files_dens):\n",
    "#     sat[int(i.replace('gr-of','grof').split('-')[1])] = pd.read_csv('phase_1/sat_density/'+i)\n",
    "# with open('omni.pickle', 'wb') as handle:\n",
    "#     pickle.dump(omni, handle, protocol=pickle.HIGHEST_PROTOCOL)\n",
    "# with open('sat.pickle', 'wb') as handle:\n",
    "#     pickle.dump(sat, handle, protocol=pickle.HIGHEST_PROTOCOL)"
   ]
  },
  {
   "cell_type": "code",
   "execution_count": 5,
   "id": "9b7c3628-613b-40ad-8a2a-88b6b53c1f0b",
   "metadata": {
    "tags": []
   },
   "outputs": [
    {
     "name": "stderr",
     "output_type": "stream",
     "text": [
      "100%|█████████████████████████████████████████████████████████████████████████████| 6672/6672 [00:44<00:00, 151.26it/s]\n"
     ]
    }
   ],
   "source": [
    "all_features = []\n",
    "all_target = []\n",
    "for i in tqdm(range(6672)):\n",
    "    data_omni = omni[i]\n",
    "    data_omni['Timestamp'] = pd.to_datetime(data_omni['Timestamp'],format='%Y-%m-%d %H:%M:%S')\n",
    "    data_omni = data_omni.ffill()\n",
    "    data_sat = sat[i]\n",
    "    data_sat['Timestamp'] = pd.to_datetime(data_sat['Timestamp'],format='%Y-%m-%d %H:%M:%S')\n",
    "    df_features = pd.merge_ordered(data_omni,initial_states.iloc[[i]],how='outer',on='Timestamp')\n",
    "    df_features = df_features.ffill().bfill()\n",
    "    all_features.append(df_features.drop(['Timestamp','YEAR', 'DOY', 'Hour'],axis=1).T.to_numpy())\n",
    "    all_target.append(np.pad(data_sat['Orbit Mean Density (kg/m^3)'].to_numpy(), [(0, 433 - len(data_sat['Orbit Mean Density (kg/m^3)'].to_numpy()))], mode='constant', constant_values=0))\n",
    "#df_features = pd.merge_ordered(df_features,data_omni,how='outer')              "
   ]
  },
  {
   "cell_type": "code",
   "execution_count": 6,
   "id": "65e03a6e-03d1-4b35-a397-4b36469d84f3",
   "metadata": {
    "scrolled": true
   },
   "outputs": [],
   "source": [
    "from tsai.basics import *\n",
    "X = np.stack(all_features, axis=0).swapaxes(1,2)\n",
    "y = np.stack(all_target, axis=0)\n",
    "y = (pd.DataFrame(y)>10).applymap(float).values\n",
    "#y = y[:, np.newaxis,:]"
   ]
  },
  {
   "cell_type": "code",
   "execution_count": 7,
   "id": "741e0f80-6851-4dbe-b5d2-3f2aeca87855",
   "metadata": {},
   "outputs": [],
   "source": [
    "X_torch = torch.from_numpy(X).to(torch.float)\n",
    "y_torch = torch.from_numpy(y).to(torch.float)"
   ]
  },
  {
   "cell_type": "code",
   "execution_count": 16,
   "id": "946e367a-a37c-4b21-8c4f-3728f57cf5e8",
   "metadata": {},
   "outputs": [
    {
     "data": {
      "text/plain": [
       "torch.Size([6672, 1441, 63])"
      ]
     },
     "execution_count": 16,
     "metadata": {},
     "output_type": "execute_result"
    }
   ],
   "source": [
    "X_torch.shape"
   ]
  },
  {
   "cell_type": "markdown",
   "id": "8407af57-85ca-4376-96fc-f805aab31ff3",
   "metadata": {
    "jp-MarkdownHeadingCollapsed": true
   },
   "source": [
    "### TSAI"
   ]
  },
  {
   "cell_type": "code",
   "execution_count": 10,
   "id": "c7740a4b-2a75-449b-8bf1-1166d70cd92c",
   "metadata": {},
   "outputs": [],
   "source": [
    "arch_config = dict(\n",
    "    n_layers=1,  # number of encoder layers\n",
    "    n_heads=2,  # number of heads\n",
    "    d_model=8,  # dimension of model\n",
    "    d_ff=16,  # dimension of fully connected network\n",
    "    attn_dropout=0.0, # dropout applied to the attention weights\n",
    "    dropout=0.3,  # dropout applied to all linear layers in the encoder except q,k&v projections\n",
    "    patch_len=10,  # length of the patch applied to the time series to create patches\n",
    "    stride=2,  # stride used when creating patches\n",
    "    padding_patch=True,  # padding_patch\n",
    ")"
   ]
  },
  {
   "cell_type": "code",
   "execution_count": 25,
   "id": "217cb7f6-b41a-4689-ae10-fca89a883156",
   "metadata": {},
   "outputs": [],
   "source": [
    "learn = TSForecaster(X[:,4:8,:1000],X[:,4:8,1000:1200], splits=splits, batch_size=2, path=\"models\",arch=\"PatchTST\", arch_config=arch_config, metrics=[mse, mae], cbs=ShowGraph())"
   ]
  },
  {
   "cell_type": "code",
   "execution_count": 44,
   "id": "d9e73597-3acb-43e6-8b78-0f13afeb2261",
   "metadata": {},
   "outputs": [],
   "source": [
    "model = nn.Sequential(\n",
    "    learn.model,\n",
    "    nn.Softmax(433)\n",
    ")\n"
   ]
  },
  {
   "cell_type": "markdown",
   "id": "0d129db1-caef-4272-8f7d-bba4fdd533c6",
   "metadata": {},
   "source": [
    "### Transformers"
   ]
  },
  {
   "cell_type": "code",
   "execution_count": 8,
   "id": "64a5b878-c076-4c2f-bfbe-12f5d2502ca7",
   "metadata": {},
   "outputs": [],
   "source": [
    "from transformers import PatchTSTConfig, PatchTSTForRegression,PatchTSTForPretraining\n",
    "import torch\n",
    "import visdom"
   ]
  },
  {
   "cell_type": "code",
   "execution_count": 32,
   "id": "6d4846bf-a3c1-4a25-97d6-3c0a81344b0f",
   "metadata": {},
   "outputs": [],
   "source": [
    "config = PatchTSTConfig(\n",
    "    num_input_channels=63,\n",
    "    context_length=1441,\n",
    "    num_targets=433,\n",
    "    patch_length=10,\n",
    "    patch_stride=50,\n",
    "    prediction_length=1,\n",
    "    num_hidden_layers=2,\n",
    "    num_attention_heads=2,\n",
    "    d_model=52,\n",
    "    ffn_dim = 120,\n",
    "    loss= \"mse\"\n",
    ")\n",
    "model = PatchTSTForRegression(config)\n"
   ]
  },
  {
   "cell_type": "code",
   "execution_count": 10,
   "id": "00dcd173-1ed8-4c03-969f-fe16f34e3c49",
   "metadata": {},
   "outputs": [],
   "source": [
    "from torch import nn"
   ]
  },
  {
   "cell_type": "code",
   "execution_count": 31,
   "id": "5e39b52b-3f18-4c51-9665-026ab1f6d3ac",
   "metadata": {},
   "outputs": [
    {
     "data": {
      "text/plain": [
       "PatchTSTForRegression(\n",
       "  (model): PatchTSTModel(\n",
       "    (scaler): PatchTSTScaler(\n",
       "      (scaler): PatchTSTStdScaler()\n",
       "    )\n",
       "    (patchifier): PatchTSTPatchify()\n",
       "    (masking): Identity()\n",
       "    (encoder): PatchTSTEncoder(\n",
       "      (embedder): PatchTSTEmbedding(\n",
       "        (input_embedding): Linear(in_features=10, out_features=52, bias=True)\n",
       "      )\n",
       "      (positional_encoder): PatchTSTPositionalEncoding(\n",
       "        (positional_dropout): Identity()\n",
       "      )\n",
       "      (layers): ModuleList(\n",
       "        (0-1): 2 x PatchTSTEncoderLayer(\n",
       "          (self_attn): PatchTSTAttention(\n",
       "            (k_proj): Linear(in_features=52, out_features=52, bias=True)\n",
       "            (v_proj): Linear(in_features=52, out_features=52, bias=True)\n",
       "            (q_proj): Linear(in_features=52, out_features=52, bias=True)\n",
       "            (out_proj): Linear(in_features=52, out_features=52, bias=True)\n",
       "          )\n",
       "          (dropout_path1): Identity()\n",
       "          (norm_sublayer1): PatchTSTBatchNorm(\n",
       "            (batchnorm): BatchNorm1d(52, eps=1e-05, momentum=0.1, affine=True, track_running_stats=True)\n",
       "          )\n",
       "          (ff): Sequential(\n",
       "            (0): Linear(in_features=52, out_features=12, bias=True)\n",
       "            (1): GELUActivation()\n",
       "            (2): Identity()\n",
       "            (3): Linear(in_features=12, out_features=52, bias=True)\n",
       "          )\n",
       "          (dropout_path3): Identity()\n",
       "          (norm_sublayer3): PatchTSTBatchNorm(\n",
       "            (batchnorm): BatchNorm1d(52, eps=1e-05, momentum=0.1, affine=True, track_running_stats=True)\n",
       "          )\n",
       "        )\n",
       "      )\n",
       "    )\n",
       "  )\n",
       "  (head): PatchTSTRegressionHead(\n",
       "    (flatten): Flatten(start_dim=1, end_dim=-1)\n",
       "    (dropout): Identity()\n",
       "    (projection): Linear(in_features=3276, out_features=433, bias=True)\n",
       "  )\n",
       ")"
      ]
     },
     "execution_count": 31,
     "metadata": {},
     "output_type": "execute_result"
    }
   ],
   "source": [
    "model"
   ]
  },
  {
   "cell_type": "code",
   "execution_count": 33,
   "id": "db9fa2f4-e24a-46d0-a8fd-cc28dd2ab2f0",
   "metadata": {},
   "outputs": [
    {
     "data": {
      "text/plain": [
       "1468789"
      ]
     },
     "execution_count": 33,
     "metadata": {},
     "output_type": "execute_result"
    }
   ],
   "source": [
    "model.num_parameters()"
   ]
  },
  {
   "cell_type": "code",
   "execution_count": 41,
   "id": "5200b2bf-3259-4f12-9d00-a420e28c3963",
   "metadata": {},
   "outputs": [],
   "source": [
    "from torch.utils.data import Dataset\n",
    "\n",
    "class CustomImageDataset(Dataset):\n",
    "    def __init__(self):\n",
    "        self.name = \"test\"\n",
    "\n",
    "    def __len__(self):\n",
    "        return 6672\n",
    "\n",
    "    def __getitem__(self, idx):\n",
    "         label = y_torch[idx,:]\n",
    "         image = X_torch[idx,:,:]\n",
    "         return image, label\n",
    "\n",
    "train_dataset = CustomImageDataset()\n",
    "train_dataloader = torch.utils.data.DataLoader(\n",
    "            train_dataset,\n",
    "            batch_size=64,\n",
    "            shuffle=True\n",
    ")"
   ]
  },
  {
   "cell_type": "code",
   "execution_count": 22,
   "id": "6f410bf3-ba88-4dba-a8d6-3338c8ee5d02",
   "metadata": {},
   "outputs": [
    {
     "data": {
      "text/plain": [
       "torch.Size([36, 433])"
      ]
     },
     "execution_count": 22,
     "metadata": {},
     "output_type": "execute_result"
    }
   ],
   "source": [
    "data[1].shape"
   ]
  },
  {
   "cell_type": "code",
   "execution_count": 23,
   "id": "fb727f2e-5c89-4ce3-810d-a3142427b5ca",
   "metadata": {},
   "outputs": [],
   "source": [
    "from tqdm import tqdm"
   ]
  },
  {
   "cell_type": "code",
   "execution_count": 39,
   "id": "fba2e4f8-0ac5-4b9e-959c-22ab85d486ca",
   "metadata": {},
   "outputs": [
    {
     "data": {
      "text/plain": [
       "105"
      ]
     },
     "execution_count": 39,
     "metadata": {},
     "output_type": "execute_result"
    }
   ],
   "source": [
    "len(train_dataloader)"
   ]
  },
  {
   "cell_type": "code",
   "execution_count": null,
   "id": "d33f4ae7-51dd-47e2-b496-04f93e2d93e8",
   "metadata": {
    "scrolled": true
   },
   "outputs": [
    {
     "name": "stderr",
     "output_type": "stream",
     "text": [
      "Setting up a new session...\n",
      "74it [01:03,  1.16it/s]"
     ]
    }
   ],
   "source": [
    "vis = visdom.Visdom()\n",
    "loss_window = vis.line(X=np.zeros((1 ,)),\n",
    "                       Y=np.zeros((1)),\n",
    "                       opts=dict(xlabel='epoch',\n",
    "                                 ylabel='Loss',\n",
    "                                 title='epoch Loss and accuracy',\n",
    "                                 )) \n",
    "\n",
    "optimizer = torch.optim.AdamW(model.parameters(), lr=1e-3)\n",
    "scheduler = torch.optim.lr_scheduler.StepLR(optimizer, step_size=20, gamma=0.1)\n",
    "for epoch in range(100):\n",
    "    for i,data in tqdm(enumerate(train_dataloader)):\n",
    "        outputs = model(past_values=data[0],target_values = data[1])\n",
    "        loss = outputs.loss\n",
    "        loss.backward()\n",
    "        optimizer.step()\n",
    "        optimizer.zero_grad()\n",
    "        scheduler.step()\n",
    "        X1 = np.ones((1, 1))*(i+epoch*len(train_dataloader))\n",
    "        Y1 = np.array([loss.detach().numpy()])\n",
    "        Y2 = np.array([loss.detach().numpy()])\n",
    "        vis.line(X=np.column_stack((X1, X1)),\n",
    "                 Y=np.column_stack((Y1, Y2)),\n",
    "                 win=loss_window,\n",
    "                 update='append')"
   ]
  },
  {
   "cell_type": "code",
   "execution_count": 61,
   "id": "7abeda15-3a0b-4115-9bf7-84138cd36fe8",
   "metadata": {},
   "outputs": [
    {
     "data": {
      "text/plain": [
       "tensor([[-0.0979, -0.1177, -0.0380,  ..., -0.1383, -0.0116, -0.0909],\n",
       "        [-0.0477, -0.1917, -0.0695,  ..., -0.0094,  0.0298, -0.1272],\n",
       "        [-0.1154, -0.0959, -0.0086,  ..., -0.0670,  0.0484, -0.1277],\n",
       "        ...,\n",
       "        [-0.1477, -0.1142,  0.0369,  ..., -0.1684,  0.1240, -0.0603],\n",
       "        [-0.1141, -0.1457,  0.0280,  ..., -0.1081,  0.0173, -0.0487],\n",
       "        [-0.0633, -0.1550,  0.0069,  ..., -0.0865, -0.0007, -0.0169]],\n",
       "       grad_fn=<AddmmBackward0>)"
      ]
     },
     "execution_count": 61,
     "metadata": {},
     "output_type": "execute_result"
    }
   ],
   "source": [
    "outputs.regression_outputs"
   ]
  },
  {
   "cell_type": "code",
   "execution_count": 63,
   "id": "e2d4dee6-10a1-4f0e-9d75-685bada4c229",
   "metadata": {},
   "outputs": [
    {
     "data": {
      "text/plain": [
       "tensor([[1.8626e-12, 1.8546e-12, 1.8492e-12,  ..., 2.6181e-12, 2.6103e-12,\n",
       "         0.0000e+00],\n",
       "        [2.5520e-12, 2.5588e-12, 2.5631e-12,  ..., 2.6689e-12, 2.6508e-12,\n",
       "         0.0000e+00],\n",
       "        [2.8107e-12, 2.7913e-12, 2.7777e-12,  ..., 2.4990e-12, 2.5037e-12,\n",
       "         0.0000e+00],\n",
       "        ...,\n",
       "        [3.0621e-12, 3.0626e-12, 3.0461e-12,  ..., 3.0463e-12, 3.0456e-12,\n",
       "         0.0000e+00],\n",
       "        [3.3702e-12, 3.3863e-12, 3.3858e-12,  ..., 3.0463e-12, 3.0464e-12,\n",
       "         0.0000e+00],\n",
       "        [2.9446e-12, 2.9666e-12, 2.9787e-12,  ..., 3.2848e-12, 3.2938e-12,\n",
       "         0.0000e+00]])"
      ]
     },
     "execution_count": 63,
     "metadata": {},
     "output_type": "execute_result"
    }
   ],
   "source": [
    "data[1]"
   ]
  },
  {
   "cell_type": "code",
   "execution_count": null,
   "id": "49bc2111-9509-492d-91d7-53927a1c5df7",
   "metadata": {
    "scrolled": true
   },
   "outputs": [],
   "source": [
    "n_epochs = 100\n",
    "lr_max = 0.0025\n",
    "model.train(n_epochs)\n",
    "learn.export('patchTST.pt')"
   ]
  },
  {
   "cell_type": "code",
   "execution_count": null,
   "id": "811db7b7-423c-4efd-847a-2fa408f2a73c",
   "metadata": {},
   "outputs": [],
   "source": [
    "from tsai.basics import *\n",
    "\n",
    "ts = get_forecasting_time_series(\"Sunspots\").values\n",
    "X, y = SlidingWindow(60, horizon=30)(ts)\n",
    "splits = TimeSplitter(235, fcst_horizon=30)(y) \n",
    "tfms = [None, TSForecasting()]\n",
    "batch_tfms = TSStandardize()\n",
    "fcst = TSForecaster(X, y, splits=splits, path='models', tfms=tfms, batch_tfms=batch_tfms, bs=512, arch=\"TSTPlus\", metrics=mae, cbs=ShowGraph())\n",
    "fcst.fit_one_cycle(50, 1e-3)\n",
    "fcst.export(\"fcst.pkl\")"
   ]
  },
  {
   "cell_type": "code",
   "execution_count": null,
   "id": "14d895f2-21ab-4ce5-badc-a095b73f3998",
   "metadata": {
    "scrolled": true,
    "tags": []
   },
   "outputs": [],
   "source": [
    "res = initial_states.reset_index()['File ID'].progress_apply(lambda win:create_features_and_target(win,initial_states,omni,sat,predict_mean=False,training_mode=True))"
   ]
  },
  {
   "cell_type": "code",
   "execution_count": null,
   "id": "29782b1c-4d49-49bc-ae9f-c00704402e0a",
   "metadata": {
    "tags": []
   },
   "outputs": [],
   "source": [
    "df_train = pd.concat(res.to_list(),axis=0)"
   ]
  },
  {
   "cell_type": "code",
   "execution_count": null,
   "id": "6dd3247e-cf3a-48aa-bb18-36241e8fb90d",
   "metadata": {
    "tags": []
   },
   "outputs": [],
   "source": [
    "df_train"
   ]
  },
  {
   "cell_type": "markdown",
   "id": "6cb95db1-d754-4987-b02f-ca7e3e72a477",
   "metadata": {},
   "source": [
    "## XGBOOST"
   ]
  },
  {
   "cell_type": "markdown",
   "id": "bfa48497-54bb-463a-a627-1773f629d7bc",
   "metadata": {
    "tags": []
   },
   "source": [
    "### Prediction by mean"
   ]
  },
  {
   "cell_type": "code",
   "execution_count": null,
   "id": "3cf0fe55-eff0-4257-b6a7-c7df91e34fa9",
   "metadata": {
    "scrolled": true,
    "tags": []
   },
   "outputs": [],
   "source": [
    "model_mean = cb.CatBoostRegressor(loss_function='RMSE',iterations=10000)\n",
    "model_mean.fit(df_train.drop(['Timestamp_initial','Target'],axis=1).iloc[:6000],df_train['Target'].iloc[:6000])"
   ]
  },
  {
   "cell_type": "code",
   "execution_count": null,
   "id": "b5a3710b-5b94-4d9b-bf2c-c364ad8b1eee",
   "metadata": {
    "tags": []
   },
   "outputs": [],
   "source": [
    "model_mean.score(df_train.drop(['Timestamp_initial','Target'],axis=1).iloc[:6000],df_train['Target'].iloc[:6000])"
   ]
  },
  {
   "cell_type": "code",
   "execution_count": null,
   "id": "7673c860-1c94-4f62-9271-9797c7914e02",
   "metadata": {
    "tags": []
   },
   "outputs": [],
   "source": [
    "model_mean.score(df_train.drop(['Timestamp_initial','Target'],axis=1).iloc[6000:],df_train['Target'].iloc[6000:])"
   ]
  },
  {
   "cell_type": "code",
   "execution_count": null,
   "id": "25f35dcb-e451-4c75-bd49-9da86976b5c0",
   "metadata": {
    "tags": []
   },
   "outputs": [],
   "source": [
    "plt.scatter(model_mean.predict(df_train.drop(['Timestamp_initial','Target'],axis=1).iloc[:6000]),df_train['Target'].iloc[:6000])"
   ]
  },
  {
   "cell_type": "code",
   "execution_count": null,
   "id": "c0364415-3754-4fd9-b843-ea43e33e61a5",
   "metadata": {
    "tags": []
   },
   "outputs": [],
   "source": [
    "plt.scatter(model_mean.predict(df_train.drop(['Timestamp_initial','Target'],axis=1).iloc[6000:]),df_train['Target'].iloc[6000:])"
   ]
  },
  {
   "cell_type": "markdown",
   "id": "d6df640a-7080-497d-875f-2af6989ec2b8",
   "metadata": {
    "tags": []
   },
   "source": [
    "### Prediction by timestamp to predict"
   ]
  },
  {
   "cell_type": "code",
   "execution_count": null,
   "id": "91105ea5-e342-4a37-95e8-9379a94e4234",
   "metadata": {
    "tags": []
   },
   "outputs": [],
   "source": [
    "df_training_set = pd.concat(res.iloc[:4000].values)\n",
    "df_test_set = pd.concat(res.iloc[4000:].values)\n",
    "df_training_set = df_training_set.drop(['Timestamp', 'mean_Timestamp', 'last_Timestamp'],axis=1)\n",
    "df_test_set = df_test_set.drop(['Timestamp', 'mean_Timestamp', 'last_Timestamp'],axis=1)\n",
    "# df_training_set.to_pickle('data_isaac/df_training_set.pkl')\n",
    "# df_test_set.to_pickle('data_isaac/df_test_set.pkl')\n",
    "train_dataset = cb.Pool(df_training_set.drop('Orbit Mean Density (kg/m^3)',axis=1), df_training_set['Orbit Mean Density (kg/m^3)']) \n",
    "test_dataset = cb.Pool(df_test_set.drop('Orbit Mean Density (kg/m^3)',axis=1), df_test_set['Orbit Mean Density (kg/m^3)'])"
   ]
  },
  {
   "cell_type": "code",
   "execution_count": null,
   "id": "99af3e41-d16c-4827-93f2-5218fabd877f",
   "metadata": {
    "tags": []
   },
   "outputs": [],
   "source": [
    "model = cb.CatBoostRegressor(loss_function='RMSE',iterations=20000)\n",
    "model.fit(train_dataset)"
   ]
  },
  {
   "cell_type": "code",
   "execution_count": null,
   "id": "e3c68460-7b48-4659-bcd9-7cc585b1ba40",
   "metadata": {
    "tags": []
   },
   "outputs": [],
   "source": [
    "model.save_model('data_isaac/model_by_timestamp.cbm')"
   ]
  },
  {
   "cell_type": "code",
   "execution_count": null,
   "id": "e513cf9a-0fa1-49d0-97f9-d1c13cd70bd3",
   "metadata": {
    "tags": []
   },
   "outputs": [],
   "source": [
    "data = pd.DataFrame({'feature_importance': model.feature_importances_, \n",
    "              'feature_names': model.feature_names_}).sort_values(by=['feature_importance'], \n",
    "                                                       ascending=False)"
   ]
  },
  {
   "cell_type": "code",
   "execution_count": null,
   "id": "a5b0e379-257d-4e0a-863e-5c26d4585d24",
   "metadata": {
    "tags": []
   },
   "outputs": [],
   "source": [
    "id = 6090\n",
    "res[id]['Orbit Mean Density (kg/m^3)'].plot()\n",
    "plt.twinx()\n",
    "plt.plot(model.predict(res[id]),color='red')"
   ]
  },
  {
   "cell_type": "code",
   "execution_count": null,
   "id": "1042b339-4e77-495c-90e7-7b9f97d2a25e",
   "metadata": {
    "tags": []
   },
   "outputs": [],
   "source": [
    "model.score(test_dataset)\n"
   ]
  },
  {
   "cell_type": "markdown",
   "id": "22be0d82-af87-4fc7-8514-1fec9e554410",
   "metadata": {
    "jp-MarkdownHeadingCollapsed": true,
    "tags": []
   },
   "source": [
    "\n",
    "\n",
    "\n",
    "\n",
    "###  Compare pred"
   ]
  },
  {
   "cell_type": "code",
   "execution_count": null,
   "id": "d6e70a62-f656-402c-9ebd-e89a3cd9401d",
   "metadata": {
    "tags": []
   },
   "outputs": [],
   "source": [
    "id = 90\n"
   ]
  },
  {
   "cell_type": "code",
   "execution_count": null,
   "id": "048588bb-83af-4d02-8c1d-e8ef1a58aaea",
   "metadata": {
    "tags": []
   },
   "outputs": [],
   "source": [
    "df_pred_by_mean = pd.DataFrame(create_pred_timestamps(df_train['Timestamp'].loc[id]),columns=['Timestamp'])\n",
    "df_pred_by_mean['Orbit Mean Density (kg/m^3)'] = model_mean.predict(create_features_and_target_by_dict(id,df_train,omni,sat).drop(['Timestamp', 'mean_Timestamp', 'last_Timestamp','Target']))"
   ]
  },
  {
   "cell_type": "code",
   "execution_count": null,
   "id": "e9f06660-7f76-4ba0-99ef-c27aa56330b3",
   "metadata": {
    "tags": []
   },
   "outputs": [],
   "source": [
    "pred_feature = create_features_and_target_by_dict(id,df_train,omni,sat,predict_mean=False)\n",
    "df_pred = pd.DataFrame(model.predict(pred_feature.drop(['Timestamp', 'mean_Timestamp', 'last_Timestamp'],axis=1)),\n",
    "             index=pred_feature['Timestamp'],columns=['Orbit Mean Density (kg/m^3)']).reset_index()"
   ]
  },
  {
   "cell_type": "code",
   "execution_count": null,
   "id": "117efec7-b23b-40a7-8ac8-b0e2ea6b6044",
   "metadata": {
    "tags": []
   },
   "outputs": [],
   "source": [
    "df_pred_msis = pd.read_csv('data_isaac/sat_density_pred/density_pred'+str(id)+ '.csv',index_col=0)\n",
    "df_pred_msis['Timestamp'] = pd.to_datetime(df_pred_msis['Timestamp'])"
   ]
  },
  {
   "cell_type": "code",
   "execution_count": null,
   "id": "997c5892-8700-4c99-90c4-e3d7a08a1e93",
   "metadata": {
    "tags": []
   },
   "outputs": [],
   "source": [
    "df_pred_msis.shape"
   ]
  },
  {
   "cell_type": "code",
   "execution_count": null,
   "id": "ef5b8fdd-6900-4e72-ae80-f80e91ee15bf",
   "metadata": {
    "tags": []
   },
   "outputs": [],
   "source": [
    "df_true = sat[id]"
   ]
  },
  {
   "cell_type": "code",
   "execution_count": null,
   "id": "d7d3d469-a970-410e-9783-0547c03d1078",
   "metadata": {
    "tags": []
   },
   "outputs": [],
   "source": [
    "plt.figure()\n",
    "df_true.set_index('Timestamp')['Orbit Mean Density (kg/m^3)'].plot()\n",
    "df_pred.set_index('Timestamp')['Orbit Mean Density (kg/m^3)'].plot()\n",
    "df_pred_by_mean.set_index('Timestamp')['Orbit Mean Density (kg/m^3)'].plot()\n",
    "df_pred_msis.set_index('Timestamp')['Density (kg/m3)'].plot()"
   ]
  },
  {
   "cell_type": "code",
   "execution_count": null,
   "id": "dc266715-07de-4b90-8104-a3c48f4d9ea8",
   "metadata": {
    "tags": []
   },
   "outputs": [],
   "source": [
    "df_pred_msis.set_index('Timestamp')['Density (kg/m3)'].plot()"
   ]
  },
  {
   "cell_type": "markdown",
   "id": "f89bbd2e-3912-47db-aa08-b1f7ef1e632b",
   "metadata": {
    "jp-MarkdownHeadingCollapsed": true,
    "tags": []
   },
   "source": [
    "\n",
    "###  Model by MSIS"
   ]
  },
  {
   "cell_type": "code",
   "execution_count": null,
   "id": "b3a535d4-a061-40c8-aea0-9c2e85dd2d99",
   "metadata": {
    "tags": []
   },
   "outputs": [],
   "source": [
    "from atm_me import PersistenceMSIS, MSISPersistenceAtmosphere, PersistenceModel"
   ]
  },
  {
   "cell_type": "code",
   "execution_count": null,
   "id": "75f7bbff-c5c8-467d-b4d5-52825efbf250",
   "metadata": {
    "tags": []
   },
   "outputs": [],
   "source": [
    "bad_id = []"
   ]
  },
  {
   "cell_type": "code",
   "execution_count": null,
   "id": "d1c389e0-700d-4fcf-aa7f-51a8d7e2f38b",
   "metadata": {
    "scrolled": true,
    "tags": []
   },
   "outputs": [],
   "source": [
    "model = PersistenceModel(plot_trajectory=False)\n",
    "for id in df_train.index:\n",
    "    if os.path.exists('data_isaac/sat_density_pred_no_drag/density_pred'+ str(id) + '.csv'):\n",
    "        continue\n",
    "    else:\n",
    "        bad_id.append(id)\n",
    "        continue\n",
    "    omni_data = omni[id].loc[:,['Timestamp', 'f10.7_index', 'ap_index_nT']]\n",
    "    omni_data['Timestamp'] = pd.to_datetime(omni_data['Timestamp'])\n",
    "    omni_data = omni_data.ffill()\n",
    "    try:\n",
    "        states, densities = model(omni_data,df_train.loc[id].to_dict())\n",
    "        predictions = model._convert_to_df(states, densities)\n",
    "        predictions.to_csv('data_isaac/sat_density_pred_no_drag/density_pred'+ str(id) + '.csv')\n",
    "    except:\n",
    "        print(id)"
   ]
  },
  {
   "cell_type": "code",
   "execution_count": null,
   "id": "83e37dd5-247f-4308-833e-a3144399bbd0",
   "metadata": {
    "tags": []
   },
   "outputs": [],
   "source": [
    "from poliastro.core.elements import coe2rv"
   ]
  },
  {
   "cell_type": "code",
   "execution_count": null,
   "id": "40de9194-baef-4df8-941d-3fa31c35d779",
   "metadata": {
    "tags": []
   },
   "outputs": [],
   "source": [
    "from poliastro.constants.general import GM_earth"
   ]
  },
  {
   "cell_type": "code",
   "execution_count": null,
   "id": "2d081cf2-8181-4543-be48-6d140149c7b5",
   "metadata": {
    "tags": []
   },
   "outputs": [],
   "source": [
    "coe2rv(GM_earth,6826.387247,0.003882,87.275306,144.135111,257.314389,102.383270)"
   ]
  },
  {
   "cell_type": "code",
   "execution_count": null,
   "id": "217bba2c-ac22-4466-a696-d6dfc0aade4c",
   "metadata": {
    "tags": []
   },
   "outputs": [],
   "source": [
    "coe2rv(GM_earth,6824.556715,0.004397,87.269194,127.738000,86.817000,273.818611)"
   ]
  },
  {
   "cell_type": "code",
   "execution_count": null,
   "id": "4303b567-473e-4f82-ab15-f925853c00ba",
   "metadata": {
    "tags": []
   },
   "outputs": [],
   "source": [
    "df_train.loc[df_train['Latitude (deg)']<100]"
   ]
  },
  {
   "cell_type": "code",
   "execution_count": null,
   "id": "c0963300-c82a-4e6e-ae25-4c6a69ab4a2b",
   "metadata": {
    "tags": []
   },
   "outputs": [],
   "source": [
    "df_train.loc[bad_id]"
   ]
  },
  {
   "cell_type": "code",
   "execution_count": null,
   "id": "b1fa5ae8-60f6-4be1-9b96-b0e95cf5e9eb",
   "metadata": {
    "tags": []
   },
   "outputs": [],
   "source": [
    "df_train.loc[df_train.index.isin(bad_id)==False]"
   ]
  },
  {
   "cell_type": "code",
   "execution_count": null,
   "id": "33f717df-ddfd-40f5-9d16-fa5ff2353d01",
   "metadata": {
    "tags": []
   },
   "outputs": [],
   "source": [
    "len(bad_id)\n"
   ]
  },
  {
   "cell_type": "code",
   "execution_count": null,
   "id": "ff0c33e7-cb73-4621-b7e1-337c50f2009b",
   "metadata": {
    "tags": []
   },
   "outputs": [],
   "source": [
    "from evaluation_me import DensityModelEvaluator\n",
    "\n"
   ]
  }
 ],
 "metadata": {
  "kernelspec": {
   "display_name": "orekit_venv_v12",
   "language": "python",
   "name": "orekit_venv_v12"
  },
  "language_info": {
   "codemirror_mode": {
    "name": "ipython",
    "version": 3
   },
   "file_extension": ".py",
   "mimetype": "text/x-python",
   "name": "python",
   "nbconvert_exporter": "python",
   "pygments_lexer": "ipython3",
   "version": "3.8.20"
  }
 },
 "nbformat": 4,
 "nbformat_minor": 5
}
