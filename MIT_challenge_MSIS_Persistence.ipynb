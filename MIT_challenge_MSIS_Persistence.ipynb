{
 "cells": [
  {
   "cell_type": "code",
   "execution_count": 1,
   "id": "c2528786-0bc7-41ac-bbe5-f539fb641d74",
   "metadata": {
    "tags": []
   },
   "outputs": [
    {
     "name": "stderr",
     "output_type": "stream",
     "text": [
      "C:\\Users\\isaac\\miniconda3\\envs\\orekit_venv_v12\\lib\\site-packages\\scipy\\__init__.py:146: UserWarning: A NumPy version >=1.16.5 and <1.23.0 is required for this version of SciPy (detected version 1.24.3\n",
      "  warnings.warn(f\"A NumPy version >={np_minversion} and <{np_maxversion}\"\n"
     ]
    }
   ],
   "source": [
    "import pandas as pd\n",
    "from datetime import datetime, timedelta\n",
    "import os\n",
    "from tqdm import tqdm\n",
    "import pickle\n",
    "tqdm.pandas()\n",
    "import warnings\n",
    "import catboost as cb\n",
    "from sklearn.metrics import mean_squared_error\n",
    "from sklearn.metrics import r2_score\n",
    "# from submission_xgboost.utils import create_features_and_target\n",
    "# from submission_xgboost.utils import create_features_for_prediction\n",
    "warnings.filterwarnings(\"ignore\")"
   ]
  },
  {
   "cell_type": "markdown",
   "id": "21424dc9-41a2-4aca-bf00-5259b20c39ec",
   "metadata": {
    "tags": []
   },
   "source": [
    "### Load Initial position and dict of Omni"
   ]
  },
  {
   "cell_type": "code",
   "execution_count": 2,
   "id": "ade28363-55c9-45c8-8a53-4d8ab043341d",
   "metadata": {
    "tags": []
   },
   "outputs": [
    {
     "name": "stdout",
     "output_type": "stream",
     "text": [
      "(8119, 10)\n",
      "(8095, 10)\n"
     ]
    }
   ],
   "source": [
    "initial_states = pd.read_csv('C:/Users/isaac/Documents/Challenge_MIT_2/mit_challenge_2/data/phase_1/00000_to_02284-initial_states.csv')\n",
    "initial_states = pd.concat([initial_states,pd.read_csv('C:/Users/isaac/Documents/Challenge_MIT_2/mit_challenge_2/data/phase_1/02285_to_02357-initial_states.csv')])\n",
    "initial_states = pd.concat([initial_states,pd.read_csv('C:/Users/isaac/Documents/Challenge_MIT_2/mit_challenge_2/data/phase_1/02358_to_04264-initial_states.csv')])\n",
    "initial_states = pd.concat([initial_states,pd.read_csv('C:/Users/isaac/Documents/Challenge_MIT_2/mit_challenge_2/data/phase_1/04265_to_05570-initial_states.csv')])\n",
    "initial_states = pd.concat([initial_states,pd.read_csv('C:/Users/isaac/Documents/Challenge_MIT_2/mit_challenge_2/data/phase_1/05571_to_05614-initial_states.csv')])\n",
    "initial_states = pd.concat([initial_states,pd.read_csv('C:/Users/isaac/Documents/Challenge_MIT_2/mit_challenge_2/data/phase_1/05615_to_06671-initial_states.csv')])\n",
    "initial_states = pd.concat([initial_states,pd.read_csv('C:/Users/isaac/Documents/Challenge_MIT_2/mit_challenge_2/data/phase_1/06672_to_08118-initial_states.csv')])\n",
    "initial_states['Timestamp'] = pd.to_datetime(initial_states['Timestamp'])\n",
    "\n",
    "initial_states = initial_states.set_index('File ID')\n",
    "print(initial_states.shape)\n",
    "initial_states =  initial_states.mask((initial_states==9.99e+29)|(initial_states==9.99e+32))\n",
    "initial_states = initial_states.loc[initial_states.count(1)==10]\n",
    "print(initial_states.shape)"
   ]
  },
  {
   "cell_type": "code",
   "execution_count": 4,
   "id": "1c5bf58b-f76a-4fcc-a7d8-ae7fa196fad5",
   "metadata": {
    "tags": []
   },
   "outputs": [],
   "source": [
    "with open('data/data_isaac/omni.pickle', 'rb') as f:\n",
    "    omni = pickle.load(f)\n",
    "with open('data/data_isaac/sat.pickle', 'rb') as f:\n",
    "    sat = pickle.load(f)"
   ]
  },
  {
   "cell_type": "code",
   "execution_count": 156,
   "id": "f65edd00-76e4-41e5-972b-213cbc6d5192",
   "metadata": {},
   "outputs": [],
   "source": [
    "for i in sat.keys():\n",
    "    sat[i]['Orbit Mean Density (kg/m^3)'] = sat[i]['Orbit Mean Density (kg/m^3)'].mask(sat[i]['Orbit Mean Density (kg/m^3)']>1_000_000)\n",
    "    sat[i]['Orbit Mean Density (kg/m^3)'] = sat[i]['Orbit Mean Density (kg/m^3)'].interpolate()"
   ]
  },
  {
   "cell_type": "code",
   "execution_count": null,
   "id": "72e1ae2f-a26f-47ee-9bff-18f09266f7d2",
   "metadata": {
    "tags": []
   },
   "outputs": [],
   "source": [
    "# all_files_omni = os.listdir(\"phase_1/omni2/\")\n",
    "# all_files_dens = os.listdir(\"phase_1/sat_density/\")\n",
    "# omni = {}\n",
    "# for i in tqdm(all_files_omni):\n",
    "#     omni[int(i.split('-')[1])] = pd.read_csv('phase_1/omni2/'+i)\n",
    "# sat = {}\n",
    "# for i in tqdm(all_files_dens):\n",
    "#     sat[int(i.replace('gr-of','grof').split('-')[1])] = pd.read_csv('phase_1/sat_density/'+i)\n",
    "# with open('omni.pickle', 'wb') as handle:\n",
    "#     pickle.dump(omni, handle, protocol=pickle.HIGHEST_PROTOCOL)\n",
    "# with open('sat.pickle', 'wb') as handle:\n",
    "#     pickle.dump(sat, handle, protocol=pickle.HIGHEST_PROTOCOL)"
   ]
  },
  {
   "cell_type": "markdown",
   "id": "f89bbd2e-3912-47db-aa08-b1f7ef1e632b",
   "metadata": {
    "tags": []
   },
   "source": [
    "\n",
    "###  Model by MSIS"
   ]
  },
  {
   "cell_type": "code",
   "execution_count": 24,
   "id": "f135da4f-5c25-467f-8913-8b2acd046675",
   "metadata": {},
   "outputs": [],
   "source": [
    "from org.orekit.frames import FramesFactory\n",
    "from org.orekit.utils import Constants\n",
    "from org.orekit.utils import IERSConventions\n",
    "from org.orekit.bodies import OneAxisEllipsoid\n",
    "from org.orekit.orbits import KeplerianOrbit, OrbitType\n",
    "import math"
   ]
  },
  {
   "cell_type": "code",
   "execution_count": 3,
   "id": "b3a535d4-a061-40c8-aea0-9c2e85dd2d99",
   "metadata": {
    "tags": []
   },
   "outputs": [],
   "source": [
    "from submission_presistence.atm_me import PersistenceMSIS, MSISPersistenceAtmosphere, PersistenceModel"
   ]
  },
  {
   "cell_type": "code",
   "execution_count": 141,
   "id": "1614df29-d040-4f03-98de-9c4349525448",
   "metadata": {},
   "outputs": [],
   "source": [
    "model = PersistenceModel(plot_trajectory=False)\n",
    "def get_new_position_of_satellite(initial_state,omni_data_refined,model):\n",
    "    states = model(None,initial_state)\n",
    "    positions = pd.DataFrame([extract_kepllerian_parameters(i) for i in states])\n",
    "    return positions\n",
    "    "
   ]
  },
  {
   "cell_type": "code",
   "execution_count": 163,
   "id": "0841e907-aaa9-48a6-ac57-8f093a1132ee",
   "metadata": {
    "scrolled": true
   },
   "outputs": [
    {
     "name": "stderr",
     "output_type": "stream",
     "text": [
      "100%|████████████████████████████████████████████████████████████████████████████| 8095/8095 [2:39:27<00:00,  1.18s/it]\n"
     ]
    }
   ],
   "source": [
    "res = {}\n",
    "for  i in  tqdm(initial_states.index):\n",
    "    res[i] = get_new_position_of_satellite(initial_states.loc[i].to_dict(),None,model) "
   ]
  },
  {
   "cell_type": "code",
   "execution_count": 190,
   "id": "664728b4-22de-4340-b41a-2e260731b674",
   "metadata": {},
   "outputs": [],
   "source": [
    "with open('data/data_isaac/sattelite_estimated_position.pickle', 'wb') as handle:\n",
    "     pickle.dump(res, handle, protocol=pickle.HIGHEST_PROTOCOL)"
   ]
  },
  {
   "cell_type": "code",
   "execution_count": 189,
   "id": "7c143335-a31c-46ec-b555-0faad7ad3fdf",
   "metadata": {},
   "outputs": [
    {
     "name": "stderr",
     "output_type": "stream",
     "text": [
      "100%|█████████████████████████████████████████████████████████████████████████████| 8095/8095 [00:50<00:00, 161.26it/s]\n"
     ]
    }
   ],
   "source": [
    "for  i in  tqdm(initial_states.index):\n",
    "    res[i]['Timestamp'] = res[i]['Timestamp'].apply(lambda win:win.toString())"
   ]
  },
  {
   "cell_type": "code",
   "execution_count": 195,
   "id": "8d9dc2b2-737c-4c79-87ac-92766543141b",
   "metadata": {},
   "outputs": [],
   "source": [
    "df_data = pd.merge(pd.concat(res),pd.concat(sat),left_index=True,right_index=True)"
   ]
  },
  {
   "cell_type": "code",
   "execution_count": 202,
   "id": "0924f210-35a1-48fc-976a-40807d09e0fc",
   "metadata": {},
   "outputs": [
    {
     "data": {
      "text/html": [
       "<div>\n",
       "<style scoped>\n",
       "    .dataframe tbody tr th:only-of-type {\n",
       "        vertical-align: middle;\n",
       "    }\n",
       "\n",
       "    .dataframe tbody tr th {\n",
       "        vertical-align: top;\n",
       "    }\n",
       "\n",
       "    .dataframe thead th {\n",
       "        text-align: right;\n",
       "    }\n",
       "</style>\n",
       "<table border=\"1\" class=\"dataframe\">\n",
       "  <thead>\n",
       "    <tr style=\"text-align: right;\">\n",
       "      <th></th>\n",
       "      <th></th>\n",
       "      <th>A</th>\n",
       "      <th>E</th>\n",
       "      <th>I</th>\n",
       "      <th>RAAN</th>\n",
       "      <th>PA</th>\n",
       "      <th>TA</th>\n",
       "      <th>Timestamp_x</th>\n",
       "      <th>latitudeDeg</th>\n",
       "      <th>longitudeDeg</th>\n",
       "      <th>altitude</th>\n",
       "      <th>Timestamp_y</th>\n",
       "      <th>Orbit Mean Density (kg/m^3)</th>\n",
       "    </tr>\n",
       "  </thead>\n",
       "  <tbody>\n",
       "    <tr>\n",
       "      <th rowspan=\"5\" valign=\"top\">0</th>\n",
       "      <th>0</th>\n",
       "      <td>6.826387e+06</td>\n",
       "      <td>0.003882</td>\n",
       "      <td>87.275306</td>\n",
       "      <td>144.135111</td>\n",
       "      <td>-102.685611</td>\n",
       "      <td>102.383270</td>\n",
       "      <td>2000-08-02T04:50:33.000Z</td>\n",
       "      <td>-0.305782</td>\n",
       "      <td>120.394686</td>\n",
       "      <td>453835.680651</td>\n",
       "      <td>2000-08-02 04:50:40</td>\n",
       "      <td>1.803589e-12</td>\n",
       "    </tr>\n",
       "    <tr>\n",
       "      <th>1</th>\n",
       "      <td>6.819094e+06</td>\n",
       "      <td>0.004154</td>\n",
       "      <td>87.273526</td>\n",
       "      <td>144.134319</td>\n",
       "      <td>-117.762208</td>\n",
       "      <td>155.789728</td>\n",
       "      <td>2000-08-02T05:00:33.000Z</td>\n",
       "      <td>38.148777</td>\n",
       "      <td>120.031970</td>\n",
       "      <td>474894.137697</td>\n",
       "      <td>2000-08-02 05:00:40</td>\n",
       "      <td>1.812230e-12</td>\n",
       "    </tr>\n",
       "    <tr>\n",
       "      <th>2</th>\n",
       "      <td>6.808346e+06</td>\n",
       "      <td>0.005755</td>\n",
       "      <td>87.271238</td>\n",
       "      <td>144.130605</td>\n",
       "      <td>250.187879</td>\n",
       "      <td>-173.947157</td>\n",
       "      <td>2000-08-02T05:10:33.000Z</td>\n",
       "      <td>76.059805</td>\n",
       "      <td>126.392297</td>\n",
       "      <td>489302.436401</td>\n",
       "      <td>2000-08-02 05:10:40</td>\n",
       "      <td>1.823796e-12</td>\n",
       "    </tr>\n",
       "    <tr>\n",
       "      <th>3</th>\n",
       "      <td>6.810499e+06</td>\n",
       "      <td>0.004984</td>\n",
       "      <td>87.271667</td>\n",
       "      <td>144.125700</td>\n",
       "      <td>265.448583</td>\n",
       "      <td>-150.980085</td>\n",
       "      <td>2000-08-02T05:20:33.000Z</td>\n",
       "      <td>65.526243</td>\n",
       "      <td>-73.093176</td>\n",
       "      <td>479691.892475</td>\n",
       "      <td>2000-08-02 05:20:40</td>\n",
       "      <td>1.827751e-12</td>\n",
       "    </tr>\n",
       "    <tr>\n",
       "      <th>4</th>\n",
       "      <td>6.822372e+06</td>\n",
       "      <td>0.003626</td>\n",
       "      <td>87.273897</td>\n",
       "      <td>144.123157</td>\n",
       "      <td>251.662548</td>\n",
       "      <td>-98.821246</td>\n",
       "      <td>2000-08-02T05:30:33.000Z</td>\n",
       "      <td>27.273377</td>\n",
       "      <td>-71.028112</td>\n",
       "      <td>452402.938332</td>\n",
       "      <td>2000-08-02 05:30:40</td>\n",
       "      <td>1.787903e-12</td>\n",
       "    </tr>\n",
       "    <tr>\n",
       "      <th>...</th>\n",
       "      <th>...</th>\n",
       "      <td>...</td>\n",
       "      <td>...</td>\n",
       "      <td>...</td>\n",
       "      <td>...</td>\n",
       "      <td>...</td>\n",
       "      <td>...</td>\n",
       "      <td>...</td>\n",
       "      <td>...</td>\n",
       "      <td>...</td>\n",
       "      <td>...</td>\n",
       "      <td>...</td>\n",
       "      <td>...</td>\n",
       "    </tr>\n",
       "    <tr>\n",
       "      <th rowspan=\"5\" valign=\"top\">8118</th>\n",
       "      <th>139</th>\n",
       "      <td>6.761777e+06</td>\n",
       "      <td>0.008672</td>\n",
       "      <td>87.482044</td>\n",
       "      <td>92.194018</td>\n",
       "      <td>99.002279</td>\n",
       "      <td>-169.444965</td>\n",
       "      <td>2019-12-31T23:10:00.000Z</td>\n",
       "      <td>-70.392476</td>\n",
       "      <td>-2.490822</td>\n",
       "      <td>460228.738068</td>\n",
       "      <td>2019-12-31 23:10:00</td>\n",
       "      <td>1.359338e-13</td>\n",
       "    </tr>\n",
       "    <tr>\n",
       "      <th>140</th>\n",
       "      <td>6.773385e+06</td>\n",
       "      <td>0.006932</td>\n",
       "      <td>87.484408</td>\n",
       "      <td>92.190896</td>\n",
       "      <td>97.516854</td>\n",
       "      <td>-129.491287</td>\n",
       "      <td>2019-12-31T23:20:00.000Z</td>\n",
       "      <td>-32.103872</td>\n",
       "      <td>0.715762</td>\n",
       "      <td>430921.340346</td>\n",
       "      <td>2019-12-31 23:20:00</td>\n",
       "      <td>1.465138e-13</td>\n",
       "    </tr>\n",
       "    <tr>\n",
       "      <th>141</th>\n",
       "      <td>6.778605e+06</td>\n",
       "      <td>0.007311</td>\n",
       "      <td>87.485587</td>\n",
       "      <td>92.190443</td>\n",
       "      <td>90.683569</td>\n",
       "      <td>-83.889319</td>\n",
       "      <td>2019-12-31T23:30:00.000Z</td>\n",
       "      <td>6.824794</td>\n",
       "      <td>0.158610</td>\n",
       "      <td>395135.124586</td>\n",
       "      <td>2019-12-31 23:30:00</td>\n",
       "      <td>1.456536e-13</td>\n",
       "    </tr>\n",
       "    <tr>\n",
       "      <th>142</th>\n",
       "      <td>6.768749e+06</td>\n",
       "      <td>0.007072</td>\n",
       "      <td>87.483825</td>\n",
       "      <td>92.189368</td>\n",
       "      <td>101.406877</td>\n",
       "      <td>-55.482207</td>\n",
       "      <td>2019-12-31T23:40:00.000Z</td>\n",
       "      <td>46.039312</td>\n",
       "      <td>0.046641</td>\n",
       "      <td>374295.177610</td>\n",
       "      <td>2019-12-31 23:40:00</td>\n",
       "      <td>1.409124e-13</td>\n",
       "    </tr>\n",
       "    <tr>\n",
       "      <th>143</th>\n",
       "      <td>6.759225e+06</td>\n",
       "      <td>0.005286</td>\n",
       "      <td>87.482044</td>\n",
       "      <td>92.185215</td>\n",
       "      <td>98.205895</td>\n",
       "      <td>-12.886631</td>\n",
       "      <td>2019-12-31T23:50:00.000Z</td>\n",
       "      <td>84.663272</td>\n",
       "      <td>24.043983</td>\n",
       "      <td>367446.521995</td>\n",
       "      <td>2019-12-31 23:50:00</td>\n",
       "      <td>1.397193e-13</td>\n",
       "    </tr>\n",
       "  </tbody>\n",
       "</table>\n",
       "<p>3480343 rows × 12 columns</p>\n",
       "</div>"
      ],
      "text/plain": [
       "                     A         E          I        RAAN          PA  \\\n",
       "0    0    6.826387e+06  0.003882  87.275306  144.135111 -102.685611   \n",
       "     1    6.819094e+06  0.004154  87.273526  144.134319 -117.762208   \n",
       "     2    6.808346e+06  0.005755  87.271238  144.130605  250.187879   \n",
       "     3    6.810499e+06  0.004984  87.271667  144.125700  265.448583   \n",
       "     4    6.822372e+06  0.003626  87.273897  144.123157  251.662548   \n",
       "...                ...       ...        ...         ...         ...   \n",
       "8118 139  6.761777e+06  0.008672  87.482044   92.194018   99.002279   \n",
       "     140  6.773385e+06  0.006932  87.484408   92.190896   97.516854   \n",
       "     141  6.778605e+06  0.007311  87.485587   92.190443   90.683569   \n",
       "     142  6.768749e+06  0.007072  87.483825   92.189368  101.406877   \n",
       "     143  6.759225e+06  0.005286  87.482044   92.185215   98.205895   \n",
       "\n",
       "                  TA               Timestamp_x  latitudeDeg  longitudeDeg  \\\n",
       "0    0    102.383270  2000-08-02T04:50:33.000Z    -0.305782    120.394686   \n",
       "     1    155.789728  2000-08-02T05:00:33.000Z    38.148777    120.031970   \n",
       "     2   -173.947157  2000-08-02T05:10:33.000Z    76.059805    126.392297   \n",
       "     3   -150.980085  2000-08-02T05:20:33.000Z    65.526243    -73.093176   \n",
       "     4    -98.821246  2000-08-02T05:30:33.000Z    27.273377    -71.028112   \n",
       "...              ...                       ...          ...           ...   \n",
       "8118 139 -169.444965  2019-12-31T23:10:00.000Z   -70.392476     -2.490822   \n",
       "     140 -129.491287  2019-12-31T23:20:00.000Z   -32.103872      0.715762   \n",
       "     141  -83.889319  2019-12-31T23:30:00.000Z     6.824794      0.158610   \n",
       "     142  -55.482207  2019-12-31T23:40:00.000Z    46.039312      0.046641   \n",
       "     143  -12.886631  2019-12-31T23:50:00.000Z    84.663272     24.043983   \n",
       "\n",
       "               altitude          Timestamp_y  Orbit Mean Density (kg/m^3)  \n",
       "0    0    453835.680651  2000-08-02 04:50:40                 1.803589e-12  \n",
       "     1    474894.137697  2000-08-02 05:00:40                 1.812230e-12  \n",
       "     2    489302.436401  2000-08-02 05:10:40                 1.823796e-12  \n",
       "     3    479691.892475  2000-08-02 05:20:40                 1.827751e-12  \n",
       "     4    452402.938332  2000-08-02 05:30:40                 1.787903e-12  \n",
       "...                 ...                  ...                          ...  \n",
       "8118 139  460228.738068  2019-12-31 23:10:00                 1.359338e-13  \n",
       "     140  430921.340346  2019-12-31 23:20:00                 1.465138e-13  \n",
       "     141  395135.124586  2019-12-31 23:30:00                 1.456536e-13  \n",
       "     142  374295.177610  2019-12-31 23:40:00                 1.409124e-13  \n",
       "     143  367446.521995  2019-12-31 23:50:00                 1.397193e-13  \n",
       "\n",
       "[3480343 rows x 12 columns]"
      ]
     },
     "execution_count": 202,
     "metadata": {},
     "output_type": "execute_result"
    }
   ],
   "source": [
    "df_data"
   ]
  },
  {
   "cell_type": "code",
   "execution_count": 135,
   "id": "9c88dcaf-e000-4b0d-a664-8ed32a3e9aa4",
   "metadata": {},
   "outputs": [],
   "source": [
    "# id = 102\n",
    "# omni_data = omni[id].loc[:,['Timestamp', 'f10.7_index', 'ap_index_nT']]\n",
    "# omni_data['Timestamp'] = pd.to_datetime(omni_data['Timestamp'])\n",
    "# omni_data = omni_data.ffill()\n",
    "# states = model(omni_data,initial_states.loc[id].to_dict())\n"
   ]
  },
  {
   "cell_type": "code",
   "execution_count": null,
   "id": "8e383221-bdc2-4b3d-8b0f-011e0d50d73e",
   "metadata": {},
   "outputs": [],
   "source": [
    "r_Earth = Constants.IERS2010_EARTH_EQUATORIAL_RADIUS  # m\n",
    "# International Terrestrial Reference Frame, earth fixed\n",
    "itrf = FramesFactory.getITRF(IERSConventions.IERS_2010, True)\n",
    "earth = OneAxisEllipsoid(\n",
    "    r_Earth,\n",
    "    Constants.IERS2010_EARTH_FLATTENING,\n",
    "    itrf\n",
    ")"
   ]
  },
  {
   "cell_type": "code",
   "execution_count": 134,
   "id": "a52fcfb9-a843-49a4-a010-68cc96073f5f",
   "metadata": {},
   "outputs": [],
   "source": [
    "def position_to_geo(pvEME2000, date):\n",
    "    \"\"\"\n",
    "    Converts a position vector (in EME2000 frame) to geodetic coordinates (lat, lon, alt).\n",
    "\n",
    "    Parameters:\n",
    "    positionICRF: Vector3D, position vector in ICRF frame.\n",
    "    date: AbsoluteDate, the date of the position.\n",
    "\n",
    "    Returns:\n",
    "    tuple: (latitude, longitude, altitude) in degrees and meters.\n",
    "    \"\"\"\n",
    "    # Transform from EME200 to ICRF\n",
    "    pvICRF = inertial_frame.getTransformTo(earth_frame,date).transformPVCoordinates(pvEME2000)\n",
    "\n",
    "    # Transform position from ICRF to ECEF (ITRF)\n",
    "    transform = earth.getBodyFrame().getTransformTo(itrf, date)\n",
    "    pvECEF = transform.transformPVCoordinates(pvICRF)\n",
    "    positionECEF = pvECEF.getPosition()\n",
    "\n",
    "    # Convert the ECEF position to geodetic coordinates\n",
    "    geodeticPoint = earth.transform(positionECEF, itrf, date)\n",
    "\n",
    "    # Extract latitude, longitude, and altitude\n",
    "    latitude = geodeticPoint.getLatitude()  # radians\n",
    "    longitude = geodeticPoint.getLongitude()  # radians\n",
    "    altitude = geodeticPoint.getAltitude()  # meters\n",
    "\n",
    "    # Convert radians to degrees for latitude and longitude\n",
    "    latitudeDeg = math.degrees(latitude)\n",
    "    longitudeDeg = math.degrees(longitude)\n",
    "\n",
    "    return latitudeDeg, longitudeDeg, altitude"
   ]
  },
  {
   "cell_type": "code",
   "execution_count": 133,
   "id": "423963c9-f49e-4ab6-8173-f5fbb804d799",
   "metadata": {},
   "outputs": [],
   "source": [
    "def extract_kepllerian_parameters(sat_state):\n",
    "    r = sat_state.orbit\n",
    "    converted_orbit = KeplerianOrbit.cast_(OrbitType.KEPLERIAN.convertType(r))\n",
    "    latitudeDeg, longitudeDeg, altitude = position_to_geo(sat_state.getPVCoordinates(), sat_state.date)\n",
    "    res ={\n",
    "        'A':converted_orbit.getA(),\n",
    "        'E':converted_orbit.getE(),\n",
    "    'I':converted_orbit.getI()* 180.0 / math.pi,\n",
    "    'RAAN':converted_orbit.getRightAscensionOfAscendingNode()* 180.0 / math.pi ,\n",
    "    'PA':converted_orbit.getPerigeeArgument()* 180.0 / math.pi ,\n",
    "    'TA':converted_orbit.getTrueAnomaly()* 180.0 / math.pi,\n",
    "    'Timestamp':r.date,\n",
    "    'latitudeDeg' : latitudeDeg, 'longitudeDeg':longitudeDeg, 'altitude': altitude}\n",
    "\n",
    "    \n",
    "    return res"
   ]
  },
  {
   "cell_type": "code",
   "execution_count": 78,
   "id": "5103bf0a-9cab-4c1d-a253-f6a95f43b796",
   "metadata": {},
   "outputs": [],
   "source": [
    "inertial_frame = FramesFactory.getEME2000()\n",
    "earth_frame = FramesFactory.getITRF(IERSConventions.IERS_2010, False)\n",
    "pv = a.getPVCoordinates()\n",
    "pv_itrf = inertial_frame.getTransformTo(earth_frame, a.date).transformPVCoordinates(pv)"
   ]
  },
  {
   "cell_type": "code",
   "execution_count": 87,
   "id": "6f5be2b8-29e8-4186-88b4-6a50cd099363",
   "metadata": {},
   "outputs": [
    {
     "data": {
      "text/plain": [
       "<FactoryManagedFrame: EME2000>"
      ]
     },
     "execution_count": 87,
     "metadata": {},
     "output_type": "execute_result"
    }
   ],
   "source": [
    "inertial_frame"
   ]
  },
  {
   "cell_type": "code",
   "execution_count": 90,
   "id": "ee7c539e-fbf4-48da-93cf-c9a10911118a",
   "metadata": {},
   "outputs": [
    {
     "data": {
      "text/plain": [
       "<Frame: CIO/2010-based ITRF simple EOP>"
      ]
     },
     "execution_count": 90,
     "metadata": {},
     "output_type": "execute_result"
    }
   ],
   "source": [
    "earth.getBodyFrame()"
   ]
  },
  {
   "cell_type": "code",
   "execution_count": 86,
   "id": "aed418e1-8809-478c-a847-f409a7127102",
   "metadata": {},
   "outputs": [
    {
     "data": {
      "text/plain": [
       "<FactoryManagedFrame: CIO/2010-based ITRF accurate EOP>"
      ]
     },
     "execution_count": 86,
     "metadata": {},
     "output_type": "execute_result"
    }
   ],
   "source": [
    "earth_frame"
   ]
  },
  {
   "cell_type": "code",
   "execution_count": 88,
   "id": "aec955ab-8653-492d-8a62-45f1744eee37",
   "metadata": {},
   "outputs": [
    {
     "data": {
      "text/plain": [
       "<FactoryManagedFrame: CIO/2010-based ITRF simple EOP>"
      ]
     },
     "execution_count": 88,
     "metadata": {},
     "output_type": "execute_result"
    }
   ],
   "source": [
    "itrf"
   ]
  },
  {
   "cell_type": "code",
   "execution_count": 91,
   "id": "90e27f8f-292b-4936-b4c0-26913471acb1",
   "metadata": {},
   "outputs": [],
   "source": []
  },
  {
   "cell_type": "code",
   "execution_count": 65,
   "id": "1809f95d-605e-4ea4-87fb-ca1de9ada0bf",
   "metadata": {},
   "outputs": [],
   "source": [
    "from org.orekit.time import AbsoluteDate\n",
    "from org.orekit.utils import PVCoordinates, Constants\n",
    "from org.orekit.frames import Frame\n",
    "from org.orekit.models.earth.atmosphere import PythonAtmosphere\n",
    "from org.hipparchus.geometry.euclidean.threed import Vector3D\n",
    "from org.orekit.frames import FramesFactory, Frame\n",
    "from org.orekit.bodies import OneAxisEllipsoid\n",
    "from org.orekit.utils import IERSConventions"
   ]
  },
  {
   "cell_type": "code",
   "execution_count": 52,
   "id": "c24738b3-84ea-4e4f-a04e-4a68889d5b31",
   "metadata": {},
   "outputs": [],
   "source": [
    "a= states[0]"
   ]
  },
  {
   "cell_type": "code",
   "execution_count": 71,
   "id": "4f3fbe13-d1c1-4822-8dc2-8cea022d64d1",
   "metadata": {},
   "outputs": [
    {
     "data": {
      "text/plain": [
       "Timestamp                    2001-02-14 01:27:22\n",
       "Semi-major Axis (km)                 6815.861229\n",
       "Eccentricity                            0.003726\n",
       "Inclination (deg)                      87.263806\n",
       "RAAN (deg)                             70.763889\n",
       "Argument of Perigee (deg)             212.857694\n",
       "True Anomaly (deg)                    147.039955\n",
       "Latitude (deg)                         30.460832\n",
       "Longitude (deg)                        82.810318\n",
       "Altitude (km)                         428.642907\n",
       "Name: 102, dtype: object"
      ]
     },
     "execution_count": 71,
     "metadata": {},
     "output_type": "execute_result"
    }
   ],
   "source": [
    "initial_states.loc[id]"
   ]
  },
  {
   "cell_type": "code",
   "execution_count": 131,
   "id": "c095d85d-d579-4925-807c-85c0f1910591",
   "metadata": {},
   "outputs": [
    {
     "data": {
      "text/plain": [
       "<SpacecraftState: SpacecraftState{orbit=Keplerian parameters: {a: 6815861.2294501355; e: 0.0037259000819176; i: 87.26380555555555; pa: 212.85769444444443; raan: 70.76388888888889; v: 147.03995549397703;}, attitude=org.orekit.attitudes.Attitude@56a9a7b5, mass=260.0, additional={}, additionalDot={}}>"
      ]
     },
     "execution_count": 131,
     "metadata": {},
     "output_type": "execute_result"
    }
   ],
   "source": [
    "a"
   ]
  },
  {
   "cell_type": "code",
   "execution_count": 127,
   "id": "33965daa-a012-4d72-9cc1-22db11f8473b",
   "metadata": {},
   "outputs": [
    {
     "data": {
      "text/plain": [
       "<FactoryManagedFrame: EME2000>"
      ]
     },
     "execution_count": 127,
     "metadata": {},
     "output_type": "execute_result"
    }
   ],
   "source": [
    "inertial_frame.getTransformTo()"
   ]
  },
  {
   "cell_type": "code",
   "execution_count": 130,
   "id": "42f3e49b-6fa7-4b9a-866c-2cc1eec96458",
   "metadata": {},
   "outputs": [
    {
     "data": {
      "text/plain": [
       "<SpacecraftState: SpacecraftState{orbit=Keplerian parameters: {a: 6815861.2294501355; e: 0.0037259000819176; i: 87.26380555555555; pa: 212.85769444444443; raan: 70.76388888888889; v: 147.03995549397703;}, attitude=org.orekit.attitudes.Attitude@56a9a7b5, mass=260.0, additional={}, additionalDot={}}>"
      ]
     },
     "execution_count": 130,
     "metadata": {},
     "output_type": "execute_result"
    }
   ],
   "source": [
    "a"
   ]
  },
  {
   "cell_type": "code",
   "execution_count": 129,
   "id": "978595cb-ab67-4450-b8c5-5b2ea1c405c7",
   "metadata": {},
   "outputs": [
    {
     "data": {
      "text/plain": [
       "(-0.10197853150343263, -95.211616939038, 459004.4637111966)"
      ]
     },
     "execution_count": 129,
     "metadata": {},
     "output_type": "execute_result"
    }
   ],
   "source": []
  },
  {
   "cell_type": "code",
   "execution_count": 97,
   "id": "7995328b-01ff-4d23-a201-ecfe0f77910c",
   "metadata": {},
   "outputs": [
    {
     "data": {
      "text/html": [
       "<div>\n",
       "<style scoped>\n",
       "    .dataframe tbody tr th:only-of-type {\n",
       "        vertical-align: middle;\n",
       "    }\n",
       "\n",
       "    .dataframe tbody tr th {\n",
       "        vertical-align: top;\n",
       "    }\n",
       "\n",
       "    .dataframe thead th {\n",
       "        text-align: right;\n",
       "    }\n",
       "</style>\n",
       "<table border=\"1\" class=\"dataframe\">\n",
       "  <thead>\n",
       "    <tr style=\"text-align: right;\">\n",
       "      <th></th>\n",
       "      <th>A</th>\n",
       "      <th>E</th>\n",
       "      <th>I</th>\n",
       "      <th>RAAN</th>\n",
       "      <th>PA</th>\n",
       "      <th>TA</th>\n",
       "      <th>Timestamp</th>\n",
       "    </tr>\n",
       "  </thead>\n",
       "  <tbody>\n",
       "    <tr>\n",
       "      <th>0</th>\n",
       "      <td>6.815861e+06</td>\n",
       "      <td>0.003726</td>\n",
       "      <td>87.263806</td>\n",
       "      <td>70.763889</td>\n",
       "      <td>212.857694</td>\n",
       "      <td>147.039955</td>\n",
       "      <td>2001-02-14T01:27:22.000Z</td>\n",
       "    </tr>\n",
       "    <tr>\n",
       "      <th>1</th>\n",
       "      <td>6.808568e+06</td>\n",
       "      <td>0.004634</td>\n",
       "      <td>87.262224</td>\n",
       "      <td>70.763155</td>\n",
       "      <td>204.597638</td>\n",
       "      <td>193.598648</td>\n",
       "      <td>2001-02-14T01:37:22.000Z</td>\n",
       "    </tr>\n",
       "    <tr>\n",
       "      <th>2</th>\n",
       "      <td>6.797806e+06</td>\n",
       "      <td>0.005585</td>\n",
       "      <td>87.260000</td>\n",
       "      <td>70.759493</td>\n",
       "      <td>221.160530</td>\n",
       "      <td>215.355933</td>\n",
       "      <td>2001-02-14T01:47:22.000Z</td>\n",
       "    </tr>\n",
       "    <tr>\n",
       "      <th>3</th>\n",
       "      <td>6.800102e+06</td>\n",
       "      <td>0.004142</td>\n",
       "      <td>87.260485</td>\n",
       "      <td>70.754469</td>\n",
       "      <td>230.400336</td>\n",
       "      <td>244.581960</td>\n",
       "      <td>2001-02-14T01:57:22.000Z</td>\n",
       "    </tr>\n",
       "    <tr>\n",
       "      <th>4</th>\n",
       "      <td>6.812149e+06</td>\n",
       "      <td>0.003815</td>\n",
       "      <td>87.262934</td>\n",
       "      <td>70.751764</td>\n",
       "      <td>205.981087</td>\n",
       "      <td>307.680477</td>\n",
       "      <td>2001-02-14T02:07:22.000Z</td>\n",
       "    </tr>\n",
       "    <tr>\n",
       "      <th>...</th>\n",
       "      <td>...</td>\n",
       "      <td>...</td>\n",
       "      <td>...</td>\n",
       "      <td>...</td>\n",
       "      <td>...</td>\n",
       "      <td>...</td>\n",
       "      <td>...</td>\n",
       "    </tr>\n",
       "    <tr>\n",
       "      <th>427</th>\n",
       "      <td>6.797395e+06</td>\n",
       "      <td>0.004476</td>\n",
       "      <td>87.260483</td>\n",
       "      <td>69.638557</td>\n",
       "      <td>173.917992</td>\n",
       "      <td>16667.534788</td>\n",
       "      <td>2001-02-17T00:37:22.000Z</td>\n",
       "    </tr>\n",
       "    <tr>\n",
       "      <th>428</th>\n",
       "      <td>6.807961e+06</td>\n",
       "      <td>0.004781</td>\n",
       "      <td>87.262566</td>\n",
       "      <td>69.634839</td>\n",
       "      <td>195.551438</td>\n",
       "      <td>16684.426161</td>\n",
       "      <td>2001-02-17T00:47:22.000Z</td>\n",
       "    </tr>\n",
       "    <tr>\n",
       "      <th>429</th>\n",
       "      <td>6.815841e+06</td>\n",
       "      <td>0.003696</td>\n",
       "      <td>87.264023</td>\n",
       "      <td>69.634091</td>\n",
       "      <td>200.539328</td>\n",
       "      <td>16717.799809</td>\n",
       "      <td>2001-02-17T00:57:22.000Z</td>\n",
       "    </tr>\n",
       "    <tr>\n",
       "      <th>430</th>\n",
       "      <td>6.809070e+06</td>\n",
       "      <td>0.004622</td>\n",
       "      <td>87.262506</td>\n",
       "      <td>69.633426</td>\n",
       "      <td>193.995296</td>\n",
       "      <td>16762.638094</td>\n",
       "      <td>2001-02-17T01:07:22.000Z</td>\n",
       "    </tr>\n",
       "    <tr>\n",
       "      <th>431</th>\n",
       "      <td>6.798029e+06</td>\n",
       "      <td>0.005410</td>\n",
       "      <td>87.260211</td>\n",
       "      <td>69.629859</td>\n",
       "      <td>211.957526</td>\n",
       "      <td>16783.026343</td>\n",
       "      <td>2001-02-17T01:17:22.000Z</td>\n",
       "    </tr>\n",
       "  </tbody>\n",
       "</table>\n",
       "<p>432 rows × 7 columns</p>\n",
       "</div>"
      ],
      "text/plain": [
       "                A         E          I       RAAN          PA            TA  \\\n",
       "0    6.815861e+06  0.003726  87.263806  70.763889  212.857694    147.039955   \n",
       "1    6.808568e+06  0.004634  87.262224  70.763155  204.597638    193.598648   \n",
       "2    6.797806e+06  0.005585  87.260000  70.759493  221.160530    215.355933   \n",
       "3    6.800102e+06  0.004142  87.260485  70.754469  230.400336    244.581960   \n",
       "4    6.812149e+06  0.003815  87.262934  70.751764  205.981087    307.680477   \n",
       "..            ...       ...        ...        ...         ...           ...   \n",
       "427  6.797395e+06  0.004476  87.260483  69.638557  173.917992  16667.534788   \n",
       "428  6.807961e+06  0.004781  87.262566  69.634839  195.551438  16684.426161   \n",
       "429  6.815841e+06  0.003696  87.264023  69.634091  200.539328  16717.799809   \n",
       "430  6.809070e+06  0.004622  87.262506  69.633426  193.995296  16762.638094   \n",
       "431  6.798029e+06  0.005410  87.260211  69.629859  211.957526  16783.026343   \n",
       "\n",
       "                    Timestamp  \n",
       "0    2001-02-14T01:27:22.000Z  \n",
       "1    2001-02-14T01:37:22.000Z  \n",
       "2    2001-02-14T01:47:22.000Z  \n",
       "3    2001-02-14T01:57:22.000Z  \n",
       "4    2001-02-14T02:07:22.000Z  \n",
       "..                        ...  \n",
       "427  2001-02-17T00:37:22.000Z  \n",
       "428  2001-02-17T00:47:22.000Z  \n",
       "429  2001-02-17T00:57:22.000Z  \n",
       "430  2001-02-17T01:07:22.000Z  \n",
       "431  2001-02-17T01:17:22.000Z  \n",
       "\n",
       "[432 rows x 7 columns]"
      ]
     },
     "execution_count": 97,
     "metadata": {},
     "output_type": "execute_result"
    }
   ],
   "source": [
    "pd.DataFrame([extract_kepllerian_parameters(states[i]) for i in range(len(states))])"
   ]
  },
  {
   "cell_type": "markdown",
   "id": "8890dcaf-1e9f-45b1-b9bb-9513988f0cc4",
   "metadata": {
    "jp-MarkdownHeadingCollapsed": true
   },
   "source": [
    "### Test MSIS"
   ]
  },
  {
   "cell_type": "code",
   "execution_count": null,
   "id": "d1c389e0-700d-4fcf-aa7f-51a8d7e2f38b",
   "metadata": {
    "scrolled": true,
    "tags": []
   },
   "outputs": [],
   "source": [
    "model = PersistenceModel(plot_trajectory=False)\n",
    "for id in df_train.index:\n",
    "    if os.path.exists('data_isaac/sat_density_pred_no_drag/density_pred'+ str(id) + '.csv'):\n",
    "        continue\n",
    "    else:\n",
    "        bad_id.append(id)\n",
    "        continue\n",
    "    omni_data = omni[id].loc[:,['Timestamp', 'f10.7_index', 'ap_index_nT']]\n",
    "    omni_data['Timestamp'] = pd.to_datetime(omni_data['Timestamp'])\n",
    "    omni_data = omni_data.ffill()\n",
    "    try:\n",
    "        states, densities = model(omni_data,df_train.loc[id].to_dict())\n",
    "        predictions = model._convert_to_df(states, densities)\n",
    "        predictions.to_csv('data_isaac/sat_density_pred_no_drag/density_pred'+ str(id) + '.csv')\n",
    "    except:\n",
    "        print(id)"
   ]
  }
 ],
 "metadata": {
  "kernelspec": {
   "display_name": "orekit_venv_v12",
   "language": "python",
   "name": "orekit_venv_v12"
  },
  "language_info": {
   "codemirror_mode": {
    "name": "ipython",
    "version": 3
   },
   "file_extension": ".py",
   "mimetype": "text/x-python",
   "name": "python",
   "nbconvert_exporter": "python",
   "pygments_lexer": "ipython3",
   "version": "3.8.20"
  }
 },
 "nbformat": 4,
 "nbformat_minor": 5
}
