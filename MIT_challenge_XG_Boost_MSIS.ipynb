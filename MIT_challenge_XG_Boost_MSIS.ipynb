{
 "cells": [
  {
   "cell_type": "code",
   "execution_count": 1,
   "id": "c2528786-0bc7-41ac-bbe5-f539fb641d74",
   "metadata": {
    "tags": []
   },
   "outputs": [],
   "source": [
    "import pandas as pd\n",
    "import numpy as np\n",
    "from datetime import datetime, timedelta\n",
    "import os\n",
    "from tqdm import tqdm\n",
    "import pickle\n",
    "tqdm.pandas()\n",
    "import warnings\n",
    "import catboost as cb\n",
    "# from sklearn.metrics import mean_squared_error\n",
    "# from sklearn.metrics import r2_score\n",
    "from submission_xgboost.utils import *"
   ]
  },
  {
   "cell_type": "markdown",
   "id": "21424dc9-41a2-4aca-bf00-5259b20c39ec",
   "metadata": {
    "tags": []
   },
   "source": [
    "### Load Initial position and dict of Omni"
   ]
  },
  {
   "cell_type": "code",
   "execution_count": 2,
   "id": "ade28363-55c9-45c8-8a53-4d8ab043341d",
   "metadata": {
    "tags": []
   },
   "outputs": [],
   "source": [
    "initial_states = pd.read_csv('C:/Users/isaac/Documents/Challenge_MIT_2/mit_challenge_2/data/phase_1/00000_to_02284-initial_states.csv')\n",
    "initial_states = pd.concat([initial_states,pd.read_csv('C:/Users/isaac/Documents/Challenge_MIT_2/mit_challenge_2/data/phase_1/02285_to_02357-initial_states.csv')])\n",
    "initial_states = pd.concat([initial_states,pd.read_csv('C:/Users/isaac/Documents/Challenge_MIT_2/mit_challenge_2/data/phase_1/02358_to_04264-initial_states.csv')])\n",
    "initial_states = pd.concat([initial_states,pd.read_csv('C:/Users/isaac/Documents/Challenge_MIT_2/mit_challenge_2/data/phase_1/04265_to_05570-initial_states.csv')])\n",
    "initial_states = pd.concat([initial_states,pd.read_csv('C:/Users/isaac/Documents/Challenge_MIT_2/mit_challenge_2/data/phase_1/05571_to_05614-initial_states.csv')])\n",
    "initial_states = pd.concat([initial_states,pd.read_csv('C:/Users/isaac/Documents/Challenge_MIT_2/mit_challenge_2/data/phase_1/05615_to_06671-initial_states.csv')])\n",
    "initial_states['Timestamp'] = pd.to_datetime(initial_states['Timestamp'])\n",
    "\n",
    "# add last data\n",
    "df_temp = pd.read_csv('C:/Users/isaac/Documents/Challenge_MIT_2/mit_challenge_2/data/phase_1/06672_to_08118-initial_states.csv')\n",
    "df_temp['Timestamp'] = pd.to_datetime(df_temp['Timestamp'])\n",
    "initial_states = pd.concat([initial_states,df_temp])\n",
    "initial_states = initial_states.set_index('File ID')"
   ]
  },
  {
   "cell_type": "code",
   "execution_count": 3,
   "id": "972ff92e-5f71-48f0-906a-1d478efc3c0c",
   "metadata": {},
   "outputs": [],
   "source": [
    "initial_states =  initial_states.mask((initial_states==9.99e+29)|(initial_states==9.99e+32))"
   ]
  },
  {
   "cell_type": "code",
   "execution_count": 4,
   "id": "3e8002aa-6f0c-42e6-afc9-5a8314164850",
   "metadata": {},
   "outputs": [],
   "source": [
    "initial_states = initial_states.loc[initial_states.count(1)==10]"
   ]
  },
  {
   "cell_type": "markdown",
   "id": "080c79d6-fa6d-4418-8414-776a5fc5be90",
   "metadata": {
    "jp-MarkdownHeadingCollapsed": true
   },
   "source": [
    "### Estimates lat, long, alt"
   ]
  },
  {
   "cell_type": "code",
   "execution_count": null,
   "id": "3a35e617-5747-4a68-a34e-a3b2100b4865",
   "metadata": {
    "scrolled": true
   },
   "outputs": [],
   "source": [
    "model_alt = cb.CatBoostRegressor(loss_function='RMSE',iterations=100,subsample=0.7)\n",
    "model_alt.fit(X=initial_states.dropna()[['Semi-major Axis (km)',\t'Eccentricity',\t'Inclination (deg)',\t'RAAN (deg)',\t'Argument of Perigee (deg)',\t'True Anomaly (deg)']],\n",
    "              y= initial_states.dropna()['Altitude (km)'])"
   ]
  },
  {
   "cell_type": "code",
   "execution_count": null,
   "id": "e5dd331b-713f-4a5d-8736-70b935cd2e90",
   "metadata": {},
   "outputs": [],
   "source": [
    "initial_states['Altitude (km) estimated'] = model_alt.predict(initial_states[['Semi-major Axis (km)',\t'Eccentricity',\t'Inclination (deg)',\t'RAAN (deg)',\t'Argument of Perigee (deg)',\t'True Anomaly (deg)']])"
   ]
  },
  {
   "cell_type": "code",
   "execution_count": null,
   "id": "e8cbb133-3d1b-4edb-a6f4-711ea79d0317",
   "metadata": {},
   "outputs": [],
   "source": [
    "initial_states[['Altitude (km)' , 'Altitude (km) estimated']].loc[initial_states['Altitude (km)'].isna()]"
   ]
  },
  {
   "cell_type": "code",
   "execution_count": null,
   "id": "e2b05a55-b90a-4c93-a68e-c27f193ed943",
   "metadata": {
    "scrolled": true
   },
   "outputs": [],
   "source": [
    "model_lat = cb.CatBoostRegressor(loss_function='RMSE',iterations=100,subsample=0.8,depth=2)\n",
    "model_lat.fit(X=initial_states.dropna()[['Semi-major Axis (km)',\t'Eccentricity',\t'Inclination (deg)',\t'RAAN (deg)',\t'Argument of Perigee (deg)',\t'True Anomaly (deg)']],\n",
    "              y= initial_states.dropna()['Latitude (deg)'])"
   ]
  },
  {
   "cell_type": "code",
   "execution_count": null,
   "id": "00b0c97e-a133-4e77-9c60-d5b17d5b4e25",
   "metadata": {
    "scrolled": true
   },
   "outputs": [],
   "source": [
    "model_long = cb.CatBoostRegressor(loss_function='RMSE',iterations=100,depth=2)\n",
    "model_long.fit(X=initial_states.dropna()[['Semi-major Axis (km)',\t'Eccentricity',\t'Inclination (deg)',\t'RAAN (deg)',\t'Argument of Perigee (deg)',\t'True Anomaly (deg)']].iloc[:4000],\n",
    "              y= initial_states.dropna()['Longitude (deg)'].iloc[:4000])\n",
    "\n",
    "print(model_long.score(X=initial_states.dropna()[['Semi-major Axis (km)',\t'Eccentricity',\t'Inclination (deg)',\t'RAAN (deg)',\t'Argument of Perigee (deg)',\t'True Anomaly (deg)']].iloc[:4000],\n",
    "              y= initial_states.dropna()['Longitude (deg)'].iloc[:4000]))\n",
    "\n",
    "print(model_long.score(X=initial_states.dropna()[['Semi-major Axis (km)',\t'Eccentricity',\t'Inclination (deg)',\t'RAAN (deg)',\t'Argument of Perigee (deg)',\t'True Anomaly (deg)']].iloc[4000:],\n",
    "              y= initial_states.dropna()['Longitude (deg)'].iloc[4000:]))"
   ]
  },
  {
   "cell_type": "markdown",
   "id": "104f91ea-ad58-4e3b-8d1e-bf2f65d288e7",
   "metadata": {
    "jp-MarkdownHeadingCollapsed": true
   },
   "source": [
    "### Read data"
   ]
  },
  {
   "cell_type": "code",
   "execution_count": null,
   "id": "1c5bf58b-f76a-4fcc-a7d8-ae7fa196fad5",
   "metadata": {
    "tags": []
   },
   "outputs": [],
   "source": [
    "with open('data/data_isaac/omni.pickle', 'rb') as f:\n",
    "    omni = pickle.load(f)\n",
    "with open('data/data_isaac/sat.pickle', 'rb') as f:\n",
    "    sat = pickle.load(f)\n",
    "\n",
    "for i in sat.keys():\n",
    "    sat[i]['Orbit Mean Density (kg/m^3)'] = sat[i]['Orbit Mean Density (kg/m^3)'].replace(9.99e32, np.nan)\n",
    "    sat[i]['Orbit Mean Density (kg/m^3)'] = sat[i]['Orbit Mean Density (kg/m^3)'].ffill().bfill() # add forward and backward fill"
   ]
  },
  {
   "cell_type": "code",
   "execution_count": null,
   "id": "72e1ae2f-a26f-47ee-9bff-18f09266f7d2",
   "metadata": {
    "tags": []
   },
   "outputs": [],
   "source": [
    "# all_files_omni = os.listdir(\"phase_1/omni2/\")\n",
    "# all_files_dens = os.listdir(\"phase_1/sat_density/\")\n",
    "# omni = {}\n",
    "# for i in tqdm(all_files_omni):\n",
    "#     omni[int(i.split('-')[1])] = pd.read_csv('phase_1/omni2/'+i)\n",
    "# sat = {}\n",
    "# for i in tqdm(all_files_dens):\n",
    "#     sat[int(i.replace('gr-of','grof').split('-')[1])] = pd.read_csv('phase_1/sat_density/'+i)\n",
    "# with open('omni.pickle', 'wb') as handle:\n",
    "#     pickle.dump(omni, handle, protocol=pickle.HIGHEST_PROTOCOL)\n",
    "# with open('sat.pickle', 'wb') as handle:\n",
    "#     pickle.dump(sat, handle, protocol=pickle.HIGHEST_PROTOCOL)"
   ]
  },
  {
   "cell_type": "code",
   "execution_count": null,
   "id": "14d895f2-21ab-4ce5-badc-a095b73f3998",
   "metadata": {
    "scrolled": true,
    "tags": []
   },
   "outputs": [],
   "source": [
    "res = initial_states.reset_index()['File ID'].progress_apply(lambda win:create_features_and_target(win,initial_states,omni,sat,predict_mean=False,training_mode=True))"
   ]
  },
  {
   "cell_type": "code",
   "execution_count": null,
   "id": "717e3c34-6ee5-45db-94c5-3f738997cd9f",
   "metadata": {},
   "outputs": [],
   "source": [
    "with open('data/data_isaac/res_6000.pickle', 'wb') as handle:\n",
    "     pickle.dump(res, handle, protocol=pickle.HIGHEST_PROTOCOL)"
   ]
  },
  {
   "cell_type": "markdown",
   "id": "6cb95db1-d754-4987-b02f-ca7e3e72a477",
   "metadata": {},
   "source": [
    "## XGBOOST"
   ]
  },
  {
   "cell_type": "code",
   "execution_count": 5,
   "id": "96217ef1-77da-4909-8c24-5c8f7460098e",
   "metadata": {},
   "outputs": [],
   "source": [
    "with open('data/data_isaac/res_6000.pickle', 'rb') as f:\n",
    "    res = pickle.load(f)"
   ]
  },
  {
   "cell_type": "markdown",
   "id": "bfa48497-54bb-463a-a627-1773f629d7bc",
   "metadata": {
    "jp-MarkdownHeadingCollapsed": true,
    "tags": []
   },
   "source": [
    "### Prediction by mean"
   ]
  },
  {
   "cell_type": "code",
   "execution_count": null,
   "id": "3cf0fe55-eff0-4257-b6a7-c7df91e34fa9",
   "metadata": {
    "scrolled": true,
    "tags": []
   },
   "outputs": [],
   "source": [
    "model_mean = cb.CatBoostRegressor(loss_function='RMSE',iterations=10000)\n",
    "model_mean.fit(df_train.drop(['Timestamp_initial','Target'],axis=1).iloc[:6000],df_train['Target'].iloc[:6000])"
   ]
  },
  {
   "cell_type": "code",
   "execution_count": null,
   "id": "b5a3710b-5b94-4d9b-bf2c-c364ad8b1eee",
   "metadata": {
    "tags": []
   },
   "outputs": [],
   "source": [
    "model_mean.score(df_train.drop(['Timestamp_initial','Target'],axis=1).iloc[:6000],df_train['Target'].iloc[:6000])"
   ]
  },
  {
   "cell_type": "code",
   "execution_count": null,
   "id": "7673c860-1c94-4f62-9271-9797c7914e02",
   "metadata": {
    "tags": []
   },
   "outputs": [],
   "source": [
    "model_mean.score(df_train.drop(['Timestamp_initial','Target'],axis=1).iloc[6000:],df_train['Target'].iloc[6000:])"
   ]
  },
  {
   "cell_type": "code",
   "execution_count": null,
   "id": "25f35dcb-e451-4c75-bd49-9da86976b5c0",
   "metadata": {
    "tags": []
   },
   "outputs": [],
   "source": [
    "plt.scatter(model_mean.predict(df_train.drop(['Timestamp_initial','Target'],axis=1).iloc[:6000]),df_train['Target'].iloc[:6000])"
   ]
  },
  {
   "cell_type": "code",
   "execution_count": null,
   "id": "c0364415-3754-4fd9-b843-ea43e33e61a5",
   "metadata": {
    "tags": []
   },
   "outputs": [],
   "source": [
    "plt.scatter(model_mean.predict(df_train.drop(['Timestamp_initial','Target'],axis=1).iloc[6000:]),df_train['Target'].iloc[6000:])"
   ]
  },
  {
   "cell_type": "markdown",
   "id": "d6df640a-7080-497d-875f-2af6989ec2b8",
   "metadata": {
    "tags": []
   },
   "source": [
    "### Prediction by timestamp to predict"
   ]
  },
  {
   "cell_type": "markdown",
   "id": "7871ae3a-d189-4ba9-9169-51d7c5d0ccd2",
   "metadata": {},
   "source": [
    "#### Test train validate"
   ]
  },
  {
   "cell_type": "code",
   "execution_count": 6,
   "id": "832896ed-1c15-454f-81b1-834fdc873a5d",
   "metadata": {},
   "outputs": [],
   "source": [
    "index = list(res.keys())\n",
    "np.random.seed(24)\n",
    "np.random.shuffle(index)"
   ]
  },
  {
   "cell_type": "code",
   "execution_count": null,
   "id": "6e975b7c-11b7-48b9-abec-b003c4a90447",
   "metadata": {
    "scrolled": true
   },
   "outputs": [],
   "source": [
    "#train_index,valid_index,test_index = index[:5600],index[5600:6900],index[6900:]"
   ]
  },
  {
   "cell_type": "code",
   "execution_count": null,
   "id": "f7726572-8318-4781-a712-7fc59385d195",
   "metadata": {},
   "outputs": [],
   "source": [
    "'YEAR', 'DOY', 'Hour','Timestamp'"
   ]
  },
  {
   "cell_type": "code",
   "execution_count": 7,
   "id": "a67e9225-6c8b-49bb-b3f7-29cbde68ad6c",
   "metadata": {},
   "outputs": [
    {
     "name": "stdout",
     "output_type": "stream",
     "text": [
      "15\n"
     ]
    }
   ],
   "source": [
    "train_index,valid_index,test_index = index[4000:4600],index[4600:5900],index[5900:]\n",
    "col_to_remove = ['FileId','Timestamp','Timestamp_initial'] +\\\n",
    "                [i for i in res[0].columns if i.find('YEAR')!=-1]+\\\n",
    "                [i for i in res[0].columns if i.find('DOY')!=-1]+\\\n",
    "                [i for i in res[0].columns if i.find('Hour')!=-1]+\\\n",
    "                [i for i in res[0].columns if i.find('std_')!=-1]+\\\n",
    "                [i for i in res[0].columns if i.find('median_')!=-1]\n",
    "                #[i for i in res[0].columns if i.find('mean_')!=-1]+\\\n",
    "                #[i for i in res[0].columns if i.find('max_')!=-1]+\\\n",
    "                #[i for i in res[0].columns if i.find('min_')!=-1]+\\\n",
    "print(len(col_to_remove))"
   ]
  },
  {
   "cell_type": "code",
   "execution_count": null,
   "id": "91105ea5-e342-4a37-95e8-9379a94e4234",
   "metadata": {
    "tags": []
   },
   "outputs": [],
   "source": [
    "df_training_set = pd.concat( dict((k,res[k]) for k in train_index if k in initial_states.index)).reset_index().rename({'level_0':'FileId'},axis=1)\n",
    "df_training_set = df_training_set.drop(col_to_remove,axis=1)\n",
    "df_training_set = df_training_set.dropna(subset=['Orbit Mean Density (kg/m^3)'],axis=0)\n",
    "\n",
    "df_valid_set =  pd.concat( dict((k,res[k]) for k in valid_index if k in initial_states.index)).reset_index().rename({'level_0':'FileId'},axis=1)\n",
    "df_valid_set = df_valid_set.drop(col_to_remove,axis=1)\n",
    "df_valid_set = df_valid_set.dropna(subset=['Orbit Mean Density (kg/m^3)'],axis=0)\n",
    "\n",
    "df_test_set =  pd.concat( dict((k,res[k]) for k in test_index if k in initial_states.index)).reset_index().rename({'level_0':'FileId'},axis=1)\n",
    "df_test_set = df_test_set.drop(col_to_remove,axis=1)\n",
    "df_test_set = df_test_set.dropna(subset=['Orbit Mean Density (kg/m^3)'],axis=0)\n",
    "\n",
    "train_dataset = cb.Pool(df_training_set.drop('Orbit Mean Density (kg/m^3)',axis=1), df_training_set['Orbit Mean Density (kg/m^3)']* 10**12) \n",
    "valid_dataset = cb.Pool(df_valid_set.drop('Orbit Mean Density (kg/m^3)',axis=1), df_valid_set['Orbit Mean Density (kg/m^3)']* 10**12) \n",
    "test_dataset = cb.Pool(df_test_set.drop('Orbit Mean Density (kg/m^3)',axis=1), df_test_set['Orbit Mean Density (kg/m^3)']* 10**12) "
   ]
  },
  {
   "cell_type": "code",
   "execution_count": null,
   "id": "35d0a955-02a8-431d-935b-7d85a6e1a3cc",
   "metadata": {},
   "outputs": [],
   "source": [
    "print(df_training_set.shape)\n",
    "print(df_valid_set.shape)\n",
    "print(df_test_set.shape)"
   ]
  },
  {
   "cell_type": "markdown",
   "id": "5909ff25-33bc-466b-a947-759c5257bb7d",
   "metadata": {
    "jp-MarkdownHeadingCollapsed": true
   },
   "source": [
    "#### R2 of predicting only mean"
   ]
  },
  {
   "cell_type": "code",
   "execution_count": null,
   "id": "78184aaf-2241-4f4f-9e26-310f9aa44e53",
   "metadata": {},
   "outputs": [],
   "source": [
    "from sklearn.metrics import r2_score"
   ]
  },
  {
   "cell_type": "code",
   "execution_count": null,
   "id": "4b25dcc1-92c1-45a5-95f4-d5c6e75a3743",
   "metadata": {},
   "outputs": [],
   "source": [
    "test = pd.merge(df_training_set,df_training_set.groupby('FileId')['Orbit Mean Density (kg/m^3)'].mean().rename('Predict_Mean').reset_index(),on='FileId')[['Orbit Mean Density (kg/m^3)','Predict_Mean']]"
   ]
  },
  {
   "cell_type": "code",
   "execution_count": null,
   "id": "6c975ecf-da15-44e5-a272-7e4a71864571",
   "metadata": {},
   "outputs": [],
   "source": [
    "r2_score(test.iloc[:,0], test.iloc[:,1])"
   ]
  },
  {
   "cell_type": "code",
   "execution_count": null,
   "id": "df98cdc9-4297-470c-9074-fafc1b26f463",
   "metadata": {},
   "outputs": [],
   "source": [
    "#df_training_set = pd.concat( dict((k,res[k]) for k in train_index)).reset_index().rename({'level_0':'FileId'},axis=1)"
   ]
  },
  {
   "cell_type": "markdown",
   "id": "65ed30b9-faa6-43e3-b8f1-887c7d7d3b07",
   "metadata": {
    "jp-MarkdownHeadingCollapsed": true
   },
   "source": [
    "#### All "
   ]
  },
  {
   "cell_type": "code",
   "execution_count": null,
   "id": "7f6b5bf2-e45a-4e28-a4dd-42cb18a4f57c",
   "metadata": {},
   "outputs": [],
   "source": [
    "df_training_set = pd.concat(res.values,ignore_index=True)\n",
    "df_training_set = df_training_set.drop(['Timestamp_initial'],axis=1)\n",
    "df_training_set = df_training_set.dropna(subset=['Orbit Mean Density (kg/m^3)'],axis=0)\n",
    "\n",
    "train_dataset = cb.Pool(df_training_set.drop('Orbit Mean Density (kg/m^3)',axis=1), df_training_set['Orbit Mean Density (kg/m^3)']* 10**12) "
   ]
  },
  {
   "cell_type": "markdown",
   "id": "b53e236d-2933-49a1-9c0d-7623546c3dd0",
   "metadata": {},
   "source": [
    "#### Train model"
   ]
  },
  {
   "cell_type": "code",
   "execution_count": null,
   "id": "56de7719-75e2-4ccd-9ecf-63d3dcd9ddbc",
   "metadata": {},
   "outputs": [],
   "source": [
    "model = cb.CatBoostRegressor(iterations=100)\n",
    "grid = {'subsample': [ 0.8, 0.9],\n",
    "        'depth': [2,4, 6, 10],\n",
    "        'l2_leaf_reg': [1, 3, 5, 7, 9],\n",
    "       }\n",
    "grid_search_result  = model.grid_search(grid, X = train_dataset)"
   ]
  },
  {
   "cell_type": "code",
   "execution_count": null,
   "id": "31c235ae-58bc-489e-b558-72836b4e7505",
   "metadata": {
    "scrolled": true
   },
   "outputs": [],
   "source": [
    "model = cb.CatBoostRegressor(loss_function='RMSE',iterations=260,depth=2,eta=0.2,subsample=0.9,l2_leaf_reg=1)\n",
    "model.fit(train_dataset,eval_set=valid_dataset)"
   ]
  },
  {
   "cell_type": "code",
   "execution_count": null,
   "id": "00ee950f-472c-42e6-9292-ba5e215a7f0d",
   "metadata": {},
   "outputs": [],
   "source": [
    "print(model.score(train_dataset))\n",
    "print(model.score(valid_dataset))\n",
    "print(model.score(test_dataset))"
   ]
  },
  {
   "cell_type": "code",
   "execution_count": null,
   "id": "3c6db4c6-d89a-4423-8bd1-f706a8af8039",
   "metadata": {
    "scrolled": true
   },
   "outputs": [],
   "source": [
    "plt.hist(model.predict(train_dataset)/10**12,bins=200)\n",
    "df_training_set['Orbit Mean Density (kg/m^3)'].hist(bins=200,alpha=0.5)"
   ]
  },
  {
   "cell_type": "code",
   "execution_count": null,
   "id": "79b65255-9887-41c4-a01d-a0ff1d4b9442",
   "metadata": {},
   "outputs": [],
   "source": [
    "pd.DataFrame(train_dataset.get_label()).iloc[:10000:,0].plot(label='Train label')\n",
    "pd.DataFrame(model.predict(train_dataset)).iloc[:10000,0].plot(label='Model prediction')\n",
    "plt.legend()"
   ]
  },
  {
   "cell_type": "code",
   "execution_count": null,
   "id": "4172720e-91b2-4968-95a1-0e66abaac7ab",
   "metadata": {},
   "outputs": [],
   "source": [
    "data = pd.DataFrame({'feature_importance':model.get_feature_importance(), \n",
    "                     'feature_names': model.feature_names_}).sort_values(by=['feature_importance'], \n",
    "                                                       ascending=False) \n",
    "data.head(20)"
   ]
  },
  {
   "cell_type": "code",
   "execution_count": null,
   "id": "e3c68460-7b48-4659-bcd9-7cc585b1ba40",
   "metadata": {
    "tags": []
   },
   "outputs": [],
   "source": [
    "model.save_model('data/trained_model/model_by_timestamp_xgboost_second.cbm')"
   ]
  },
  {
   "cell_type": "code",
   "execution_count": null,
   "id": "a5b0e379-257d-4e0a-863e-5c26d4585d24",
   "metadata": {
    "tags": []
   },
   "outputs": [],
   "source": [
    "id = 7630\n",
    "res[id].reset_index()['Orbit Mean Density (kg/m^3)'].plot()\n",
    "plt.plot(model.predict(res[id])/10**12,color='red')"
   ]
  },
  {
   "cell_type": "code",
   "execution_count": null,
   "id": "1042b339-4e77-495c-90e7-7b9f97d2a25e",
   "metadata": {
    "tags": []
   },
   "outputs": [],
   "source": [
    "print(model.score(train_dataset))\n",
    "print(model.score(valid_dataset))\n",
    "print(model.score(test_dataset))"
   ]
  },
  {
   "cell_type": "markdown",
   "id": "22be0d82-af87-4fc7-8514-1fec9e554410",
   "metadata": {
    "jp-MarkdownHeadingCollapsed": true,
    "tags": []
   },
   "source": [
    "\n",
    "\n",
    "\n",
    "\n",
    "###  Compare pred"
   ]
  },
  {
   "cell_type": "code",
   "execution_count": null,
   "id": "fddc9be3-2247-4a7a-9735-dd674c72c21a",
   "metadata": {},
   "outputs": [],
   "source": [
    "model = cb.CatBoostRegressor()\n",
    "model.load_model('data/trained_model/model_by_timestamp_xgboost_test.cbm')\n",
    "data = pd.DataFrame({'feature_importance':model.get_feature_importance(), \n",
    "              'feature_names': model.feature_names_}).sort_values(by=['feature_importance'], \n",
    "                                                       ascending=False)\n",
    "data.head(15)"
   ]
  },
  {
   "cell_type": "code",
   "execution_count": null,
   "id": "f7a2fe5b-51fc-430d-9dfa-585d23f994ba",
   "metadata": {},
   "outputs": [],
   "source": [
    "model = cb.CatBoostRegressor()\n",
    "model.load_model('data/trained_model/model_by_timestamp_xgboost_26_02_2025.cbm')\n",
    "data = pd.DataFrame({'feature_importance':model.get_feature_importance(), \n",
    "              'feature_names': model.feature_names_}).sort_values(by=['feature_importance'], \n",
    "                                                       ascending=False)\n",
    "data.head(15)"
   ]
  },
  {
   "cell_type": "code",
   "execution_count": null,
   "id": "d6e70a62-f656-402c-9ebd-e89a3cd9401d",
   "metadata": {
    "tags": []
   },
   "outputs": [],
   "source": [
    "model = cb.CatBoostRegressor()\n",
    "model.load_model('data/trained_model/model_by_timestamp.cbm')\n",
    "data = pd.DataFrame({'feature_importance':model.get_feature_importance(), \n",
    "              'feature_names': model.feature_names_}).sort_values(by=['feature_importance'], \n",
    "                                                       ascending=False)\n",
    "data.head(15)"
   ]
  },
  {
   "cell_type": "code",
   "execution_count": null,
   "id": "048588bb-83af-4d02-8c1d-e8ef1a58aaea",
   "metadata": {
    "tags": []
   },
   "outputs": [],
   "source": [
    "# df_pred_by_mean = pd.DataFrame(create_pred_timestamps(df_train['Timestamp'].loc[id]),columns=['Timestamp'])\n",
    "# df_pred_by_mean['Orbit Mean Density (kg/m^3)'] = model_mean.predict(create_features_and_target_by_dict(id,df_train,omni,sat).drop(['Timestamp', 'mean_Timestamp', 'last_Timestamp','Target']))"
   ]
  },
  {
   "cell_type": "code",
   "execution_count": null,
   "id": "3c65b97d-018c-4aee-8fc2-01c853fc3d29",
   "metadata": {},
   "outputs": [],
   "source": [
    "id = 10\n"
   ]
  },
  {
   "cell_type": "code",
   "execution_count": null,
   "id": "e9f06660-7f76-4ba0-99ef-c27aa56330b3",
   "metadata": {
    "tags": []
   },
   "outputs": [],
   "source": [
    "pred_feature = create_features_and_target(id,initial_states,omni,sat,predict_mean=False)\n",
    "df_pred = pd.DataFrame(model.predict(pred_feature.reset_index().drop(['Timestamp'],axis=1)),\n",
    "             index=pred_feature.index,columns=['Orbit Mean Density (kg/m^3)']).reset_index()"
   ]
  },
  {
   "cell_type": "code",
   "execution_count": null,
   "id": "bceec23c-8f68-4e7d-a758-d83a124d9ca1",
   "metadata": {},
   "outputs": [],
   "source": [
    "df_pred"
   ]
  },
  {
   "cell_type": "code",
   "execution_count": null,
   "id": "117efec7-b23b-40a7-8ac8-b0e2ea6b6044",
   "metadata": {
    "tags": []
   },
   "outputs": [],
   "source": [
    "df_pred_msis = pd.read_csv('data/data_isaac/sat_density_pred/density_pred'+str(id)+ '.csv',index_col=0)\n",
    "df_pred_msis['Timestamp'] = pd.to_datetime(df_pred_msis['Timestamp'])"
   ]
  },
  {
   "cell_type": "code",
   "execution_count": null,
   "id": "997c5892-8700-4c99-90c4-e3d7a08a1e93",
   "metadata": {
    "tags": []
   },
   "outputs": [],
   "source": [
    "df_pred_msis.shape"
   ]
  },
  {
   "cell_type": "code",
   "execution_count": null,
   "id": "ef5b8fdd-6900-4e72-ae80-f80e91ee15bf",
   "metadata": {
    "tags": []
   },
   "outputs": [],
   "source": [
    "df_true = sat[id]"
   ]
  },
  {
   "cell_type": "code",
   "execution_count": null,
   "id": "d7d3d469-a970-410e-9783-0547c03d1078",
   "metadata": {
    "tags": []
   },
   "outputs": [],
   "source": [
    "plt.figure()\n",
    "df_true.set_index('Timestamp')['Orbit Mean Density (kg/m^3)'].plot()\n",
    "df_pred.set_index('Timestamp')['Orbit Mean Density (kg/m^3)'].plot()\n",
    "#df_pred_by_mean.set_index('Timestamp')['Orbit Mean Density (kg/m^3)'].plot()\n",
    "df_pred_msis.set_index('Timestamp')['Density (kg/m3)'].plot()"
   ]
  },
  {
   "cell_type": "code",
   "execution_count": null,
   "id": "e1d151c7-92fa-4e18-b6f6-94036efdc8f2",
   "metadata": {},
   "outputs": [],
   "source": [
    "df_true"
   ]
  },
  {
   "cell_type": "code",
   "execution_count": null,
   "id": "c64ca2f0-da36-4514-b621-b93f29b02ea3",
   "metadata": {},
   "outputs": [],
   "source": [
    "df_true['Orbit Mean Density (kg/m^3)'].plot()"
   ]
  },
  {
   "cell_type": "code",
   "execution_count": null,
   "id": "6430bd4e-a359-4a67-918b-747ae402b1df",
   "metadata": {},
   "outputs": [],
   "source": [
    "df_pred"
   ]
  },
  {
   "cell_type": "code",
   "execution_count": null,
   "id": "dc266715-07de-4b90-8104-a3c48f4d9ea8",
   "metadata": {
    "tags": []
   },
   "outputs": [],
   "source": [
    "df_pred_msis.set_index('Timestamp')['Density (kg/m3)'].plot()"
   ]
  },
  {
   "cell_type": "markdown",
   "id": "f89bbd2e-3912-47db-aa08-b1f7ef1e632b",
   "metadata": {
    "jp-MarkdownHeadingCollapsed": true,
    "tags": []
   },
   "source": [
    "\n",
    "###  Model by MSIS"
   ]
  },
  {
   "cell_type": "code",
   "execution_count": null,
   "id": "b3a535d4-a061-40c8-aea0-9c2e85dd2d99",
   "metadata": {
    "tags": []
   },
   "outputs": [],
   "source": [
    "from atm_me import PersistenceMSIS, MSISPersistenceAtmosphere, PersistenceModel"
   ]
  },
  {
   "cell_type": "code",
   "execution_count": null,
   "id": "75f7bbff-c5c8-467d-b4d5-52825efbf250",
   "metadata": {
    "tags": []
   },
   "outputs": [],
   "source": [
    "bad_id = []"
   ]
  },
  {
   "cell_type": "code",
   "execution_count": null,
   "id": "d1c389e0-700d-4fcf-aa7f-51a8d7e2f38b",
   "metadata": {
    "scrolled": true,
    "tags": []
   },
   "outputs": [],
   "source": [
    "model = PersistenceModel(plot_trajectory=False)\n",
    "for id in df_train.index:\n",
    "    if os.path.exists('data_isaac/sat_density_pred_no_drag/density_pred'+ str(id) + '.csv'):\n",
    "        continue\n",
    "    else:\n",
    "        bad_id.append(id)\n",
    "        continue\n",
    "    omni_data = omni[id].loc[:,['Timestamp', 'f10.7_index', 'ap_index_nT']]\n",
    "    omni_data['Timestamp'] = pd.to_datetime(omni_data['Timestamp'])\n",
    "    omni_data = omni_data.ffill()\n",
    "    try:\n",
    "        states, densities = model(omni_data,df_train.loc[id].to_dict())\n",
    "        predictions = model._convert_to_df(states, densities)\n",
    "        predictions.to_csv('data_isaac/sat_density_pred_no_drag/density_pred'+ str(id) + '.csv')\n",
    "    except:\n",
    "        print(id)"
   ]
  },
  {
   "cell_type": "code",
   "execution_count": null,
   "id": "83e37dd5-247f-4308-833e-a3144399bbd0",
   "metadata": {
    "tags": []
   },
   "outputs": [],
   "source": [
    "from poliastro.core.elements import coe2rv"
   ]
  },
  {
   "cell_type": "code",
   "execution_count": null,
   "id": "40de9194-baef-4df8-941d-3fa31c35d779",
   "metadata": {
    "tags": []
   },
   "outputs": [],
   "source": [
    "from poliastro.constants.general import GM_earth"
   ]
  },
  {
   "cell_type": "code",
   "execution_count": null,
   "id": "2d081cf2-8181-4543-be48-6d140149c7b5",
   "metadata": {
    "tags": []
   },
   "outputs": [],
   "source": [
    "coe2rv(GM_earth,6826.387247,0.003882,87.275306,144.135111,257.314389,102.383270)"
   ]
  },
  {
   "cell_type": "code",
   "execution_count": null,
   "id": "217bba2c-ac22-4466-a696-d6dfc0aade4c",
   "metadata": {
    "tags": []
   },
   "outputs": [],
   "source": [
    "coe2rv(GM_earth,6824.556715,0.004397,87.269194,127.738000,86.817000,273.818611)"
   ]
  },
  {
   "cell_type": "code",
   "execution_count": null,
   "id": "4303b567-473e-4f82-ab15-f925853c00ba",
   "metadata": {
    "tags": []
   },
   "outputs": [],
   "source": [
    "df_train.loc[df_train['Latitude (deg)']<100]"
   ]
  },
  {
   "cell_type": "code",
   "execution_count": null,
   "id": "c0963300-c82a-4e6e-ae25-4c6a69ab4a2b",
   "metadata": {
    "tags": []
   },
   "outputs": [],
   "source": [
    "df_train.loc[bad_id]"
   ]
  },
  {
   "cell_type": "code",
   "execution_count": null,
   "id": "b1fa5ae8-60f6-4be1-9b96-b0e95cf5e9eb",
   "metadata": {
    "tags": []
   },
   "outputs": [],
   "source": [
    "df_train.loc[df_train.index.isin(bad_id)==False]"
   ]
  },
  {
   "cell_type": "code",
   "execution_count": null,
   "id": "33f717df-ddfd-40f5-9d16-fa5ff2353d01",
   "metadata": {
    "tags": []
   },
   "outputs": [],
   "source": [
    "len(bad_id)\n"
   ]
  },
  {
   "cell_type": "code",
   "execution_count": null,
   "id": "ff0c33e7-cb73-4621-b7e1-337c50f2009b",
   "metadata": {
    "tags": []
   },
   "outputs": [],
   "source": [
    "from evaluation_me import DensityModelEvaluator\n",
    "\n"
   ]
  }
 ],
 "metadata": {
  "kernelspec": {
   "display_name": "small_env_2",
   "language": "python",
   "name": "small_env_2"
  },
  "language_info": {
   "codemirror_mode": {
    "name": "ipython",
    "version": 3
   },
   "file_extension": ".py",
   "mimetype": "text/x-python",
   "name": "python",
   "nbconvert_exporter": "python",
   "pygments_lexer": "ipython3",
   "version": "3.10.16"
  }
 },
 "nbformat": 4,
 "nbformat_minor": 5
}
