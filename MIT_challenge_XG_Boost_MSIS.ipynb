{
 "cells": [
  {
   "cell_type": "code",
   "execution_count": 1,
   "id": "c2528786-0bc7-41ac-bbe5-f539fb641d74",
   "metadata": {
    "tags": []
   },
   "outputs": [],
   "source": [
    "import pandas as pd\n",
    "import numpy as np\n",
    "from datetime import datetime, timedelta\n",
    "import os\n",
    "from tqdm import tqdm\n",
    "import pickle\n",
    "tqdm.pandas()\n",
    "import warnings\n",
    "import catboost as cb\n",
    "# from sklearn.metrics import mean_squared_error\n",
    "# from sklearn.metrics import r2_score\n",
    "from submission_xgboost.utils import *\n",
    "from sklearn.metrics import r2_score"
   ]
  },
  {
   "cell_type": "code",
   "execution_count": 2,
   "id": "ccc821f1-cf9e-4bb8-a465-003a36eaf812",
   "metadata": {},
   "outputs": [],
   "source": [
    "from submission_xgboost.utils import  propagate_orbit"
   ]
  },
  {
   "cell_type": "markdown",
   "id": "21424dc9-41a2-4aca-bf00-5259b20c39ec",
   "metadata": {
    "tags": []
   },
   "source": [
    "### Load Initial position and dict of Omni"
   ]
  },
  {
   "cell_type": "code",
   "execution_count": 3,
   "id": "ade28363-55c9-45c8-8a53-4d8ab043341d",
   "metadata": {
    "tags": []
   },
   "outputs": [
    {
     "name": "stdout",
     "output_type": "stream",
     "text": [
      "(8119, 10)\n",
      "(8095, 10)\n"
     ]
    }
   ],
   "source": [
    "initial_states = pd.read_csv('C:/Users/isaac/Documents/Challenge_MIT_2/mit_challenge_2/data/phase_1/00000_to_02284-initial_states.csv')\n",
    "initial_states = pd.concat([initial_states,pd.read_csv('C:/Users/isaac/Documents/Challenge_MIT_2/mit_challenge_2/data/phase_1/02285_to_02357-initial_states.csv')])\n",
    "initial_states = pd.concat([initial_states,pd.read_csv('C:/Users/isaac/Documents/Challenge_MIT_2/mit_challenge_2/data/phase_1/02358_to_04264-initial_states.csv')])\n",
    "initial_states = pd.concat([initial_states,pd.read_csv('C:/Users/isaac/Documents/Challenge_MIT_2/mit_challenge_2/data/phase_1/04265_to_05570-initial_states.csv')])\n",
    "initial_states = pd.concat([initial_states,pd.read_csv('C:/Users/isaac/Documents/Challenge_MIT_2/mit_challenge_2/data/phase_1/05571_to_05614-initial_states.csv')])\n",
    "initial_states = pd.concat([initial_states,pd.read_csv('C:/Users/isaac/Documents/Challenge_MIT_2/mit_challenge_2/data/phase_1/05615_to_06671-initial_states.csv')])\n",
    "initial_states = pd.concat([initial_states,pd.read_csv('C:/Users/isaac/Documents/Challenge_MIT_2/mit_challenge_2/data/phase_1/06672_to_08118-initial_states.csv')])\n",
    "initial_states['Timestamp'] = pd.to_datetime(initial_states['Timestamp'])\n",
    "initial_states = initial_states.set_index('File ID')\n",
    "print(initial_states.shape)\n",
    "initial_states =  initial_states.mask((initial_states==9.99e+29)|(initial_states==9.99e+32))\n",
    "initial_states = initial_states.loc[initial_states.count(1)==10]\n",
    "print(initial_states.shape)"
   ]
  },
  {
   "cell_type": "code",
   "execution_count": 4,
   "id": "92788e9e-7619-41a8-bb78-83d593219f2b",
   "metadata": {},
   "outputs": [],
   "source": [
    "initial_states['DOY'] = initial_states['Timestamp'].dt.day_of_year\n",
    "initial_states['HOUR'] = initial_states['Timestamp'].dt.hour\n",
    "initial_states['Year'] = initial_states['Timestamp'].dt.year\n",
    "initial_states['bartels_phase'] = (initial_states['DOY'] % 27)/27 * 360"
   ]
  },
  {
   "cell_type": "markdown",
   "id": "080c79d6-fa6d-4418-8414-776a5fc5be90",
   "metadata": {
    "jp-MarkdownHeadingCollapsed": true
   },
   "source": [
    "### Estimates lat, long, alt"
   ]
  },
  {
   "cell_type": "code",
   "execution_count": null,
   "id": "3a35e617-5747-4a68-a34e-a3b2100b4865",
   "metadata": {
    "scrolled": true
   },
   "outputs": [],
   "source": [
    "model_alt = cb.CatBoostRegressor(loss_function='RMSE',iterations=100,subsample=0.7)\n",
    "model_alt.fit(X=initial_states.dropna()[['Semi-major Axis (km)',\t'Eccentricity',\t'Inclination (deg)',\t'RAAN (deg)',\t'Argument of Perigee (deg)',\t'True Anomaly (deg)']],\n",
    "              y= initial_states.dropna()['Altitude (km)'])"
   ]
  },
  {
   "cell_type": "code",
   "execution_count": null,
   "id": "d460450c-36cb-4936-bb5e-9035499dba45",
   "metadata": {},
   "outputs": [],
   "source": [
    "model_alt.save_model('data/trained_model/Altitude_Model.cbm')"
   ]
  },
  {
   "cell_type": "code",
   "execution_count": null,
   "id": "e5dd331b-713f-4a5d-8736-70b935cd2e90",
   "metadata": {},
   "outputs": [],
   "source": [
    "initial_states['Altitude (km) estimated'] = model_alt.predict(initial_states[['Semi-major Axis (km)',\t'Eccentricity',\t'Inclination (deg)',\t'RAAN (deg)',\t'Argument of Perigee (deg)',\t'True Anomaly (deg)']])"
   ]
  },
  {
   "cell_type": "code",
   "execution_count": null,
   "id": "e2b05a55-b90a-4c93-a68e-c27f193ed943",
   "metadata": {
    "scrolled": true
   },
   "outputs": [],
   "source": [
    "model_lat = cb.CatBoostRegressor(loss_function='RMSE',iterations=100,subsample=0.8,depth=2)\n",
    "model_lat.fit(X=initial_states.dropna()[['Semi-major Axis (km)',\t'Eccentricity',\t'Inclination (deg)',\t'RAAN (deg)',\t'Argument of Perigee (deg)',\t'True Anomaly (deg)']],\n",
    "              y= initial_states.dropna()['Latitude (deg)'])"
   ]
  },
  {
   "cell_type": "code",
   "execution_count": null,
   "id": "1a535c70-3892-4b4b-9f06-039b582a5d6c",
   "metadata": {},
   "outputs": [],
   "source": [
    "model_lat.save_model('data/trained_model/Latitude_Model.cbm')"
   ]
  },
  {
   "cell_type": "code",
   "execution_count": null,
   "id": "00b0c97e-a133-4e77-9c60-d5b17d5b4e25",
   "metadata": {
    "scrolled": true
   },
   "outputs": [],
   "source": [
    "model_long = cb.CatBoostRegressor(loss_function='RMSE',iterations=100,depth=2)\n",
    "model_long.fit(X=initial_states.dropna()[['Semi-major Axis (km)',\t'Eccentricity',\t'Inclination (deg)',\t'RAAN (deg)',\t'Argument of Perigee (deg)',\t'True Anomaly (deg)']].iloc[:4000],\n",
    "              y= initial_states.dropna()['Longitude (deg)'].iloc[:4000])\n",
    "\n",
    "print(model_long.score(X=initial_states.dropna()[['Semi-major Axis (km)',\t'Eccentricity',\t'Inclination (deg)',\t'RAAN (deg)',\t'Argument of Perigee (deg)',\t'True Anomaly (deg)']].iloc[:4000],\n",
    "              y= initial_states.dropna()['Longitude (deg)'].iloc[:4000]))\n",
    "\n",
    "print(model_long.score(X=initial_states.dropna()[['Semi-major Axis (km)',\t'Eccentricity',\t'Inclination (deg)',\t'RAAN (deg)',\t'Argument of Perigee (deg)',\t'True Anomaly (deg)']].iloc[4000:],\n",
    "              y= initial_states.dropna()['Longitude (deg)'].iloc[4000:]))"
   ]
  },
  {
   "cell_type": "code",
   "execution_count": null,
   "id": "892a5006-2835-4e82-a35f-7b6a53bf8c06",
   "metadata": {},
   "outputs": [],
   "source": [
    "model_long.save_model('data/trained_model/Longitude_Model.cbm')"
   ]
  },
  {
   "cell_type": "markdown",
   "id": "104f91ea-ad58-4e3b-8d1e-bf2f65d288e7",
   "metadata": {},
   "source": [
    "### Read data"
   ]
  },
  {
   "cell_type": "code",
   "execution_count": null,
   "id": "72e1ae2f-a26f-47ee-9bff-18f09266f7d2",
   "metadata": {
    "tags": []
   },
   "outputs": [],
   "source": [
    "# all_files_omni = os.listdir(\"phase_1/omni2/\")\n",
    "# all_files_dens = os.listdir(\"phase_1/sat_density/\")\n",
    "# omni = {}\n",
    "# for i in tqdm(all_files_omni):\n",
    "#     omni[int(i.split('-')[1])] = pd.read_csv('phase_1/omni2/'+i)\n",
    "# sat = {}\n",
    "# for i in tqdm(all_files_dens):\n",
    "#     sat[int(i.replace('gr-of','grof').split('-')[1])] = pd.read_csv('phase_1/sat_density/'+i)\n",
    "# with open('omni.pickle', 'wb') as handle:\n",
    "#     pickle.dump(omni, handle, protocol=pickle.HIGHEST_PROTOCOL)\n",
    "# with open('sat.pickle', 'wb') as handle:\n",
    "#     pickle.dump(sat, handle, protocol=pickle.HIGHEST_PROTOCOL)"
   ]
  },
  {
   "cell_type": "code",
   "execution_count": 5,
   "id": "1c5bf58b-f76a-4fcc-a7d8-ae7fa196fad5",
   "metadata": {
    "tags": []
   },
   "outputs": [],
   "source": [
    "with open('data/data_isaac/omni.pickle', 'rb') as f:\n",
    "    omni = pickle.load(f)\n",
    "with open('data/data_isaac/sat.pickle', 'rb') as f:\n",
    "    sat = pickle.load(f)\n",
    "\n",
    "for i in sat.keys():\n",
    "    sat[i]['Orbit Mean Density (kg/m^3)'] = sat[i]['Orbit Mean Density (kg/m^3)'].mask(sat[i]['Orbit Mean Density (kg/m^3)']>1_000_000)\n",
    "    sat[i]['Orbit Mean Density (kg/m^3)'] = sat[i]['Orbit Mean Density (kg/m^3)'].interpolate()\n",
    "    #sat[i]['Orbit Mean Density (kg/m^3)'] = sat[i]['Orbit Mean Density (kg/m^3)'].ffill().bfill() # add forward and backward fill"
   ]
  },
  {
   "cell_type": "code",
   "execution_count": 6,
   "id": "eaae0472-7ed0-4233-8cbf-c57b91c14938",
   "metadata": {},
   "outputs": [
    {
     "data": {
      "text/plain": [
       "(7870, 14)"
      ]
     },
     "execution_count": 6,
     "metadata": {},
     "output_type": "execute_result"
    }
   ],
   "source": [
    "len_sat = {i:len(sat[i]['Orbit Mean Density (kg/m^3)'].dropna()) for i in sat.keys()}\n",
    "initial_states['len'] = pd.Series(len_sat)\n",
    "initial_states = initial_states.loc[initial_states['len'].isin([432,433])]\n",
    "initial_states = initial_states.drop('len',axis=1)\n",
    "initial_states.shape"
   ]
  },
  {
   "cell_type": "code",
   "execution_count": 7,
   "id": "2abf57a2-b233-4792-b132-9c515d79e70d",
   "metadata": {},
   "outputs": [],
   "source": [
    "del omni, sat"
   ]
  },
  {
   "cell_type": "markdown",
   "id": "fbdfbf10-daad-45f9-9660-99e120791627",
   "metadata": {
    "jp-MarkdownHeadingCollapsed": true
   },
   "source": [
    "### Compute R2 with mean and median"
   ]
  },
  {
   "cell_type": "code",
   "execution_count": null,
   "id": "2b85fdbf-b487-4301-9272-4842dc0d6838",
   "metadata": {},
   "outputs": [],
   "source": [
    "all_sat = pd.concat(sat,keys=sat.keys())\n",
    "all_sat = all_sat.reset_index().drop(['level_1'],axis=1).rename({'level_0':'File Id'},axis=1)\n",
    "df_mean = all_sat.groupby('File Id')['Orbit Mean Density (kg/m^3)'].mean()\n",
    "df_median = all_sat.groupby('File Id')['Orbit Mean Density (kg/m^3)'].median()\n",
    "all_sat = pd.merge_ordered(all_sat,df_mean,on='File Id',suffixes=['','_mean'])\n",
    "all_sat = pd.merge_ordered(all_sat,df_median,on='File Id',suffixes=['','_median'])"
   ]
  },
  {
   "cell_type": "code",
   "execution_count": null,
   "id": "0954898e-d119-4897-b3ac-f81ec4aacb66",
   "metadata": {},
   "outputs": [],
   "source": [
    "r2_score(all_sat.dropna()['Orbit Mean Density (kg/m^3)'], all_sat.dropna()['Orbit Mean Density (kg/m^3)_mean'])"
   ]
  },
  {
   "cell_type": "code",
   "execution_count": null,
   "id": "78e08862-0d3c-4ca5-b667-513599767dbe",
   "metadata": {},
   "outputs": [],
   "source": [
    "r2_score(all_sat.dropna()['Orbit Mean Density (kg/m^3)'], all_sat.dropna()['Orbit Mean Density (kg/m^3)_median'])"
   ]
  },
  {
   "cell_type": "code",
   "execution_count": null,
   "id": "f4a01b9c-7e8e-421d-80ba-01cc23c54ab5",
   "metadata": {},
   "outputs": [],
   "source": [
    "id = 100\n",
    "all_sat['Orbit Mean Density (kg/m^3)'].loc[all_sat['File Id']==id].plot()\n",
    "all_sat['Orbit Mean Density (kg/m^3)_mean'].loc[all_sat['File Id']==id].plot()\n",
    "all_sat['Orbit Mean Density (kg/m^3)_median'].loc[all_sat['File Id']==id].plot()"
   ]
  },
  {
   "cell_type": "markdown",
   "id": "8981d94f-b005-405f-b235-b8ea96738981",
   "metadata": {
    "jp-MarkdownHeadingCollapsed": true
   },
   "source": [
    "### See features"
   ]
  },
  {
   "cell_type": "code",
   "execution_count": null,
   "id": "a93280d6-ad8a-4bc3-98a1-6adcf4f0ebd0",
   "metadata": {},
   "outputs": [],
   "source": [
    "plt.scatter(df_data['Target'],df_data['Altitude (km)'])"
   ]
  },
  {
   "cell_type": "code",
   "execution_count": null,
   "id": "9d0ff575-64c9-4e8b-afbc-474c9c551911",
   "metadata": {},
   "outputs": [],
   "source": [
    "df_data['Inclination (deg)'].hist(bins=500)"
   ]
  },
  {
   "cell_type": "code",
   "execution_count": null,
   "id": "e403a2a6-ed3e-481a-abc6-cd1e3f486676",
   "metadata": {},
   "outputs": [],
   "source": [
    "plt.scatter(df_data['Target'],df_data['mean_f10.7_index'])"
   ]
  },
  {
   "cell_type": "code",
   "execution_count": null,
   "id": "eaf511d7-9e76-40ec-a56f-a5d94fee856d",
   "metadata": {},
   "outputs": [],
   "source": [
    "plt.scatter(df_data['Target'],np.exp(df_data['min_f10.7_index']))"
   ]
  },
  {
   "cell_type": "code",
   "execution_count": null,
   "id": "12bf9506-ddce-4ff5-9b88-aa5b4617cebc",
   "metadata": {},
   "outputs": [],
   "source": [
    "df_data.corr()['Target'].abs().sort_values(ascending=False).head(50)"
   ]
  },
  {
   "cell_type": "markdown",
   "id": "daea5e2e-388d-4cfb-9970-539cbb8511d4",
   "metadata": {
    "jp-MarkdownHeadingCollapsed": true
   },
   "source": [
    "### Prepare by timestamps"
   ]
  },
  {
   "cell_type": "code",
   "execution_count": null,
   "id": "14d895f2-21ab-4ce5-badc-a095b73f3998",
   "metadata": {
    "scrolled": true,
    "tags": []
   },
   "outputs": [],
   "source": [
    "# res = initial_states.reset_index()['File ID'].progress_apply(lambda win:create_features_and_target(win,initial_states,omni,sat,predict_mean=False,training_mode=True))\n",
    "# with open('data/data_isaac/res_6000.pickle', 'wb') as handle:\n",
    "#      pickle.dump(res, handle, protocol=pickle.HIGHEST_PROTOCOL)"
   ]
  },
  {
   "cell_type": "code",
   "execution_count": null,
   "id": "717e3c34-6ee5-45db-94c5-3f738997cd9f",
   "metadata": {},
   "outputs": [],
   "source": [
    "with open('data/data_isaac/res_6000.pickle', 'rb') as f:\n",
    "    res = pickle.load(f)"
   ]
  },
  {
   "cell_type": "markdown",
   "id": "85128316-64ba-4864-8217-182ae3f09875",
   "metadata": {},
   "source": [
    "### Prepare by mean"
   ]
  },
  {
   "cell_type": "code",
   "execution_count": 9,
   "id": "1a84cd9e-89f5-4c60-b242-2d08a2745f38",
   "metadata": {
    "scrolled": true
   },
   "outputs": [],
   "source": [
    "# res = {}\n",
    "# for i in tqdm(initial_states.index):\n",
    "#     res[i] = create_features_and_target(i,initial_states,omni = omni[i],sat = sat[i],predict_mean=False,training_mode=True)\n",
    "# with open('data/data_isaac/res_extented_8000_with_proj_all.pickle', 'wb') as handle:\n",
    "#      pickle.dump(res, handle, protocol=pickle.HIGHEST_PROTOCOL)"
   ]
  },
  {
   "cell_type": "code",
   "execution_count": 8,
   "id": "160bc877-0a0f-41d0-b483-f9a4adb2088c",
   "metadata": {},
   "outputs": [],
   "source": [
    "with open('data/data_isaac/res_extented_8000_with_proj_all.pickle', 'rb') as f:\n",
    "    res = pickle.load(f)"
   ]
  },
  {
   "cell_type": "markdown",
   "id": "6cb95db1-d754-4987-b02f-ca7e3e72a477",
   "metadata": {},
   "source": [
    "## XGBOOST"
   ]
  },
  {
   "cell_type": "markdown",
   "id": "bfa48497-54bb-463a-a627-1773f629d7bc",
   "metadata": {
    "tags": []
   },
   "source": [
    "### Prediction by mean"
   ]
  },
  {
   "cell_type": "code",
   "execution_count": null,
   "id": "74b7b976-2bfa-40b8-a420-60b3f9243fdc",
   "metadata": {},
   "outputs": [],
   "source": [
    "df_data = pd.concat(res)\n",
    "df_data = df_data.reset_index().rename({'level_0':'File Id'},axis=1)"
   ]
  },
  {
   "cell_type": "code",
   "execution_count": null,
   "id": "4f36aa1a-a801-4954-9a8f-f95896c5305c",
   "metadata": {},
   "outputs": [],
   "source": [
    "index = list(res.keys())\n",
    "np.random.seed(24)\n",
    "np.random.shuffle(index)"
   ]
  },
  {
   "cell_type": "code",
   "execution_count": null,
   "id": "aef40606-e6ec-4add-8c0c-84eebc8c32c3",
   "metadata": {},
   "outputs": [],
   "source": [
    "del res"
   ]
  },
  {
   "cell_type": "code",
   "execution_count": null,
   "id": "7b4eadf2-49b3-4957-bf78-a6c537c8a1b3",
   "metadata": {},
   "outputs": [],
   "source": [
    "train_index,valid_index,test_index = index[:4600],index[4600:5900],index[5900:]\n",
    "col_to_remove = ['Timestamp_from_sat','Timestamp_from_proj','Timestamp_initial','Time_until_y','File Id']\n",
    "print(len(col_to_remove))"
   ]
  },
  {
   "cell_type": "code",
   "execution_count": null,
   "id": "f89d0d94-be9b-428f-ba4c-da86c97dec2f",
   "metadata": {},
   "outputs": [],
   "source": [
    "# target_columns = ['Target_0','Target_1','Target_2','Target_3','Target_4','Target_5','Target_mean']\n",
    "# target_columns_1 = ['Target_mean']\n",
    "# target_columns_2 = ['Target_0','Target_1','Target_2','Target_3','Target_4','Target_5']\n",
    "target_columns = ['Orbit Mean Density (kg/m^3)']\n",
    "target_columns_1 = ['Orbit Mean Density (kg/m^3)']"
   ]
  },
  {
   "cell_type": "markdown",
   "id": "0f5c7390-1960-4c39-866e-1ce2ca302c0b",
   "metadata": {},
   "source": [
    "#### All train"
   ]
  },
  {
   "cell_type": "code",
   "execution_count": null,
   "id": "f616ede4-1337-4cb3-9f55-c5e7c1537637",
   "metadata": {},
   "outputs": [],
   "source": [
    "df_data = df_data.set_index('File Id').loc[list( set(initial_states.index))].reset_index()\n",
    "df_data = df_data.drop(col_to_remove,axis=1)\n",
    "df_data = df_data.dropna(subset=target_columns)\n",
    "\n",
    "train_dataset_all = cb.Pool(df_data.drop(target_columns,axis=1), df_data[target_columns]* 10**12) \n",
    "print(df_training_set_all.shape)"
   ]
  },
  {
   "cell_type": "code",
   "execution_count": null,
   "id": "a23a628b-bee1-4979-b645-559f4274ec75",
   "metadata": {
    "scrolled": true
   },
   "outputs": [],
   "source": [
    "model_mean = cb.CatBoostRegressor(loss_function='RMSE',iterations=1000)\n",
    "model_mean.fit(train_dataset_all)"
   ]
  },
  {
   "cell_type": "code",
   "execution_count": null,
   "id": "8c43265a-4a04-4567-916d-413f0cb01b1d",
   "metadata": {},
   "outputs": [],
   "source": [
    "df_data.columns[:50]"
   ]
  },
  {
   "cell_type": "code",
   "execution_count": null,
   "id": "cc9e859c-1581-4f36-951c-4433eb438ea9",
   "metadata": {},
   "outputs": [],
   "source": [
    "get_model_feat_import(model_mean,30)"
   ]
  },
  {
   "cell_type": "code",
   "execution_count": null,
   "id": "9e0fcf3e-1590-477c-af63-79ddae523c70",
   "metadata": {},
   "outputs": [],
   "source": [
    "model_mean.score(train_dataset_all)"
   ]
  },
  {
   "cell_type": "code",
   "execution_count": null,
   "id": "0f3f34ea-6013-4272-ac19-a551b62807f3",
   "metadata": {},
   "outputs": [],
   "source": [
    "model_mean.save_model('data/trained_model/model_by_mean_new_test.cbm')"
   ]
  },
  {
   "cell_type": "markdown",
   "id": "3058c2b6-de5e-4416-b3e1-978b6ef18bfb",
   "metadata": {},
   "source": [
    "#### Train/Valid/Test"
   ]
  },
  {
   "cell_type": "code",
   "execution_count": null,
   "id": "97144b90-2f48-4d76-a886-7dece161ff15",
   "metadata": {},
   "outputs": [],
   "source": [
    "df_training_set = df_data.set_index('File Id').loc[list(set(train_index) & set(initial_states.index))].reset_index()\n",
    "df_training_set = df_training_set.drop(col_to_remove,axis=1)\n",
    "df_training_set = df_training_set.dropna(subset=target_columns)\n",
    "\n",
    "df_valid_set = df_data.set_index('File Id').loc[list(set(valid_index) & set(initial_states.index))].reset_index()\n",
    "df_valid_set = df_valid_set.drop(col_to_remove,axis=1)\n",
    "df_valid_set = df_valid_set.dropna(subset=target_columns)\n",
    "\n",
    "df_test_set = df_data.set_index('File Id').loc[list(set(test_index) & set(initial_states.index))].reset_index()\n",
    "df_test_set = df_test_set.drop(col_to_remove,axis=1)\n",
    "df_test_set = df_test_set.dropna(subset=target_columns)\n",
    "\n",
    "print(df_training_set.shape)\n",
    "print(df_valid_set.shape)\n",
    "print(df_test_set.shape)"
   ]
  },
  {
   "cell_type": "markdown",
   "id": "b94867aa-0485-40df-bba7-6b98c955a7f8",
   "metadata": {},
   "source": [
    "#### Task 1"
   ]
  },
  {
   "cell_type": "code",
   "execution_count": null,
   "id": "d0af676c-72a7-4fcc-a9f8-f0adc869db4f",
   "metadata": {},
   "outputs": [],
   "source": [
    "train_dataset_task_1 = cb.Pool(df_training_set.drop(target_columns,axis=1), df_training_set[target_columns_1]* 10**13) \n",
    "valid_dataset_task_1 = cb.Pool(df_valid_set.drop(target_columns,axis=1), df_valid_set[target_columns_1]* 10**13) \n",
    "test_dataset_task_1 = cb.Pool(df_test_set.drop(target_columns,axis=1), df_test_set[target_columns_1]* 10**13) "
   ]
  },
  {
   "cell_type": "code",
   "execution_count": null,
   "id": "896f7cf0-996d-4863-91f0-1ca78117a2b6",
   "metadata": {
    "scrolled": true
   },
   "outputs": [],
   "source": [
    "model_task_1 = cb.CatBoostRegressor(loss_function='RMSE',iterations=1000)\n",
    "model_task_1.fit(train_dataset_task_1,eval_set=test_dataset_task_1)"
   ]
  },
  {
   "cell_type": "code",
   "execution_count": null,
   "id": "d0ab7212-8e56-4d12-bd07-31061d28ebe0",
   "metadata": {},
   "outputs": [],
   "source": [
    "print(model_task_1.score(train_dataset_task_1))\n",
    "print(model_task_1.score(valid_dataset_task_1))\n",
    "print(model_task_1.score(test_dataset_task_1))"
   ]
  },
  {
   "cell_type": "code",
   "execution_count": null,
   "id": "9990ca59-7bc1-4e05-87e3-fda1c14b1c85",
   "metadata": {},
   "outputs": [],
   "source": [
    "get_model_feat_import(model_task_1,30)"
   ]
  },
  {
   "cell_type": "code",
   "execution_count": null,
   "id": "c5b12bf2-1ddf-4862-b52b-2d592d4073e7",
   "metadata": {},
   "outputs": [],
   "source": [
    "model_task_1.save_model('data/trained_model/model_with_alt_proj.cbm')"
   ]
  },
  {
   "cell_type": "markdown",
   "id": "fdc44949-405f-41a2-919d-6e1bbd6be668",
   "metadata": {},
   "source": [
    "#### Task 2"
   ]
  },
  {
   "cell_type": "code",
   "execution_count": null,
   "id": "b3695107-00d4-4fea-a7c1-5161cce29cdd",
   "metadata": {},
   "outputs": [],
   "source": [
    "df_training_set['estimated'] = model_task_1.predict(df_training_set)\n",
    "#df_valid_set['estimated'] = model_task_1.predict(df_valid_set)\n",
    "df_test_set['estimated'] = model_task_1.predict(df_test_set)"
   ]
  },
  {
   "cell_type": "code",
   "execution_count": null,
   "id": "bd7ec842-c4ae-47c3-926a-32fdf5c401d7",
   "metadata": {},
   "outputs": [],
   "source": [
    "df_data['estimated'] = model_task_1.predict(df_data)"
   ]
  },
  {
   "cell_type": "code",
   "execution_count": null,
   "id": "9c350c2e-ad34-49fa-b8b8-e503f880829b",
   "metadata": {},
   "outputs": [],
   "source": [
    "train_dataset_task_2 = cb.Pool(df_training_set.drop(target_columns,axis=1), df_training_set[target_columns_2]* 10**13) \n",
    "#valid_dataset_task_2 = cb.Pool(df_valid_set.drop(target_columns,axis=1), df_valid_set[target_columns_2]* 10**13) \n",
    "test_dataset_task_2 = cb.Pool(df_test_set.drop(target_columns,axis=1), df_test_set[target_columns_2]* 10**13) "
   ]
  },
  {
   "cell_type": "code",
   "execution_count": null,
   "id": "977a6a76-3509-4ade-b78c-b5a632d44d27",
   "metadata": {
    "scrolled": true
   },
   "outputs": [],
   "source": [
    "model_task_2 = cb.CatBoostRegressor(loss_function='MultiRMSE',iterations=1000)\n",
    "model_task_2.fit(train_dataset_task_2,eval_set=test_dataset_task_2)"
   ]
  },
  {
   "cell_type": "code",
   "execution_count": null,
   "id": "e00d6367-461a-4b62-8f47-9454784af530",
   "metadata": {},
   "outputs": [],
   "source": [
    "print(model_task_2.score(train_dataset_task_2))\n",
    "#print(model_task_2.score(valid_dataset_task_2))\n",
    "print(model_task_2.score(test_dataset_task_2))"
   ]
  },
  {
   "cell_type": "code",
   "execution_count": null,
   "id": "92639063-2029-4ecf-af15-c10cff4d9791",
   "metadata": {},
   "outputs": [],
   "source": [
    "get_model_feat_import(model_task_2)"
   ]
  },
  {
   "cell_type": "code",
   "execution_count": null,
   "id": "b1e3a5e1-7df6-48f8-98ad-031f8df3a9bb",
   "metadata": {
    "scrolled": true
   },
   "outputs": [],
   "source": [
    "# pred = []\n",
    "# for tar in target_columns_2:\n",
    "#     train_dataset_task_2 = cb.Pool(df_training_set.drop(target_columns,axis=1), df_training_set[tar]* 10**12) \n",
    "#     valid_dataset_task_2 = cb.Pool(df_valid_set.drop(target_columns,axis=1), df_valid_set[tar]* 10**12) \n",
    "#     test_dataset_task_2 = cb.Pool(df_test_set.drop(target_columns,axis=1), df_test_set[tar]* 10**12) \n",
    "    \n",
    "#     model_task_2 = cb.CatBoostRegressor(loss_function='RMSE',iterations=1000)\n",
    "#     model_task_2.fit(train_dataset_task_2,eval_set=valid_dataset_task_2)\n",
    "\n",
    "#     pred.append(pd.DataFrame(model_task_2.predict(df_data),columns = [tar])/10**12)\n",
    "#     print(tar)\n",
    "#     print(model_task_2.score(train_dataset_task_2))\n",
    "#     print(model_task_2.score(valid_dataset_task_2))\n",
    "#     print(model_task_2.score(test_dataset_task_2))"
   ]
  },
  {
   "cell_type": "code",
   "execution_count": null,
   "id": "459c6c9d-0436-4b5d-b81f-adb17261847f",
   "metadata": {},
   "outputs": [],
   "source": [
    "def do_interpolation(result):\n",
    "    df = pd.Series(result,index=range(36,432,72)).to_frame()\n",
    "    return df.reindex(range(0,432)).interpolate()"
   ]
  },
  {
   "cell_type": "code",
   "execution_count": null,
   "id": "e4b4497e-9f37-4490-b88a-eecdaf754bb4",
   "metadata": {},
   "outputs": [],
   "source": [
    "df_prediction_task_1 = pd.Series(model_task_1.predict(df_data), index = df_data['File Id'])/10**13\n",
    "df_prediction_task_2 = pd.DataFrame(model_task_2.predict(df_data), index = df_data['File Id'])/10**13\n",
    "df_prediction = df_prediction_task_2.add(df_prediction_task_1,axis=0)\n",
    "\n",
    "df_prediction_interpolated = pd.concat(df_prediction.apply(lambda win:do_interpolation(win.values),axis=1).values,axis=1).T\n",
    "df_prediction_interpolated.index = df_data['File Id']\n",
    "df_prediction_interpolated = df_prediction_interpolated.T.bfill().T\n",
    "\n",
    "df_prediction_mean = pd.concat([df_prediction_task_1] * 432, axis=1)\n",
    "df_prediction_mean.index = df_data['File Id']\n",
    "\n",
    "df_true = pd.concat({i:sat[i]['Orbit Mean Density (kg/m^3)'] for i in df_data['File Id'].values},axis=1).T"
   ]
  },
  {
   "cell_type": "code",
   "execution_count": null,
   "id": "f7e3cb0f-568c-404c-9b82-7fba64b3a62f",
   "metadata": {},
   "outputs": [],
   "source": [
    "df_true = pd.concat({i:sat[i]['Orbit Mean Density (kg/m^3)'] for i in df_data['File Id'].values},axis=1).T"
   ]
  },
  {
   "cell_type": "code",
   "execution_count": null,
   "id": "8a376d08-f3b9-4376-a803-8548fae1e37c",
   "metadata": {},
   "outputs": [],
   "source": [
    "df_true.max().quantile(0.95)"
   ]
  },
  {
   "cell_type": "code",
   "execution_count": null,
   "id": "e52a08af-5c81-4b26-99a3-e91655423246",
   "metadata": {},
   "outputs": [],
   "source": [
    "# all_r2_mean = {}\n",
    "# all_r2_interpolated = {}\n",
    "# for i in df_prediction_interpolated.index:\n",
    "#     all_r2_mean[i] = r2_score(df_true.loc[i].iloc[:432].bfill(),df_prediction_mean.loc[i].iloc[:432])\n",
    "#     all_r2_interpolated[i] = r2_score(df_true.loc[i].iloc[:432].bfill(),df_prediction_interpolated.loc[i].iloc[:432])\n",
    "\n",
    "# r2_all = pd.concat([pd.Series(all_r2_mean),pd.Series(all_r2_interpolated),initial_states],axis=1).sort_values(1)\n",
    "# r2_all.columns = ['R2_Mean','R2_Interpolated'] + list(initial_states.columns)\n",
    "# r2_all.loc[train_index,'Cat'] = 'Train'\n",
    "# r2_all.loc[valid_index,'Cat'] = 'Valid'\n",
    "# r2_all.loc[test_index,'Cat'] = 'Test'"
   ]
  },
  {
   "cell_type": "code",
   "execution_count": null,
   "id": "c424a82b-2b60-41dd-b5a5-93f055bea95a",
   "metadata": {},
   "outputs": [],
   "source": [
    "# print(pd.Series(all_r2_mean).loc[train_index].mean())\n",
    "# print(pd.Series(all_r2_interpolated).loc[train_index].mean())\n",
    "\n",
    "# print(pd.Series(all_r2_mean).loc[valid_index].mean())\n",
    "# print(pd.Series(all_r2_interpolated).loc[valid_index].mean())\n",
    "\n",
    "# print(pd.Series(all_r2_mean).loc[test_index].mean())\n",
    "# print(pd.Series(all_r2_interpolated).loc[test_index].mean())"
   ]
  },
  {
   "cell_type": "code",
   "execution_count": null,
   "id": "054861d6-ac83-427b-b56e-8c55b79343a8",
   "metadata": {
    "scrolled": true
   },
   "outputs": [],
   "source": [
    "index = 5190                                 \n",
    "result = model_task_1.predict(df_data.loc[df_data['File Id']==index])/10**13\n",
    "\n",
    "# Computed\n",
    "prediction = df_prediction_interpolated.loc[[index]].T\n",
    "prediction.columns = [\"Computed\"]\n",
    "prediction['Mean'] = df_prediction_task_1.loc[index]\n",
    "prediction.plot(label='Computed')\n",
    "\n",
    "#True\n",
    "plt.scatter(range(36,432,72),res[index][target_columns_1].values+res[index][target_columns_2].values,color='red')\n",
    "sat[index]['Orbit Mean Density (kg/m^3)'].plot(label='True')\n",
    "plt.legend()\n",
    "print('R2 with mean: ',r2_score(sat[index]['Orbit Mean Density (kg/m^3)'].iloc[:432],prediction['Mean'].bfill()))\n",
    "print('R2 with interpolated: ',r2_score(sat[index]['Orbit Mean Density (kg/m^3)'].iloc[:432],prediction['Computed'].bfill()))"
   ]
  },
  {
   "cell_type": "code",
   "execution_count": null,
   "id": "5af02259-66e0-450f-995d-b7d9a42b6db7",
   "metadata": {},
   "outputs": [],
   "source": [
    "model_task_1.save_model('data/trained_model/model_by_mean_task_1.cbm')\n",
    "model_task_2.save_model('data/trained_model/model_by_mean_task_2.cbm')"
   ]
  },
  {
   "cell_type": "code",
   "execution_count": null,
   "id": "bae16d0e-969c-4334-8309-3d0efb0fb97d",
   "metadata": {},
   "outputs": [],
   "source": [
    "\n",
    "\n",
    "\n",
    "# Orbital Elements (example values for a low Earth orbit)\n",
    "a = 6.826387e+06  # Semi-major axis (meters) -> altitude ~1629 km at perigee\n",
    "e = 0.003882    # Eccentricity\n",
    "M0 = np.radians(102.383270)     # Mean anomaly at epoch (radians)\n",
    "t0 = datetime.datetime(2000, 8, 2, 0, 0, 0)  # Reference epoch\n",
    "\n",
    "# Time setup: 3 days with hourly intervals\n",
    "times = [t0 + datetime.timedelta(minutes=i) for i in range(0, 3*24*60 + 1,10)]\n",
    "delta_ts = [(t - t0).total_seconds() for t in times]\n",
    "\n",
    "# Compute altitudes\n",
    "altitudes = []\n",
    "for dt in delta_ts:\n",
    "    n = mean_motion(a)\n",
    "    M = propagate_mean_anomaly(M0, n, dt)\n",
    "    E = solve_kepler(M, e)\n",
    "    theta = true_anomaly(E, e)\n",
    "    r = geocentric_distance(a, e, theta)\n",
    "    altitudes.append((r - EARTH_RADIUS) / 1000)  # Convert to kilometers\n",
    "\n",
    "# Plot results\n",
    "plt.figure(figsize=(12, 6))\n",
    "plt.plot(times, altitudes, marker='o', linestyle='-', color='b')\n",
    "plt.gca().xaxis.set_major_formatter(DateFormatter('%Y-%m-%d\\n%H:%M'))\n",
    "plt.gca().xaxis.set_major_locator(HourLocator(interval=6))\n",
    "plt.xlabel('Time')\n",
    "plt.ylabel('Altitude (km)')\n",
    "plt.title(f'Satellite Altitude Prediction (3 Days)\\n$a = {a/1000:.0f}$ km, $e = {e:.2f}$')\n",
    "plt.grid(True)\n",
    "plt.tight_layout()\n",
    "plt.show()"
   ]
  },
  {
   "cell_type": "code",
   "execution_count": null,
   "id": "36f84d56-2362-4a41-814a-09bdaf5c84ac",
   "metadata": {},
   "outputs": [],
   "source": []
  },
  {
   "cell_type": "code",
   "execution_count": null,
   "id": "b578e74f-880b-479e-b8fa-6c178cff2ed5",
   "metadata": {},
   "outputs": [],
   "source": []
  },
  {
   "cell_type": "code",
   "execution_count": null,
   "id": "9ddff51a-bcaa-492f-8d94-4390d2f1e0ca",
   "metadata": {},
   "outputs": [],
   "source": []
  },
  {
   "cell_type": "code",
   "execution_count": null,
   "id": "b58e446a-ac44-4412-bab3-48958b150bea",
   "metadata": {},
   "outputs": [],
   "source": [
    "res"
   ]
  },
  {
   "cell_type": "code",
   "execution_count": null,
   "id": "6328c576-9ecd-4dbf-a552-aaf024c1b8a5",
   "metadata": {},
   "outputs": [],
   "source": [
    "# Orbital Elements (example values for a low Earth orbit)\n",
    "a = 8000e3  # Semi-major axis (meters) -> altitude ~1629 km at perigee\n",
    "e = 0.05    # Eccentricity\n",
    "M0 = 0.0    # Mean anomaly at epoch (radians)\n",
    "t0 = datetime.datetime(2023, 10, 1, 0, 0, 0)  # Reference epoch\n",
    "\n",
    "# Time setup: 3 days with hourly intervals\n",
    "times = [t0 + datetime.timedelta(minutes = 10) for i in range(0, 3*24 * 6   + 1)]\n",
    "delta_ts = [(t - t0).total_seconds() for t in times]\n",
    "# Compute altitudes\n",
    "altitudes = []\n",
    "for dt in delta_ts:\n",
    "    n = mean_motion(a)\n",
    "    M = propagate_mean_anomaly(M0, n, dt)\n",
    "    E = solve_kepler(M, e)\n",
    "    theta = true_anomaly(E, e)\n",
    "    r = geocentric_distance(a, e, theta)\n",
    "    altitudes.append((r - EARTH_RADIUS) / 1000)  # Convert to kilometers"
   ]
  },
  {
   "cell_type": "code",
   "execution_count": null,
   "id": "3bc81d4a-8f40-408d-add8-b55622cf90cb",
   "metadata": {},
   "outputs": [],
   "source": [
    "initial_states['Eccentricity'].hist(bins=100)"
   ]
  },
  {
   "cell_type": "code",
   "execution_count": null,
   "id": "09938d1f-67e8-4061-b6af-2b2d0c1dbc81",
   "metadata": {},
   "outputs": [],
   "source": [
    "res[9]"
   ]
  },
  {
   "cell_type": "markdown",
   "id": "d6df640a-7080-497d-875f-2af6989ec2b8",
   "metadata": {
    "jp-MarkdownHeadingCollapsed": true,
    "tags": []
   },
   "source": [
    "### Prediction by timestamp to predict"
   ]
  },
  {
   "cell_type": "markdown",
   "id": "7871ae3a-d189-4ba9-9169-51d7c5d0ccd2",
   "metadata": {},
   "source": [
    "#### Test train validate"
   ]
  },
  {
   "cell_type": "code",
   "execution_count": null,
   "id": "832896ed-1c15-454f-81b1-834fdc873a5d",
   "metadata": {},
   "outputs": [],
   "source": [
    "index = list(res.keys())\n",
    "np.random.seed(24)\n",
    "np.random.shuffle(index)"
   ]
  },
  {
   "cell_type": "code",
   "execution_count": null,
   "id": "6e975b7c-11b7-48b9-abec-b003c4a90447",
   "metadata": {
    "scrolled": true
   },
   "outputs": [],
   "source": [
    "#train_index,valid_index,test_index = index[:5600],index[5600:6900],index[6900:]"
   ]
  },
  {
   "cell_type": "code",
   "execution_count": null,
   "id": "a67e9225-6c8b-49bb-b3f7-29cbde68ad6c",
   "metadata": {},
   "outputs": [],
   "source": [
    "train_index,valid_index,test_index = index[4000:4600],index[4600:5900],index[5900:]\n",
    "col_to_remove = ['FileId','Timestamp','Timestamp_initial'] +\\\n",
    "                [i for i in res[0].columns if i.find('YEAR')!=-1]+\\\n",
    "                [i for i in res[0].columns if i.find('DOY')!=-1]+\\\n",
    "                [i for i in res[0].columns if i.find('Hour')!=-1]+\\\n",
    "                [i for i in res[0].columns if i.find('std_')!=-1]+\\\n",
    "                [i for i in res[0].columns if i.find('median_')!=-1]\n",
    "                #[i for i in res[0].columns if i.find('mean_')!=-1]+\\\n",
    "                #[i for i in res[0].columns if i.find('max_')!=-1]+\\\n",
    "                #[i for i in res[0].columns if i.find('min_')!=-1]+\\\n",
    "print(len(col_to_remove))"
   ]
  },
  {
   "cell_type": "code",
   "execution_count": null,
   "id": "91105ea5-e342-4a37-95e8-9379a94e4234",
   "metadata": {
    "tags": []
   },
   "outputs": [],
   "source": [
    "df_training_set = pd.concat( dict((k,res[k]) for k in train_index if k in initial_states.index)).reset_index().rename({'level_0':'FileId'},axis=1)\n",
    "df_training_set = df_training_set.drop(col_to_remove,axis=1)\n",
    "df_training_set = df_training_set.dropna(subset=['Orbit Mean Density (kg/m^3)'],axis=0)\n",
    "\n",
    "df_valid_set =  pd.concat( dict((k,res[k]) for k in valid_index if k in initial_states.index)).reset_index().rename({'level_0':'FileId'},axis=1)\n",
    "df_valid_set = df_valid_set.drop(col_to_remove,axis=1)\n",
    "df_valid_set = df_valid_set.dropna(subset=['Orbit Mean Density (kg/m^3)'],axis=0)\n",
    "\n",
    "df_test_set =  pd.concat( dict((k,res[k]) for k in test_index if k in initial_states.index)).reset_index().rename({'level_0':'FileId'},axis=1)\n",
    "df_test_set = df_test_set.drop(col_to_remove,axis=1)\n",
    "df_test_set = df_test_set.dropna(subset=['Orbit Mean Density (kg/m^3)'],axis=0)\n",
    "\n",
    "train_dataset = cb.Pool(df_training_set.drop('Orbit Mean Density (kg/m^3)',axis=1), df_training_set['Orbit Mean Density (kg/m^3)']* 10**12) \n",
    "valid_dataset = cb.Pool(df_valid_set.drop('Orbit Mean Density (kg/m^3)',axis=1), df_valid_set['Orbit Mean Density (kg/m^3)']* 10**12) \n",
    "test_dataset = cb.Pool(df_test_set.drop('Orbit Mean Density (kg/m^3)',axis=1), df_test_set['Orbit Mean Density (kg/m^3)']* 10**12) "
   ]
  },
  {
   "cell_type": "code",
   "execution_count": null,
   "id": "35d0a955-02a8-431d-935b-7d85a6e1a3cc",
   "metadata": {},
   "outputs": [],
   "source": [
    "print(df_training_set.shape)\n",
    "print(df_valid_set.shape)\n",
    "print(df_test_set.shape)"
   ]
  },
  {
   "cell_type": "markdown",
   "id": "65ed30b9-faa6-43e3-b8f1-887c7d7d3b07",
   "metadata": {},
   "source": [
    "#### All "
   ]
  },
  {
   "cell_type": "code",
   "execution_count": null,
   "id": "f101c0bb-411d-4566-8f6a-8c64ae32f3f0",
   "metadata": {},
   "outputs": [],
   "source": [
    "df_training_set = pd.concat(res.values).reset_index()\n",
    "\n",
    "df_training_set = df_training_set.reset_index().rename({'index':'FileId'},axis=1)\n",
    "df_training_set = df_training_set.drop(col_to_remove,axis=1)\n",
    "df_training_set = df_training_set.dropna(subset=['Orbit Mean Density (kg/m^3)'],axis=0)\n",
    "\n",
    "train_dataset = cb.Pool(df_training_set.drop('Orbit Mean Density (kg/m^3)',axis=1), df_training_set['Orbit Mean Density (kg/m^3)']* 10**12) "
   ]
  },
  {
   "cell_type": "code",
   "execution_count": null,
   "id": "9a85f70a-4ba3-48cf-86e4-339029a59288",
   "metadata": {
    "scrolled": true
   },
   "outputs": [],
   "source": [
    "model = cb.CatBoostRegressor(loss_function='RMSE',iterations=360,depth=6,eta=0.2,subsample=0.9,l2_leaf_reg=1)\n",
    "model.fit(train_dataset)"
   ]
  },
  {
   "cell_type": "code",
   "execution_count": null,
   "id": "d19d1363-1e48-47e9-8d5b-ab35fde9d1b2",
   "metadata": {},
   "outputs": [],
   "source": [
    "data = pd.DataFrame({'feature_importance':model.get_feature_importance(), \n",
    "              'feature_names': model.feature_names_}).sort_values(by=['feature_importance'], \n",
    "                                                       ascending=False)\n",
    "data.head(15)"
   ]
  },
  {
   "cell_type": "code",
   "execution_count": null,
   "id": "f980d3fe-f636-40d5-a764-0a2346ca7fee",
   "metadata": {},
   "outputs": [],
   "source": [
    "print(model.score(train_dataset))"
   ]
  },
  {
   "cell_type": "code",
   "execution_count": null,
   "id": "45a01dcf-743d-4b73-96ac-257b5fe09cbc",
   "metadata": {},
   "outputs": [],
   "source": [
    "model.save_model('data/trained_model/model_by_timestamp_xgboost_optimized_parameters_2.cbm')"
   ]
  },
  {
   "cell_type": "markdown",
   "id": "b53e236d-2933-49a1-9c0d-7623546c3dd0",
   "metadata": {
    "jp-MarkdownHeadingCollapsed": true
   },
   "source": [
    "#### Train model"
   ]
  },
  {
   "cell_type": "code",
   "execution_count": null,
   "id": "56de7719-75e2-4ccd-9ecf-63d3dcd9ddbc",
   "metadata": {},
   "outputs": [],
   "source": [
    "model = cb.CatBoostRegressor(iterations=100)\n",
    "grid = {'subsample': [ 0.8, 0.9],\n",
    "        'depth': [2,4, 6, 10],\n",
    "        'l2_leaf_reg': [1, 3, 5, 7, 9],\n",
    "       }\n",
    "grid_search_result  = model.grid_search(grid, X = train_dataset)"
   ]
  },
  {
   "cell_type": "code",
   "execution_count": null,
   "id": "31c235ae-58bc-489e-b558-72836b4e7505",
   "metadata": {
    "scrolled": true
   },
   "outputs": [],
   "source": [
    "model = cb.CatBoostRegressor(loss_function='RMSE',iterations=260,depth=2,eta=0.2,subsample=0.9,l2_leaf_reg=1)\n",
    "model.fit(train_dataset,eval_set=valid_dataset)"
   ]
  },
  {
   "cell_type": "code",
   "execution_count": null,
   "id": "00ee950f-472c-42e6-9292-ba5e215a7f0d",
   "metadata": {},
   "outputs": [],
   "source": [
    "print(model.score(train_dataset))\n",
    "print(model.score(valid_dataset))\n",
    "print(model.score(test_dataset))"
   ]
  },
  {
   "cell_type": "code",
   "execution_count": null,
   "id": "3c6db4c6-d89a-4423-8bd1-f706a8af8039",
   "metadata": {
    "scrolled": true
   },
   "outputs": [],
   "source": [
    "plt.hist(model.predict(train_dataset)/10**12,bins=200)\n",
    "df_training_set['Orbit Mean Density (kg/m^3)'].hist(bins=200,alpha=0.5)"
   ]
  },
  {
   "cell_type": "code",
   "execution_count": null,
   "id": "79b65255-9887-41c4-a01d-a0ff1d4b9442",
   "metadata": {},
   "outputs": [],
   "source": [
    "pd.DataFrame(train_dataset.get_label()).iloc[:10000:,0].plot(label='Train label')\n",
    "pd.DataFrame(model.predict(train_dataset)).iloc[:10000,0].plot(label='Model prediction')\n",
    "plt.legend()"
   ]
  },
  {
   "cell_type": "code",
   "execution_count": null,
   "id": "4172720e-91b2-4968-95a1-0e66abaac7ab",
   "metadata": {},
   "outputs": [],
   "source": [
    "data = pd.DataFrame({'feature_importance':model.get_feature_importance(), \n",
    "                     'feature_names': model.feature_names_}).sort_values(by=['feature_importance'], \n",
    "                                                       ascending=False) \n",
    "data.head(20)"
   ]
  },
  {
   "cell_type": "code",
   "execution_count": null,
   "id": "e3c68460-7b48-4659-bcd9-7cc585b1ba40",
   "metadata": {
    "tags": []
   },
   "outputs": [],
   "source": [
    "model.save_model('data/trained_model/model_by_timestamp_xgboost_second.cbm')"
   ]
  },
  {
   "cell_type": "code",
   "execution_count": null,
   "id": "a5b0e379-257d-4e0a-863e-5c26d4585d24",
   "metadata": {
    "tags": []
   },
   "outputs": [],
   "source": [
    "id = 101\n",
    "res[id].reset_index()['Orbit Mean Density (kg/m^3)'].plot()\n",
    "plt.plot(model.predict(res[id])/10**12,color='red')"
   ]
  },
  {
   "cell_type": "markdown",
   "id": "22be0d82-af87-4fc7-8514-1fec9e554410",
   "metadata": {
    "jp-MarkdownHeadingCollapsed": true,
    "tags": []
   },
   "source": [
    "\n",
    "\n",
    "\n",
    "\n",
    "###  Compare pred"
   ]
  },
  {
   "cell_type": "code",
   "execution_count": null,
   "id": "fddc9be3-2247-4a7a-9735-dd674c72c21a",
   "metadata": {},
   "outputs": [],
   "source": [
    "model = cb.CatBoostRegressor()\n",
    "model.load_model('data/trained_model/model_by_timestamp_xgboost_test.cbm')\n",
    "data = pd.DataFrame({'feature_importance':model.get_feature_importance(), \n",
    "              'feature_names': model.feature_names_}).sort_values(by=['feature_importance'], \n",
    "                                                       ascending=False)\n",
    "data.head(15)"
   ]
  },
  {
   "cell_type": "code",
   "execution_count": null,
   "id": "f7a2fe5b-51fc-430d-9dfa-585d23f994ba",
   "metadata": {},
   "outputs": [],
   "source": [
    "model = cb.CatBoostRegressor()\n",
    "model.load_model('data/trained_model/model_by_timestamp_xgboost_26_02_2025.cbm')\n",
    "data = pd.DataFrame({'feature_importance':model.get_feature_importance(), \n",
    "              'feature_names': model.feature_names_}).sort_values(by=['feature_importance'], \n",
    "                                                       ascending=False)\n",
    "data.head(15)"
   ]
  },
  {
   "cell_type": "code",
   "execution_count": null,
   "id": "d6e70a62-f656-402c-9ebd-e89a3cd9401d",
   "metadata": {
    "tags": []
   },
   "outputs": [],
   "source": [
    "model = cb.CatBoostRegressor()\n",
    "model.load_model('data/trained_model/model_by_timestamp.cbm')\n",
    "data = pd.DataFrame({'feature_importance':model.get_feature_importance(), \n",
    "              'feature_names': model.feature_names_}).sort_values(by=['feature_importance'], \n",
    "                                                       ascending=False)\n",
    "data.head(15)"
   ]
  },
  {
   "cell_type": "code",
   "execution_count": null,
   "id": "048588bb-83af-4d02-8c1d-e8ef1a58aaea",
   "metadata": {
    "tags": []
   },
   "outputs": [],
   "source": [
    "# df_pred_by_mean = pd.DataFrame(create_pred_timestamps(df_train['Timestamp'].loc[id]),columns=['Timestamp'])\n",
    "# df_pred_by_mean['Orbit Mean Density (kg/m^3)'] = model_mean.predict(create_features_and_target_by_dict(id,df_train,omni,sat).drop(['Timestamp', 'mean_Timestamp', 'last_Timestamp','Target']))"
   ]
  },
  {
   "cell_type": "code",
   "execution_count": null,
   "id": "3c65b97d-018c-4aee-8fc2-01c853fc3d29",
   "metadata": {},
   "outputs": [],
   "source": [
    "id = 10\n"
   ]
  },
  {
   "cell_type": "code",
   "execution_count": null,
   "id": "e9f06660-7f76-4ba0-99ef-c27aa56330b3",
   "metadata": {
    "tags": []
   },
   "outputs": [],
   "source": [
    "pred_feature = create_features_and_target(id,initial_states,omni,sat,predict_mean=False)\n",
    "df_pred = pd.DataFrame(model.predict(pred_feature.reset_index().drop(['Timestamp'],axis=1)),\n",
    "             index=pred_feature.index,columns=['Orbit Mean Density (kg/m^3)']).reset_index()"
   ]
  },
  {
   "cell_type": "code",
   "execution_count": null,
   "id": "bceec23c-8f68-4e7d-a758-d83a124d9ca1",
   "metadata": {},
   "outputs": [],
   "source": [
    "df_pred"
   ]
  },
  {
   "cell_type": "code",
   "execution_count": null,
   "id": "117efec7-b23b-40a7-8ac8-b0e2ea6b6044",
   "metadata": {
    "tags": []
   },
   "outputs": [],
   "source": [
    "df_pred_msis = pd.read_csv('data/data_isaac/sat_density_pred/density_pred'+str(id)+ '.csv',index_col=0)\n",
    "df_pred_msis['Timestamp'] = pd.to_datetime(df_pred_msis['Timestamp'])"
   ]
  },
  {
   "cell_type": "code",
   "execution_count": null,
   "id": "997c5892-8700-4c99-90c4-e3d7a08a1e93",
   "metadata": {
    "tags": []
   },
   "outputs": [],
   "source": [
    "df_pred_msis.shape"
   ]
  },
  {
   "cell_type": "code",
   "execution_count": null,
   "id": "ef5b8fdd-6900-4e72-ae80-f80e91ee15bf",
   "metadata": {
    "tags": []
   },
   "outputs": [],
   "source": [
    "df_true = sat[id]"
   ]
  },
  {
   "cell_type": "code",
   "execution_count": null,
   "id": "d7d3d469-a970-410e-9783-0547c03d1078",
   "metadata": {
    "tags": []
   },
   "outputs": [],
   "source": [
    "plt.figure()\n",
    "df_true.set_index('Timestamp')['Orbit Mean Density (kg/m^3)'].plot()\n",
    "df_pred.set_index('Timestamp')['Orbit Mean Density (kg/m^3)'].plot()\n",
    "#df_pred_by_mean.set_index('Timestamp')['Orbit Mean Density (kg/m^3)'].plot()\n",
    "df_pred_msis.set_index('Timestamp')['Density (kg/m3)'].plot()"
   ]
  },
  {
   "cell_type": "code",
   "execution_count": null,
   "id": "e1d151c7-92fa-4e18-b6f6-94036efdc8f2",
   "metadata": {},
   "outputs": [],
   "source": [
    "df_true"
   ]
  },
  {
   "cell_type": "code",
   "execution_count": null,
   "id": "c64ca2f0-da36-4514-b621-b93f29b02ea3",
   "metadata": {},
   "outputs": [],
   "source": [
    "df_true['Orbit Mean Density (kg/m^3)'].plot()"
   ]
  },
  {
   "cell_type": "code",
   "execution_count": null,
   "id": "6430bd4e-a359-4a67-918b-747ae402b1df",
   "metadata": {},
   "outputs": [],
   "source": [
    "df_pred"
   ]
  },
  {
   "cell_type": "code",
   "execution_count": null,
   "id": "dc266715-07de-4b90-8104-a3c48f4d9ea8",
   "metadata": {
    "tags": []
   },
   "outputs": [],
   "source": [
    "df_pred_msis.set_index('Timestamp')['Density (kg/m3)'].plot()"
   ]
  },
  {
   "cell_type": "markdown",
   "id": "f89bbd2e-3912-47db-aa08-b1f7ef1e632b",
   "metadata": {
    "jp-MarkdownHeadingCollapsed": true,
    "tags": []
   },
   "source": [
    "\n",
    "###  Model by MSIS"
   ]
  },
  {
   "cell_type": "code",
   "execution_count": null,
   "id": "b3a535d4-a061-40c8-aea0-9c2e85dd2d99",
   "metadata": {
    "tags": []
   },
   "outputs": [],
   "source": [
    "from atm_me import PersistenceMSIS, MSISPersistenceAtmosphere, PersistenceModel"
   ]
  },
  {
   "cell_type": "code",
   "execution_count": null,
   "id": "75f7bbff-c5c8-467d-b4d5-52825efbf250",
   "metadata": {
    "tags": []
   },
   "outputs": [],
   "source": [
    "bad_id = []"
   ]
  },
  {
   "cell_type": "code",
   "execution_count": null,
   "id": "d1c389e0-700d-4fcf-aa7f-51a8d7e2f38b",
   "metadata": {
    "scrolled": true,
    "tags": []
   },
   "outputs": [],
   "source": [
    "model = PersistenceModel(plot_trajectory=False)\n",
    "for id in df_train.index:\n",
    "    if os.path.exists('data_isaac/sat_density_pred_no_drag/density_pred'+ str(id) + '.csv'):\n",
    "        continue\n",
    "    else:\n",
    "        bad_id.append(id)\n",
    "        continue\n",
    "    omni_data = omni[id].loc[:,['Timestamp', 'f10.7_index', 'ap_index_nT']]\n",
    "    omni_data['Timestamp'] = pd.to_datetime(omni_data['Timestamp'])\n",
    "    omni_data = omni_data.ffill()\n",
    "    try:\n",
    "        states, densities = model(omni_data,df_train.loc[id].to_dict())\n",
    "        predictions = model._convert_to_df(states, densities)\n",
    "        predictions.to_csv('data_isaac/sat_density_pred_no_drag/density_pred'+ str(id) + '.csv')\n",
    "    except:\n",
    "        print(id)"
   ]
  },
  {
   "cell_type": "code",
   "execution_count": null,
   "id": "83e37dd5-247f-4308-833e-a3144399bbd0",
   "metadata": {
    "tags": []
   },
   "outputs": [],
   "source": [
    "from poliastro.core.elements import coe2rv"
   ]
  },
  {
   "cell_type": "code",
   "execution_count": null,
   "id": "40de9194-baef-4df8-941d-3fa31c35d779",
   "metadata": {
    "tags": []
   },
   "outputs": [],
   "source": [
    "from poliastro.constants.general import GM_earth"
   ]
  },
  {
   "cell_type": "code",
   "execution_count": null,
   "id": "2d081cf2-8181-4543-be48-6d140149c7b5",
   "metadata": {
    "tags": []
   },
   "outputs": [],
   "source": [
    "coe2rv(GM_earth,6826.387247,0.003882,87.275306,144.135111,257.314389,102.383270)"
   ]
  },
  {
   "cell_type": "code",
   "execution_count": null,
   "id": "217bba2c-ac22-4466-a696-d6dfc0aade4c",
   "metadata": {
    "tags": []
   },
   "outputs": [],
   "source": [
    "coe2rv(GM_earth,6824.556715,0.004397,87.269194,127.738000,86.817000,273.818611)"
   ]
  },
  {
   "cell_type": "code",
   "execution_count": null,
   "id": "4303b567-473e-4f82-ab15-f925853c00ba",
   "metadata": {
    "tags": []
   },
   "outputs": [],
   "source": [
    "df_train.loc[df_train['Latitude (deg)']<100]"
   ]
  },
  {
   "cell_type": "code",
   "execution_count": null,
   "id": "c0963300-c82a-4e6e-ae25-4c6a69ab4a2b",
   "metadata": {
    "tags": []
   },
   "outputs": [],
   "source": [
    "df_train.loc[bad_id]"
   ]
  },
  {
   "cell_type": "code",
   "execution_count": null,
   "id": "b1fa5ae8-60f6-4be1-9b96-b0e95cf5e9eb",
   "metadata": {
    "tags": []
   },
   "outputs": [],
   "source": [
    "df_train.loc[df_train.index.isin(bad_id)==False]"
   ]
  },
  {
   "cell_type": "code",
   "execution_count": null,
   "id": "33f717df-ddfd-40f5-9d16-fa5ff2353d01",
   "metadata": {
    "tags": []
   },
   "outputs": [],
   "source": [
    "len(bad_id)\n"
   ]
  },
  {
   "cell_type": "code",
   "execution_count": null,
   "id": "ff0c33e7-cb73-4621-b7e1-337c50f2009b",
   "metadata": {
    "tags": []
   },
   "outputs": [],
   "source": [
    "from evaluation_me import DensityModelEvaluator\n",
    "\n"
   ]
  }
 ],
 "metadata": {
  "kernelspec": {
   "display_name": "small_env_2",
   "language": "python",
   "name": "small_env_2"
  },
  "language_info": {
   "codemirror_mode": {
    "name": "ipython",
    "version": 3
   },
   "file_extension": ".py",
   "mimetype": "text/x-python",
   "name": "python",
   "nbconvert_exporter": "python",
   "pygments_lexer": "ipython3",
   "version": "3.10.16"
  }
 },
 "nbformat": 4,
 "nbformat_minor": 5
}
