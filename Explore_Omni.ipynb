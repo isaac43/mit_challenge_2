{
 "cells": [
  {
   "cell_type": "code",
   "execution_count": 1,
   "id": "06a27278-d329-4ca3-b76e-b9e26453455e",
   "metadata": {},
   "outputs": [],
   "source": [
    "import pandas as pd\n",
    "import numpy as np\n",
    "from datetime import datetime, timedelta\n",
    "import os\n",
    "from tqdm import tqdm\n",
    "import pickle\n",
    "tqdm.pandas()\n",
    "import warnings\n",
    "import catboost as cb\n",
    "# from sklearn.metrics import mean_squared_error\n",
    "# from sklearn.metrics import r2_score\n",
    "from submission_xgboost.utils import *\n",
    "from sklearn.metrics import r2_score"
   ]
  },
  {
   "cell_type": "code",
   "execution_count": 2,
   "id": "445d89ab-d622-49e7-9a2f-4373b00014a0",
   "metadata": {},
   "outputs": [
    {
     "name": "stdout",
     "output_type": "stream",
     "text": [
      "(8119, 10)\n",
      "(8095, 10)\n"
     ]
    }
   ],
   "source": [
    "initial_states = pd.read_csv('C:/Users/isaac/Documents/Challenge_MIT_2/mit_challenge_2/data/phase_1/00000_to_02284-initial_states.csv')\n",
    "initial_states = pd.concat([initial_states,pd.read_csv('C:/Users/isaac/Documents/Challenge_MIT_2/mit_challenge_2/data/phase_1/02285_to_02357-initial_states.csv')])\n",
    "initial_states = pd.concat([initial_states,pd.read_csv('C:/Users/isaac/Documents/Challenge_MIT_2/mit_challenge_2/data/phase_1/02358_to_04264-initial_states.csv')])\n",
    "initial_states = pd.concat([initial_states,pd.read_csv('C:/Users/isaac/Documents/Challenge_MIT_2/mit_challenge_2/data/phase_1/04265_to_05570-initial_states.csv')])\n",
    "initial_states = pd.concat([initial_states,pd.read_csv('C:/Users/isaac/Documents/Challenge_MIT_2/mit_challenge_2/data/phase_1/05571_to_05614-initial_states.csv')])\n",
    "initial_states = pd.concat([initial_states,pd.read_csv('C:/Users/isaac/Documents/Challenge_MIT_2/mit_challenge_2/data/phase_1/05615_to_06671-initial_states.csv')])\n",
    "initial_states = pd.concat([initial_states,pd.read_csv('C:/Users/isaac/Documents/Challenge_MIT_2/mit_challenge_2/data/phase_1/06672_to_08118-initial_states.csv')])\n",
    "initial_states['Timestamp'] = pd.to_datetime(initial_states['Timestamp'])\n",
    "\n",
    "# add last data\n",
    "#df_temp = pd.read_csv('C:/Users/isaac/Documents/Challenge_MIT_2/mit_challenge_2/data/phase_1/06672_to_08118-initial_states.csv')\n",
    "# df_temp['Timestamp'] = pd.to_datetime(df_temp['Timestamp'])\n",
    "# initial_states = pd.concat([initial_states,df_temp])\n",
    "initial_states = initial_states.set_index('File ID')\n",
    "print(initial_states.shape)\n",
    "initial_states =  initial_states.mask((initial_states==9.99e+29)|(initial_states==9.99e+32))\n",
    "initial_states = initial_states.loc[initial_states.count(1)==10]\n",
    "print(initial_states.shape)"
   ]
  },
  {
   "cell_type": "code",
   "execution_count": 3,
   "id": "bf399781-f81b-4e7b-8c99-e1fceebbe7a3",
   "metadata": {},
   "outputs": [],
   "source": [
    "with open('data/data_isaac/omni.pickle', 'rb') as f:\n",
    "    omni = pickle.load(f)"
   ]
  },
  {
   "cell_type": "code",
   "execution_count": 9,
   "id": "f84902d4-a3cd-4826-bde2-963e28948544",
   "metadata": {},
   "outputs": [],
   "source": [
    "def do_interpolation(result):\n",
    "    df = pd.Series(result,index=range(0,432,50)).to_frame()\n",
    "    return df.reindex(range(0,432)).interpolate()"
   ]
  },
  {
   "cell_type": "code",
   "execution_count": 8,
   "id": "8454d7a1-d80a-4275-a01c-4342661c9677",
   "metadata": {},
   "outputs": [
    {
     "data": {
      "text/html": [
       "<div>\n",
       "<style scoped>\n",
       "    .dataframe tbody tr th:only-of-type {\n",
       "        vertical-align: middle;\n",
       "    }\n",
       "\n",
       "    .dataframe tbody tr th {\n",
       "        vertical-align: top;\n",
       "    }\n",
       "\n",
       "    .dataframe thead th {\n",
       "        text-align: right;\n",
       "    }\n",
       "</style>\n",
       "<table border=\"1\" class=\"dataframe\">\n",
       "  <thead>\n",
       "    <tr style=\"text-align: right;\">\n",
       "      <th></th>\n",
       "      <th>0</th>\n",
       "    </tr>\n",
       "  </thead>\n",
       "  <tbody>\n",
       "    <tr>\n",
       "      <th>0</th>\n",
       "      <td>0.000000</td>\n",
       "    </tr>\n",
       "    <tr>\n",
       "      <th>1</th>\n",
       "      <td>3.333333</td>\n",
       "    </tr>\n",
       "    <tr>\n",
       "      <th>2</th>\n",
       "      <td>6.666667</td>\n",
       "    </tr>\n",
       "    <tr>\n",
       "      <th>3</th>\n",
       "      <td>10.000000</td>\n",
       "    </tr>\n",
       "    <tr>\n",
       "      <th>4</th>\n",
       "      <td>10.833333</td>\n",
       "    </tr>\n",
       "    <tr>\n",
       "      <th>5</th>\n",
       "      <td>11.666667</td>\n",
       "    </tr>\n",
       "    <tr>\n",
       "      <th>6</th>\n",
       "      <td>12.500000</td>\n",
       "    </tr>\n",
       "    <tr>\n",
       "      <th>7</th>\n",
       "      <td>13.333333</td>\n",
       "    </tr>\n",
       "    <tr>\n",
       "      <th>8</th>\n",
       "      <td>14.166667</td>\n",
       "    </tr>\n",
       "    <tr>\n",
       "      <th>9</th>\n",
       "      <td>15.000000</td>\n",
       "    </tr>\n",
       "    <tr>\n",
       "      <th>10</th>\n",
       "      <td>15.833333</td>\n",
       "    </tr>\n",
       "    <tr>\n",
       "      <th>11</th>\n",
       "      <td>16.666667</td>\n",
       "    </tr>\n",
       "    <tr>\n",
       "      <th>12</th>\n",
       "      <td>17.500000</td>\n",
       "    </tr>\n",
       "    <tr>\n",
       "      <th>13</th>\n",
       "      <td>18.333333</td>\n",
       "    </tr>\n",
       "    <tr>\n",
       "      <th>14</th>\n",
       "      <td>19.166667</td>\n",
       "    </tr>\n",
       "    <tr>\n",
       "      <th>15</th>\n",
       "      <td>20.000000</td>\n",
       "    </tr>\n",
       "    <tr>\n",
       "      <th>16</th>\n",
       "      <td>20.000000</td>\n",
       "    </tr>\n",
       "    <tr>\n",
       "      <th>17</th>\n",
       "      <td>20.000000</td>\n",
       "    </tr>\n",
       "    <tr>\n",
       "      <th>18</th>\n",
       "      <td>20.000000</td>\n",
       "    </tr>\n",
       "    <tr>\n",
       "      <th>19</th>\n",
       "      <td>20.000000</td>\n",
       "    </tr>\n",
       "  </tbody>\n",
       "</table>\n",
       "</div>"
      ],
      "text/plain": [
       "            0\n",
       "0    0.000000\n",
       "1    3.333333\n",
       "2    6.666667\n",
       "3   10.000000\n",
       "4   10.833333\n",
       "5   11.666667\n",
       "6   12.500000\n",
       "7   13.333333\n",
       "8   14.166667\n",
       "9   15.000000\n",
       "10  15.833333\n",
       "11  16.666667\n",
       "12  17.500000\n",
       "13  18.333333\n",
       "14  19.166667\n",
       "15  20.000000\n",
       "16  20.000000\n",
       "17  20.000000\n",
       "18  20.000000\n",
       "19  20.000000"
      ]
     },
     "execution_count": 8,
     "metadata": {},
     "output_type": "execute_result"
    }
   ],
   "source": [
    "df.reindex(range(0,20)).interpolate()"
   ]
  },
  {
   "cell_type": "code",
   "execution_count": 151,
   "id": "bafa209e-e7db-4e7f-a490-8d7370ff7b1e",
   "metadata": {},
   "outputs": [
    {
     "name": "stderr",
     "output_type": "stream",
     "text": [
      "100%|██████████████████████████████████████████████████████████████████████████████| 8119/8119 [09:08<00:00, 14.81it/s]\n"
     ]
    }
   ],
   "source": [
    "all_res = {}\n",
    "for i in tqdm(omni.keys()):\n",
    "    all_res[i] = extract_features_from_omni(omni[i])"
   ]
  },
  {
   "cell_type": "code",
   "execution_count": 160,
   "id": "e3b57d94-332f-4f4c-bb13-18ad347dd64e",
   "metadata": {},
   "outputs": [],
   "source": [
    "pd.DataFrame(all_res).T.to_parquet('Test.parquet')"
   ]
  },
  {
   "cell_type": "code",
   "execution_count": 159,
   "id": "3af28e08-093d-4d6a-bdb8-aa5f087e422f",
   "metadata": {},
   "outputs": [
    {
     "name": "stdout",
     "output_type": "stream",
     "text": [
      "Collecting pyarrow\n",
      "  Downloading pyarrow-19.0.1-cp310-cp310-win_amd64.whl.metadata (3.4 kB)\n",
      "Downloading pyarrow-19.0.1-cp310-cp310-win_amd64.whl (25.3 MB)\n",
      "   ---------------------------------------- 0.0/25.3 MB ? eta -:--:--\n",
      "   -- ------------------------------------- 1.6/25.3 MB 9.3 MB/s eta 0:00:03\n",
      "   --------- ------------------------------ 6.3/25.3 MB 16.7 MB/s eta 0:00:02\n",
      "   --------------------- ------------------ 13.9/25.3 MB 23.6 MB/s eta 0:00:01\n",
      "   ------------------------------------ --- 23.1/25.3 MB 28.6 MB/s eta 0:00:01\n",
      "   ---------------------------------------- 25.3/25.3 MB 28.1 MB/s eta 0:00:00\n",
      "Installing collected packages: pyarrow\n",
      "Successfully installed pyarrow-19.0.1\n",
      "Note: you may need to restart the kernel to use updated packages.\n"
     ]
    },
    {
     "name": "stderr",
     "output_type": "stream",
     "text": [
      "\n",
      "[notice] A new release of pip is available: 25.0 -> 25.0.1\n",
      "[notice] To update, run: C:\\Users\\isaac\\miniconda3\\envs\\small_env_2\\python.exe -m pip install --upgrade pip\n"
     ]
    }
   ],
   "source": [
    "pip install pyarrow"
   ]
  },
  {
   "cell_type": "code",
   "execution_count": null,
   "id": "e40053cf-af8a-4216-89d3-b5124785fa11",
   "metadata": {},
   "outputs": [],
   "source": []
  }
 ],
 "metadata": {
  "kernelspec": {
   "display_name": "small_env_2",
   "language": "python",
   "name": "small_env_2"
  },
  "language_info": {
   "codemirror_mode": {
    "name": "ipython",
    "version": 3
   },
   "file_extension": ".py",
   "mimetype": "text/x-python",
   "name": "python",
   "nbconvert_exporter": "python",
   "pygments_lexer": "ipython3",
   "version": "3.10.16"
  }
 },
 "nbformat": 4,
 "nbformat_minor": 5
}
