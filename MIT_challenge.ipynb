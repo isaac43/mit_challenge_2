{
 "cells": [
  {
   "cell_type": "code",
   "execution_count": 3,
   "id": "c2528786-0bc7-41ac-bbe5-f539fb641d74",
   "metadata": {
    "tags": []
   },
   "outputs": [],
   "source": [
    "import pandas as pd\n",
    "from datetime import datetime, timedelta\n",
    "import os\n",
    "from tqdm import tqdm\n",
    "import pickle\n",
    "tqdm.pandas()\n",
    "import warnings\n",
    "import catboost as cb\n",
    "from sklearn.metrics import mean_squared_error\n",
    "from sklearn.metrics import r2_score\n",
    "warnings.filterwarnings(\"ignore\")"
   ]
  },
  {
   "cell_type": "markdown",
   "id": "21424dc9-41a2-4aca-bf00-5259b20c39ec",
   "metadata": {
    "tags": []
   },
   "source": [
    "### One file"
   ]
  },
  {
   "cell_type": "code",
   "execution_count": 7,
   "id": "ade28363-55c9-45c8-8a53-4d8ab043341d",
   "metadata": {
    "tags": []
   },
   "outputs": [],
   "source": [
    "df_train = pd.read_csv('C:/Users/isaac/Documents/Challenge_MIT_2/mit_challenge_2/phase_1/00000_to_02284-initial_states.csv')\n",
    "df_train = pd.concat([df_train,pd.read_csv('C:/Users/isaac/Documents/Challenge_MIT_2/mit_challenge_2/phase_1/02285_to_02357-initial_states.csv')])\n",
    "df_train = pd.concat([df_train,pd.read_csv('C:/Users/isaac/Documents/Challenge_MIT_2/mit_challenge_2/phase_1/02358_to_04264-initial_states.csv')])\n",
    "df_train = pd.concat([df_train,pd.read_csv('C:/Users/isaac/Documents/Challenge_MIT_2/mit_challenge_2/phase_1/04265_to_05570-initial_states.csv')])\n",
    "df_train = pd.concat([df_train,pd.read_csv('C:/Users/isaac/Documents/Challenge_MIT_2/mit_challenge_2/phase_1/05571_to_05614-initial_states.csv')])\n",
    "df_train = pd.concat([df_train,pd.read_csv('C:/Users/isaac/Documents/Challenge_MIT_2/mit_challenge_2/phase_1/05615_to_06671-initial_states.csv')])\n",
    "#df_train = pd.concat([df_train,pd.read_csv('C:/Users/isaac/Documents/Challenge_MIT_2/mit_challenge_2/phase_1/06672_to_08118-initial_states.csv')])\n",
    "\n",
    "df_train['Timestamp'] = pd.to_datetime(df_train['Timestamp'])\n",
    "df_train = df_train.set_index('File ID')"
   ]
  },
  {
   "cell_type": "code",
   "execution_count": 3,
   "id": "1c5bf58b-f76a-4fcc-a7d8-ae7fa196fad5",
   "metadata": {
    "tags": []
   },
   "outputs": [],
   "source": [
    "with open('data_isaac/omni.pickle', 'rb') as f:\n",
    "    omni = pickle.load(f)\n",
    "with open('data_isaac/sat.pickle', 'rb') as f:\n",
    "    sat = pickle.load(f)"
   ]
  },
  {
   "cell_type": "code",
   "execution_count": null,
   "id": "72e1ae2f-a26f-47ee-9bff-18f09266f7d2",
   "metadata": {
    "tags": []
   },
   "outputs": [],
   "source": [
    "# all_files_omni = os.listdir(\"phase_1/omni2/\")\n",
    "# all_files_dens = os.listdir(\"phase_1/sat_density/\")\n",
    "# omni = {}\n",
    "# for i in tqdm(all_files_omni):\n",
    "#     omni[int(i.split('-')[1])] = pd.read_csv('phase_1/omni2/'+i)\n",
    "# sat = {}\n",
    "# for i in tqdm(all_files_dens):\n",
    "#     sat[int(i.replace('gr-of','grof').split('-')[1])] = pd.read_csv('phase_1/sat_density/'+i)\n",
    "# with open('omni.pickle', 'wb') as handle:\n",
    "#     pickle.dump(omni, handle, protocol=pickle.HIGHEST_PROTOCOL)\n",
    "# with open('sat.pickle', 'wb') as handle:\n",
    "#     pickle.dump(sat, handle, protocol=pickle.HIGHEST_PROTOCOL)"
   ]
  },
  {
   "cell_type": "markdown",
   "id": "0038d650-fd8f-4dc1-b872-3faece76b05e",
   "metadata": {
    "tags": []
   },
   "source": [
    "### Create feature by files"
   ]
  },
  {
   "cell_type": "code",
   "execution_count": null,
   "id": "7c5ba963-d968-454a-ae0c-d0c4a8ac4bf0",
   "metadata": {
    "tags": []
   },
   "outputs": [],
   "source": [
    "def create_features_and_target(id,df_train):\n",
    "    all_files_omni = os.listdir(\"phase_1/omni2/\")\n",
    "    all_files_dens = os.listdir(\"phase_1/sat_density/\")\n",
    "    file_omni = [i for i in all_files_omni if i.split('-')[1]==id][0]\n",
    "    file_sat = [i for i in all_files_dens if i.split('-')[1]==id][0]\n",
    "    data_omni = pd.read_csv('phase_1/omni2/'+file_omni)\n",
    "    #data_omni['Timestamp'] = pd.to_datetime(data_omni['Timestamp'])\n",
    "    data_omni = data_omni.ffill()\n",
    "\n",
    "    data_sat = pd.read_csv('phase_1/sat_density/'+file_sat)\n",
    "    #data_sat['Timestamp'] = pd.to_datetime(data_sat['Timestamp'])\n",
    "\n",
    "    df_features = pd.concat([data_omni.drop('Timestamp',axis=1).mean(0),data_omni.iloc[-1]],axis=1)\n",
    "    df_features.columns = ['mean','last']\n",
    "    df_features = df_features.unstack()\n",
    "    df_features.index = df_features.index.get_level_values(0)+'_'+ df_features.index.get_level_values(1)\n",
    "    print(df_features)\n",
    "    df_features.loc['Target'] = data_sat['Orbit Mean Density (kg/m^3)'].mean()\n",
    "\n",
    "    df_position = df_train.loc[df_train['File ID']==int(id)].iloc[0]\n",
    "    df_features = pd.concat([df_position,df_features],axis=0)\n",
    "    return df_features"
   ]
  },
  {
   "cell_type": "markdown",
   "id": "040ab5ba-f3e7-4e3e-9e11-1324ef94ec43",
   "metadata": {
    "tags": []
   },
   "source": [
    "### Create feature by dict"
   ]
  },
  {
   "cell_type": "code",
   "execution_count": null,
   "id": "8e9f7431-592d-433e-9d60-9d108355bc44",
   "metadata": {
    "tags": []
   },
   "outputs": [],
   "source": [
    "def create_features_and_target_by_dict(id,df_train,omni,sat,predict_mean=True):\n",
    "    \n",
    "    data_omni = omni[id]\n",
    "    #data_omni['Timestamp'] = pd.to_datetime(data_omni['Timestamp'])\n",
    "    data_omni = data_omni.ffill()\n",
    "\n",
    "    data_sat = sat[id]\n",
    "    data_sat['Timestamp'] = pd.to_datetime(data_sat['Timestamp'],format='%Y-%m-%d %H:%M:%S')\n",
    "\n",
    "    df_features = pd.concat([data_omni.drop('Timestamp',axis=1).mean(0),data_omni.iloc[-1]],axis=1)\n",
    "    df_features.columns = ['mean','last']\n",
    "    df_features = df_features.unstack()\n",
    "    df_features.index = df_features.index.get_level_values(0)+'_'+ df_features.index.get_level_values(1)\n",
    "    df_features['last_Timestamp'] = pd.to_datetime(df_features['last_Timestamp'],format='%Y-%m-%d %H:%M:%S')\n",
    "    df_position = df_train.loc[id]\n",
    "    df_features = pd.concat([df_position,df_features],axis=0)\n",
    "    if not predict_mean :\n",
    "        df_features = pd.concat([df_features.to_frame().T,data_sat]).ffill().dropna(subset='Orbit Mean Density (kg/m^3)')\n",
    "        df_features['Time_until_y'] = (df_features['Timestamp'] - df_features['last_Timestamp']).dt.seconds.copy()\n",
    "    else:\n",
    "        df_features.loc['Target'] = data_sat['Orbit Mean Density (kg/m^3)'].mean()\n",
    "\n",
    "    return df_features"
   ]
  },
  {
   "cell_type": "code",
   "execution_count": null,
   "id": "f63c7e68-3ea7-4d15-936b-5b5a4a641a6e",
   "metadata": {
    "tags": []
   },
   "outputs": [],
   "source": [
    "model = cb.CatBoostRegressor()\n",
    "mode."
   ]
  },
  {
   "cell_type": "code",
   "execution_count": null,
   "id": "5da978d8-a841-4ef9-b275-2c46517d36e3",
   "metadata": {
    "tags": []
   },
   "outputs": [],
   "source": [
    "def create_pred_timestamps(\n",
    "    \n",
    "    tm):\n",
    "    new_tm = tm + timedelta(seconds=10-tm.second%10)\n",
    "    date_range = pd.date_range(start=new_tm,periods=432,freq='10min')\n",
    "    return date_range"
   ]
  },
  {
   "cell_type": "code",
   "execution_count": null,
   "id": "80705760-93b6-4756-b68c-e7e26a535751",
   "metadata": {
    "tags": []
   },
   "outputs": [],
   "source": [
    "from utils import create_features_for_prediction"
   ]
  },
  {
   "cell_type": "code",
   "execution_count": null,
   "id": "e7a3960c-77c7-4395-b371-cbb694154824",
   "metadata": {},
   "outputs": [],
   "source": []
  },
  {
   "cell_type": "code",
   "execution_count": null,
   "id": "ce4f5fc5-d871-47d1-a0c8-710282d1de4a",
   "metadata": {
    "tags": []
   },
   "outputs": [],
   "source": [
    "create_features_for_prediction(1,df_train,'dataset/test/omni/omni2-00001-20000604_to_20000803.csv')"
   ]
  },
  {
   "cell_type": "code",
   "execution_count": null,
   "id": "aee3691e-69ec-46b1-808d-448faf25a14a",
   "metadata": {
    "tags": []
   },
   "outputs": [],
   "source": [
    "sat[101]"
   ]
  },
  {
   "cell_type": "code",
   "execution_count": null,
   "id": "14d895f2-21ab-4ce5-badc-a095b73f3998",
   "metadata": {
    "scrolled": true,
    "tags": []
   },
   "outputs": [],
   "source": [
    "res = df_train.reset_index()['File ID'].progress_apply(lambda win:create_features_and_target_by_dict(win,df_train,omni,sat))"
   ]
  },
  {
   "cell_type": "markdown",
   "id": "bfa48497-54bb-463a-a627-1773f629d7bc",
   "metadata": {
    "jp-MarkdownHeadingCollapsed": true,
    "tags": []
   },
   "source": [
    "### Prediction by mean"
   ]
  },
  {
   "cell_type": "code",
   "execution_count": null,
   "id": "3cf0fe55-eff0-4257-b6a7-c7df91e34fa9",
   "metadata": {
    "scrolled": true,
    "tags": []
   },
   "outputs": [],
   "source": [
    "model_mean = cb.CatBoostRegressor(loss_function='RMSE',iterations=10000)\n",
    "model_mean.fit(res.drop(['Timestamp', 'mean_Timestamp', 'last_Timestamp','Target'],axis=1).iloc[:6000],res['Target'].iloc[:6000])"
   ]
  },
  {
   "cell_type": "code",
   "execution_count": null,
   "id": "b5a3710b-5b94-4d9b-bf2c-c364ad8b1eee",
   "metadata": {
    "tags": []
   },
   "outputs": [],
   "source": [
    "model_mean.score(res.drop(['Timestamp', 'mean_Timestamp', 'last_Timestamp','Target'],axis=1).iloc[:6000],res['Target'].iloc[:6000])"
   ]
  },
  {
   "cell_type": "code",
   "execution_count": null,
   "id": "7673c860-1c94-4f62-9271-9797c7914e02",
   "metadata": {
    "tags": []
   },
   "outputs": [],
   "source": [
    "model_mean.score(res.drop(['Timestamp', 'mean_Timestamp', 'last_Timestamp','Target'],axis=1).iloc[6000:],res['Target'].iloc[6000:])"
   ]
  },
  {
   "cell_type": "code",
   "execution_count": null,
   "id": "c0364415-3754-4fd9-b843-ea43e33e61a5",
   "metadata": {
    "tags": []
   },
   "outputs": [],
   "source": [
    "plt.scatter(model_mean.predict(res.drop(['Timestamp', 'mean_Timestamp', 'last_Timestamp','Target'],axis=1).iloc[6000:]),res['Target'].iloc[6000:])"
   ]
  },
  {
   "cell_type": "markdown",
   "id": "d6df640a-7080-497d-875f-2af6989ec2b8",
   "metadata": {
    "jp-MarkdownHeadingCollapsed": true,
    "tags": []
   },
   "source": [
    "### Prediction by timestamp to predict"
   ]
  },
  {
   "cell_type": "code",
   "execution_count": null,
   "id": "91105ea5-e342-4a37-95e8-9379a94e4234",
   "metadata": {
    "tags": []
   },
   "outputs": [],
   "source": [
    "df_training_set = pd.concat(res.iloc[:4000].values)\n",
    "df_test_set = pd.concat(res.iloc[4000:].values)\n",
    "df_training_set = df_training_set.drop(['Timestamp', 'mean_Timestamp', 'last_Timestamp'],axis=1)\n",
    "df_test_set = df_test_set.drop(['Timestamp', 'mean_Timestamp', 'last_Timestamp'],axis=1)\n",
    "# df_training_set.to_pickle('data_isaac/df_training_set.pkl')\n",
    "# df_test_set.to_pickle('data_isaac/df_test_set.pkl')\n",
    "train_dataset = cb.Pool(df_training_set.drop('Orbit Mean Density (kg/m^3)',axis=1), df_training_set['Orbit Mean Density (kg/m^3)']) \n",
    "test_dataset = cb.Pool(df_test_set.drop('Orbit Mean Density (kg/m^3)',axis=1), df_test_set['Orbit Mean Density (kg/m^3)'])"
   ]
  },
  {
   "cell_type": "code",
   "execution_count": null,
   "id": "99af3e41-d16c-4827-93f2-5218fabd877f",
   "metadata": {
    "tags": []
   },
   "outputs": [],
   "source": [
    "model = cb.CatBoostRegressor(loss_function='RMSE',iterations=20000)\n",
    "model.fit(train_dataset)"
   ]
  },
  {
   "cell_type": "code",
   "execution_count": null,
   "id": "e3c68460-7b48-4659-bcd9-7cc585b1ba40",
   "metadata": {
    "tags": []
   },
   "outputs": [],
   "source": [
    "model.save_model('data_isaac/model_by_timestamp.cbm')"
   ]
  },
  {
   "cell_type": "code",
   "execution_count": null,
   "id": "e513cf9a-0fa1-49d0-97f9-d1c13cd70bd3",
   "metadata": {
    "tags": []
   },
   "outputs": [],
   "source": [
    "data = pd.DataFrame({'feature_importance': model.feature_importances_, \n",
    "              'feature_names': model.feature_names_}).sort_values(by=['feature_importance'], \n",
    "                                                       ascending=False)"
   ]
  },
  {
   "cell_type": "code",
   "execution_count": null,
   "id": "a5b0e379-257d-4e0a-863e-5c26d4585d24",
   "metadata": {
    "tags": []
   },
   "outputs": [],
   "source": [
    "id = 6090\n",
    "res[id]['Orbit Mean Density (kg/m^3)'].plot()\n",
    "plt.twinx()\n",
    "plt.plot(model.predict(res[id]),color='red')"
   ]
  },
  {
   "cell_type": "code",
   "execution_count": null,
   "id": "1042b339-4e77-495c-90e7-7b9f97d2a25e",
   "metadata": {
    "tags": []
   },
   "outputs": [],
   "source": [
    "model.score(test_dataset)\n"
   ]
  },
  {
   "cell_type": "markdown",
   "id": "22be0d82-af87-4fc7-8514-1fec9e554410",
   "metadata": {
    "tags": []
   },
   "source": [
    "###  Compare pred"
   ]
  },
  {
   "cell_type": "code",
   "execution_count": null,
   "id": "d6e70a62-f656-402c-9ebd-e89a3cd9401d",
   "metadata": {
    "tags": []
   },
   "outputs": [],
   "source": [
    "id = 90\n"
   ]
  },
  {
   "cell_type": "code",
   "execution_count": null,
   "id": "048588bb-83af-4d02-8c1d-e8ef1a58aaea",
   "metadata": {
    "tags": []
   },
   "outputs": [],
   "source": [
    "df_pred_by_mean = pd.DataFrame(create_pred_timestamps(df_train['Timestamp'].loc[id]),columns=['Timestamp'])\n",
    "df_pred_by_mean['Orbit Mean Density (kg/m^3)'] = model_mean.predict(create_features_and_target_by_dict(id,df_train,omni,sat).drop(['Timestamp', 'mean_Timestamp', 'last_Timestamp','Target']))"
   ]
  },
  {
   "cell_type": "code",
   "execution_count": null,
   "id": "e9f06660-7f76-4ba0-99ef-c27aa56330b3",
   "metadata": {
    "tags": []
   },
   "outputs": [],
   "source": [
    "pred_feature = create_features_and_target_by_dict(id,df_train,omni,sat,predict_mean=False)\n",
    "df_pred = pd.DataFrame(model.predict(pred_feature.drop(['Timestamp', 'mean_Timestamp', 'last_Timestamp'],axis=1)),\n",
    "             index=pred_feature['Timestamp'],columns=['Orbit Mean Density (kg/m^3)']).reset_index()"
   ]
  },
  {
   "cell_type": "code",
   "execution_count": null,
   "id": "117efec7-b23b-40a7-8ac8-b0e2ea6b6044",
   "metadata": {
    "tags": []
   },
   "outputs": [],
   "source": [
    "df_pred_msis = pd.read_csv('data_isaac/sat_density_pred/density_pred'+str(id)+ '.csv',index_col=0)\n",
    "df_pred_msis['Timestamp'] = pd.to_datetime(df_pred_msis['Timestamp'])"
   ]
  },
  {
   "cell_type": "code",
   "execution_count": null,
   "id": "997c5892-8700-4c99-90c4-e3d7a08a1e93",
   "metadata": {
    "tags": []
   },
   "outputs": [],
   "source": [
    "df_pred_msis.shape"
   ]
  },
  {
   "cell_type": "code",
   "execution_count": null,
   "id": "ef5b8fdd-6900-4e72-ae80-f80e91ee15bf",
   "metadata": {
    "tags": []
   },
   "outputs": [],
   "source": [
    "df_true = sat[id]"
   ]
  },
  {
   "cell_type": "code",
   "execution_count": null,
   "id": "d7d3d469-a970-410e-9783-0547c03d1078",
   "metadata": {
    "tags": []
   },
   "outputs": [],
   "source": [
    "plt.figure()\n",
    "df_true.set_index('Timestamp')['Orbit Mean Density (kg/m^3)'].plot()\n",
    "df_pred.set_index('Timestamp')['Orbit Mean Density (kg/m^3)'].plot()\n",
    "df_pred_by_mean.set_index('Timestamp')['Orbit Mean Density (kg/m^3)'].plot()\n",
    "df_pred_msis.set_index('Timestamp')['Density (kg/m3)'].plot()"
   ]
  },
  {
   "cell_type": "code",
   "execution_count": null,
   "id": "dc266715-07de-4b90-8104-a3c48f4d9ea8",
   "metadata": {
    "tags": []
   },
   "outputs": [],
   "source": [
    "df_pred_msis.set_index('Timestamp')['Density (kg/m3)'].plot()"
   ]
  },
  {
   "cell_type": "markdown",
   "id": "f89bbd2e-3912-47db-aa08-b1f7ef1e632b",
   "metadata": {},
   "source": [
    "\n",
    "###  Model by MSIS"
   ]
  },
  {
   "cell_type": "code",
   "execution_count": 4,
   "id": "b3a535d4-a061-40c8-aea0-9c2e85dd2d99",
   "metadata": {
    "tags": []
   },
   "outputs": [],
   "source": [
    "from atm_me import PersistenceMSIS, MSISPersistenceAtmosphere, PersistenceModel"
   ]
  },
  {
   "cell_type": "code",
   "execution_count": 5,
   "id": "75f7bbff-c5c8-467d-b4d5-52825efbf250",
   "metadata": {
    "tags": []
   },
   "outputs": [],
   "source": [
    "bad_id = []"
   ]
  },
  {
   "cell_type": "code",
   "execution_count": 8,
   "id": "d1c389e0-700d-4fcf-aa7f-51a8d7e2f38b",
   "metadata": {
    "scrolled": true,
    "tags": []
   },
   "outputs": [],
   "source": [
    "model = PersistenceModel(plot_trajectory=False)\n",
    "for id in df_train.index:\n",
    "    if os.path.exists('data_isaac/sat_density_pred_no_drag/density_pred'+ str(id) + '.csv'):\n",
    "        continue\n",
    "    else:\n",
    "        bad_id.append(id)\n",
    "        continue\n",
    "    omni_data = omni[id].loc[:,['Timestamp', 'f10.7_index', 'ap_index_nT']]\n",
    "    omni_data['Timestamp'] = pd.to_datetime(omni_data['Timestamp'])\n",
    "    omni_data = omni_data.ffill()\n",
    "    try:\n",
    "        states, densities = model(omni_data,df_train.loc[id].to_dict())\n",
    "        predictions = model._convert_to_df(states, densities)\n",
    "        predictions.to_csv('data_isaac/sat_density_pred_no_drag/density_pred'+ str(id) + '.csv')\n",
    "    except:\n",
    "        print(id)"
   ]
  },
  {
   "cell_type": "code",
   "execution_count": 34,
   "id": "83e37dd5-247f-4308-833e-a3144399bbd0",
   "metadata": {
    "tags": []
   },
   "outputs": [],
   "source": [
    "from poliastro.core.elements import coe2rv"
   ]
  },
  {
   "cell_type": "code",
   "execution_count": 35,
   "id": "40de9194-baef-4df8-941d-3fa31c35d779",
   "metadata": {
    "tags": []
   },
   "outputs": [],
   "source": [
    "from poliastro.constants.general import GM_earth"
   ]
  },
  {
   "cell_type": "code",
   "execution_count": 39,
   "id": "2d081cf2-8181-4543-be48-6d140149c7b5",
   "metadata": {
    "tags": []
   },
   "outputs": [
    {
     "data": {
      "text/plain": [
       "array([[   2040.17287183,    4863.39987966,   -4345.71876999],\n",
       "       [-223023.87236553,   92295.22958104,   -2829.62704249]])"
      ]
     },
     "execution_count": 39,
     "metadata": {},
     "output_type": "execute_result"
    }
   ],
   "source": [
    "coe2rv(GM_earth,6826.387247,0.003882,87.275306,144.135111,257.314389,102.383270)"
   ]
  },
  {
   "cell_type": "code",
   "execution_count": 37,
   "id": "217bba2c-ac22-4466-a696-d6dfc0aade4c",
   "metadata": {
    "tags": []
   },
   "outputs": [
    {
     "data": {
      "text/plain": [
       "array([[-1.42913713e+02, -6.31702458e+03, -2.64780460e+03],\n",
       "       [ 1.99207842e+05, -5.56003798e+04,  1.23215306e+05]])"
      ]
     },
     "execution_count": 37,
     "metadata": {},
     "output_type": "execute_result"
    }
   ],
   "source": [
    "coe2rv(GM_earth,6824.556715,0.004397,87.269194,127.738000,86.817000,273.818611)"
   ]
  },
  {
   "cell_type": "code",
   "execution_count": 38,
   "id": "4303b567-473e-4f82-ab15-f925853c00ba",
   "metadata": {
    "tags": []
   },
   "outputs": [
    {
     "data": {
      "text/html": [
       "<div>\n",
       "<style scoped>\n",
       "    .dataframe tbody tr th:only-of-type {\n",
       "        vertical-align: middle;\n",
       "    }\n",
       "\n",
       "    .dataframe tbody tr th {\n",
       "        vertical-align: top;\n",
       "    }\n",
       "\n",
       "    .dataframe thead th {\n",
       "        text-align: right;\n",
       "    }\n",
       "</style>\n",
       "<table border=\"1\" class=\"dataframe\">\n",
       "  <thead>\n",
       "    <tr style=\"text-align: right;\">\n",
       "      <th></th>\n",
       "      <th>Timestamp</th>\n",
       "      <th>Semi-major Axis (km)</th>\n",
       "      <th>Eccentricity</th>\n",
       "      <th>Inclination (deg)</th>\n",
       "      <th>RAAN (deg)</th>\n",
       "      <th>Argument of Perigee (deg)</th>\n",
       "      <th>True Anomaly (deg)</th>\n",
       "      <th>Latitude (deg)</th>\n",
       "      <th>Longitude (deg)</th>\n",
       "      <th>Altitude (km)</th>\n",
       "    </tr>\n",
       "    <tr>\n",
       "      <th>File ID</th>\n",
       "      <th></th>\n",
       "      <th></th>\n",
       "      <th></th>\n",
       "      <th></th>\n",
       "      <th></th>\n",
       "      <th></th>\n",
       "      <th></th>\n",
       "      <th></th>\n",
       "      <th></th>\n",
       "      <th></th>\n",
       "    </tr>\n",
       "  </thead>\n",
       "  <tbody>\n",
       "    <tr>\n",
       "      <th>0</th>\n",
       "      <td>2000-08-02 04:50:33</td>\n",
       "      <td>6826.387247</td>\n",
       "      <td>0.003882</td>\n",
       "      <td>87.275306</td>\n",
       "      <td>144.135111</td>\n",
       "      <td>257.314389</td>\n",
       "      <td>102.383270</td>\n",
       "      <td>43.637815</td>\n",
       "      <td>-62.543128</td>\n",
       "      <td>466.448890</td>\n",
       "    </tr>\n",
       "    <tr>\n",
       "      <th>1</th>\n",
       "      <td>2000-08-03 19:51:01</td>\n",
       "      <td>6826.327748</td>\n",
       "      <td>0.003879</td>\n",
       "      <td>87.275694</td>\n",
       "      <td>143.529694</td>\n",
       "      <td>250.438806</td>\n",
       "      <td>109.273118</td>\n",
       "      <td>43.444458</td>\n",
       "      <td>70.139709</td>\n",
       "      <td>463.435053</td>\n",
       "    </tr>\n",
       "    <tr>\n",
       "      <th>2</th>\n",
       "      <td>2000-08-05 05:40:05</td>\n",
       "      <td>6819.634802</td>\n",
       "      <td>0.004114</td>\n",
       "      <td>87.268611</td>\n",
       "      <td>142.972111</td>\n",
       "      <td>244.549389</td>\n",
       "      <td>115.138737</td>\n",
       "      <td>19.764250</td>\n",
       "      <td>104.521278</td>\n",
       "      <td>471.625453</td>\n",
       "    </tr>\n",
       "    <tr>\n",
       "      <th>3</th>\n",
       "      <td>2000-08-06 05:02:20</td>\n",
       "      <td>6819.606603</td>\n",
       "      <td>0.004134</td>\n",
       "      <td>87.268194</td>\n",
       "      <td>142.608389</td>\n",
       "      <td>241.172000</td>\n",
       "      <td>118.545161</td>\n",
       "      <td>12.450738</td>\n",
       "      <td>112.239558</td>\n",
       "      <td>470.385914</td>\n",
       "    </tr>\n",
       "    <tr>\n",
       "      <th>4</th>\n",
       "      <td>2000-08-08 20:54:57</td>\n",
       "      <td>6819.425918</td>\n",
       "      <td>0.004178</td>\n",
       "      <td>87.264611</td>\n",
       "      <td>141.605111</td>\n",
       "      <td>228.779611</td>\n",
       "      <td>130.982981</td>\n",
       "      <td>-8.776992</td>\n",
       "      <td>-130.559634</td>\n",
       "      <td>468.911226</td>\n",
       "    </tr>\n",
       "    <tr>\n",
       "      <th>...</th>\n",
       "      <td>...</td>\n",
       "      <td>...</td>\n",
       "      <td>...</td>\n",
       "      <td>...</td>\n",
       "      <td>...</td>\n",
       "      <td>...</td>\n",
       "      <td>...</td>\n",
       "      <td>...</td>\n",
       "      <td>...</td>\n",
       "      <td>...</td>\n",
       "    </tr>\n",
       "    <tr>\n",
       "      <th>6667</th>\n",
       "      <td>2016-08-24 12:11:50</td>\n",
       "      <td>6733.514992</td>\n",
       "      <td>0.000718</td>\n",
       "      <td>88.998889</td>\n",
       "      <td>4.216194</td>\n",
       "      <td>149.985500</td>\n",
       "      <td>210.182473</td>\n",
       "      <td>-72.497256</td>\n",
       "      <td>31.068689</td>\n",
       "      <td>383.681828</td>\n",
       "    </tr>\n",
       "    <tr>\n",
       "      <th>6668</th>\n",
       "      <td>2016-08-26 20:45:19</td>\n",
       "      <td>6733.346035</td>\n",
       "      <td>0.000752</td>\n",
       "      <td>88.998583</td>\n",
       "      <td>3.877194</td>\n",
       "      <td>142.527806</td>\n",
       "      <td>217.651193</td>\n",
       "      <td>-72.807950</td>\n",
       "      <td>-99.898727</td>\n",
       "      <td>384.260082</td>\n",
       "    </tr>\n",
       "    <tr>\n",
       "      <th>6669</th>\n",
       "      <td>2016-08-27 21:12:44</td>\n",
       "      <td>6733.280764</td>\n",
       "      <td>0.000767</td>\n",
       "      <td>88.998694</td>\n",
       "      <td>3.730611</td>\n",
       "      <td>139.466194</td>\n",
       "      <td>220.717390</td>\n",
       "      <td>-72.579717</td>\n",
       "      <td>-107.929470</td>\n",
       "      <td>384.287838</td>\n",
       "    </tr>\n",
       "    <tr>\n",
       "      <th>6670</th>\n",
       "      <td>2016-08-29 20:35:47</td>\n",
       "      <td>6733.162008</td>\n",
       "      <td>0.000797</td>\n",
       "      <td>88.999111</td>\n",
       "      <td>3.446194</td>\n",
       "      <td>133.667889</td>\n",
       "      <td>226.524455</td>\n",
       "      <td>-73.161768</td>\n",
       "      <td>-100.835977</td>\n",
       "      <td>385.028943</td>\n",
       "    </tr>\n",
       "    <tr>\n",
       "      <th>6671</th>\n",
       "      <td>2016-08-30 10:21:10</td>\n",
       "      <td>6733.129036</td>\n",
       "      <td>0.000804</td>\n",
       "      <td>88.999194</td>\n",
       "      <td>3.363611</td>\n",
       "      <td>131.913611</td>\n",
       "      <td>228.281300</td>\n",
       "      <td>-72.982854</td>\n",
       "      <td>52.141714</td>\n",
       "      <td>385.241956</td>\n",
       "    </tr>\n",
       "  </tbody>\n",
       "</table>\n",
       "<p>6648 rows × 10 columns</p>\n",
       "</div>"
      ],
      "text/plain": [
       "                  Timestamp  Semi-major Axis (km)  Eccentricity  \\\n",
       "File ID                                                           \n",
       "0       2000-08-02 04:50:33           6826.387247      0.003882   \n",
       "1       2000-08-03 19:51:01           6826.327748      0.003879   \n",
       "2       2000-08-05 05:40:05           6819.634802      0.004114   \n",
       "3       2000-08-06 05:02:20           6819.606603      0.004134   \n",
       "4       2000-08-08 20:54:57           6819.425918      0.004178   \n",
       "...                     ...                   ...           ...   \n",
       "6667    2016-08-24 12:11:50           6733.514992      0.000718   \n",
       "6668    2016-08-26 20:45:19           6733.346035      0.000752   \n",
       "6669    2016-08-27 21:12:44           6733.280764      0.000767   \n",
       "6670    2016-08-29 20:35:47           6733.162008      0.000797   \n",
       "6671    2016-08-30 10:21:10           6733.129036      0.000804   \n",
       "\n",
       "         Inclination (deg)  RAAN (deg)  Argument of Perigee (deg)  \\\n",
       "File ID                                                             \n",
       "0                87.275306  144.135111                 257.314389   \n",
       "1                87.275694  143.529694                 250.438806   \n",
       "2                87.268611  142.972111                 244.549389   \n",
       "3                87.268194  142.608389                 241.172000   \n",
       "4                87.264611  141.605111                 228.779611   \n",
       "...                    ...         ...                        ...   \n",
       "6667             88.998889    4.216194                 149.985500   \n",
       "6668             88.998583    3.877194                 142.527806   \n",
       "6669             88.998694    3.730611                 139.466194   \n",
       "6670             88.999111    3.446194                 133.667889   \n",
       "6671             88.999194    3.363611                 131.913611   \n",
       "\n",
       "         True Anomaly (deg)  Latitude (deg)  Longitude (deg)  Altitude (km)  \n",
       "File ID                                                                      \n",
       "0                102.383270       43.637815       -62.543128     466.448890  \n",
       "1                109.273118       43.444458        70.139709     463.435053  \n",
       "2                115.138737       19.764250       104.521278     471.625453  \n",
       "3                118.545161       12.450738       112.239558     470.385914  \n",
       "4                130.982981       -8.776992      -130.559634     468.911226  \n",
       "...                     ...             ...              ...            ...  \n",
       "6667             210.182473      -72.497256        31.068689     383.681828  \n",
       "6668             217.651193      -72.807950       -99.898727     384.260082  \n",
       "6669             220.717390      -72.579717      -107.929470     384.287838  \n",
       "6670             226.524455      -73.161768      -100.835977     385.028943  \n",
       "6671             228.281300      -72.982854        52.141714     385.241956  \n",
       "\n",
       "[6648 rows x 10 columns]"
      ]
     },
     "execution_count": 38,
     "metadata": {},
     "output_type": "execute_result"
    }
   ],
   "source": [
    "df_train.loc[df_train['Latitude (deg)']<100]"
   ]
  },
  {
   "cell_type": "code",
   "execution_count": 29,
   "id": "c0963300-c82a-4e6e-ae25-4c6a69ab4a2b",
   "metadata": {
    "tags": []
   },
   "outputs": [
    {
     "data": {
      "text/html": [
       "<div>\n",
       "<style scoped>\n",
       "    .dataframe tbody tr th:only-of-type {\n",
       "        vertical-align: middle;\n",
       "    }\n",
       "\n",
       "    .dataframe tbody tr th {\n",
       "        vertical-align: top;\n",
       "    }\n",
       "\n",
       "    .dataframe thead th {\n",
       "        text-align: right;\n",
       "    }\n",
       "</style>\n",
       "<table border=\"1\" class=\"dataframe\">\n",
       "  <thead>\n",
       "    <tr style=\"text-align: right;\">\n",
       "      <th></th>\n",
       "      <th>Timestamp</th>\n",
       "      <th>Semi-major Axis (km)</th>\n",
       "      <th>Eccentricity</th>\n",
       "      <th>Inclination (deg)</th>\n",
       "      <th>RAAN (deg)</th>\n",
       "      <th>Argument of Perigee (deg)</th>\n",
       "      <th>True Anomaly (deg)</th>\n",
       "      <th>Latitude (deg)</th>\n",
       "      <th>Longitude (deg)</th>\n",
       "      <th>Altitude (km)</th>\n",
       "    </tr>\n",
       "    <tr>\n",
       "      <th>File ID</th>\n",
       "      <th></th>\n",
       "      <th></th>\n",
       "      <th></th>\n",
       "      <th></th>\n",
       "      <th></th>\n",
       "      <th></th>\n",
       "      <th></th>\n",
       "      <th></th>\n",
       "      <th></th>\n",
       "      <th></th>\n",
       "    </tr>\n",
       "  </thead>\n",
       "  <tbody>\n",
       "    <tr>\n",
       "      <th>492</th>\n",
       "      <td>2002-10-08 17:10:24</td>\n",
       "      <td>6776.994645</td>\n",
       "      <td>0.001696</td>\n",
       "      <td>87.262194</td>\n",
       "      <td>201.738417</td>\n",
       "      <td>24.771306</td>\n",
       "      <td>335.438282</td>\n",
       "      <td>-18.207303</td>\n",
       "      <td>107.506300</td>\n",
       "      <td>417.278102</td>\n",
       "    </tr>\n",
       "    <tr>\n",
       "      <th>569</th>\n",
       "      <td>2003-02-01 02:42:05</td>\n",
       "      <td>6782.012039</td>\n",
       "      <td>0.000303</td>\n",
       "      <td>87.257694</td>\n",
       "      <td>157.393194</td>\n",
       "      <td>29.944000</td>\n",
       "      <td>330.208976</td>\n",
       "      <td>-11.747327</td>\n",
       "      <td>166.175802</td>\n",
       "      <td>411.194035</td>\n",
       "    </tr>\n",
       "    <tr>\n",
       "      <th>570</th>\n",
       "      <td>2003-02-03 11:52:14</td>\n",
       "      <td>6781.869755</td>\n",
       "      <td>0.000258</td>\n",
       "      <td>87.257111</td>\n",
       "      <td>156.479500</td>\n",
       "      <td>29.534000</td>\n",
       "      <td>330.604053</td>\n",
       "      <td>-11.987092</td>\n",
       "      <td>25.386467</td>\n",
       "      <td>410.911805</td>\n",
       "    </tr>\n",
       "    <tr>\n",
       "      <th>571</th>\n",
       "      <td>2003-02-04 15:40:55</td>\n",
       "      <td>6781.771723</td>\n",
       "      <td>0.000261</td>\n",
       "      <td>87.256889</td>\n",
       "      <td>156.034694</td>\n",
       "      <td>22.815194</td>\n",
       "      <td>337.322604</td>\n",
       "      <td>-12.049309</td>\n",
       "      <td>-33.364383</td>\n",
       "      <td>410.471388</td>\n",
       "    </tr>\n",
       "    <tr>\n",
       "      <th>574</th>\n",
       "      <td>2003-02-09 02:17:15</td>\n",
       "      <td>6781.472080</td>\n",
       "      <td>0.000172</td>\n",
       "      <td>87.257500</td>\n",
       "      <td>154.330083</td>\n",
       "      <td>19.380889</td>\n",
       "      <td>340.751776</td>\n",
       "      <td>-12.404173</td>\n",
       "      <td>161.486378</td>\n",
       "      <td>410.012464</td>\n",
       "    </tr>\n",
       "    <tr>\n",
       "      <th>...</th>\n",
       "      <td>...</td>\n",
       "      <td>...</td>\n",
       "      <td>...</td>\n",
       "      <td>...</td>\n",
       "      <td>...</td>\n",
       "      <td>...</td>\n",
       "      <td>...</td>\n",
       "      <td>...</td>\n",
       "      <td>...</td>\n",
       "      <td>...</td>\n",
       "    </tr>\n",
       "    <tr>\n",
       "      <th>6667</th>\n",
       "      <td>2016-08-24 12:11:50</td>\n",
       "      <td>6733.514992</td>\n",
       "      <td>0.000718</td>\n",
       "      <td>88.998889</td>\n",
       "      <td>4.216194</td>\n",
       "      <td>149.985500</td>\n",
       "      <td>210.182473</td>\n",
       "      <td>-72.497256</td>\n",
       "      <td>31.068689</td>\n",
       "      <td>383.681828</td>\n",
       "    </tr>\n",
       "    <tr>\n",
       "      <th>6668</th>\n",
       "      <td>2016-08-26 20:45:19</td>\n",
       "      <td>6733.346035</td>\n",
       "      <td>0.000752</td>\n",
       "      <td>88.998583</td>\n",
       "      <td>3.877194</td>\n",
       "      <td>142.527806</td>\n",
       "      <td>217.651193</td>\n",
       "      <td>-72.807950</td>\n",
       "      <td>-99.898727</td>\n",
       "      <td>384.260082</td>\n",
       "    </tr>\n",
       "    <tr>\n",
       "      <th>6669</th>\n",
       "      <td>2016-08-27 21:12:44</td>\n",
       "      <td>6733.280764</td>\n",
       "      <td>0.000767</td>\n",
       "      <td>88.998694</td>\n",
       "      <td>3.730611</td>\n",
       "      <td>139.466194</td>\n",
       "      <td>220.717390</td>\n",
       "      <td>-72.579717</td>\n",
       "      <td>-107.929470</td>\n",
       "      <td>384.287838</td>\n",
       "    </tr>\n",
       "    <tr>\n",
       "      <th>6670</th>\n",
       "      <td>2016-08-29 20:35:47</td>\n",
       "      <td>6733.162008</td>\n",
       "      <td>0.000797</td>\n",
       "      <td>88.999111</td>\n",
       "      <td>3.446194</td>\n",
       "      <td>133.667889</td>\n",
       "      <td>226.524455</td>\n",
       "      <td>-73.161768</td>\n",
       "      <td>-100.835977</td>\n",
       "      <td>385.028943</td>\n",
       "    </tr>\n",
       "    <tr>\n",
       "      <th>6671</th>\n",
       "      <td>2016-08-30 10:21:10</td>\n",
       "      <td>6733.129036</td>\n",
       "      <td>0.000804</td>\n",
       "      <td>88.999194</td>\n",
       "      <td>3.363611</td>\n",
       "      <td>131.913611</td>\n",
       "      <td>228.281300</td>\n",
       "      <td>-72.982854</td>\n",
       "      <td>52.141714</td>\n",
       "      <td>385.241956</td>\n",
       "    </tr>\n",
       "  </tbody>\n",
       "</table>\n",
       "<p>710 rows × 10 columns</p>\n",
       "</div>"
      ],
      "text/plain": [
       "                  Timestamp  Semi-major Axis (km)  Eccentricity  \\\n",
       "File ID                                                           \n",
       "492     2002-10-08 17:10:24           6776.994645      0.001696   \n",
       "569     2003-02-01 02:42:05           6782.012039      0.000303   \n",
       "570     2003-02-03 11:52:14           6781.869755      0.000258   \n",
       "571     2003-02-04 15:40:55           6781.771723      0.000261   \n",
       "574     2003-02-09 02:17:15           6781.472080      0.000172   \n",
       "...                     ...                   ...           ...   \n",
       "6667    2016-08-24 12:11:50           6733.514992      0.000718   \n",
       "6668    2016-08-26 20:45:19           6733.346035      0.000752   \n",
       "6669    2016-08-27 21:12:44           6733.280764      0.000767   \n",
       "6670    2016-08-29 20:35:47           6733.162008      0.000797   \n",
       "6671    2016-08-30 10:21:10           6733.129036      0.000804   \n",
       "\n",
       "         Inclination (deg)  RAAN (deg)  Argument of Perigee (deg)  \\\n",
       "File ID                                                             \n",
       "492              87.262194  201.738417                  24.771306   \n",
       "569              87.257694  157.393194                  29.944000   \n",
       "570              87.257111  156.479500                  29.534000   \n",
       "571              87.256889  156.034694                  22.815194   \n",
       "574              87.257500  154.330083                  19.380889   \n",
       "...                    ...         ...                        ...   \n",
       "6667             88.998889    4.216194                 149.985500   \n",
       "6668             88.998583    3.877194                 142.527806   \n",
       "6669             88.998694    3.730611                 139.466194   \n",
       "6670             88.999111    3.446194                 133.667889   \n",
       "6671             88.999194    3.363611                 131.913611   \n",
       "\n",
       "         True Anomaly (deg)  Latitude (deg)  Longitude (deg)  Altitude (km)  \n",
       "File ID                                                                      \n",
       "492              335.438282      -18.207303       107.506300     417.278102  \n",
       "569              330.208976      -11.747327       166.175802     411.194035  \n",
       "570              330.604053      -11.987092        25.386467     410.911805  \n",
       "571              337.322604      -12.049309       -33.364383     410.471388  \n",
       "574              340.751776      -12.404173       161.486378     410.012464  \n",
       "...                     ...             ...              ...            ...  \n",
       "6667             210.182473      -72.497256        31.068689     383.681828  \n",
       "6668             217.651193      -72.807950       -99.898727     384.260082  \n",
       "6669             220.717390      -72.579717      -107.929470     384.287838  \n",
       "6670             226.524455      -73.161768      -100.835977     385.028943  \n",
       "6671             228.281300      -72.982854        52.141714     385.241956  \n",
       "\n",
       "[710 rows x 10 columns]"
      ]
     },
     "execution_count": 29,
     "metadata": {},
     "output_type": "execute_result"
    }
   ],
   "source": [
    "df_train.loc[bad_id]"
   ]
  },
  {
   "cell_type": "code",
   "execution_count": 28,
   "id": "b1fa5ae8-60f6-4be1-9b96-b0e95cf5e9eb",
   "metadata": {
    "tags": []
   },
   "outputs": [
    {
     "data": {
      "text/html": [
       "<div>\n",
       "<style scoped>\n",
       "    .dataframe tbody tr th:only-of-type {\n",
       "        vertical-align: middle;\n",
       "    }\n",
       "\n",
       "    .dataframe tbody tr th {\n",
       "        vertical-align: top;\n",
       "    }\n",
       "\n",
       "    .dataframe thead th {\n",
       "        text-align: right;\n",
       "    }\n",
       "</style>\n",
       "<table border=\"1\" class=\"dataframe\">\n",
       "  <thead>\n",
       "    <tr style=\"text-align: right;\">\n",
       "      <th></th>\n",
       "      <th>Timestamp</th>\n",
       "      <th>Semi-major Axis (km)</th>\n",
       "      <th>Eccentricity</th>\n",
       "      <th>Inclination (deg)</th>\n",
       "      <th>RAAN (deg)</th>\n",
       "      <th>Argument of Perigee (deg)</th>\n",
       "      <th>True Anomaly (deg)</th>\n",
       "      <th>Latitude (deg)</th>\n",
       "      <th>Longitude (deg)</th>\n",
       "      <th>Altitude (km)</th>\n",
       "    </tr>\n",
       "    <tr>\n",
       "      <th>File ID</th>\n",
       "      <th></th>\n",
       "      <th></th>\n",
       "      <th></th>\n",
       "      <th></th>\n",
       "      <th></th>\n",
       "      <th></th>\n",
       "      <th></th>\n",
       "      <th></th>\n",
       "      <th></th>\n",
       "      <th></th>\n",
       "    </tr>\n",
       "  </thead>\n",
       "  <tbody>\n",
       "    <tr>\n",
       "      <th>0</th>\n",
       "      <td>2000-08-02 04:50:33</td>\n",
       "      <td>6826.387247</td>\n",
       "      <td>0.003882</td>\n",
       "      <td>87.275306</td>\n",
       "      <td>144.135111</td>\n",
       "      <td>257.314389</td>\n",
       "      <td>102.383270</td>\n",
       "      <td>43.637815</td>\n",
       "      <td>-62.543128</td>\n",
       "      <td>466.448890</td>\n",
       "    </tr>\n",
       "    <tr>\n",
       "      <th>1</th>\n",
       "      <td>2000-08-03 19:51:01</td>\n",
       "      <td>6826.327748</td>\n",
       "      <td>0.003879</td>\n",
       "      <td>87.275694</td>\n",
       "      <td>143.529694</td>\n",
       "      <td>250.438806</td>\n",
       "      <td>109.273118</td>\n",
       "      <td>43.444458</td>\n",
       "      <td>70.139709</td>\n",
       "      <td>463.435053</td>\n",
       "    </tr>\n",
       "    <tr>\n",
       "      <th>2</th>\n",
       "      <td>2000-08-05 05:40:05</td>\n",
       "      <td>6819.634802</td>\n",
       "      <td>0.004114</td>\n",
       "      <td>87.268611</td>\n",
       "      <td>142.972111</td>\n",
       "      <td>244.549389</td>\n",
       "      <td>115.138737</td>\n",
       "      <td>19.764250</td>\n",
       "      <td>104.521278</td>\n",
       "      <td>471.625453</td>\n",
       "    </tr>\n",
       "    <tr>\n",
       "      <th>3</th>\n",
       "      <td>2000-08-06 05:02:20</td>\n",
       "      <td>6819.606603</td>\n",
       "      <td>0.004134</td>\n",
       "      <td>87.268194</td>\n",
       "      <td>142.608389</td>\n",
       "      <td>241.172000</td>\n",
       "      <td>118.545161</td>\n",
       "      <td>12.450738</td>\n",
       "      <td>112.239558</td>\n",
       "      <td>470.385914</td>\n",
       "    </tr>\n",
       "    <tr>\n",
       "      <th>4</th>\n",
       "      <td>2000-08-08 20:54:57</td>\n",
       "      <td>6819.425918</td>\n",
       "      <td>0.004178</td>\n",
       "      <td>87.264611</td>\n",
       "      <td>141.605111</td>\n",
       "      <td>228.779611</td>\n",
       "      <td>130.982981</td>\n",
       "      <td>-8.776992</td>\n",
       "      <td>-130.559634</td>\n",
       "      <td>468.911226</td>\n",
       "    </tr>\n",
       "    <tr>\n",
       "      <th>...</th>\n",
       "      <td>...</td>\n",
       "      <td>...</td>\n",
       "      <td>...</td>\n",
       "      <td>...</td>\n",
       "      <td>...</td>\n",
       "      <td>...</td>\n",
       "      <td>...</td>\n",
       "      <td>...</td>\n",
       "      <td>...</td>\n",
       "      <td>...</td>\n",
       "    </tr>\n",
       "    <tr>\n",
       "      <th>6160</th>\n",
       "      <td>2013-07-05 11:55:15</td>\n",
       "      <td>6814.005672</td>\n",
       "      <td>0.001713</td>\n",
       "      <td>89.020389</td>\n",
       "      <td>164.408389</td>\n",
       "      <td>95.074083</td>\n",
       "      <td>52.342715</td>\n",
       "      <td>-60.222029</td>\n",
       "      <td>60.089380</td>\n",
       "      <td>469.367913</td>\n",
       "    </tr>\n",
       "    <tr>\n",
       "      <th>6161</th>\n",
       "      <td>2013-07-06 23:19:29</td>\n",
       "      <td>6813.956355</td>\n",
       "      <td>0.001709</td>\n",
       "      <td>89.020611</td>\n",
       "      <td>164.209806</td>\n",
       "      <td>90.387306</td>\n",
       "      <td>327.705782</td>\n",
       "      <td>-31.031105</td>\n",
       "      <td>69.692390</td>\n",
       "      <td>454.551635</td>\n",
       "    </tr>\n",
       "    <tr>\n",
       "      <th>6162</th>\n",
       "      <td>2013-07-09 10:50:12</td>\n",
       "      <td>6813.873715</td>\n",
       "      <td>0.001697</td>\n",
       "      <td>89.021389</td>\n",
       "      <td>163.875806</td>\n",
       "      <td>82.373500</td>\n",
       "      <td>64.065666</td>\n",
       "      <td>-61.478257</td>\n",
       "      <td>71.861085</td>\n",
       "      <td>468.410940</td>\n",
       "    </tr>\n",
       "    <tr>\n",
       "      <th>6163</th>\n",
       "      <td>2013-07-10 11:44:21</td>\n",
       "      <td>6813.845164</td>\n",
       "      <td>0.001690</td>\n",
       "      <td>89.021806</td>\n",
       "      <td>163.736111</td>\n",
       "      <td>79.020500</td>\n",
       "      <td>68.785959</td>\n",
       "      <td>-60.032570</td>\n",
       "      <td>57.262388</td>\n",
       "      <td>467.107099</td>\n",
       "    </tr>\n",
       "    <tr>\n",
       "      <th>6164</th>\n",
       "      <td>2013-07-12 20:55:42</td>\n",
       "      <td>6813.750317</td>\n",
       "      <td>0.001667</td>\n",
       "      <td>89.022306</td>\n",
       "      <td>163.415194</td>\n",
       "      <td>71.635194</td>\n",
       "      <td>347.433968</td>\n",
       "      <td>-32.028854</td>\n",
       "      <td>99.062185</td>\n",
       "      <td>457.272386</td>\n",
       "    </tr>\n",
       "  </tbody>\n",
       "</table>\n",
       "<p>5962 rows × 10 columns</p>\n",
       "</div>"
      ],
      "text/plain": [
       "                  Timestamp  Semi-major Axis (km)  Eccentricity  \\\n",
       "File ID                                                           \n",
       "0       2000-08-02 04:50:33           6826.387247      0.003882   \n",
       "1       2000-08-03 19:51:01           6826.327748      0.003879   \n",
       "2       2000-08-05 05:40:05           6819.634802      0.004114   \n",
       "3       2000-08-06 05:02:20           6819.606603      0.004134   \n",
       "4       2000-08-08 20:54:57           6819.425918      0.004178   \n",
       "...                     ...                   ...           ...   \n",
       "6160    2013-07-05 11:55:15           6814.005672      0.001713   \n",
       "6161    2013-07-06 23:19:29           6813.956355      0.001709   \n",
       "6162    2013-07-09 10:50:12           6813.873715      0.001697   \n",
       "6163    2013-07-10 11:44:21           6813.845164      0.001690   \n",
       "6164    2013-07-12 20:55:42           6813.750317      0.001667   \n",
       "\n",
       "         Inclination (deg)  RAAN (deg)  Argument of Perigee (deg)  \\\n",
       "File ID                                                             \n",
       "0                87.275306  144.135111                 257.314389   \n",
       "1                87.275694  143.529694                 250.438806   \n",
       "2                87.268611  142.972111                 244.549389   \n",
       "3                87.268194  142.608389                 241.172000   \n",
       "4                87.264611  141.605111                 228.779611   \n",
       "...                    ...         ...                        ...   \n",
       "6160             89.020389  164.408389                  95.074083   \n",
       "6161             89.020611  164.209806                  90.387306   \n",
       "6162             89.021389  163.875806                  82.373500   \n",
       "6163             89.021806  163.736111                  79.020500   \n",
       "6164             89.022306  163.415194                  71.635194   \n",
       "\n",
       "         True Anomaly (deg)  Latitude (deg)  Longitude (deg)  Altitude (km)  \n",
       "File ID                                                                      \n",
       "0                102.383270       43.637815       -62.543128     466.448890  \n",
       "1                109.273118       43.444458        70.139709     463.435053  \n",
       "2                115.138737       19.764250       104.521278     471.625453  \n",
       "3                118.545161       12.450738       112.239558     470.385914  \n",
       "4                130.982981       -8.776992      -130.559634     468.911226  \n",
       "...                     ...             ...              ...            ...  \n",
       "6160              52.342715      -60.222029        60.089380     469.367913  \n",
       "6161             327.705782      -31.031105        69.692390     454.551635  \n",
       "6162              64.065666      -61.478257        71.861085     468.410940  \n",
       "6163              68.785959      -60.032570        57.262388     467.107099  \n",
       "6164             347.433968      -32.028854        99.062185     457.272386  \n",
       "\n",
       "[5962 rows x 10 columns]"
      ]
     },
     "execution_count": 28,
     "metadata": {},
     "output_type": "execute_result"
    }
   ],
   "source": [
    "df_train.loc[df_train.index.isin(bad_id)==False]"
   ]
  },
  {
   "cell_type": "code",
   "execution_count": 10,
   "id": "33f717df-ddfd-40f5-9d16-fa5ff2353d01",
   "metadata": {
    "tags": []
   },
   "outputs": [
    {
     "data": {
      "text/plain": [
       "710"
      ]
     },
     "execution_count": 10,
     "metadata": {},
     "output_type": "execute_result"
    }
   ],
   "source": [
    "len(bad_id)\n"
   ]
  },
  {
   "cell_type": "code",
   "execution_count": null,
   "id": "ff0c33e7-cb73-4621-b7e1-337c50f2009b",
   "metadata": {
    "tags": []
   },
   "outputs": [],
   "source": [
    "from evaluation_me import DensityModelEvaluator\n",
    "\n"
   ]
  }
 ],
 "metadata": {
  "kernelspec": {
   "display_name": "orekit_venv_v12",
   "language": "python",
   "name": "orekit_venv_v12"
  },
  "language_info": {
   "codemirror_mode": {
    "name": "ipython",
    "version": 3
   },
   "file_extension": ".py",
   "mimetype": "text/x-python",
   "name": "python",
   "nbconvert_exporter": "python",
   "pygments_lexer": "ipython3",
   "version": "3.8.20"
  }
 },
 "nbformat": 4,
 "nbformat_minor": 5
}
