{
 "cells": [
  {
   "cell_type": "code",
   "execution_count": 1,
   "id": "c2528786-0bc7-41ac-bbe5-f539fb641d74",
   "metadata": {
    "tags": []
   },
   "outputs": [],
   "source": [
    "import pandas as pd\n",
    "from datetime import datetime, timedelta"
   ]
  },
  {
   "cell_type": "code",
   "execution_count": 2,
   "id": "ade28363-55c9-45c8-8a53-4d8ab043341d",
   "metadata": {
    "tags": []
   },
   "outputs": [],
   "source": [
    "data_sat = pd.read_csv('C:/Users/isaac/Documents/Challenge_MIT_2/mit_challenge_2/phase_1/04265_to_05570-initial_states.csv')\n",
    "data_sat['Timestamp']= pd.to_datetime(data_sat['Timestamp'])"
   ]
  },
  {
   "cell_type": "code",
   "execution_count": 3,
   "id": "1c5bf58b-f76a-4fcc-a7d8-ae7fa196fad5",
   "metadata": {
    "tags": []
   },
   "outputs": [],
   "source": [
    "data_omni = pd.read_csv('C:/Users/isaac/Documents/Challenge_MIT_2/mit_challenge_2/phase_1/omni2/omni2-04265-20180402_to_20180601.csv')\n",
    "data_omni['Timestamp'] = pd.to_datetime(data_omni['Timestamp'])\n",
    "data_omni = data_omni.ffill()"
   ]
  },
  {
   "cell_type": "code",
   "execution_count": 13,
   "id": "e68ee020-a025-4505-b280-bc2ec153a34e",
   "metadata": {
    "tags": []
   },
   "outputs": [],
   "source": [
    "import os"
   ]
  },
  {
   "cell_type": "code",
   "execution_count": 31,
   "id": "9eada007-85ee-4226-9273-ab1cbc78d6dd",
   "metadata": {
    "tags": []
   },
   "outputs": [
    {
     "data": {
      "text/html": [
       "<div>\n",
       "<style scoped>\n",
       "    .dataframe tbody tr th:only-of-type {\n",
       "        vertical-align: middle;\n",
       "    }\n",
       "\n",
       "    .dataframe tbody tr th {\n",
       "        vertical-align: top;\n",
       "    }\n",
       "\n",
       "    .dataframe thead th {\n",
       "        text-align: right;\n",
       "    }\n",
       "</style>\n",
       "<table border=\"1\" class=\"dataframe\">\n",
       "  <thead>\n",
       "    <tr style=\"text-align: right;\">\n",
       "      <th></th>\n",
       "      <th>File ID</th>\n",
       "      <th>Timestamp</th>\n",
       "      <th>Semi-major Axis (km)</th>\n",
       "      <th>Eccentricity</th>\n",
       "      <th>Inclination (deg)</th>\n",
       "      <th>RAAN (deg)</th>\n",
       "      <th>Argument of Perigee (deg)</th>\n",
       "      <th>True Anomaly (deg)</th>\n",
       "      <th>Latitude (deg)</th>\n",
       "      <th>Longitude (deg)</th>\n",
       "      <th>Altitude (km)</th>\n",
       "    </tr>\n",
       "  </thead>\n",
       "  <tbody>\n",
       "    <tr>\n",
       "      <th>0</th>\n",
       "      <td>4265</td>\n",
       "      <td>2018-06-01 09:44:41</td>\n",
       "      <td>6872.709635</td>\n",
       "      <td>0.001496</td>\n",
       "      <td>88.994611</td>\n",
       "      <td>237.961000</td>\n",
       "      <td>242.048806</td>\n",
       "      <td>117.927141</td>\n",
       "      <td>81.220743</td>\n",
       "      <td>-151.683059</td>\n",
       "      <td>517641.655466</td>\n",
       "    </tr>\n",
       "    <tr>\n",
       "      <th>1</th>\n",
       "      <td>4266</td>\n",
       "      <td>2018-06-01 12:53:50</td>\n",
       "      <td>6872.709186</td>\n",
       "      <td>0.001497</td>\n",
       "      <td>88.994611</td>\n",
       "      <td>237.943417</td>\n",
       "      <td>241.463500</td>\n",
       "      <td>118.513240</td>\n",
       "      <td>81.301362</td>\n",
       "      <td>160.926490</td>\n",
       "      <td>517727.804474</td>\n",
       "    </tr>\n",
       "    <tr>\n",
       "      <th>2</th>\n",
       "      <td>4267</td>\n",
       "      <td>2018-06-02 12:32:26</td>\n",
       "      <td>6872.706856</td>\n",
       "      <td>0.001508</td>\n",
       "      <td>88.994611</td>\n",
       "      <td>237.811083</td>\n",
       "      <td>237.068306</td>\n",
       "      <td>122.914029</td>\n",
       "      <td>81.546393</td>\n",
       "      <td>165.350031</td>\n",
       "      <td>517418.246022</td>\n",
       "    </tr>\n",
       "    <tr>\n",
       "      <th>3</th>\n",
       "      <td>4268</td>\n",
       "      <td>2018-06-02 14:07:01</td>\n",
       "      <td>6872.706712</td>\n",
       "      <td>0.001508</td>\n",
       "      <td>88.994611</td>\n",
       "      <td>237.802306</td>\n",
       "      <td>236.771000</td>\n",
       "      <td>123.211716</td>\n",
       "      <td>81.273988</td>\n",
       "      <td>141.445143</td>\n",
       "      <td>517406.312625</td>\n",
       "    </tr>\n",
       "    <tr>\n",
       "      <th>4</th>\n",
       "      <td>4269</td>\n",
       "      <td>2018-06-03 13:45:37</td>\n",
       "      <td>6872.705148</td>\n",
       "      <td>0.001520</td>\n",
       "      <td>88.994611</td>\n",
       "      <td>237.670000</td>\n",
       "      <td>232.412917</td>\n",
       "      <td>127.576295</td>\n",
       "      <td>81.528922</td>\n",
       "      <td>145.873421</td>\n",
       "      <td>517008.340258</td>\n",
       "    </tr>\n",
       "    <tr>\n",
       "      <th>...</th>\n",
       "      <td>...</td>\n",
       "      <td>...</td>\n",
       "      <td>...</td>\n",
       "      <td>...</td>\n",
       "      <td>...</td>\n",
       "      <td>...</td>\n",
       "      <td>...</td>\n",
       "      <td>...</td>\n",
       "      <td>...</td>\n",
       "      <td>...</td>\n",
       "      <td>...</td>\n",
       "    </tr>\n",
       "    <tr>\n",
       "      <th>1301</th>\n",
       "      <td>5566</td>\n",
       "      <td>2020-12-27 21:12:39</td>\n",
       "      <td>6871.341492</td>\n",
       "      <td>0.001478</td>\n",
       "      <td>88.984694</td>\n",
       "      <td>111.733000</td>\n",
       "      <td>243.646611</td>\n",
       "      <td>116.329037</td>\n",
       "      <td>82.964345</td>\n",
       "      <td>64.838151</td>\n",
       "      <td>516481.793783</td>\n",
       "    </tr>\n",
       "    <tr>\n",
       "      <th>1302</th>\n",
       "      <td>5567</td>\n",
       "      <td>2020-12-28 19:16:17</td>\n",
       "      <td>6871.338306</td>\n",
       "      <td>0.001487</td>\n",
       "      <td>88.984806</td>\n",
       "      <td>111.608194</td>\n",
       "      <td>239.521806</td>\n",
       "      <td>120.458756</td>\n",
       "      <td>83.094553</td>\n",
       "      <td>93.056446</td>\n",
       "      <td>516219.988361</td>\n",
       "    </tr>\n",
       "    <tr>\n",
       "      <th>1303</th>\n",
       "      <td>5568</td>\n",
       "      <td>2020-12-29 06:18:06</td>\n",
       "      <td>6871.336764</td>\n",
       "      <td>0.001492</td>\n",
       "      <td>88.984806</td>\n",
       "      <td>111.545806</td>\n",
       "      <td>237.472111</td>\n",
       "      <td>122.511124</td>\n",
       "      <td>83.163338</td>\n",
       "      <td>-72.837514</td>\n",
       "      <td>515943.223812</td>\n",
       "    </tr>\n",
       "    <tr>\n",
       "      <th>1304</th>\n",
       "      <td>5569</td>\n",
       "      <td>2020-12-30 02:47:11</td>\n",
       "      <td>6871.334171</td>\n",
       "      <td>0.001501</td>\n",
       "      <td>88.984806</td>\n",
       "      <td>111.430000</td>\n",
       "      <td>233.670500</td>\n",
       "      <td>126.318221</td>\n",
       "      <td>82.846877</td>\n",
       "      <td>-21.454523</td>\n",
       "      <td>515454.482158</td>\n",
       "    </tr>\n",
       "    <tr>\n",
       "      <th>1305</th>\n",
       "      <td>5570</td>\n",
       "      <td>2020-12-30 10:39:55</td>\n",
       "      <td>6871.332662</td>\n",
       "      <td>0.001505</td>\n",
       "      <td>88.984889</td>\n",
       "      <td>111.385389</td>\n",
       "      <td>232.225611</td>\n",
       "      <td>127.765376</td>\n",
       "      <td>82.624092</td>\n",
       "      <td>-140.224877</td>\n",
       "      <td>515419.166749</td>\n",
       "    </tr>\n",
       "  </tbody>\n",
       "</table>\n",
       "<p>1306 rows × 11 columns</p>\n",
       "</div>"
      ],
      "text/plain": [
       "      File ID           Timestamp  Semi-major Axis (km)  Eccentricity  \\\n",
       "0        4265 2018-06-01 09:44:41           6872.709635      0.001496   \n",
       "1        4266 2018-06-01 12:53:50           6872.709186      0.001497   \n",
       "2        4267 2018-06-02 12:32:26           6872.706856      0.001508   \n",
       "3        4268 2018-06-02 14:07:01           6872.706712      0.001508   \n",
       "4        4269 2018-06-03 13:45:37           6872.705148      0.001520   \n",
       "...       ...                 ...                   ...           ...   \n",
       "1301     5566 2020-12-27 21:12:39           6871.341492      0.001478   \n",
       "1302     5567 2020-12-28 19:16:17           6871.338306      0.001487   \n",
       "1303     5568 2020-12-29 06:18:06           6871.336764      0.001492   \n",
       "1304     5569 2020-12-30 02:47:11           6871.334171      0.001501   \n",
       "1305     5570 2020-12-30 10:39:55           6871.332662      0.001505   \n",
       "\n",
       "      Inclination (deg)  RAAN (deg)  Argument of Perigee (deg)  \\\n",
       "0             88.994611  237.961000                 242.048806   \n",
       "1             88.994611  237.943417                 241.463500   \n",
       "2             88.994611  237.811083                 237.068306   \n",
       "3             88.994611  237.802306                 236.771000   \n",
       "4             88.994611  237.670000                 232.412917   \n",
       "...                 ...         ...                        ...   \n",
       "1301          88.984694  111.733000                 243.646611   \n",
       "1302          88.984806  111.608194                 239.521806   \n",
       "1303          88.984806  111.545806                 237.472111   \n",
       "1304          88.984806  111.430000                 233.670500   \n",
       "1305          88.984889  111.385389                 232.225611   \n",
       "\n",
       "      True Anomaly (deg)  Latitude (deg)  Longitude (deg)  Altitude (km)  \n",
       "0             117.927141       81.220743      -151.683059  517641.655466  \n",
       "1             118.513240       81.301362       160.926490  517727.804474  \n",
       "2             122.914029       81.546393       165.350031  517418.246022  \n",
       "3             123.211716       81.273988       141.445143  517406.312625  \n",
       "4             127.576295       81.528922       145.873421  517008.340258  \n",
       "...                  ...             ...              ...            ...  \n",
       "1301          116.329037       82.964345        64.838151  516481.793783  \n",
       "1302          120.458756       83.094553        93.056446  516219.988361  \n",
       "1303          122.511124       83.163338       -72.837514  515943.223812  \n",
       "1304          126.318221       82.846877       -21.454523  515454.482158  \n",
       "1305          127.765376       82.624092      -140.224877  515419.166749  \n",
       "\n",
       "[1306 rows x 11 columns]"
      ]
     },
     "execution_count": 31,
     "metadata": {},
     "output_type": "execute_result"
    }
   ],
   "source": [
    "data_sat"
   ]
  },
  {
   "cell_type": "code",
   "execution_count": 22,
   "id": "5a5641f2-73ee-4e2f-9809-af6c31bd3a04",
   "metadata": {
    "tags": []
   },
   "outputs": [
    {
     "data": {
      "text/plain": [
       "['omni2', '00000', '20000603_to_20000802.csv']"
      ]
     },
     "execution_count": 22,
     "metadata": {},
     "output_type": "execute_result"
    }
   ],
   "source": [
    "all_files_omni[0].split('-')"
   ]
  },
  {
   "cell_type": "code",
   "execution_count": 43,
   "id": "7c5ba963-d968-454a-ae0c-d0c4a8ac4bf0",
   "metadata": {
    "tags": []
   },
   "outputs": [],
   "source": [
    "def create_features(id):\n",
    "    all_files_omni = os.listdir(\"C:/Users/isaac/Documents/Challenge_MIT_2/mit_challenge_2/phase_1/omni2/\")\n",
    "    file_omni = [i for i in all_files_omni if i.split('-')[1]==id][0]\n",
    "    data_omni = pd.read_csv('C:/Users/isaac/Documents/Challenge_MIT_2/mit_challenge_2/phase_1/omni2/'+file_omni)\n",
    "    data_omni['Timestamp'] = pd.to_datetime(data_omni['Timestamp'])\n",
    "    data_omni = data_omni.ffill()\n",
    "    df_features = pd.concat([data_omni.mean(0),data_omni.iloc[-1]],axis=1)\n",
    "    df_features.columns = ['mean','last']\n",
    "    return df_features"
   ]
  },
  {
   "cell_type": "code",
   "execution_count": 49,
   "id": "b48bab41-6c4e-46bc-8203-b6b950712df9",
   "metadata": {
    "tags": []
   },
   "outputs": [
    {
     "data": {
      "text/html": [
       "<div>\n",
       "<style scoped>\n",
       "    .dataframe tbody tr th:only-of-type {\n",
       "        vertical-align: middle;\n",
       "    }\n",
       "\n",
       "    .dataframe tbody tr th {\n",
       "        vertical-align: top;\n",
       "    }\n",
       "\n",
       "    .dataframe thead th {\n",
       "        text-align: right;\n",
       "    }\n",
       "</style>\n",
       "<table border=\"1\" class=\"dataframe\">\n",
       "  <thead>\n",
       "    <tr style=\"text-align: right;\">\n",
       "      <th></th>\n",
       "      <th>level_0</th>\n",
       "      <th>level_1</th>\n",
       "      <th>0</th>\n",
       "    </tr>\n",
       "  </thead>\n",
       "  <tbody>\n",
       "    <tr>\n",
       "      <th>0</th>\n",
       "      <td>mean</td>\n",
       "      <td>YEAR</td>\n",
       "      <td>2000.0</td>\n",
       "    </tr>\n",
       "    <tr>\n",
       "      <th>1</th>\n",
       "      <td>mean</td>\n",
       "      <td>DOY</td>\n",
       "      <td>184.708333</td>\n",
       "    </tr>\n",
       "    <tr>\n",
       "      <th>2</th>\n",
       "      <td>mean</td>\n",
       "      <td>Hour</td>\n",
       "      <td>11.5</td>\n",
       "    </tr>\n",
       "    <tr>\n",
       "      <th>3</th>\n",
       "      <td>mean</td>\n",
       "      <td>Bartels_rotation_number</td>\n",
       "      <td>2278.560417</td>\n",
       "    </tr>\n",
       "    <tr>\n",
       "      <th>4</th>\n",
       "      <td>mean</td>\n",
       "      <td>ID_for_IMF_spacecraft</td>\n",
       "      <td>70.458333</td>\n",
       "    </tr>\n",
       "    <tr>\n",
       "      <th>...</th>\n",
       "      <td>...</td>\n",
       "      <td>...</td>\n",
       "      <td>...</td>\n",
       "    </tr>\n",
       "    <tr>\n",
       "      <th>111</th>\n",
       "      <td>last</td>\n",
       "      <td>Proton_flux_&gt;10_Mev</td>\n",
       "      <td>0.47</td>\n",
       "    </tr>\n",
       "    <tr>\n",
       "      <th>112</th>\n",
       "      <td>last</td>\n",
       "      <td>Proton_flux_&gt;30_Mev</td>\n",
       "      <td>0.35</td>\n",
       "    </tr>\n",
       "    <tr>\n",
       "      <th>113</th>\n",
       "      <td>last</td>\n",
       "      <td>Proton_flux_&gt;60_Mev</td>\n",
       "      <td>0.26</td>\n",
       "    </tr>\n",
       "    <tr>\n",
       "      <th>114</th>\n",
       "      <td>last</td>\n",
       "      <td>Flux_FLAG</td>\n",
       "      <td>-1</td>\n",
       "    </tr>\n",
       "    <tr>\n",
       "      <th>115</th>\n",
       "      <td>last</td>\n",
       "      <td>Timestamp</td>\n",
       "      <td>2000-08-02 04:00:00</td>\n",
       "    </tr>\n",
       "  </tbody>\n",
       "</table>\n",
       "<p>116 rows × 3 columns</p>\n",
       "</div>"
      ],
      "text/plain": [
       "    level_0                  level_1                    0\n",
       "0      mean                     YEAR               2000.0\n",
       "1      mean                      DOY           184.708333\n",
       "2      mean                     Hour                 11.5\n",
       "3      mean  Bartels_rotation_number          2278.560417\n",
       "4      mean    ID_for_IMF_spacecraft            70.458333\n",
       "..      ...                      ...                  ...\n",
       "111    last      Proton_flux_>10_Mev                 0.47\n",
       "112    last      Proton_flux_>30_Mev                 0.35\n",
       "113    last      Proton_flux_>60_Mev                 0.26\n",
       "114    last                Flux_FLAG                   -1\n",
       "115    last                Timestamp  2000-08-02 04:00:00\n",
       "\n",
       "[116 rows x 3 columns]"
      ]
     },
     "execution_count": 49,
     "metadata": {},
     "output_type": "execute_result"
    }
   ],
   "source": [
    "create_features('00000').unstack().reset_index()"
   ]
  },
  {
   "cell_type": "code",
   "execution_count": 44,
   "id": "b0d5da82-fb1c-4d0b-bd79-999971d181d2",
   "metadata": {
    "tags": []
   },
   "outputs": [],
   "source": [
    "df_features = pd.concat([data_omni.mean(0),data_omni.iloc[-1]],axis=1)"
   ]
  },
  {
   "cell_type": "code",
   "execution_count": 6,
   "id": "4fa2440b-9fd4-47ff-a50c-adb9607016fc",
   "metadata": {
    "tags": []
   },
   "outputs": [],
   "source": [
    "data_pred = pd.read_csv('C:/Users/isaac/Documents/Challenge_MIT_2/mit_challenge_2/phase_1/sat_density/gr-of1-04265-20180601_to_20180604.csv')\n",
    "data_pred['Timestamp'] = pd.to_datetime(data_pred['Timestamp'])"
   ]
  },
  {
   "cell_type": "code",
   "execution_count": 7,
   "id": "d6983f1d-419a-4913-8d05-c6058f60edd7",
   "metadata": {
    "tags": []
   },
   "outputs": [
    {
     "data": {
      "text/html": [
       "<div>\n",
       "<style scoped>\n",
       "    .dataframe tbody tr th:only-of-type {\n",
       "        vertical-align: middle;\n",
       "    }\n",
       "\n",
       "    .dataframe tbody tr th {\n",
       "        vertical-align: top;\n",
       "    }\n",
       "\n",
       "    .dataframe thead th {\n",
       "        text-align: right;\n",
       "    }\n",
       "</style>\n",
       "<table border=\"1\" class=\"dataframe\">\n",
       "  <thead>\n",
       "    <tr style=\"text-align: right;\">\n",
       "      <th></th>\n",
       "      <th>Timestamp</th>\n",
       "      <th>Orbit Mean Density (kg/m^3)</th>\n",
       "    </tr>\n",
       "  </thead>\n",
       "  <tbody>\n",
       "    <tr>\n",
       "      <th>0</th>\n",
       "      <td>2018-06-01 09:44:50</td>\n",
       "      <td>8.599513e-14</td>\n",
       "    </tr>\n",
       "    <tr>\n",
       "      <th>1</th>\n",
       "      <td>2018-06-01 09:54:50</td>\n",
       "      <td>8.743586e-14</td>\n",
       "    </tr>\n",
       "    <tr>\n",
       "      <th>2</th>\n",
       "      <td>2018-06-01 10:04:50</td>\n",
       "      <td>8.813977e-14</td>\n",
       "    </tr>\n",
       "    <tr>\n",
       "      <th>3</th>\n",
       "      <td>2018-06-01 10:14:50</td>\n",
       "      <td>8.721666e-14</td>\n",
       "    </tr>\n",
       "    <tr>\n",
       "      <th>4</th>\n",
       "      <td>2018-06-01 10:24:50</td>\n",
       "      <td>8.591679e-14</td>\n",
       "    </tr>\n",
       "    <tr>\n",
       "      <th>...</th>\n",
       "      <td>...</td>\n",
       "      <td>...</td>\n",
       "    </tr>\n",
       "    <tr>\n",
       "      <th>427</th>\n",
       "      <td>2018-06-04 08:54:50</td>\n",
       "      <td>5.234490e-14</td>\n",
       "    </tr>\n",
       "    <tr>\n",
       "      <th>428</th>\n",
       "      <td>2018-06-04 09:04:50</td>\n",
       "      <td>5.238471e-14</td>\n",
       "    </tr>\n",
       "    <tr>\n",
       "      <th>429</th>\n",
       "      <td>2018-06-04 09:14:50</td>\n",
       "      <td>5.201108e-14</td>\n",
       "    </tr>\n",
       "    <tr>\n",
       "      <th>430</th>\n",
       "      <td>2018-06-04 09:24:50</td>\n",
       "      <td>5.110281e-14</td>\n",
       "    </tr>\n",
       "    <tr>\n",
       "      <th>431</th>\n",
       "      <td>2018-06-04 09:34:50</td>\n",
       "      <td>5.022855e-14</td>\n",
       "    </tr>\n",
       "  </tbody>\n",
       "</table>\n",
       "<p>432 rows × 2 columns</p>\n",
       "</div>"
      ],
      "text/plain": [
       "              Timestamp  Orbit Mean Density (kg/m^3)\n",
       "0   2018-06-01 09:44:50                 8.599513e-14\n",
       "1   2018-06-01 09:54:50                 8.743586e-14\n",
       "2   2018-06-01 10:04:50                 8.813977e-14\n",
       "3   2018-06-01 10:14:50                 8.721666e-14\n",
       "4   2018-06-01 10:24:50                 8.591679e-14\n",
       "..                  ...                          ...\n",
       "427 2018-06-04 08:54:50                 5.234490e-14\n",
       "428 2018-06-04 09:04:50                 5.238471e-14\n",
       "429 2018-06-04 09:14:50                 5.201108e-14\n",
       "430 2018-06-04 09:24:50                 5.110281e-14\n",
       "431 2018-06-04 09:34:50                 5.022855e-14\n",
       "\n",
       "[432 rows x 2 columns]"
      ]
     },
     "execution_count": 7,
     "metadata": {},
     "output_type": "execute_result"
    }
   ],
   "source": [
    "data_pred"
   ]
  },
  {
   "cell_type": "code",
   "execution_count": 8,
   "id": "bd1f3923-e44b-4b69-bcfc-398060723473",
   "metadata": {
    "tags": []
   },
   "outputs": [],
   "source": [
    "from atm_me import PersistenceMSIS, MSISPersistenceAtmosphere, PersistenceModel"
   ]
  },
  {
   "cell_type": "code",
   "execution_count": 11,
   "id": "531401f5-4f54-4b53-b76d-6f1298d2d062",
   "metadata": {
    "tags": []
   },
   "outputs": [
    {
     "data": {
      "text/plain": [
       "{'File ID': 4265,\n",
       " 'Timestamp': Timestamp('2018-06-01 09:44:41'),\n",
       " 'Semi-major Axis (km)': 6872.709634521393,\n",
       " 'Eccentricity': 0.0014959999825805,\n",
       " 'Inclination (deg)': 88.99461111111111,\n",
       " 'RAAN (deg)': 237.961,\n",
       " 'Argument of Perigee (deg)': 242.0488055555556,\n",
       " 'True Anomaly (deg)': 117.92714131157383,\n",
       " 'Latitude (deg)': 81.22074259961417,\n",
       " 'Longitude (deg)': -151.68305852747133,\n",
       " 'Altitude (km)': 517641.6554662157}"
      ]
     },
     "execution_count": 11,
     "metadata": {},
     "output_type": "execute_result"
    }
   ],
   "source": [
    "data_sat.iloc[0].to_dict()\n",
    "\n"
   ]
  },
  {
   "cell_type": "code",
   "execution_count": 12,
   "id": "d1c389e0-700d-4fcf-aa7f-51a8d7e2f38b",
   "metadata": {
    "scrolled": true,
    "tags": []
   },
   "outputs": [
    {
     "name": "stderr",
     "output_type": "stream",
     "text": [
      "Starting propagation...: 100%|███████████████████████████████████████████████████████| 431/431 [05:19<00:00,  1.35it/s]\n"
     ]
    },
    {
     "name": "stdout",
     "output_type": "stream",
     "text": [
      "432\n",
      "Time interval [s]: 259200.0\n",
      "Time step [s]: 600.0\n",
      "CPU time [s]: 321.69941759109497\n",
      "Final Pos [km]: 6393955.418185737\n",
      "Final Vel [km]: 0.2109043135108621\n"
     ]
    },
    {
     "data": {
      "image/png": "[encoded data removed]",
      "text/plain": [
       "<Figure size 640x480 with 1 Axes>"
      ]
     },
     "metadata": {},
     "output_type": "display_data"
    }
   ],
   "source": [
    "model = PersistenceModel(plot_trajectory=True)\n",
    "states, densities = model(data_omni,data_sat.iloc[0].to_dict())\n",
    "predictions = model._convert_to_df(states, densities)"
   ]
  },
  {
   "cell_type": "code",
   "execution_count": 68,
   "id": "ff0c33e7-cb73-4621-b7e1-337c50f2009b",
   "metadata": {
    "tags": []
   },
   "outputs": [],
   "source": [
    "from evaluation_me import DensityModelEvaluator"
   ]
  },
  {
   "cell_type": "code",
   "execution_count": 71,
   "id": "f1a61dc3-508a-44fa-a916-5a1da9757a29",
   "metadata": {
    "tags": []
   },
   "outputs": [],
   "source": [
    "a  = DensityModelEvaluator('te','te')"
   ]
  },
  {
   "cell_type": "code",
   "execution_count": 73,
   "id": "2891d952-18da-41b5-a438-564eb31c85cc",
   "metadata": {
    "tags": []
   },
   "outputs": [
    {
     "data": {
      "text/plain": [
       "7.228579809166593e-14"
      ]
     },
     "execution_count": 73,
     "metadata": {},
     "output_type": "execute_result"
    }
   ],
   "source": [
    "a._rmse(predictions.set_index('Timestamp'),data_pred.set_index('Timestamp'))"
   ]
  },
  {
   "cell_type": "code",
   "execution_count": 10,
   "id": "0b82246f-78df-4fe9-b91b-46edf58b42e3",
   "metadata": {
    "tags": []
   },
   "outputs": [
    {
     "ename": "NameError",
     "evalue": "name 'predictions' is not defined",
     "output_type": "error",
     "traceback": [
      "\u001b[1;31m---------------------------------------------------------------------------\u001b[0m",
      "\u001b[1;31mNameError\u001b[0m                                 Traceback (most recent call last)",
      "Cell \u001b[1;32mIn[10], line 1\u001b[0m\n\u001b[1;32m----> 1\u001b[0m \u001b[43mpredictions\u001b[49m\u001b[38;5;241m.\u001b[39mindex\n",
      "\u001b[1;31mNameError\u001b[0m: name 'predictions' is not defined"
     ]
    }
   ],
   "source": [
    "predictions.index"
   ]
  },
  {
   "cell_type": "code",
   "execution_count": 52,
   "id": "940c0570-8c51-48c4-9c7c-d0c92b803c32",
   "metadata": {
    "tags": []
   },
   "outputs": [
    {
     "data": {
      "text/plain": [
       "File ID                                     4265\n",
       "Timestamp                    2018-06-01 09:44:41\n",
       "Semi-major Axis (km)                 6872.709635\n",
       "Eccentricity                            0.001496\n",
       "Inclination (deg)                      88.994611\n",
       "RAAN (deg)                               237.961\n",
       "Argument of Perigee (deg)             242.048806\n",
       "True Anomaly (deg)                    117.927141\n",
       "Latitude (deg)                         81.220743\n",
       "Longitude (deg)                      -151.683059\n",
       "Altitude (km)                      517641.655466\n",
       "Name: 0, dtype: object"
      ]
     },
     "execution_count": 52,
     "metadata": {},
     "output_type": "execute_result"
    }
   ],
   "source": [
    "data_sat.iloc[0]"
   ]
  },
  {
   "cell_type": "code",
   "execution_count": 51,
   "id": "498c31f9-9638-45db-80d4-2d7cf1deba91",
   "metadata": {
    "tags": []
   },
   "outputs": [
    {
     "data": {
      "text/plain": [
       "<AbsoluteDate: 2018-06-01T16:40:00.000Z>"
      ]
     },
     "execution_count": 51,
     "metadata": {},
     "output_type": "execute_result"
    }
   ],
   "source": [
    "states[100].date"
   ]
  },
  {
   "cell_type": "code",
   "execution_count": 46,
   "id": "1ea76984-92a8-4786-bb4b-15bc7f860718",
   "metadata": {
    "tags": []
   },
   "outputs": [
    {
     "data": {
      "text/plain": [
       "<Axes: xlabel='Timestamp'>"
      ]
     },
     "execution_count": 46,
     "metadata": {},
     "output_type": "execute_result"
    },
    {
     "data": {
      "image/png": "[encoded data removed]",
      "text/plain": [
       "<Figure size 640x480 with 1 Axes>"
      ]
     },
     "metadata": {},
     "output_type": "display_data"
    },
    {
     "data": {
      "image/png": "[encoded data removed]",
      "text/plain": [
       "<Figure size 640x480 with 1 Axes>"
      ]
     },
     "metadata": {},
     "output_type": "display_data"
    }
   ],
   "source": [
    "predictions.set_index('Timestamp').plot()\n",
    "data_pred.set_index('Timestamp').plot()"
   ]
  },
  {
   "cell_type": "code",
   "execution_count": null,
   "id": "81db0afd-52be-4f82-88a5-15a4eaf5a313",
   "metadata": {},
   "outputs": [],
   "source": [
    "from"
   ]
  }
 ],
 "metadata": {
  "kernelspec": {
   "display_name": "orekit_venv_v12",
   "language": "python",
   "name": "orekit_venv_v12"
  },
  "language_info": {
   "codemirror_mode": {
    "name": "ipython",
    "version": 3
   },
   "file_extension": ".py",
   "mimetype": "text/x-python",
   "name": "python",
   "nbconvert_exporter": "python",
   "pygments_lexer": "ipython3",
   "version": "3.8.20"
  }
 },
 "nbformat": 4,
 "nbformat_minor": 5
}
